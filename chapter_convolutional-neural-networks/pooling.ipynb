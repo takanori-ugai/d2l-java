{
 "cells": [
  {
   "cell_type": "markdown",
   "metadata": {},
   "source": [
    "# Pooling\n",
    "\n",
    ":label:`sec_pooling`\n",
    "\n",
    "\n",
    "\n",
    "多くの場合、画像を処理する際に、隠れ表現の空間解像度を徐々に下げていき、ネットワークの上位に行くほど、各隠れノードが感受する（入力の）受容野が大きくなるように情報を集約していきたくなる。\n",
    "\n",
    "\n",
    "多くの場合、最終的なタスクは画像について何らかのグローバルな質問をする、例えば *猫がいるか？*\n",
    "そのため、最終層のノードは通常、入力全体に対して感度があるべきである。\n",
    "\n",
    "徐々に情報を集約し、より粗いマップを生成することで、最終的にグローバルな表現を学習するというこの目標を達成しつつ、処理の中間層で畳み込み層の利点をすべて維持することができる。\n",
    "さらに、（ :numref:`sec_conv_layer` で説明したように）エッジのような低レベルの特徴を検出するとき、我々はしばしば翻訳に対してある程度不変な表現にしたいと考える。\n",
    "例えば，黒と白の境界が明瞭な画像 `X` を用いて，画像全体を1ピクセル右にシフトした場合，つまり， `Z[i, j] = X[i, j+1]`,\n",
    "とすると、新しい画像 `Z` の出力は大きく異なるかもしれない。\n",
    "エッジは1ピクセル分移動し、それに伴ってすべての活性化も移動する。\n",
    "現実には、物体が全く同じ場所に存在することはほとんどない。\n",
    "実際、三脚と静止したオブジェクトがあっても、シャッターの動きによるカメラの振動で、すべてが1ピクセルほどずれることがある（ハイエンドのカメラには、この問題に対処する特別な機能が搭載されている）。\n",
    "\n",
    "このセクションでは、プーリングレイヤーを紹介する。\n",
    "これは、位置に対する畳み込み層の感度を緩和することと、表現を空間的にダウンサンプリングすることの2つの目的を果たすものである。\n",
    "\n",
    "\n",
    "## Maximum Pooling and Average Pooling\n",
    "\n",
    "畳み込み層と同様に、プーリング演算子は、そのストライドに従って入力のすべての領域上でスライドされる固定のウィンドゥから成り、固定のウィンドゥによって横断される各位置に対して単一の出力を計算する（時々 *pooling window* として知られている）。\n",
    "しかし、畳み込み層の入力とカーネルの相互相関計算とは異なり、プーリング層はパラメータを含まない（*フィルター*がない）。\n",
    "その代わり、プーリング演算子は決定論的であり、典型的にはプーリングウィンドウ内の要素の最大値または平均値のいずれかを計算する。\n",
    "これらの演算は *最大プーリング* (略して *max pooling*) と呼ばれる。\n",
    "および *平均プーリング* とそれぞれ呼ばれる。\n",
    "\n",
    "どちらの場合も、相互相関演算子と同様に、プーリング窓は入力配列の左上から始まり、左から右、上から下へと入力配列上をスライドしていくと考えることができる。\n",
    "ウィンドウ内の入力部分配列の最大値または平均値（*max* または *average* のどちらのプーリングが採用されているかに依存）を計算します。\n",
    "\n",
    "www.DeepL.com/Translator（無料版）で翻訳しました。\n",
    "\n",
    "\n",
    "![Maximum pooling with a pooling window shape of $2\\times 2$. The shaded portions represent the first output element and the input element used for its computation: $\\max(0, 1, 3, 4)=4$](https://raw.githubusercontent.com/d2l-ai/d2l-en/master/img/pooling.svg)\n",
    "\n",
    ":label:`fig_pooling`\n",
    "\n",
    "\n",
    "The output array in :numref:`fig_pooling` above has a height of 2 and a width of 2.\n",
    "The four elements are derived from the maximum value of $\\text{max}$:\n",
    "\n",
    "$$\n",
    "\\max(0, 1, 3, 4)=4,\\\\\n",
    "\\max(1, 2, 4, 5)=5,\\\\\n",
    "\\max(3, 4, 6, 7)=7,\\\\\n",
    "\\max(4, 5, 7, 8)=8.\\\\\n",
    "$$\n",
    "\n",
    "A pooling layer with a pooling window shape of $p \\times q$\n",
    "is called a $p \\times q$ pooling layer.\n",
    "The pooling operation is called $p \\times q$ pooling.\n",
    "\n",
    "Let us return to the object edge detection example\n",
    "mentioned at the beginning of this section.\n",
    "Now we will use the output of the convolutional layer\n",
    "as the input for $2\\times 2$ maximum pooling.\n",
    "Set the convolutional layer input as `X` and the pooling layer output as `Y`. Whether or not the values of `X[i, j]` and `X[i, j+1]` are different,\n",
    "or `X[i, j+1]` and `X[i, j+2]` are different,\n",
    "the pooling layer outputs all include `Y[i, j]=1`.\n",
    "That is to say, using the $2\\times 2$ maximum pooling layer,\n",
    "we can still detect if the pattern recognized by the convolutional layer\n",
    "moves no more than one element in height and width.\n",
    "\n",
    "In the code below, we implement the forward computation\n",
    "of the pooling layer in the `pool2d` function.\n",
    "This function is similar to the `corr2d` function\n",
    "in :numref:`sec_conv_layer`.\n",
    "However, here we have no kernel, computing the output\n",
    "as either the max or the average of each region in the input.."
   ]
  },
  {
   "cell_type": "code",
   "execution_count": 1,
   "metadata": {},
   "outputs": [],
   "source": [
    "%use @file[../djl.json]\n",
    "// %load ../utils/djl-imports"
   ]
  },
  {
   "cell_type": "code",
   "execution_count": 2,
   "metadata": {
    "attributes": {
     "classes": [],
     "id": "",
     "n": "3"
    }
   },
   "outputs": [],
   "source": [
    "val manager = NDManager.newBaseManager();\n",
    "\n",
    "fun pool2d(X: NDArray, poolShape: Shape, mode: String) : NDArray{\n",
    "    \n",
    "    val poolHeight = poolShape.get(0)\n",
    "    val poolWidth = poolShape.get(1)\n",
    "    \n",
    "    val Y = manager.zeros(Shape(X.getShape().get(0) - poolHeight + 1, \n",
    "                                        X.getShape().get(1) - poolWidth + 1))\n",
    "    for(i in 0 until Y.getShape().get(0)){\n",
    "        for(j in 0 until Y.getShape().get(1)){\n",
    "            \n",
    "            if(\"max\".equals(mode)){\n",
    "                Y.set(NDIndex(i.toString()+\",\"+j), \n",
    "                            X.get(NDIndex(i.toString() + \":\" + (i + poolHeight) + \", \" + j + \":\" + (j + poolWidth))).max());\n",
    "            }\n",
    "            else if(\"avg\".equals(mode)){\n",
    "                Y.set(NDIndex(i.toString()+\",\"+j),\n",
    "                            X.get(NDIndex(i.toString() + \":\" + (i + poolHeight) + \", \" + j + \":\" + (j + poolWidth))).mean());\n",
    "            }\n",
    "            \n",
    "        }\n",
    "    }\n",
    "    \n",
    "    return Y\n",
    "}"
   ]
  },
  {
   "cell_type": "markdown",
   "metadata": {},
   "source": [
    "We can construct the input array `X` in the above diagram to validate the output of the two-dimensional maximum pooling layer."
   ]
  },
  {
   "cell_type": "code",
   "execution_count": 3,
   "metadata": {
    "attributes": {
     "classes": [],
     "id": "",
     "n": "4"
    }
   },
   "outputs": [
    {
     "data": {
      "text/plain": [
       "ND: (2, 2) cpu() float32\n",
       "[[4., 5.],\n",
       " [7., 8.],\n",
       "]\n"
      ]
     },
     "execution_count": 3,
     "metadata": {},
     "output_type": "execute_result"
    }
   ],
   "source": [
    "var X = manager.arange(9f).reshape(3,3)\n",
    "pool2d(X, Shape(2,2), \"max\")"
   ]
  },
  {
   "cell_type": "markdown",
   "metadata": {},
   "source": [
    "At the same time, we experiment with the average pooling layer."
   ]
  },
  {
   "cell_type": "code",
   "execution_count": 4,
   "metadata": {
    "attributes": {
     "classes": [],
     "id": "",
     "n": "14"
    }
   },
   "outputs": [
    {
     "data": {
      "text/plain": [
       "ND: (2, 2) cpu() float32\n",
       "[[2., 3.],\n",
       " [5., 6.],\n",
       "]\n"
      ]
     },
     "execution_count": 4,
     "metadata": {},
     "output_type": "execute_result"
    }
   ],
   "source": [
    "pool2d(X, Shape(2,2), \"avg\");"
   ]
  },
  {
   "cell_type": "markdown",
   "metadata": {},
   "source": [
    "## Padding and Stride\n",
    "\n",
    "As with convolutional layers, pooling layers\n",
    "can also change the output shape.\n",
    "And as before, we can alter the operation to achieve a desired output shape\n",
    "by padding the input and adjusting the stride.\n",
    "We can demonstrate the use of padding and strides\n",
    "in pooling layers via the two-dimensional maximum pooling layer `maxPool2dBlock`\n",
    "shipped in DJL's `Pool` module.\n",
    "We first construct an input data of shape `(1, 1, 4, 4)`,\n",
    "where the first two dimensions are batch and channel."
   ]
  },
  {
   "cell_type": "code",
   "execution_count": 5,
   "metadata": {
    "attributes": {
     "classes": [],
     "id": "",
     "n": "15"
    }
   },
   "outputs": [
    {
     "data": {
      "text/plain": [
       "ND: (1, 1, 4, 4) cpu() float32\n",
       "[[[[ 0.,  1.,  2.,  3.],\n",
       "   [ 4.,  5.,  6.,  7.],\n",
       "   [ 8.,  9., 10., 11.],\n",
       "   [12., 13., 14., 15.],\n",
       "  ],\n",
       " ],\n",
       "]\n"
      ]
     },
     "execution_count": 5,
     "metadata": {},
     "output_type": "execute_result"
    }
   ],
   "source": [
    "var X = manager.arange(16f).reshape(1, 1, 4, 4);\n",
    "X"
   ]
  },
  {
   "cell_type": "markdown",
   "metadata": {},
   "source": [
    "Below, we use a pooling window of shape `(3, 3)`,\n",
    "and a stride shape of `(3, 3)`"
   ]
  },
  {
   "cell_type": "code",
   "execution_count": 6,
   "metadata": {
    "attributes": {
     "classes": [],
     "id": "",
     "n": "16"
    }
   },
   "outputs": [
    {
     "data": {
      "text/plain": [
       "ND: (1, 1, 1, 1) cpu() float32\n",
       "[[[[10.],\n",
       "  ],\n",
       " ],\n",
       "]\n"
      ]
     },
     "execution_count": 6,
     "metadata": {},
     "output_type": "execute_result"
    }
   ],
   "source": [
    "// defining block specifying kernel and stride\n",
    "val block = Pool.maxPool2dBlock(Shape(3, 3), Shape(3, 3));\n",
    "block.initialize(manager, DataType.FLOAT32, Shape(1,1,4,4));\n",
    "\n",
    "val parameterStore = ParameterStore(manager, false);\n",
    "// Because there are no model parameters in the pooling layer, we do not need\n",
    "// to call the parameter initialization function\n",
    "block.forward(parameterStore, NDList(X), true).singletonOrThrow();"
   ]
  },
  {
   "cell_type": "markdown",
   "metadata": {},
   "source": [
    "The stride and padding can be manually specified."
   ]
  },
  {
   "cell_type": "code",
   "execution_count": 7,
   "metadata": {
    "attributes": {
     "classes": [],
     "id": "",
     "n": "7"
    }
   },
   "outputs": [
    {
     "data": {
      "text/plain": [
       "ND: (1, 1, 2, 2) cpu() float32\n",
       "[[[[ 5.,  7.],\n",
       "   [13., 15.],\n",
       "  ],\n",
       " ],\n",
       "]\n"
      ]
     },
     "execution_count": 7,
     "metadata": {},
     "output_type": "execute_result"
    }
   ],
   "source": [
    "// redefining block shapes for kernel shape, stride shape and pad shape\n",
    "val block = Pool.maxPool2dBlock(Shape(3,3), Shape(2,2), Shape(1,1));\n",
    "// block forward method\n",
    "block.forward(parameterStore, NDList(X), true).singletonOrThrow();"
   ]
  },
  {
   "cell_type": "markdown",
   "metadata": {},
   "source": [
    "Of course, we can specify an arbitrary rectangular pooling window\n",
    "and specify the padding and stride for height and width, respectively."
   ]
  },
  {
   "cell_type": "code",
   "execution_count": 8,
   "metadata": {
    "attributes": {
     "classes": [],
     "id": "",
     "n": "8"
    }
   },
   "outputs": [
    {
     "data": {
      "text/plain": [
       "ND: (1, 1, 3, 2) cpu() float32\n",
       "[[[[ 0.,  3.],\n",
       "   [ 8., 11.],\n",
       "   [12., 15.],\n",
       "  ],\n",
       " ],\n",
       "]\n"
      ]
     },
     "execution_count": 8,
     "metadata": {},
     "output_type": "execute_result"
    }
   ],
   "source": [
    "// redefining block shapes for kernel shape, stride shape and pad shape\n",
    "val block = Pool.maxPool2dBlock(Shape(2,3), Shape(2,3), Shape(1,2));\n",
    "block.forward(parameterStore, NDList(X), true).singletonOrThrow();"
   ]
  },
  {
   "cell_type": "markdown",
   "metadata": {},
   "source": [
    "## Multiple Channels\n",
    "\n",
    "When processing multi-channel input data,\n",
    "the pooling layer pools each input channel separately,\n",
    "rather than adding the inputs of each channel by channel\n",
    "as in a convolutional layer.\n",
    "This means that the number of output channels for the pooling layer\n",
    "is the same as the number of input channels.\n",
    "Below, we will concatenate arrays `X` and `X+1`\n",
    "on the channel dimension to construct an input with 2 channels."
   ]
  },
  {
   "cell_type": "code",
   "execution_count": 9,
   "metadata": {
    "attributes": {
     "classes": [],
     "id": "",
     "n": "9"
    }
   },
   "outputs": [
    {
     "data": {
      "text/plain": [
       "ND: (1, 2, 4, 4) cpu() float32\n",
       "[[[[ 0.,  1.,  2.,  3.],\n",
       "   [ 4.,  5.,  6.,  7.],\n",
       "   [ 8.,  9., 10., 11.],\n",
       "   [12., 13., 14., 15.],\n",
       "  ],\n",
       "  [[ 1.,  2.,  3.,  4.],\n",
       "   [ 5.,  6.,  7.,  8.],\n",
       "   [ 9., 10., 11., 12.],\n",
       "   [13., 14., 15., 16.],\n",
       "  ],\n",
       " ],\n",
       "]\n"
      ]
     },
     "execution_count": 9,
     "metadata": {},
     "output_type": "execute_result"
    }
   ],
   "source": [
    "X = X.concat(X.add(1f), 1);\n",
    "X"
   ]
  },
  {
   "cell_type": "markdown",
   "metadata": {},
   "source": [
    "As we can see, the number of output channels is still 2 after pooling."
   ]
  },
  {
   "cell_type": "code",
   "execution_count": 10,
   "metadata": {
    "attributes": {
     "classes": [],
     "id": "",
     "n": "10"
    }
   },
   "outputs": [
    {
     "data": {
      "text/plain": [
       "ND: (1, 2, 2, 2) cpu() float32\n",
       "[[[[ 5.,  7.],\n",
       "   [13., 15.],\n",
       "  ],\n",
       "  [[ 6.,  8.],\n",
       "   [14., 16.],\n",
       "  ],\n",
       " ],\n",
       "]\n"
      ]
     },
     "execution_count": 10,
     "metadata": {},
     "output_type": "execute_result"
    }
   ],
   "source": [
    "val block = Pool.maxPool2dBlock(Shape(3,3), Shape(2,2), Shape(1,1));\n",
    "block.forward(parameterStore, NDList(X), true).singletonOrThrow();"
   ]
  },
  {
   "cell_type": "markdown",
   "metadata": {},
   "source": [
    "## Summary\n",
    "\n",
    "* Taking the input elements in the pooling window, the maximum pooling operation assigns the maximum value as the output and the average pooling operation assigns the average value as the output.\n",
    "* One of the major functions of a pooling layer is to alleviate the excessive sensitivity of the convolutional layer to location.\n",
    "* We can specify the padding and stride for the pooling layer.\n",
    "* Maximum pooling, combined with a stride larger than 1 can be used to reduce the resolution.\n",
    "* The pooling layer's number of output channels is the same as the number of input channels.\n",
    "\n",
    "\n",
    "## Exercises\n",
    "\n",
    "1. Can you implement average pooling as a special case of a convolution layer? If so, do it.\n",
    "1. Can you implement max pooling as a special case of a convolution layer? If so, do it.\n",
    "1. What is the computational cost of the pooling layer? Assume that the input to the pooling layer is of size $c\\times h\\times w$, the pooling window has a shape of $p_h\\times p_w$ with a padding of $(p_h, p_w)$ and a stride of $(s_h, s_w)$.\n",
    "1. Why do you expect maximum pooling and average pooling to work differently?\n",
    "1. Do we need a separate minimum pooling layer? Can you replace it with another operation?\n",
    "1. Is there another operation between average and maximum pooling that you could consider (hint: recall the softmax)? Why might it not be so popular?\n"
   ]
  }
 ],
 "metadata": {
  "kernelspec": {
   "display_name": "Kotlin",
   "language": "kotlin",
   "name": "kotlin"
  },
  "language_info": {
   "codemirror_mode": "text/x-kotlin",
   "file_extension": ".kt",
   "mimetype": "text/x-kotlin",
   "name": "kotlin",
   "nbconvert_exporter": "",
   "pygments_lexer": "kotlin",
   "version": "1.8.0-dev-707"
  }
 },
 "nbformat": 4,
 "nbformat_minor": 2
}
