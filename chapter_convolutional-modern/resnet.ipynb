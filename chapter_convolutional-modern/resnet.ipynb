{
 "cells": [
  {
   "cell_type": "markdown",
   "metadata": {},
   "source": [
    "# Residual Networks (ResNet)\n",
    "\n",
    ":label:`sec_resnet`\n",
    "\n",
    "\n",
    "As we design increasingly deeper networks it becomes imperative to understand how adding layers can increase the complexity and expressiveness of the network. Even more important is the ability to design networks where adding layers makes networks strictly more expressive rather than just different. To make some progress we need a bit of theory.\n",
    "\n",
    "## Function Classes\n",
    "\n",
    "Consider $\\mathcal{F}$, the class of functions that a specific network architecture (together with learning rates and other hyperparameter settings) can reach. That is, for all $f \\in \\mathcal{F}$ there exists some set of parameters $W$ that can be obtained through training on a suitable dataset. Let us assume that $f^*$ is the function that we really would like to find. If it is in $\\mathcal{F}$, we are in good shape but typically we will not be quite so lucky. Instead, we will try to find some $f^*_\\mathcal{F}$ which is our best bet within $\\mathcal{F}$. For instance, we might try finding it by solving the following optimization problem:\n",
    "\n",
    "$$f^*_\\mathcal{F} := \\mathop{\\mathrm{argmin}}_f L(X, Y, f) \\text{ subject to } f \\in \\mathcal{F}.$$\n",
    "\n",
    "It is only reasonable to assume that if we design a different and more powerful architecture $\\mathcal{F}'$ we should arrive at a better outcome. In other words, we would expect that $f^*_{\\mathcal{F}'}$ is \"better\" than $f^*_{\\mathcal{F}}$. However, if $\\mathcal{F} \\not\\subseteq \\mathcal{F}'$ there is no guarantee that this should even happen. In fact, $f^*_{\\mathcal{F}'}$ might well be worse. This is a situation that we often encounter in practice---adding layers does not only make the network more expressive, it also changes it in sometimes not quite so predictable ways. :numref:`fig_functionclasses`illustrates this in slightly abstract terms.\n",
    "\n",
    "![Left: non-nested function classes. The distance may in fact increase as the complexity increases. Right: with nested function classes this does not happen.](https://raw.githubusercontent.com/d2l-ai/d2l-en/master/img/functionclasses.svg)\n",
    "\n",
    ":label:`fig_functionclasses`\n",
    "\n",
    "\n",
    "\n",
    "Only if larger function classes contain the smaller ones are we guaranteed that increasing them strictly increases the expressive power of the network. This is the question that He et al, 2016 considered when working on very deep computer vision models. At the heart of ResNet is the idea that every additional layer should contain the identity function as one of its elements. This means that if we can train the newly-added layer into an identity mapping $f(\\mathbf{x}) = \\mathbf{x}$, the new model will be as effective as the original model. As the new model may get a better solution to fit the training dataset, the added layer might make it easier to reduce training errors. Even better, the identity function rather than the null $f(\\mathbf{x}) = 0$ should be the simplest function within a layer.\n",
    "\n",
    "These considerations are rather profound but they led to a surprisingly simple\n",
    "solution, a residual block. With it, :cite:`He.Zhang.Ren.ea.2016` won the ImageNet Visual\n",
    "Recognition Challenge in 2015. The design had a profound influence on how to\n",
    "build deep neural networks.\n",
    "\n",
    "\n",
    "## Residual Blocks\n",
    "\n",
    "Let us focus on a local neural network, as depicted below. Denote the input by $\\mathbf{x}$. We assume that the ideal mapping we want to obtain by learning is $f(\\mathbf{x})$, to be used as the input to the activation function. The portion within the dotted-line box in the left image must directly fit the mapping $f(\\mathbf{x})$. This can be tricky if we do not need that particular layer and we would much rather retain the input $\\mathbf{x}$. The portion within the dotted-line box in the right image now only needs to parametrize the *deviation* from the identity, since we return $\\mathbf{x} + f(\\mathbf{x})$. In practice, the residual mapping is often easier to optimize. We only need to set $f(\\mathbf{x}) = 0$. The right image in :numref:`fig_residual_block` illustrates the basic Residual Block of ResNet. Similar architectures were later proposed for sequence models which we will study later.\n",
    "\n",
    "![The difference between a regular block (left) and a residual block (right). In the latter case, we can short-circuit the convolutions.](https://raw.githubusercontent.com/d2l-ai/d2l-en/master/img/residual-block.svg)\n",
    "\n",
    ":label:`fig_residual_block`\n",
    "\n",
    "\n",
    "\n",
    "ResNet follows VGG's full $3\\times 3$ convolutional layer design. The residual block has two $3\\times 3$ convolutional layers with the same number of output channels. Each convolutional layer is followed by a batch normalization layer and a ReLU activation function. Then, we skip these two convolution operations and add the input directly before the final ReLU activation function. This kind of design requires that the output of the two convolutional layers be of the same shape as the input, so that they can be added together. If we want to change the number of channels or the stride, we need to introduce an additional $1\\times 1$ convolutional layer to transform the input into the desired shape for the addition operation. Let us have a look at the code below."
   ]
  },
  {
   "cell_type": "code",
   "execution_count": 1,
   "metadata": {},
   "outputs": [
    {
     "data": {
      "text/html": [
       "   <div id=\"WHZq2e\"></div>\n",
       "   <script type=\"text/javascript\" data-lets-plot-script=\"library\">\n",
       "       if(!window.letsPlotCallQueue) {\n",
       "           window.letsPlotCallQueue = [];\n",
       "       }; \n",
       "       window.letsPlotCall = function(f) {\n",
       "           window.letsPlotCallQueue.push(f);\n",
       "       };\n",
       "       (function() {\n",
       "           var script = document.createElement(\"script\");\n",
       "           script.type = \"text/javascript\";\n",
       "           script.src = \"https://cdn.jsdelivr.net/gh/JetBrains/lets-plot@v2.4.0/js-package/distr/lets-plot.min.js\";\n",
       "           script.onload = function() {\n",
       "               window.letsPlotCall = function(f) {f();};\n",
       "               window.letsPlotCallQueue.forEach(function(f) {f();});\n",
       "               window.letsPlotCallQueue = [];\n",
       "               \n",
       "               \n",
       "           };\n",
       "           script.onerror = function(event) {\n",
       "               window.letsPlotCall = function(f) {};\n",
       "               window.letsPlotCallQueue = [];\n",
       "               var div = document.createElement(\"div\");\n",
       "               div.style.color = 'darkred';\n",
       "               div.textContent = 'Error loading Lets-Plot JS';\n",
       "               document.getElementById(\"WHZq2e\").appendChild(div);\n",
       "           };\n",
       "           var e = document.getElementById(\"WHZq2e\");\n",
       "           e.appendChild(script);\n",
       "       })();\n",
       "   </script>"
      ]
     },
     "metadata": {},
     "output_type": "display_data"
    }
   ],
   "source": [
    "%use @file[../djl.json]\n",
    "%use lets-plot\n",
    "@file:DependsOn(\"../D2J-1.0-SNAPSHOT.jar\")\n",
    "//import jp.live.ugai.d2j.attention.Chap10Utils\n",
    "import jp.live.ugai.d2j.util.Training"
   ]
  },
  {
   "cell_type": "code",
   "execution_count": 2,
   "metadata": {},
   "outputs": [],
   "source": [
    "import ai.djl.basicdataset.cv.classification.*;\n",
    "// import org.apache.commons.lang3.ArrayUtils;"
   ]
  },
  {
   "cell_type": "code",
   "execution_count": 3,
   "metadata": {
    "attributes": {
     "classes": [],
     "id": "",
     "n": "1"
    }
   },
   "outputs": [],
   "source": [
    "class Residual(numChannels: Int, use1x1Conv: Boolean, strideShape: Shape) :\n",
    "    AbstractBlock(VERSION) {\n",
    "    var block: ParallelBlock\n",
    "\n",
    "    init {\n",
    "        val b1: Block\n",
    "        val conv1x1: Block\n",
    "        b1 = SequentialBlock()\n",
    "        b1.add(\n",
    "            Conv2d.builder()\n",
    "                .setFilters(numChannels)\n",
    "                .setKernelShape(Shape(3, 3))\n",
    "                .optPadding(Shape(1, 1))\n",
    "                .optStride(strideShape)\n",
    "                .build()\n",
    "        )\n",
    "            .add(BatchNorm.builder().build())\n",
    "            .add(Activation::relu)\n",
    "            .add(\n",
    "                Conv2d.builder()\n",
    "                    .setFilters(numChannels)\n",
    "                    .setKernelShape(Shape(3, 3))\n",
    "                    .optPadding(Shape(1, 1))\n",
    "                    .build()\n",
    "            )\n",
    "            .add(BatchNorm.builder().build())\n",
    "        if (use1x1Conv) {\n",
    "            conv1x1 = SequentialBlock()\n",
    "            conv1x1.add(\n",
    "                Conv2d.builder()\n",
    "                    .setFilters(numChannels)\n",
    "                    .setKernelShape(Shape(1, 1))\n",
    "                    .optStride(strideShape)\n",
    "                    .build()\n",
    "            )\n",
    "        } else {\n",
    "            conv1x1 = SequentialBlock()\n",
    "            conv1x1.add(Blocks.identityBlock())\n",
    "        }\n",
    "        block = addChildBlock(\n",
    "            \"residualBlock\",\n",
    "            ParallelBlock(\n",
    "                { list: List<NDList> ->\n",
    "                    val unit = list[0]\n",
    "                    val parallel = list[1]\n",
    "                    NDList(\n",
    "                        unit.singletonOrThrow()\n",
    "                            .add(parallel.singletonOrThrow())\n",
    "                            .ndArrayInternal\n",
    "                            .relu()\n",
    "                    )\n",
    "                },\n",
    "                mutableListOf(b1 as Block, conv1x1)\n",
    "            )\n",
    "        )\n",
    "    }\n",
    "\n",
    "    override fun toString(): String {\n",
    "        return \"Residual()\"\n",
    "    }\n",
    "\n",
    "    override fun forwardInternal(\n",
    "        parameterStore: ParameterStore,\n",
    "        inputs: NDList,\n",
    "        training: Boolean,\n",
    "        params: PairList<String, Any>?\n",
    "    ): NDList {\n",
    "        return block.forward(parameterStore, inputs, training)\n",
    "    }\n",
    "\n",
    "    override fun getOutputShapes(inputs: Array<Shape>): Array<Shape> {\n",
    "        var current: Array<Shape> = inputs\n",
    "        for (block in block.children.values()) {\n",
    "            current = block.getOutputShapes(current)\n",
    "        }\n",
    "        return current\n",
    "    }\n",
    "\n",
    "    override fun initializeChildBlocks(manager: NDManager, dataType: DataType, vararg inputShapes: Shape) {\n",
    "        block.initialize(manager, dataType, *inputShapes)\n",
    "    }\n",
    "\n",
    "    companion object {\n",
    "        private const val VERSION: Byte = 2\n",
    "    }\n",
    "}"
   ]
  },
  {
   "cell_type": "markdown",
   "metadata": {},
   "source": [
    "This code generates two types of networks: one where we add the input to the output before applying the ReLU nonlinearity whenever `use1x1Conv` is `true`, and one where we adjust channels and resolution by means of a $1 \\times 1$ convolution before adding. :numref:`fig_resnet_block` illustrates this:\n",
    "\n",
    "![Left: regular ResNet block; Right: ResNet block with 1x1 convolution](https://raw.githubusercontent.com/d2l-ai/d2l-en/master/img/resnet-block.svg)\n",
    "\n",
    ":label:`fig_resnet_block`\n",
    "\n",
    "\n",
    "Now let us look at a situation where the input and output are of the same shape."
   ]
  },
  {
   "cell_type": "code",
   "execution_count": 4,
   "metadata": {
    "attributes": {
     "classes": [],
     "id": "",
     "n": "2"
    }
   },
   "outputs": [
    {
     "name": "stdout",
     "output_type": "stream",
     "text": [
      "(4, 3, 6, 6)\n"
     ]
    }
   ],
   "source": [
    "    val manager = NDManager.newBaseManager()\n",
    "\n",
    "    var blk = SequentialBlock()\n",
    "    blk.add(Residual(3, false, Shape(1, 1)))\n",
    "\n",
    "    var X = manager.randomUniform(0f, 1.0f, Shape(4, 3, 6, 6))\n",
    "\n",
    "    val parameterStore = ParameterStore(manager, true)\n",
    "\n",
    "    blk.initialize(manager, DataType.FLOAT32, X.shape)\n",
    "\n",
    "    println(blk.forward(parameterStore, NDList(X), false).singletonOrThrow().shape)\n",
    "\n"
   ]
  },
  {
   "cell_type": "markdown",
   "metadata": {},
   "source": [
    "We also have the option to halve the output height and width while increasing the number of output channels."
   ]
  },
  {
   "cell_type": "code",
   "execution_count": 5,
   "metadata": {
    "attributes": {
     "classes": [],
     "id": "",
     "n": "3"
    }
   },
   "outputs": [
    {
     "name": "stdout",
     "output_type": "stream",
     "text": [
      "(4, 6, 3, 3)\n"
     ]
    }
   ],
   "source": [
    "    blk = SequentialBlock()\n",
    "    blk.add(Residual(6, true, Shape(2, 2)))\n",
    "\n",
    "    blk.initialize(manager, DataType.FLOAT32, X.shape)\n",
    "\n",
    "    println(blk.forward(parameterStore, NDList(X), false).singletonOrThrow().shape)"
   ]
  },
  {
   "cell_type": "markdown",
   "metadata": {},
   "source": [
    "## ResNet Model\n",
    "\n",
    "The first two layers of ResNet are the same as those of the GoogLeNet we described before: the $7\\times 7$ convolutional layer with 64 output channels and a stride of 2 is followed by the $3\\times 3$ maximum pooling layer with a stride of 2. The difference is the batch normalization layer added after each convolutional layer in ResNet."
   ]
  },
  {
   "cell_type": "code",
   "execution_count": 6,
   "metadata": {},
   "outputs": [
    {
     "data": {
      "text/plain": [
       "SequentialBlock {\n",
       "\tConv2d\n",
       "\tBatchNorm\n",
       "\tLambdaBlock\n",
       "\tmaxPool2d\n",
       "}"
      ]
     },
     "execution_count": 6,
     "metadata": {},
     "output_type": "execute_result"
    }
   ],
   "source": [
    "    val net = SequentialBlock()\n",
    "    net\n",
    "        .add(\n",
    "            Conv2d.builder()\n",
    "                .setKernelShape(Shape(7, 7))\n",
    "                .optStride(Shape(2, 2))\n",
    "                .optPadding(Shape(3, 3))\n",
    "                .setFilters(64)\n",
    "                .build()\n",
    "        )\n",
    "        .add(BatchNorm.builder().build())\n",
    "        .add(Activation::relu)\n",
    "        .add(Pool.maxPool2dBlock(Shape(3, 3), Shape(2, 2), Shape(1, 1)))"
   ]
  },
  {
   "cell_type": "markdown",
   "metadata": {},
   "source": [
    "GoogLeNet uses four blocks made up of Inception blocks. However, ResNet uses four modules made up of residual blocks, each of which uses several residual blocks with the same number of output channels. The number of channels in the first module is the same as the number of input channels. Since a maximum pooling layer with a stride of 2 has already been used, it is not necessary to reduce the height and width. In the first residual block for each of the subsequent modules, the number of channels is doubled compared with that of the previous module, and the height and width are halved.\n",
    "\n",
    "Now, we implement this module. Note that special processing has been performed on the first module."
   ]
  },
  {
   "cell_type": "code",
   "execution_count": 7,
   "metadata": {
    "attributes": {
     "classes": [],
     "id": "",
     "n": "4"
    }
   },
   "outputs": [],
   "source": [
    "fun resnetBlock(numChannels: Int, numResiduals: Int, firstBlock: Boolean): SequentialBlock {\n",
    "    val blk = SequentialBlock()\n",
    "    for (i in 0 until numResiduals) {\n",
    "        if (i == 0 && !firstBlock) {\n",
    "            blk.add(Residual(numChannels, true, Shape(2, 2)))\n",
    "        } else {\n",
    "            blk.add(Residual(numChannels, false, Shape(1, 1)))\n",
    "        }\n",
    "    }\n",
    "    return blk\n",
    "}\n"
   ]
  },
  {
   "cell_type": "markdown",
   "metadata": {},
   "source": [
    "Then, we add all the residual blocks to ResNet. Here, two residual blocks are used for each module."
   ]
  },
  {
   "cell_type": "code",
   "execution_count": 8,
   "metadata": {
    "attributes": {
     "classes": [],
     "id": "",
     "n": "5"
    }
   },
   "outputs": [
    {
     "data": {
      "text/plain": [
       "SequentialBlock {\n",
       "\tConv2d\n",
       "\tBatchNorm\n",
       "\tLambdaBlock\n",
       "\tmaxPool2d\n",
       "\tSequentialBlock {\n",
       "\t\tResidual {\n",
       "\t\t\tresidualBlock {\n",
       "\t\t\t\tSequentialBlock {\n",
       "\t\t\t\t\tConv2d\n",
       "\t\t\t\t\tBatchNorm\n",
       "\t\t\t\t\tLambdaBlock\n",
       "\t\t\t\t\tConv2d\n",
       "\t\t\t\t\tBatchNorm\n",
       "\t\t\t\t}\n",
       "\t\t\t\tSequentialBlock {\n",
       "\t\t\t\t\tidentity\n",
       "\t\t\t\t}\n",
       "\t\t\t}\n",
       "\t\t}\n",
       "\t\tResidual {\n",
       "\t\t\tresidualBlock {\n",
       "\t\t\t\tSequentialBlock {\n",
       "\t\t\t\t\tConv2d\n",
       "\t\t\t\t\tBatchNorm\n",
       "\t\t\t\t\tLambdaBlock\n",
       "\t\t\t\t\tConv2d\n",
       "\t\t\t\t\tBatchNorm\n",
       "\t\t\t\t}\n",
       "\t\t\t\tSequentialBlock {\n",
       "\t\t\t\t\tidentity\n",
       "\t\t\t\t}\n",
       "\t\t\t}\n",
       "\t\t}\n",
       "\t}\n",
       "\tSequentialBlock {\n",
       "\t\tResidual {\n",
       "\t\t\tresidualBlock {\n",
       "\t\t\t\tSequentialBlock {\n",
       "\t\t\t\t\tConv2d\n",
       "\t\t\t\t\tBatchNorm\n",
       "\t\t\t\t\tLambdaBlock\n",
       "\t\t\t\t\tConv2d\n",
       "\t\t\t\t\tBatchNorm\n",
       "\t\t\t\t}\n",
       "\t\t\t\tSequentialBlock {\n",
       "\t\t\t\t\tConv2d\n",
       "\t\t\t\t}\n",
       "\t\t\t}\n",
       "\t\t}\n",
       "\t\tResidual {\n",
       "\t\t\tresidualBlock {\n",
       "\t\t\t\tSequentialBlock {\n",
       "\t\t\t\t\tConv2d\n",
       "\t\t\t\t\tBatchNorm\n",
       "\t\t\t\t\tLambdaBlock\n",
       "\t\t\t\t\tConv2d\n",
       "\t\t\t\t\tBatchNorm\n",
       "\t\t\t\t}\n",
       "\t\t\t\tSequentialBlock {\n",
       "\t\t\t\t\tidentity\n",
       "\t\t\t\t}\n",
       "\t\t\t}\n",
       "\t\t}\n",
       "\t}\n",
       "\tSequentialBlock {\n",
       "\t\tResidual {\n",
       "\t\t\tresidualBlock {\n",
       "\t\t\t\tSequentialBlock {\n",
       "\t\t\t\t\tConv2d\n",
       "\t\t\t\t\tBatchNorm\n",
       "\t\t\t\t\tLambdaBlock\n",
       "\t\t\t\t\tConv2d\n",
       "\t\t\t\t\tBatchNorm\n",
       "\t\t\t\t}\n",
       "\t\t\t\tSequentialBlock {\n",
       "\t\t\t\t\tConv2d\n",
       "\t\t\t\t}\n",
       "\t\t\t}\n",
       "\t\t}\n",
       "\t\tResidual {\n",
       "\t\t\tresidualBlock {\n",
       "\t\t\t\tSequentialBlock {\n",
       "\t\t\t\t\tConv2d\n",
       "\t\t\t\t\tBatchNorm\n",
       "\t\t\t\t\tLambdaBlock\n",
       "\t\t\t\t\tConv2d\n",
       "\t\t\t\t\tBatchNorm\n",
       "\t\t\t\t}\n",
       "\t\t\t\tSequentialBlock {\n",
       "\t\t\t\t\tidentity\n",
       "\t\t\t\t}\n",
       "\t\t\t}\n",
       "\t\t}\n",
       "\t}\n",
       "\tSequentialBlock {\n",
       "\t\tResidual {\n",
       "\t\t\tresidualBlock {\n",
       "\t\t\t\tSequentialBlock {\n",
       "\t\t\t\t\tConv2d\n",
       "\t\t\t\t\tBatchNorm\n",
       "\t\t\t\t\tLambdaBlock\n",
       "\t\t\t\t\tConv2d\n",
       "\t\t\t\t\tBatchNorm\n",
       "\t\t\t\t}\n",
       "\t\t\t\tSequentialBlock {\n",
       "\t\t\t\t\tConv2d\n",
       "\t\t\t\t}\n",
       "\t\t\t}\n",
       "\t\t}\n",
       "\t\tResidual {\n",
       "\t\t\tresidualBlock {\n",
       "\t\t\t\tSequentialBlock {\n",
       "\t\t\t\t\tConv2d\n",
       "\t\t\t\t\tBatchNorm\n",
       "\t\t\t\t\tLambdaBlock\n",
       "\t\t\t\t\tConv2d\n",
       "\t\t\t\t\tBatchNorm\n",
       "\t\t\t\t}\n",
       "\t\t\t\tSequentialBlock {\n",
       "\t\t\t\t\tidentity\n",
       "\t\t\t\t}\n",
       "\t\t\t}\n",
       "\t\t}\n",
       "\t}\n",
       "}"
      ]
     },
     "execution_count": 8,
     "metadata": {},
     "output_type": "execute_result"
    }
   ],
   "source": [
    "    net\n",
    "        .add(resnetBlock(64, 2, true))\n",
    "        .add(resnetBlock(128, 2, false))\n",
    "        .add(resnetBlock(256, 2, false))\n",
    "        .add(resnetBlock(512, 2, false))"
   ]
  },
  {
   "cell_type": "markdown",
   "metadata": {},
   "source": [
    "Finally, just like GoogLeNet, we add a global average pooling layer, followed by the fully connected layer output."
   ]
  },
  {
   "cell_type": "code",
   "execution_count": 9,
   "metadata": {},
   "outputs": [
    {
     "data": {
      "text/plain": [
       "SequentialBlock {\n",
       "\tConv2d\n",
       "\tBatchNorm\n",
       "\tLambdaBlock\n",
       "\tmaxPool2d\n",
       "\tSequentialBlock {\n",
       "\t\tResidual {\n",
       "\t\t\tresidualBlock {\n",
       "\t\t\t\tSequentialBlock {\n",
       "\t\t\t\t\tConv2d\n",
       "\t\t\t\t\tBatchNorm\n",
       "\t\t\t\t\tLambdaBlock\n",
       "\t\t\t\t\tConv2d\n",
       "\t\t\t\t\tBatchNorm\n",
       "\t\t\t\t}\n",
       "\t\t\t\tSequentialBlock {\n",
       "\t\t\t\t\tidentity\n",
       "\t\t\t\t}\n",
       "\t\t\t}\n",
       "\t\t}\n",
       "\t\tResidual {\n",
       "\t\t\tresidualBlock {\n",
       "\t\t\t\tSequentialBlock {\n",
       "\t\t\t\t\tConv2d\n",
       "\t\t\t\t\tBatchNorm\n",
       "\t\t\t\t\tLambdaBlock\n",
       "\t\t\t\t\tConv2d\n",
       "\t\t\t\t\tBatchNorm\n",
       "\t\t\t\t}\n",
       "\t\t\t\tSequentialBlock {\n",
       "\t\t\t\t\tidentity\n",
       "\t\t\t\t}\n",
       "\t\t\t}\n",
       "\t\t}\n",
       "\t}\n",
       "\tSequentialBlock {\n",
       "\t\tResidual {\n",
       "\t\t\tresidualBlock {\n",
       "\t\t\t\tSequentialBlock {\n",
       "\t\t\t\t\tConv2d\n",
       "\t\t\t\t\tBatchNorm\n",
       "\t\t\t\t\tLambdaBlock\n",
       "\t\t\t\t\tConv2d\n",
       "\t\t\t\t\tBatchNorm\n",
       "\t\t\t\t}\n",
       "\t\t\t\tSequentialBlock {\n",
       "\t\t\t\t\tConv2d\n",
       "\t\t\t\t}\n",
       "\t\t\t}\n",
       "\t\t}\n",
       "\t\tResidual {\n",
       "\t\t\tresidualBlock {\n",
       "\t\t\t\tSequentialBlock {\n",
       "\t\t\t\t\tConv2d\n",
       "\t\t\t\t\tBatchNorm\n",
       "\t\t\t\t\tLambdaBlock\n",
       "\t\t\t\t\tConv2d\n",
       "\t\t\t\t\tBatchNorm\n",
       "\t\t\t\t}\n",
       "\t\t\t\tSequentialBlock {\n",
       "\t\t\t\t\tidentity\n",
       "\t\t\t\t}\n",
       "\t\t\t}\n",
       "\t\t}\n",
       "\t}\n",
       "\tSequentialBlock {\n",
       "\t\tResidual {\n",
       "\t\t\tresidualBlock {\n",
       "\t\t\t\tSequentialBlock {\n",
       "\t\t\t\t\tConv2d\n",
       "\t\t\t\t\tBatchNorm\n",
       "\t\t\t\t\tLambdaBlock\n",
       "\t\t\t\t\tConv2d\n",
       "\t\t\t\t\tBatchNorm\n",
       "\t\t\t\t}\n",
       "\t\t\t\tSequentialBlock {\n",
       "\t\t\t\t\tConv2d\n",
       "\t\t\t\t}\n",
       "\t\t\t}\n",
       "\t\t}\n",
       "\t\tResidual {\n",
       "\t\t\tresidualBlock {\n",
       "\t\t\t\tSequentialBlock {\n",
       "\t\t\t\t\tConv2d\n",
       "\t\t\t\t\tBatchNorm\n",
       "\t\t\t\t\tLambdaBlock\n",
       "\t\t\t\t\tConv2d\n",
       "\t\t\t\t\tBatchNorm\n",
       "\t\t\t\t}\n",
       "\t\t\t\tSequentialBlock {\n",
       "\t\t\t\t\tidentity\n",
       "\t\t\t\t}\n",
       "\t\t\t}\n",
       "\t\t}\n",
       "\t}\n",
       "\tSequentialBlock {\n",
       "\t\tResidual {\n",
       "\t\t\tresidualBlock {\n",
       "\t\t\t\tSequentialBlock {\n",
       "\t\t\t\t\tConv2d\n",
       "\t\t\t\t\tBatchNorm\n",
       "\t\t\t\t\tLambdaBlock\n",
       "\t\t\t\t\tConv2d\n",
       "\t\t\t\t\tBatchNorm\n",
       "\t\t\t\t}\n",
       "\t\t\t\tSequentialBlock {\n",
       "\t\t\t\t\tConv2d\n",
       "\t\t\t\t}\n",
       "\t\t\t}\n",
       "\t\t}\n",
       "\t\tResidual {\n",
       "\t\t\tresidualBlock {\n",
       "\t\t\t\tSequentialBlock {\n",
       "\t\t\t\t\tConv2d\n",
       "\t\t\t\t\tBatchNorm\n",
       "\t\t\t\t\tLambdaBlock\n",
       "\t\t\t\t\tConv2d\n",
       "\t\t\t\t\tBatchNorm\n",
       "\t\t\t\t}\n",
       "\t\t\t\tSequentialBlock {\n",
       "\t\t\t\t\tidentity\n",
       "\t\t\t\t}\n",
       "\t\t\t}\n",
       "\t\t}\n",
       "\t}\n",
       "\tglobalAvgPool2d\n",
       "\tLinear\n",
       "}"
      ]
     },
     "execution_count": 9,
     "metadata": {},
     "output_type": "execute_result"
    }
   ],
   "source": [
    "    net\n",
    "        .add(Pool.globalAvgPool2dBlock())\n",
    "        .add(Linear.builder().setUnits(10).build())"
   ]
  },
  {
   "cell_type": "markdown",
   "metadata": {},
   "source": [
    "There are 4 convolutional layers in each module (excluding the $1\\times 1$ convolutional layer). Together with the first convolutional layer and the final fully connected layer, there are 18 layers in total. Therefore, this model is commonly known as ResNet-18. By configuring different numbers of channels and residual blocks in the module, we can create different ResNet models, such as the deeper 152-layer ResNet-152. Although the main architecture of ResNet is similar to that of GoogLeNet, ResNet's structure is simpler and easier to modify. All these factors have resulted in the rapid and widespread use of ResNet. :numref:`fig_ResNetFull` is a diagram of the full ResNet-18.\n",
    "\n",
    "![ResNet 18](https://raw.githubusercontent.com/d2l-ai/d2l-en/master/img/resnet18.svg)\n",
    "\n",
    ":label:`fig_ResNetFull`\n",
    "\n",
    "\n",
    "Before training ResNet, let us observe how the input shape changes between different modules in ResNet. As in all previous architectures, the resolution decreases while the number of channels increases up until the point where a global average pooling layer aggregates all features."
   ]
  },
  {
   "cell_type": "code",
   "execution_count": 10,
   "metadata": {
    "attributes": {
     "classes": [],
     "id": "",
     "n": "6"
    }
   },
   "outputs": [
    {
     "name": "stdout",
     "output_type": "stream",
     "text": [
      "01Conv2d layer output : (1, 64, 112, 112)\n",
      "02BatchNorm layer output : (1, 64, 112, 112)\n",
      "03LambdaBlock layer output : (1, 64, 112, 112)\n",
      "04LambdaBlock layer output : (1, 64, 56, 56)\n",
      "05SequentialBlock layer output : (1, 64, 56, 56)\n",
      "06SequentialBlock layer output : (1, 128, 28, 28)\n",
      "07SequentialBlock layer output : (1, 256, 14, 14)\n",
      "08SequentialBlock layer output : (1, 512, 7, 7)\n",
      "09LambdaBlock layer output : (1, 512)\n",
      "10Linear layer output : (1, 10)\n"
     ]
    }
   ],
   "source": [
    "    X = manager.randomUniform(0f, 1f, Shape(1, 1, 224, 224))\n",
    "    net.initialize(manager, DataType.FLOAT32, X.shape)\n",
    "    var currentShape = X.shape\n",
    "\n",
    "    for (i in 0 until net.children.size()) {\n",
    "        X = net.children[i].value.forward(parameterStore, NDList(X), false).singletonOrThrow()\n",
    "        currentShape = X.shape\n",
    "        println(net.children[i].key + \" layer output : \" + currentShape)\n",
    "    }"
   ]
  },
  {
   "cell_type": "markdown",
   "metadata": {},
   "source": [
    "## Data Acquisition and Training\n",
    "\n",
    "We train ResNet on the Fashion-MNIST dataset, just like before. The only thing that has changed is the learning rate that decreased again, due to the more complex architecture."
   ]
  },
  {
   "cell_type": "code",
   "execution_count": 11,
   "metadata": {},
   "outputs": [],
   "source": [
    "    val batchSize = 256\n",
    "    val lr = 0.05f\n",
    "    val numEpochs = Integer.getInteger(\"MAX_EPOCH\", 10)\n",
    "\n",
    "    val epochCount = IntArray(numEpochs) { it + 1 }\n",
    "\n",
    "    val trainIter = FashionMnist.builder()\n",
    "        .addTransform(Resize(96))\n",
    "        .addTransform(ToTensor())\n",
    "        .optUsage(Dataset.Usage.TRAIN)\n",
    "        .setSampling(batchSize, true)\n",
    "        .optLimit(java.lang.Long.getLong(\"DATASET_LIMIT\", Long.MAX_VALUE))\n",
    "        .build()\n",
    "\n",
    "    val testIter = FashionMnist.builder()\n",
    "        .addTransform(Resize(96))\n",
    "        .addTransform(ToTensor())\n",
    "        .optUsage(Dataset.Usage.TEST)\n",
    "        .setSampling(batchSize, true)\n",
    "        .optLimit(java.lang.Long.getLong(\"DATASET_LIMIT\", Long.MAX_VALUE))\n",
    "        .build()\n",
    "\n",
    "    trainIter.prepare()\n",
    "    testIter.prepare()\n",
    "\n",
    "    val model: Model = Model.newInstance(\"cnn\")\n",
    "    model.block = net\n",
    "\n",
    "    val loss: Loss = Loss.softmaxCrossEntropyLoss()\n",
    "\n",
    "    val lrt: Tracker = Tracker.fixed(lr)\n",
    "    val sgd: Optimizer = Optimizer.sgd().setLearningRateTracker(lrt).build()\n",
    "\n",
    "    val config = DefaultTrainingConfig(loss).optOptimizer(sgd) // Optimizer (loss function)\n",
    "        .addEvaluator(Accuracy()) // Model Accuracy\n",
    "        .addTrainingListeners(*TrainingListener.Defaults.logging()) // Logging\n",
    "\n",
    "    val trainer: Trainer = model.newTrainer(config)\n"
   ]
  },
  {
   "cell_type": "code",
   "execution_count": 12,
   "metadata": {},
   "outputs": [
    {
     "name": "stdout",
     "output_type": "stream",
     "text": [
      "Training:    100% |████████████████████████████████████████| Accuracy: 0.82, SoftmaxCrossEntropyLoss: 0.61\n",
      "Validating:  100% |████████████████████████████████████████|\n",
      "Training:     99% |████████████████████████████████████████| Accuracy: 0.90, SoftmaxCrossEntropyLoss: 0.27"
     ]
    },
    {
     "name": "stderr",
     "output_type": "stream",
     "text": [
      "The execution was interrupted"
     ]
    }
   ],
   "source": [
    "    val evaluatorMetrics: MutableMap<String, DoubleArray> = mutableMapOf()\n",
    "    val avgTrainTimePerEpoch = Training.trainingChapter6(trainIter, testIter, numEpochs, trainer, evaluatorMetrics)"
   ]
  },
  {
   "cell_type": "code",
   "execution_count": 13,
   "metadata": {},
   "outputs": [
    {
     "name": "stderr",
     "output_type": "stream",
     "text": [
      "null\n",
      "java.lang.NullPointerException\n",
      "\tat Line_74.<init>(Line_74.jupyter-kts:1)\n",
      "\tat java.base/jdk.internal.reflect.NativeConstructorAccessorImpl.newInstance0(Native Method)\n",
      "\tat java.base/jdk.internal.reflect.NativeConstructorAccessorImpl.newInstance(NativeConstructorAccessorImpl.java:62)\n",
      "\tat java.base/jdk.internal.reflect.DelegatingConstructorAccessorImpl.newInstance(DelegatingConstructorAccessorImpl.java:45)\n",
      "\tat java.base/java.lang.reflect.Constructor.newInstance(Constructor.java:490)\n",
      "\tat kotlin.script.experimental.jvm.BasicJvmScriptEvaluator.evalWithConfigAndOtherScriptsResults(BasicJvmScriptEvaluator.kt:105)\n",
      "\tat kotlin.script.experimental.jvm.BasicJvmScriptEvaluator.invoke$suspendImpl(BasicJvmScriptEvaluator.kt:47)\n",
      "\tat kotlin.script.experimental.jvm.BasicJvmScriptEvaluator.invoke(BasicJvmScriptEvaluator.kt)\n",
      "\tat kotlin.script.experimental.jvm.BasicJvmReplEvaluator.eval(BasicJvmReplEvaluator.kt:49)\n",
      "\tat org.jetbrains.kotlinx.jupyter.repl.impl.InternalEvaluatorImpl$eval$resultWithDiagnostics$1.invokeSuspend(InternalEvaluatorImpl.kt:103)\n",
      "\tat kotlin.coroutines.jvm.internal.BaseContinuationImpl.resumeWith(ContinuationImpl.kt:33)\n",
      "\tat kotlinx.coroutines.DispatchedTask.run(DispatchedTask.kt:106)\n",
      "\tat kotlinx.coroutines.EventLoopImplBase.processNextEvent(EventLoop.common.kt:284)\n",
      "\tat kotlinx.coroutines.BlockingCoroutine.joinBlocking(Builders.kt:85)\n",
      "\tat kotlinx.coroutines.BuildersKt__BuildersKt.runBlocking(Builders.kt:59)\n",
      "\tat kotlinx.coroutines.BuildersKt.runBlocking(Unknown Source)\n",
      "\tat kotlinx.coroutines.BuildersKt__BuildersKt.runBlocking$default(Builders.kt:38)\n",
      "\tat kotlinx.coroutines.BuildersKt.runBlocking$default(Unknown Source)\n",
      "\tat org.jetbrains.kotlinx.jupyter.repl.impl.InternalEvaluatorImpl.eval(InternalEvaluatorImpl.kt:103)\n",
      "\tat org.jetbrains.kotlinx.jupyter.repl.impl.CellExecutorImpl$execute$1$result$1.invoke(CellExecutorImpl.kt:71)\n",
      "\tat org.jetbrains.kotlinx.jupyter.repl.impl.CellExecutorImpl$execute$1$result$1.invoke(CellExecutorImpl.kt:69)\n",
      "\tat org.jetbrains.kotlinx.jupyter.ReplForJupyterImpl.withHost(repl.kt:635)\n",
      "\tat org.jetbrains.kotlinx.jupyter.repl.impl.CellExecutorImpl.execute(CellExecutorImpl.kt:69)\n",
      "\tat org.jetbrains.kotlinx.jupyter.repl.CellExecutor$DefaultImpls.execute$default(CellExecutor.kt:15)\n",
      "\tat org.jetbrains.kotlinx.jupyter.ReplForJupyterImpl$evalEx$1.invoke(repl.kt:444)\n",
      "\tat org.jetbrains.kotlinx.jupyter.ReplForJupyterImpl$evalEx$1.invoke(repl.kt:433)\n",
      "\tat org.jetbrains.kotlinx.jupyter.ReplForJupyterImpl.withEvalContext(repl.kt:397)\n",
      "\tat org.jetbrains.kotlinx.jupyter.ReplForJupyterImpl.evalEx(repl.kt:433)\n",
      "\tat org.jetbrains.kotlinx.jupyter.ReplForJupyterImpl.eval(repl.kt:485)\n",
      "\tat org.jetbrains.kotlinx.jupyter.messaging.ProtocolKt$shellMessagesHandler$2$res$1.invoke(protocol.kt:321)\n",
      "\tat org.jetbrains.kotlinx.jupyter.messaging.ProtocolKt$shellMessagesHandler$2$res$1.invoke(protocol.kt:320)\n",
      "\tat org.jetbrains.kotlinx.jupyter.JupyterExecutorImpl$runExecution$execThread$1.invoke(execution.kt:33)\n",
      "\tat org.jetbrains.kotlinx.jupyter.JupyterExecutorImpl$runExecution$execThread$1.invoke(execution.kt:31)\n",
      "\tat kotlin.concurrent.ThreadsKt$thread$thread$1.run(Thread.kt:30)\n"
     ]
    }
   ],
   "source": [
    "    val trainLoss = evaluatorMetrics.get(\"train_epoch_SoftmaxCrossEntropyLoss\")\n",
    "    val trainAccuracy = evaluatorMetrics.get(\"train_epoch_Accuracy\")\n",
    "    val testAccuracy = evaluatorMetrics.get(\"validate_epoch_Accuracy\")\n",
    "\n",
    "    print(\"loss %.3f,\".format(trainLoss!![numEpochs - 1]))\n",
    "    print(\" train acc %.3f,\".format(trainAccuracy!![numEpochs - 1]))\n",
    "    print(\" test acc %.3f\\n\".format(testAccuracy!![numEpochs - 1]))\n",
    "    println(\"%.1f examples/sec\".format(trainIter.size() / (avgTrainTimePerEpoch / Math.pow(10.0, 9.0))))"
   ]
  },
  {
   "cell_type": "markdown",
   "metadata": {},
   "source": [
    "![Contour Gradient Descent.](https://d2l-java-resources.s3.amazonaws.com/img/chapter_convolution-modern-cnn-resnet.png)"
   ]
  },
  {
   "cell_type": "code",
   "execution_count": 14,
   "metadata": {},
   "outputs": [
    {
     "name": "stderr",
     "output_type": "stream",
     "text": [
      "null\n",
      "java.lang.NullPointerException\n",
      "\tat Line_75.<init>(Line_75.jupyter-kts:1)\n",
      "\tat java.base/jdk.internal.reflect.NativeConstructorAccessorImpl.newInstance0(Native Method)\n",
      "\tat java.base/jdk.internal.reflect.NativeConstructorAccessorImpl.newInstance(NativeConstructorAccessorImpl.java:62)\n",
      "\tat java.base/jdk.internal.reflect.DelegatingConstructorAccessorImpl.newInstance(DelegatingConstructorAccessorImpl.java:45)\n",
      "\tat java.base/java.lang.reflect.Constructor.newInstance(Constructor.java:490)\n",
      "\tat kotlin.script.experimental.jvm.BasicJvmScriptEvaluator.evalWithConfigAndOtherScriptsResults(BasicJvmScriptEvaluator.kt:105)\n",
      "\tat kotlin.script.experimental.jvm.BasicJvmScriptEvaluator.invoke$suspendImpl(BasicJvmScriptEvaluator.kt:47)\n",
      "\tat kotlin.script.experimental.jvm.BasicJvmScriptEvaluator.invoke(BasicJvmScriptEvaluator.kt)\n",
      "\tat kotlin.script.experimental.jvm.BasicJvmReplEvaluator.eval(BasicJvmReplEvaluator.kt:49)\n",
      "\tat org.jetbrains.kotlinx.jupyter.repl.impl.InternalEvaluatorImpl$eval$resultWithDiagnostics$1.invokeSuspend(InternalEvaluatorImpl.kt:103)\n",
      "\tat kotlin.coroutines.jvm.internal.BaseContinuationImpl.resumeWith(ContinuationImpl.kt:33)\n",
      "\tat kotlinx.coroutines.DispatchedTask.run(DispatchedTask.kt:106)\n",
      "\tat kotlinx.coroutines.EventLoopImplBase.processNextEvent(EventLoop.common.kt:284)\n",
      "\tat kotlinx.coroutines.BlockingCoroutine.joinBlocking(Builders.kt:85)\n",
      "\tat kotlinx.coroutines.BuildersKt__BuildersKt.runBlocking(Builders.kt:59)\n",
      "\tat kotlinx.coroutines.BuildersKt.runBlocking(Unknown Source)\n",
      "\tat kotlinx.coroutines.BuildersKt__BuildersKt.runBlocking$default(Builders.kt:38)\n",
      "\tat kotlinx.coroutines.BuildersKt.runBlocking$default(Unknown Source)\n",
      "\tat org.jetbrains.kotlinx.jupyter.repl.impl.InternalEvaluatorImpl.eval(InternalEvaluatorImpl.kt:103)\n",
      "\tat org.jetbrains.kotlinx.jupyter.repl.impl.CellExecutorImpl$execute$1$result$1.invoke(CellExecutorImpl.kt:71)\n",
      "\tat org.jetbrains.kotlinx.jupyter.repl.impl.CellExecutorImpl$execute$1$result$1.invoke(CellExecutorImpl.kt:69)\n",
      "\tat org.jetbrains.kotlinx.jupyter.ReplForJupyterImpl.withHost(repl.kt:635)\n",
      "\tat org.jetbrains.kotlinx.jupyter.repl.impl.CellExecutorImpl.execute(CellExecutorImpl.kt:69)\n",
      "\tat org.jetbrains.kotlinx.jupyter.repl.CellExecutor$DefaultImpls.execute$default(CellExecutor.kt:15)\n",
      "\tat org.jetbrains.kotlinx.jupyter.ReplForJupyterImpl$evalEx$1.invoke(repl.kt:444)\n",
      "\tat org.jetbrains.kotlinx.jupyter.ReplForJupyterImpl$evalEx$1.invoke(repl.kt:433)\n",
      "\tat org.jetbrains.kotlinx.jupyter.ReplForJupyterImpl.withEvalContext(repl.kt:397)\n",
      "\tat org.jetbrains.kotlinx.jupyter.ReplForJupyterImpl.evalEx(repl.kt:433)\n",
      "\tat org.jetbrains.kotlinx.jupyter.ReplForJupyterImpl.eval(repl.kt:485)\n",
      "\tat org.jetbrains.kotlinx.jupyter.messaging.ProtocolKt$shellMessagesHandler$2$res$1.invoke(protocol.kt:321)\n",
      "\tat org.jetbrains.kotlinx.jupyter.messaging.ProtocolKt$shellMessagesHandler$2$res$1.invoke(protocol.kt:320)\n",
      "\tat org.jetbrains.kotlinx.jupyter.JupyterExecutorImpl$runExecution$execThread$1.invoke(execution.kt:33)\n",
      "\tat org.jetbrains.kotlinx.jupyter.JupyterExecutorImpl$runExecution$execThread$1.invoke(execution.kt:31)\n",
      "\tat kotlin.concurrent.ThreadsKt$thread$thread$1.run(Thread.kt:30)\n"
     ]
    }
   ],
   "source": [
    "val trainLossLabel =  Array<String>(trainLoss!!.size) { \"train loss\" }\n",
    "val trainAccLabel = Array<String>(trainLoss!!.size) { \"train acc\" }\n",
    "val testAccLabel = Array<String>(trainLoss!!.size) { \"test acc\" }\n",
    "val data = mapOf<String, Any>(\n",
    "      \"label\" to trainLossLabel + trainAccLabel + testAccLabel,\n",
    "      \"epoch\" to epochCount + epochCount + epochCount,\n",
    "      \"metrics\" to trainLoss!! + trainAccuracy!! + testAccuracy!!\n",
    ")\n",
    "\n",
    "var plot = letsPlot(data)\n",
    "plot += geomLine { x = \"epoch\" ; y = \"metrics\" ; color = \"label\"}\n",
    "plot + ggsize(700, 500)"
   ]
  },
  {
   "cell_type": "markdown",
   "metadata": {},
   "source": [
    "## Summary\n",
    "\n",
    "* Residual blocks allow for a parametrization relative to the identity function $f(\\mathbf{x}) = \\mathbf{x}$.\n",
    "* Adding residual blocks increases the function complexity in a well-defined manner.\n",
    "* We can train an effective deep neural network by having residual blocks pass through cross-layer data channels.\n",
    "* ResNet had a major influence on the design of subsequent deep neural networks, both for convolutional and sequential nature.\n",
    "\n",
    "\n",
    "## Exercises\n",
    "\n",
    "1. Refer to Table 1 in the :cite:`He.Zhang.Ren.ea.2016` to\n",
    "   implement different variants.\n",
    "1. For deeper networks, ResNet introduces a \"bottleneck\" architecture to reduce\n",
    "   model complexity. Try to implement it.\n",
    "1. In subsequent versions of ResNet, the author changed the \"convolution, batch\n",
    "   normalization, and activation\" architecture to the \"batch normalization,\n",
    "   activation, and convolution\" architecture. Make this improvement\n",
    "   yourself. See Figure 1 in :cite:`He.Zhang.Ren.ea.2016*1`\n",
    "   for details.\n",
    "1. Prove that if $\\mathbf{x}$ is generated by a ReLU, the ResNet block does indeed include the identity function.\n",
    "1. Why cannot we just increase the complexity of functions without bound, even if the function classes are nested?"
   ]
  }
 ],
 "metadata": {
  "kernelspec": {
   "display_name": "Kotlin",
   "language": "kotlin",
   "name": "kotlin"
  },
  "language_info": {
   "codemirror_mode": "text/x-kotlin",
   "file_extension": ".kt",
   "mimetype": "text/x-kotlin",
   "name": "kotlin",
   "nbconvert_exporter": "",
   "pygments_lexer": "kotlin",
   "version": "1.8.0-dev-707"
  }
 },
 "nbformat": 4,
 "nbformat_minor": 2
}
