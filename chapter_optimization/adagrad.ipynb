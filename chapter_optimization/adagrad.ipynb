{
 "cells": [
  {
   "cell_type": "markdown",
   "metadata": {},
   "source": [
    "# Adagrad\n",
    ":label:`sec_adagrad`\n",
    "\n",
    "Let us begin by considering learning problems with features that occur infrequently.\n",
    "\n",
    "## Sparse Features and Learning Rates\n",
    "\n",
    "Imagine that we are training a language model. To get good accuracy we typically want to decrease the learning rate as we keep on training, usually at a rate of $\\mathcal{O}(t^{-\\frac{1}{2}})$ or slower. Now consider a model training on sparse features, i.e., features that occur only infrequently. This is common for natural language, e.g., it is a lot less likely that we will see the word *preconditioning* than *learning*. However, it is also common in other areas such as   computational advertising and personalized collaborative filtering. After all, there are many things that are of interest only for a small number of people.\n",
    "\n",
    "Parameters associated with infrequent features only receive meaningful updates whenever these features occur. Given a decreasing learning rate we might end up in a situation where the parameters for common features converge rather quickly to their optimal values, whereas for infrequent features we are still short of observing them sufficiently frequently before their optimal values can be determined. In other words, the learning rate either decreases too quickly for frequent features or too slowly for infrequent ones.\n",
    "\n",
    "A possible hack to redress this issue would be to count the number of times we see a particular feature and to use this as a clock for adjusting learning rates. That is, rather than choosing a learning rate of the form $\\eta = \\frac{\\eta_0}{\\sqrt{t + c}}$ we could use $\\eta_i = \\frac{\\eta_0}{\\sqrt{s(i, t) + c}}$. Here $s(i, t)$ counts the number of nonzeros for feature $i$ that we have observed up to time $t$. This is actually quite easy to implement at no meaningful overhead. However, it fails whenever we do not quite have sparsity but rather just data where the gradients are often very small and only rarely large. After all, it is unclear where one would draw the line between something that qualifies as an observed feature or not.\n",
    "\n",
    "Adagrad by :cite:`Duchi.Hazan.Singer.2011` addresses this by replacing the rather crude counter $s(i, t)$ by an aggregate of the squares of previously observed gradients. In particular, it uses $s(i, t+1) = s(i, t) + \\left(\\partial_i f(\\mathbf{x})\\right)^2$ as a means to adjust the learning rate. This has two benefits: first, we no longer need to decide just when a gradient is large enough. Second, it scales automatically with the magnitude of the gradients. Coordinates that routinely correspond to large gradients are scaled down significantly, whereas others with small gradients receive a much more gentle treatment. In practice this leads to a very effective optimization procedure for computational advertising and related problems. But this hides some of the additional benefits inherent in Adagrad that are best understood in the context of preconditioning.\n",
    "\n",
    "\n",
    "## Preconditioning\n",
    "\n",
    "Convex optimization problems are good for analyzing the characteristics of algorithms. After all, for most nonconvex problems it is difficult to derive meaningful theoretical guarantees, but *intuition* and *insight* often carry over.  Let us look at the problem of minimizing $f(\\mathbf{x}) = \\frac{1}{2} \\mathbf{x}^\\top \\mathbf{Q} \\mathbf{x} + \\mathbf{c}^\\top \\mathbf{x} + b$.\n",
    "\n",
    "As we saw in :numref:`sec_momentum`, it is possible to rewrite this problem in terms of its eigendecomposition $\\mathbf{Q} = \\mathbf{U}^\\top \\boldsymbol{\\Lambda} \\mathbf{U}$ to arrive at a much simplified problem where each coordinate can be solved individually:\n",
    "\n",
    "$$f(\\mathbf{x}) = \\bar{f}(\\bar{\\mathbf{x}}) = \\frac{1}{2} \\bar{\\mathbf{x}}^\\top \\boldsymbol{\\Lambda} \\bar{\\mathbf{x}} + \\bar{\\mathbf{c}}^\\top \\bar{\\mathbf{x}} + b.$$\n",
    "\n",
    "Here we used $\\mathbf{x} = \\mathbf{U} \\mathbf{x}$ and consequently $\\mathbf{c} = \\mathbf{U} \\mathbf{c}$. The modified problem has as its minimizer $\\bar{\\mathbf{x}} = -\\boldsymbol{\\Lambda}^{-1} \\bar{\\mathbf{c}}$ and minimum value $-\\frac{1}{2} \\bar{\\mathbf{c}}^\\top \\boldsymbol{\\Lambda}^{-1} \\bar{\\mathbf{c}} + b$. This is much easier to compute since $\\boldsymbol{\\Lambda}$ is a diagonal matrix containing the eigenvalues of $\\mathbf{Q}$.\n",
    "\n",
    "If we perturb $\\mathbf{c}$ slightly we would hope to find only slight changes in the minimizer of $f$. Unfortunately this is not the case. While slight changes in $\\mathbf{c}$ lead to equally slight changes in $\\bar{\\mathbf{c}}$, this is not the case for the minimizer of $f$ (and of $\\bar{f}$ respectively). Whenever the eigenvalues $\\boldsymbol{\\Lambda}_i$ are large we will see only small changes in $\\bar{x}_i$ and in the minimum of $\\bar{f}$. Conversely, for small $\\boldsymbol{\\Lambda}_i$ changes in $\\bar{x}_i$ can be dramatic. The ratio between the largest and the smallest eigenvalue is called the condition number of an optimization problem.\n",
    "\n",
    "$$\\kappa = \\frac{\\boldsymbol{\\Lambda}_1}{\\boldsymbol{\\Lambda}_d}.$$\n",
    "\n",
    "If the condition number $\\kappa$ is large, it is difficult to solve the optimization problem accurately. We need to ensure that we are careful in getting a large dynamic range of values right. Our analysis leads to an obvious, albeit somewhat naive question: couldn't we simply \"fix\" the problem by distorting the space such that all eigenvalues are $1$. In theory this is quite easy: we only need the eigenvalues and eigenvectors of $\\mathbf{Q}$ to rescale the problem from $\\mathbf{x}$ to one in $\\mathbf{z} := \\boldsymbol{\\Lambda}^{\\frac{1}{2}} \\mathbf{U} \\mathbf{x}$. In the new coordinate system $\\mathbf{x}^\\top \\mathbf{Q} \\mathbf{x}$ could be simplified to $\\|\\mathbf{z}\\|^2$. Alas, this is a rather impractical suggestion. Computing eigenvalues and eigenvectors is in general *much more* expensive than solving the actual  problem.\n",
    "\n",
    "While computing eigenvalues exactly might be expensive, guessing them and computing them even somewhat approximately may already be a lot better than not doing anything at all. In particular, we could use the diagonal entries of $\\mathbf{Q}$ and rescale it accordingly. This is *much* cheaper than computing eigenvalues.\n",
    "\n",
    "$$\\tilde{\\mathbf{Q}} = \\mathrm{diag}^{-\\frac{1}{2}}(\\mathbf{Q}) \\mathbf{Q} \\mathrm{diag}^{-\\frac{1}{2}}(\\mathbf{Q}).$$\n",
    "\n",
    "In this case we have $\\tilde{\\mathbf{Q}}_{ij} = \\mathbf{Q}_{ij} / \\sqrt{\\mathbf{Q}_{ii} \\mathbf{Q}_{jj}}$ and specifically $\\tilde{\\mathbf{Q}}_{ii} = 1$ for all $i$. In most cases this simplifies the condition number considerably. For instance, the cases we discussed previously, this would entirely eliminate the problem at hand since the problem is axis aligned.\n",
    "\n",
    "Unfortunately we face yet another problem: in deep learning we typically do not even have access to the second derivative of the objective function: for $\\mathbf{x} \\in \\mathbb{R}^d$ the second derivative even on a minibatch may require $\\mathcal{O}(d^2)$ space and work to compute, thus making it practically infeasible. The ingenious idea of Adagrad is to use a proxy for that elusive diagonal of the Hessian that is both relatively cheap to compute and effective---the magnitude of the gradient itself.\n",
    "\n",
    "In order to see why this works, let us look at $\\bar{f}(\\bar{\\mathbf{x}})$. We have that\n",
    "\n",
    "$$\\partial_{\\bar{\\mathbf{x}}} \\bar{f}(\\bar{\\mathbf{x}}) = \\boldsymbol{\\Lambda} \\bar{\\mathbf{x}} + \\bar{\\mathbf{c}} = \\boldsymbol{\\Lambda} \\left(\\bar{\\mathbf{x}} - \\bar{\\mathbf{x}}_0\\right),$$\n",
    "\n",
    "where $\\bar{\\mathbf{x}}_0$ is the minimizer of $\\bar{f}$. Hence the magnitude of the gradient depends both on $\\boldsymbol{\\Lambda}$ and the distance from optimality. If $\\bar{\\mathbf{x}} - \\bar{\\mathbf{x}}_0$ didn't change, this would be all that's needed. After all, in this case the magnitude of the gradient $\\partial_{\\bar{\\mathbf{x}}} \\bar{f}(\\bar{\\mathbf{x}})$ suffices. Since AdaGrad is a stochastic gradient descent algorithm, we will see gradients with nonzero variance even at optimality. As a result we can safely use the variance of the gradients as a cheap proxy for the scale of the Hessian. A thorough analysis is beyond the scope of this section (it would be several pages). We refer the reader to :cite:`Duchi.Hazan.Singer.2011` for details.\n",
    "\n",
    "## The Algorithm\n",
    "\n",
    "Let us formalize the discussion from above. We use the variable $\\mathbf{s}_t$ to accumulate past gradient variance as follows.\n",
    "\n",
    "$$\\begin{aligned}\n",
    "    \\mathbf{g}_t & = \\partial_{\\mathbf{w}} l(y_t, f(\\mathbf{x}_t, \\mathbf{w})), \\\\\n",
    "    \\mathbf{s}_t & = \\mathbf{s}_{t-1} + \\mathbf{g}_t^2, \\\\\n",
    "    \\mathbf{w}_t & = \\mathbf{w}_{t-1} - \\frac{\\eta}{\\sqrt{\\mathbf{s}_t + \\epsilon}} \\cdot \\mathbf{g}_t.\n",
    "\\end{aligned}$$\n",
    "\n",
    "Here the operation are applied coordinate wise. That is, $\\mathbf{v}^2$ has entries $v_i^2$. Likewise $\\frac{1}{\\sqrt{v}}$ has entries $\\frac{1}{\\sqrt{v_i}}$ and $\\mathbf{u} \\cdot \\mathbf{v}$ has entries $u_i v_i$. As before $\\eta$ is the learning rate and $\\epsilon$ is an additive constant that ensures that we do not divide by $0$. Last, we initialize $\\mathbf{s}_0 = \\mathbf{0}$.\n",
    "\n",
    "Just like in the case of momentum we need to keep track of an auxiliary variable, in this case to allow for an individual learning rate per coordinate. This does not increase the cost of Adagrad significantly relative to SGD, simply since the main cost is typically to compute $l(y_t, f(\\mathbf{x}_t, \\mathbf{w}))$ and its derivative.\n",
    "\n",
    "Note that accumulating squared gradients in $\\mathbf{s}_t$ means that $\\mathbf{s}_t$ grows essentially at linear rate (somewhat slower than linearly in practice, since the gradients initially diminish). This leads to an $\\mathcal{O}(t^{-\\frac{1}{2}})$ learning rate, albeit adjusted on a per coordinate basis. For convex problems this is perfectly adequate. In deep learning, though, we might want to decrease the learning rate rather more slowly. This led to a number of Adagrad variants that we will discuss in the subsequent chapters. For now let us see how it behaves in a quadratic convex problem. We use the same problem as before:\n",
    "\n",
    "$$f(\\mathbf{x}) = 0.1 x_1^2 + 2 x_2^2.$$\n",
    "\n",
    "We are going to implement Adagrad using the same learning rate previously, i.e., $\\eta = 0.4$. As we can see, the iterative trajectory of the independent variable is smoother. However, due to the cumulative effect of $\\boldsymbol{s}_t$, the learning rate continuously decays, so the independent variable does not move as much during later stages of iteration."
   ]
  },
  {
   "cell_type": "code",
   "execution_count": 1,
   "metadata": {},
   "outputs": [
    {
     "data": {
      "text/html": [
       "   <div id=\"qi5yyJ\"></div>\n",
       "   <script type=\"text/javascript\" data-lets-plot-script=\"library\">\n",
       "       if(!window.letsPlotCallQueue) {\n",
       "           window.letsPlotCallQueue = [];\n",
       "       }; \n",
       "       window.letsPlotCall = function(f) {\n",
       "           window.letsPlotCallQueue.push(f);\n",
       "       };\n",
       "       (function() {\n",
       "           var script = document.createElement(\"script\");\n",
       "           script.type = \"text/javascript\";\n",
       "           script.src = \"https://cdn.jsdelivr.net/gh/JetBrains/lets-plot@v2.4.0/js-package/distr/lets-plot.min.js\";\n",
       "           script.onload = function() {\n",
       "               window.letsPlotCall = function(f) {f();};\n",
       "               window.letsPlotCallQueue.forEach(function(f) {f();});\n",
       "               window.letsPlotCallQueue = [];\n",
       "               \n",
       "               \n",
       "           };\n",
       "           script.onerror = function(event) {\n",
       "               window.letsPlotCall = function(f) {};\n",
       "               window.letsPlotCallQueue = [];\n",
       "               var div = document.createElement(\"div\");\n",
       "               div.style.color = 'darkred';\n",
       "               div.textContent = 'Error loading Lets-Plot JS';\n",
       "               document.getElementById(\"qi5yyJ\").appendChild(div);\n",
       "           };\n",
       "           var e = document.getElementById(\"qi5yyJ\");\n",
       "           e.appendChild(script);\n",
       "       })();\n",
       "   </script>"
      ]
     },
     "metadata": {},
     "output_type": "display_data"
    }
   ],
   "source": [
    "%use @file[../djl.json]\n",
    "%use lets-plot\n",
    "@file:DependsOn(\"../D2J-1.0-SNAPSHOT.jar\")\n",
    "//import jp.live.ugai.d2j.attention.Chap10Utils\n",
    "import jp.live.ugai.d2j.util.GradDescUtils.train2d\n",
    "import jp.live.ugai.d2j.util.GradDescUtils.showTrace2d\n",
    "import jp.live.ugai.d2j.util.TrainingChapter11.getDataCh11\n",
    "import jp.live.ugai.d2j.util.TrainingChapter11.trainCh11\n",
    "import jp.live.ugai.d2j.util.TrainingChapter11.trainConciseCh11\n",
    "import jp.live.ugai.d2j.util.LossTime\n",
    "import org.jetbrains.letsPlot.intern.Plot"
   ]
  },
  {
   "cell_type": "code",
   "execution_count": 2,
   "metadata": {},
   "outputs": [
    {
     "name": "stdout",
     "output_type": "stream",
     "text": [
      "Tablesaw not supporting for contour and meshgrids, will update soon\n"
     ]
    },
    {
     "data": {
      "text/html": [
       "   <div id=\"i0vTzN\"></div>\n",
       "   <script type=\"text/javascript\" data-lets-plot-script=\"plot\">\n",
       "       (function() {\n",
       "           var plotSpec={\n",
       "\"mapping\":{\n",
       "},\n",
       "\"ggsize\":{\n",
       "\"width\":500.0,\n",
       "\"height\":400.0\n",
       "},\n",
       "\"kind\":\"plot\",\n",
       "\"scales\":[],\n",
       "\"layers\":[{\n",
       "\"mapping\":{\n",
       "\"x\":\"x\",\n",
       "\"y\":\"y\"\n",
       "},\n",
       "\"stat\":\"identity\",\n",
       "\"data\":{\n",
       "\"x\":[-5.0,-4.600000381469727,-4.3291778564453125,-4.114228248596191,-3.9323019981384277,-3.7728357315063477,-3.6299331188201904,-3.4999098777770996,-3.380281925201416,-3.2692806720733643,-3.1655938625335693,-3.06821608543396,-2.976356267929077,-2.889378786087036,-2.8067636489868164,-2.728078842163086,-2.6529605388641357,-2.581099033355713,-2.51222825050354,-2.4461169242858887,-2.3825631141662598],\n",
       "\"y\":[-2.0,-1.600000023841858,-1.3501219749450684,-1.163596749305725,-1.0144360065460205,-0.8907672166824341,-0.7859680652618408,-0.6958745718002319,-0.6176484823226929,-0.5492390990257263,-0.48909810185432434,-0.43601614236831665,-0.3890228867530823,-0.347322940826416,-0.3102531135082245,-0.2772526443004608,-0.24784211814403534,-0.2216080278158188,-0.19819104671478271,-0.17727714776992798,-0.15859058499336243]\n",
       "},\n",
       "\"position\":\"identity\",\n",
       "\"geom\":\"line\"\n",
       "},{\n",
       "\"mapping\":{\n",
       "\"x\":\"x\",\n",
       "\"y\":\"y\"\n",
       "},\n",
       "\"stat\":\"identity\",\n",
       "\"data\":{\n",
       "\"x\":[-5.0,-4.600000381469727,-4.3291778564453125,-4.114228248596191,-3.9323019981384277,-3.7728357315063477,-3.6299331188201904,-3.4999098777770996,-3.380281925201416,-3.2692806720733643,-3.1655938625335693,-3.06821608543396,-2.976356267929077,-2.889378786087036,-2.8067636489868164,-2.728078842163086,-2.6529605388641357,-2.581099033355713,-2.51222825050354,-2.4461169242858887,-2.3825631141662598],\n",
       "\"y\":[-2.0,-1.600000023841858,-1.3501219749450684,-1.163596749305725,-1.0144360065460205,-0.8907672166824341,-0.7859680652618408,-0.6958745718002319,-0.6176484823226929,-0.5492390990257263,-0.48909810185432434,-0.43601614236831665,-0.3890228867530823,-0.347322940826416,-0.3102531135082245,-0.2772526443004608,-0.24784211814403534,-0.2216080278158188,-0.19819104671478271,-0.17727714776992798,-0.15859058499336243]\n",
       "},\n",
       "\"size\":3.0,\n",
       "\"position\":\"identity\",\n",
       "\"geom\":\"point\"\n",
       "},{\n",
       "\"mapping\":{\n",
       "\"x\":\"x\",\n",
       "\"y\":\"y\",\n",
       "\"z\":\"z\"\n",
       "},\n",
       "\"stat\":\"contour\",\n",
       "\"data\":{\n",
       "\"..group..\":[0.0,0.0,0.0,0.0,0.0,0.0,0.0,0.0,0.0,0.0,0.0,0.0,0.0,0.0,0.0,0.0,0.0,0.0,0.0,0.0,0.0,0.0,0.0,0.0,0.0,0.0,0.0,0.0,0.0,0.0,0.0,0.0,0.0,0.0,0.0,0.0,0.0,0.0,1.0,1.0,1.0,1.0,1.0,1.0,1.0,1.0,1.0,1.0,1.0,1.0,1.0,1.0,1.0,1.0,1.0,1.0,1.0,1.0,1.0,1.0,1.0,1.0,1.0,1.0,1.0,1.0,1.0,1.0,1.0,1.0,1.0,1.0,1.0,1.0,1.0,1.0],\n",
       "\"x\":[-5.5,-5.47126150000239,-5.279298629799727,-5.2,-5.066666625444065,-5.039970448938307,-4.9,-4.79850372606856,-4.671887594371612,-4.6000000000000005,-4.5548207684659445,-4.3485952723463885,-4.306334645445656,-4.300000000000001,-4.291532100895621,-4.043184344594738,-4.000000000000001,-3.943444588925014,-3.778009699184407,-3.700000000000001,-3.5999043551274177,-3.5107559127932495,-3.4000000000000012,-3.260756511815193,-3.2413662170584283,-3.1000000000000014,-2.969781701360786,-2.925853190774105,-2.8000000000000016,-2.695941252996132,-2.595053161939448,-2.5000000000000018,-2.4197814976744203,-2.2682213365741704,-2.200000000000002,-2.1412366869683965,-1.9452284116715486,-1.9000000000000021,-5.5,-5.391796460020739,-5.297824142762865,-5.2,-5.12119657394844,-4.962229895362358,-4.9,-4.849236188270037,-4.629184567576713,-4.6000000000000005,-4.575892209113198,-4.313483163374648,-4.300963663817026,-4.300000000000001,-4.29888189864322,-4.021061097304676,-4.000000000000001,-3.9758165748755467,-3.7398945529014416,-3.700000000000001,-3.654664859569743,-3.457445492534183,-3.4000000000000012,-3.3353952074793125,-3.1736949546687434,-3.1000000000000014,-3.0179767991395434,-2.8886237063303115,-2.8000000000000016,-2.702379357915406,-2.6022121038877275,-2.5000000000000018,-2.3885733671471807,-2.3144400477055167,-2.200000000000002,-2.0765299390184304,-2.0252871062733164,-1.9000000000000021],\n",
       "\"y\":[-0.6514615095578709,-0.6609231249970122,-0.7241232872496588,-0.750230868702594,-0.7916667181949189,-0.7999630611728832,-0.8434615318591778,-0.8731296575856993,-0.9101405070354853,-0.9311538060694367,-0.9435259605824298,-1.0,-1.0079183068070683,-1.0091052193029597,-1.0105848738804748,-1.0539804307434208,-1.0615263361679879,-1.0706942638437333,-1.097512123980508,-1.1101579038720382,-1.1251195560907292,-1.1384448909915608,-1.1549999713897705,-1.1740543602310103,-1.1767077713230338,-1.1960526391079553,-1.212227126700981,-1.2176835115323705,-1.233315806639822,-1.2449265662451625,-1.2561835475756922,-1.266789473985371,-1.2747268720930234,-1.2897233292822894,-1.2964736516552773,-1.3015458587104929,-1.3184644854105665,-1.3223684085042855,-1.9748065010193856,-1.9897455750259234,-2.002719821546419,-2.0162258686557895,-2.02649571743555,-2.047212630797053,-2.0553225778764292,-2.061545235337546,-2.0885192905291095,-2.0920967517360562,-2.0948652613914973,-2.125,-2.1262045797712816,-2.126297299926345,-2.1263976266959763,-2.1513263716308444,-2.1532161751308956,-2.1552292814055676,-2.174868191126801,-2.1781891423302726,-2.181668925537823,-2.1968068656677273,-2.2012162015244767,-2.205755990650861,-2.2171186933359275,-2.2222972496135815,-2.2275290010755726,-2.2357796329128874,-2.241432389697513,-2.247025802605745,-2.2527651298596574,-2.2586216217762716,-2.2642832910660258,-2.2680500596318933,-2.273864842749931,-2.279337576226964,-2.2816088828416428,-2.2871621557184167]\n",
       "},\n",
       "\"color\":\"red\",\n",
       "\"position\":\"identity\",\n",
       "\"binwidth\":7.0,\n",
       "\"geom\":\"contour\"\n",
       "}]\n",
       "};\n",
       "           var plotContainer = document.getElementById(\"i0vTzN\");\n",
       "           window.letsPlotCall(function() {{\n",
       "               LetsPlot.buildPlotFromProcessedSpecs(plotSpec, -1, -1, plotContainer);\n",
       "           }});\n",
       "       })();    \n",
       "   </script>"
      ]
     },
     "execution_count": 2,
     "metadata": {},
     "output_type": "execute_result"
    }
   ],
   "source": [
    "var eta = 0.4f\n",
    "\n",
    "val adagrad2d = { state: List<Float> -> \n",
    "    var x1 = state[0]\n",
    "    var x2 = state[1]\n",
    "    var s1 = state[2]\n",
    "    var s2 = state[3];\n",
    "    var eps = 1e-6.toFloat()\n",
    "    var g1 = 0.2f * x1;\n",
    "    var g2 = 4f * x2;\n",
    "    s1 += g1 * g1;\n",
    "    s2 += g2 * g2;\n",
    "    x1 -= (eta / Math.sqrt(s1.toDouble() + eps) * g1).toFloat()\n",
    "    x2 -= (eta / Math.sqrt(s2.toDouble() + eps) * g2).toFloat()\n",
    "    listOf(x1, x2, s1, s2)\n",
    "}\n",
    "\n",
    "val f2d = fun(x1:Float, x2:Float) : Float { return  0.1f * x1 * x1 + 2 * x2 * x2 }\n",
    "\n",
    "showTrace2d(f2d, train2d(adagrad2d, 20));"
   ]
  },
  {
   "cell_type": "markdown",
   "metadata": {},
   "source": [
    "![Adagrad Low Learning Rate.](https://d2l-java-resources.s3.amazonaws.com/img/adagradLowLr.svg)"
   ]
  },
  {
   "cell_type": "markdown",
   "metadata": {},
   "source": [
    "As we increase the learning rate to $2$ we see much better behavior. This already indicates that the decrease in learning rate might be rather aggressive, even in the noise-free case and we need to ensure that parameters converge appropriately."
   ]
  },
  {
   "cell_type": "code",
   "execution_count": 3,
   "metadata": {},
   "outputs": [
    {
     "name": "stdout",
     "output_type": "stream",
     "text": [
      "Tablesaw not supporting for contour and meshgrids, will update soon\n"
     ]
    },
    {
     "data": {
      "text/html": [
       "   <div id=\"es5iE9\"></div>\n",
       "   <script type=\"text/javascript\" data-lets-plot-script=\"plot\">\n",
       "       (function() {\n",
       "           var plotSpec={\n",
       "\"mapping\":{\n",
       "},\n",
       "\"ggsize\":{\n",
       "\"width\":500.0,\n",
       "\"height\":400.0\n",
       "},\n",
       "\"kind\":\"plot\",\n",
       "\"scales\":[],\n",
       "\"layers\":[{\n",
       "\"mapping\":{\n",
       "\"x\":\"x\",\n",
       "\"y\":\"y\"\n",
       "},\n",
       "\"stat\":\"identity\",\n",
       "\"data\":{\n",
       "\"x\":[-5.0,-3.0000009536743164,-1.971009612083435,-1.3305590152740479,-0.9079745411872864,-0.6225541830062866,-0.4277854561805725,-0.29424959421157837,-0.20249448716640472,-0.13938260078430176,-0.09595116972923279,-0.0660562515258789,-0.04547660052776337,-0.031308840960264206,-0.021555013954639435,-0.014839893206954002,-0.010216772556304932,-0.007033912464976311,-0.0048426189459860325,-0.0033339853398501873,-0.002295340411365032],\n",
       "\"y\":[-2.0,0.0,0.0,0.0,0.0,0.0,0.0,0.0,0.0,0.0,0.0,0.0,0.0,0.0,0.0,0.0,0.0,0.0,0.0,0.0,0.0]\n",
       "},\n",
       "\"position\":\"identity\",\n",
       "\"geom\":\"line\"\n",
       "},{\n",
       "\"mapping\":{\n",
       "\"x\":\"x\",\n",
       "\"y\":\"y\"\n",
       "},\n",
       "\"stat\":\"identity\",\n",
       "\"data\":{\n",
       "\"x\":[-5.0,-3.0000009536743164,-1.971009612083435,-1.3305590152740479,-0.9079745411872864,-0.6225541830062866,-0.4277854561805725,-0.29424959421157837,-0.20249448716640472,-0.13938260078430176,-0.09595116972923279,-0.0660562515258789,-0.04547660052776337,-0.031308840960264206,-0.021555013954639435,-0.014839893206954002,-0.010216772556304932,-0.007033912464976311,-0.0048426189459860325,-0.0033339853398501873,-0.002295340411365032],\n",
       "\"y\":[-2.0,0.0,0.0,0.0,0.0,0.0,0.0,0.0,0.0,0.0,0.0,0.0,0.0,0.0,0.0,0.0,0.0,0.0,0.0,0.0,0.0]\n",
       "},\n",
       "\"size\":3.0,\n",
       "\"position\":\"identity\",\n",
       "\"geom\":\"point\"\n",
       "},{\n",
       "\"mapping\":{\n",
       "\"x\":\"x\",\n",
       "\"y\":\"y\",\n",
       "\"z\":\"z\"\n",
       "},\n",
       "\"stat\":\"contour\",\n",
       "\"data\":{\n",
       "\"..group..\":[0.0,0.0,0.0,0.0,0.0,0.0,0.0,0.0,0.0,0.0,0.0,0.0,0.0,0.0,0.0,0.0,0.0,0.0,0.0,0.0,0.0,0.0,0.0,0.0,0.0,0.0,0.0,0.0,0.0,0.0,0.0,0.0,0.0,0.0,0.0,0.0,0.0,0.0,0.0,0.0,0.0,0.0,0.0,0.0,0.0,0.0,0.0,0.0,0.0,0.0,0.0,0.0,0.0,0.0,0.0,0.0,0.0,0.0,0.0,0.0,1.0,1.0,1.0,1.0,1.0,1.0,1.0,1.0,1.0,1.0,1.0,1.0,1.0,1.0,1.0,1.0,1.0,1.0,1.0,1.0,1.0,1.0,1.0,1.0,1.0,1.0,1.0,1.0,1.0,1.0,1.0,1.0,1.0,1.0,1.0,1.0,1.0,1.0,1.0,1.0,1.0,1.0,1.0,1.0,1.0,1.0,1.0,1.0,1.0,1.0,1.0,1.0,1.0,1.0,1.0,1.0,1.0,1.0,1.0],\n",
       "\"x\":[-5.5,-5.415886415223286,-5.243925412246457,-5.209157377010628,-5.2,-5.184602710261304,-4.968999514320472,-4.9,-4.7875502270784995,-4.726683276672434,-4.6000000000000005,-4.482130217216026,-4.399842434846678,-4.300000000000001,-4.235258017345872,-4.020958987796334,-4.0,-3.985980360304798,-3.9120130883186226,-3.72433843378243,-3.7,-3.668770918871484,-3.4566002098230144,-3.4000000000000004,-3.32884162615805,-3.186717264973591,-3.1000000000000005,-2.9931743714008716,-2.914630419137296,-2.8000000000000007,-2.661627361727152,-2.6402783201793003,-2.500000000000001,-2.363597331976745,-2.3340649502765967,-2.2000000000000006,-2.084521455672371,-2.0103573095167584,-1.9000000000000008,-1.8029820983593394,-1.690380322041456,-1.600000000000001,-1.5189080677501146,-1.374015041084201,-1.3000000000000007,-1.2322253894186233,-1.061147596583023,-1.0000000000000009,-0.9428571544462585,-0.7516688349889327,-0.7000000000000011,-0.650723434849537,-0.44547405113122274,-0.40000000000000124,-0.3557411242342914,-0.14246283551047423,-0.10000000000000142,-0.05782371452229018,0.15746112699027837,0.1999999999999984,-5.5,-5.35833143635674,-5.339599601647751,-5.2,-5.087543845776977,-5.003716490982683,-4.9,-4.815393648167339,-4.67038628227462,-4.6000000000000005,-4.541857703736205,-4.3395566928065925,-4.300000000000001,-4.266912286816435,-4.011177010229006,-4.0,-3.9905330748451853,-3.871428044082161,-3.710703390661358,-3.7,-3.6878369430555766,-3.4281116180965956,-3.4000000000000004,-3.3683848954124525,-3.144216958098359,-3.1000000000000005,-3.050786095848182,-2.859000172192557,-2.8000000000000007,-2.735010225468655,-2.572441587967952,-2.500000000000001,-2.4210277264750686,-2.2845210762803774,-2.2000000000000006,-2.10880969859939,-1.9952181993115192,-1.9000000000000008,-1.798327749802993,-1.704512089016963,-1.600000000000001,-1.4895541899442186,-1.4123813850560927,-1.3000000000000007,-1.18246194146265,-1.1188043161176253,-1.0000000000000009,-0.8770243703514398,-0.8237587868255813,-0.7000000000000011,-0.5732154369177032,-0.5272221210135246,-0.40000000000000124,-0.27100977703681917,-0.2291711394396323,-0.10000000000000142,0.02961761883006009,0.07041765952543688,0.1999999999999984],\n",
       "\"y\":[-0.46842851596219237,-0.519858019029108,-0.625,-0.6364467212632856,-0.6394616153012282,-0.6442466121733705,-0.711249392900589,-0.7326923001271028,-0.7655622161518763,-0.7833540958405418,-0.8203845960066436,-0.8526627715200321,-0.8751969564416524,-0.9025383946987298,-0.9190725216823397,-0.9738012652545835,-0.9791538749749846,-0.9824754503809969,-1.0,-1.030423042228037,-1.0343684295290394,-1.0390363514106449,-1.0707502622787672,-1.0792104970467717,-1.0889479673024383,-1.1083965812169878,-1.1202631647649564,-1.1335320357489107,-1.1432880239216194,-1.1575263322968232,-1.1729657978410608,-1.1753479002241245,-1.1909999996423721,-1.20449666497093,-1.207418812154255,-1.2206841874566245,-1.230651819590463,-1.237053363104053,-1.2465789341612865,-1.2537276229491736,-1.2620245974481816,-1.268684201334652,-1.2736350846876419,-1.2824811986447502,-1.287000018515085,-1.2902817367732775,-1.2985655042712223,-1.3015263355092,-1.3035714430578225,-1.3104139562638353,-1.312263152316997,-1.31340429356192,-1.318157436085973,-1.3192105191318613,-1.3196764052928622,-1.3219214556119079,-1.3223684359537926,-1.3222796431528616,-1.3218264087378486,-1.3217368525894064,-1.9283548877123864,-1.9479142954459245,-1.950500497940311,-1.96977425534879,-1.98442980722122,-1.9953543862716465,-2.00887096456943,-2.019242060209174,-2.037017147156725,-2.045645138429057,-2.0523221296702556,-2.07555413399176,-2.0800967769276713,-2.083640358520544,-2.111028737213743,-2.1122257591064293,-2.1131663435564807,-2.125,-2.1383792383266966,-2.139270223073057,-2.1402038211805294,-2.160139522620744,-2.1622972822672613,-2.164518880734435,-2.1802711976229476,-2.183378330356366,-2.1865173801897733,-2.1987502152406955,-2.2025134704402975,-2.2062372181641825,-2.2155519849599394,-2.219702702519056,-2.223715341906165,-2.230651345350471,-2.234945923492715,-2.2389878767507634,-2.244022749139398,-2.2482432364612013,-2.2520903127462595,-2.255640111271203,-2.2595946414245143,-2.2630572625697276,-2.2654767313201143,-2.269000035282728,-2.271922573171688,-2.273505395147031,-2.2764594180358424,-2.278719537060702,-2.2796984835319747,-2.28197299588371,-2.2834807038528724,-2.2840276512669035,-2.285540562626478,-2.2862377787039785,-2.2864639242995386,-2.287162118264147,-2.287022023537577,-2.286977925593202,-2.2868378689965687]\n",
       "},\n",
       "\"color\":\"red\",\n",
       "\"position\":\"identity\",\n",
       "\"binwidth\":7.0,\n",
       "\"geom\":\"contour\"\n",
       "}]\n",
       "};\n",
       "           var plotContainer = document.getElementById(\"es5iE9\");\n",
       "           window.letsPlotCall(function() {{\n",
       "               LetsPlot.buildPlotFromProcessedSpecs(plotSpec, -1, -1, plotContainer);\n",
       "           }});\n",
       "       })();    \n",
       "   </script>"
      ]
     },
     "execution_count": 3,
     "metadata": {},
     "output_type": "execute_result"
    }
   ],
   "source": [
    "eta = 2.0f\n",
    "showTrace2d(f2d, train2d(adagrad2d, 20));"
   ]
  },
  {
   "cell_type": "markdown",
   "metadata": {},
   "source": [
    "![Adagrad High Learning Rate.](https://d2l-java-resources.s3.amazonaws.com/img/adagradHighLr.svg)"
   ]
  },
  {
   "cell_type": "markdown",
   "metadata": {},
   "source": [
    "## Implementation from Scratch\n",
    "\n",
    "Just like the momentum method, Adagrad needs to maintain a state variable of the same shape as the parameters."
   ]
  },
  {
   "cell_type": "code",
   "execution_count": 4,
   "metadata": {},
   "outputs": [],
   "source": [
    "fun initAdagradStates(featureDimension: Int): NDList {\n",
    "    val manager = NDManager.newBaseManager();\n",
    "    val sW = manager.zeros(Shape(featureDimension.toLong(), 1));\n",
    "    val sB = manager.zeros(Shape(1));\n",
    "    return NDList(sW, sB)\n",
    "}\n",
    "\n",
    "object Optimization {\n",
    "    fun adagrad(params: NDList, states: NDList, hyperparams: Map<String, Float> ) {\n",
    "        val eps = 1e-6\n",
    "        for (i in 0 until params.size) {\n",
    "            val param = params.get(i);\n",
    "            val state = states.get(i);\n",
    "            // Update param\n",
    "            state.addi(param.getGradient().square());\n",
    "            param.subi(param.getGradient().mul(hyperparams.get(\"lr\")).div(state.add(eps).sqrt()));\n",
    "        }\n",
    "    }\n",
    "}"
   ]
  },
  {
   "cell_type": "markdown",
   "metadata": {},
   "source": [
    "Compared to the experiment in :numref:`sec_minibatch_sgd` we use a\n",
    "larger learning rate to train the model."
   ]
  },
  {
   "cell_type": "code",
   "execution_count": 5,
   "metadata": {},
   "outputs": [
    {
     "name": "stdout",
     "output_type": "stream",
     "text": [
      "loss: 0.242, 0.133 sec/epoch\n"
     ]
    }
   ],
   "source": [
    "val airfoil = getDataCh11(10, 1500)\n",
    "\n",
    "fun trainAdagrad(lr: Float, numEpochs: Int) : LossTime {\n",
    "    val featureDimension = airfoil.getColumnNames().size\n",
    "    val hyperparams = mutableMapOf<String, Float>()\n",
    "    hyperparams.put(\"lr\", lr)\n",
    "    return trainCh11(Optimization::adagrad, \n",
    "                                       initAdagradStates(featureDimension), \n",
    "                                       hyperparams, airfoil, featureDimension, numEpochs);\n",
    "}\n",
    "\n",
    "val lossTime = trainAdagrad(0.1f, 2);"
   ]
  },
  {
   "cell_type": "markdown",
   "metadata": {},
   "source": [
    "## Concise Implementation\n",
    "\n",
    "We can use the Adagrad algorithm in DJL by creating an instance of `Adagrad` from `Optimizer`.\n",
    "Then we can pass it into our `trainConciseCh11()` function defined in chapter 11.5 to train with it!"
   ]
  },
  {
   "cell_type": "code",
   "execution_count": 6,
   "metadata": {
    "attributes": {
     "classes": [],
     "id": "",
     "n": "5"
    }
   },
   "outputs": [
    {
     "name": "stdout",
     "output_type": "stream",
     "text": [
      "Training:    100% |████████████████████████████████████████| Accuracy: 0.67, L2Loss: 0.26, L2Loss: 0.27\n",
      "loss: 0.244, 0.299 sec/epoch\n"
     ]
    },
    {
     "data": {
      "text/plain": [
       "jp.live.ugai.d2j.util.LossTime@7004e3d"
      ]
     },
     "execution_count": 6,
     "metadata": {},
     "output_type": "execute_result"
    }
   ],
   "source": [
    "val lrt = Tracker.fixed(0.1f);\n",
    "val adagrad = Optimizer.adagrad().optLearningRateTracker(lrt).build();\n",
    "\n",
    "trainConciseCh11(adagrad, airfoil, 2);"
   ]
  },
  {
   "cell_type": "markdown",
   "metadata": {},
   "source": [
    "## Summary\n",
    "\n",
    "* Adagrad decreases the learning rate dynamically on a per-coordinate basis.\n",
    "* It uses the magnitude of the gradient as a means of adjusting how quickly progress is achieved - coordinates with large gradients are compensated with a smaller learning rate.\n",
    "* Computing the exact second derivative is typically infeasible in deep learning problems due to memory and computational constraints. The gradient can be a useful proxy.\n",
    "* If the optimization problem has a rather uneven uneven structure Adagrad can help mitigate the distortion.\n",
    "* Adagrad is particularly effective for sparse features where the learning rate needs to decrease more slowly for infrequently occurring terms.\n",
    "* On deep learning problems Adagrad can sometimes be too aggressive in reducing learning rates. We will discuss strategies for mitigating this in the context of :numref:`sec_adam`.\n",
    "\n",
    "## Exercises\n",
    "\n",
    "1. Prove that for an orthogonal matrix $\\mathbf{U}$ and a vector $\\mathbf{c}$ the following holds: $\\|\\mathbf{c} - \\mathbf{\\delta}\\|_2 = \\|\\mathbf{U} \\mathbf{c} - \\mathbf{U} \\mathbf{\\delta}\\|_2$. Why does this mean that the magnitude of perturbations does not change after an orthogonal change of variables?\n",
    "1. Try out Adagrad for $f(\\mathbf{x}) = 0.1 x_1^2 + 2 x_2^2$ and also for the objective function was rotated by 45 degrees, i.e., $f(\\mathbf{x}) = 0.1 (x_1 + x_2)^2 + 2 (x_1 - x_2)^2$. Does it behave differently?\n",
    "1. Prove [Gerschgorin's circle theorem](https://en.wikipedia.org/wiki/Gershgorin_circle_theorem) which states that eigenvalues $\\lambda_i$ of a matrix $\\mathbf{M}$ satisfy $|\\lambda_i - \\mathbf{M}_{jj}| \\leq \\sum_{k \\neq j} |\\mathbf{M}_{jk}|$ for at least one choice of $j$.\n",
    "1. What does Gerschgorin's theorem tell us about the eigenvalues of the diagonally preconditioned matrix $\\mathrm{diag}^{-\\frac{1}{2}}(\\mathbf{M}) \\mathbf{M} \\mathrm{diag}^{-\\frac{1}{2}}(\\mathbf{M})$?\n",
    "1. Try out Adagrad for a proper deep network, such as :numref:`sec_lenet` when applied to Fashion MNIST.\n",
    "1. How would you need to modify Adagrad to achieve a less aggressive decay in learning rate?"
   ]
  }
 ],
 "metadata": {
  "kernelspec": {
   "display_name": "Kotlin",
   "language": "kotlin",
   "name": "kotlin"
  },
  "language_info": {
   "codemirror_mode": "text/x-kotlin",
   "file_extension": ".kt",
   "mimetype": "text/x-kotlin",
   "name": "kotlin",
   "nbconvert_exporter": "",
   "pygments_lexer": "kotlin",
   "version": "1.8.0-dev-707"
  }
 },
 "nbformat": 4,
 "nbformat_minor": 4
}
