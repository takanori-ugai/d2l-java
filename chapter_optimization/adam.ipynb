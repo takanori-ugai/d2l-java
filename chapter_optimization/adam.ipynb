{
 "cells": [
  {
   "cell_type": "markdown",
   "metadata": {
    "origin_pos": 0
   },
   "source": [
    "# Adam\n",
    ":label:`sec_adam`\n",
    "\n",
    "In the discussions leading up to this section we encountered a number of techniques for efficient optimization. Let us recap them in detail here:\n",
    "\n",
    "* We saw that :numref:`sec_sgd` is more effective than Gradient Descent when solving optimization problems, e.g., due to its inherent resilience to redundant data. \n",
    "* We saw that :numref:`sec_minibatch_sgd` affords significant additional efficiency arising from vectorization, using larger sets of observations in one minibatch. This is the key to efficient multi-machine, multi-GPU and overall parallel processing. \n",
    "* :numref:`sec_momentum` added a mechanism for aggregating a history of past gradients to accelerate convergence.\n",
    "* :numref:`sec_adagrad` used per-coordinate scaling to allow for a computationally efficient preconditioner. \n",
    "* :numref:`sec_rmsprop` decoupled per-coordinate scaling from a learning rate adjustment. \n",
    "\n",
    "Adam :cite:`Kingma.Ba.2014` combines all these techniques into one efficient learning algorithm. As expected, this is an algorithm that has become rather popular as one of the more robust and effective optimization algorithms to use in deep learning. It is not without issues, though. In particular, :cite:`Reddi.Kale.Kumar.2019` show that there are situations where Adam can diverge due to poor variance control. In a follow-up work :cite:`Zaheer.Reddi.Sachan.ea.2018` proposed a hotfix to Adam, called Yogi which addresses these issues. More on this later. For now let us review the Adam algorithm. \n",
    "\n",
    "## The Algorithm\n",
    "\n",
    "One of the key components of Adam is that it uses exponential weighted moving averages (also known as leaky averaging) to obtain an estimate of both the momentum and also the second moment of the gradient. That is, it uses the state variables\n",
    "\n",
    "$$\\begin{aligned}\n",
    "    \\mathbf{v}_t & \\leftarrow \\beta_1 \\mathbf{v}_{t-1} + (1 - \\beta_1) \\mathbf{g}_t, \\\\\n",
    "    \\mathbf{s}_t & \\leftarrow \\beta_2 \\mathbf{s}_{t-1} + (1 - \\beta_2) \\mathbf{g}_t^2.\n",
    "\\end{aligned}$$\n",
    "\n",
    "Here $\\beta_1$ and $\\beta_2$ are nonnegative weighting parameters. Common choices for them are $\\beta_1 = 0.9$ and $\\beta_2 = 0.999$. That is, the variance estimate moves *much more slowly* than the momentum term. Note that if we initialize $\\mathbf{v}_0 = \\mathbf{s}_0 = 0$ we have a significant amount of bias initially towards smaller values. This can be addressed by using the fact that $\\sum_{i=0}^t \\beta^i = \\frac{1 - \\beta^t}{1 - \\beta}$ to re-normalize terms. Correspondingly the normalized state variables are given by \n",
    "\n",
    "$$\\hat{\\mathbf{v}}_t = \\frac{\\mathbf{v}_t}{1 - \\beta_1^t} \\text{ and } \\hat{\\mathbf{s}}_t = \\frac{\\mathbf{s}_t}{1 - \\beta_2^t}.$$\n",
    "\n",
    "Armed with the proper estimates we can now write out the update equations. First, we rescale the gradient in a manner very much akin to that of RMSProp to obtain\n",
    "\n",
    "$$\\mathbf{g}_t' = \\frac{\\eta \\hat{\\mathbf{v}}_t}{\\sqrt{\\hat{\\mathbf{s}}_t} + \\epsilon}.$$\n",
    "\n",
    "Unlike RMSProp our update uses the momentum $\\hat{\\mathbf{v}}_t$ rather than the gradient itself. Moreover, there is a slight cosmetic difference as the rescaling happens using $\\frac{1}{\\sqrt{\\hat{\\mathbf{s}}_t} + \\epsilon}$ instead of $\\frac{1}{\\sqrt{\\hat{\\mathbf{s}}_t + \\epsilon}}$. The former works arguably slightly better in practice, hence the deviation from RMSProp. Typically we pick $\\epsilon = 10^{-6}$ for a good trade-off between numerical stability and fidelity. \n",
    "\n",
    "Now we have all the pieces in place to compute updates. This is slightly anticlimactic and we have a simple update of the form\n",
    "\n",
    "$$\\mathbf{x}_t \\leftarrow \\mathbf{x}_{t-1} - \\mathbf{g}_t'.$$\n",
    "\n",
    "Reviewing the design of Adam its inspiration is clear. Momentum and scale are clearly visible in the state variables. Their rather peculiar definition forces us to debias terms (this could be fixed by a slightly different initialization and update condition). Second, the combination of both terms is pretty straightforward, given RMSProp. Last, the explicit learning rate $\\eta$ allows us to control the step length to address issues of convergence. \n",
    "\n",
    "## Implementation \n",
    "\n",
    "Implementing Adam from scratch is not very daunting. For convenience we store the timestep counter $t$ in the `hyperparams` dictionary. Beyond that all is straightforward.\n"
   ]
  },
  {
   "cell_type": "code",
   "execution_count": 7,
   "metadata": {},
   "outputs": [
    {
     "data": {
      "text/html": [
       "   <div id=\"ThOVvo\"></div>\n",
       "   <script type=\"text/javascript\" data-lets-plot-script=\"library\">\n",
       "       if(!window.letsPlotCallQueue) {\n",
       "           window.letsPlotCallQueue = [];\n",
       "       }; \n",
       "       window.letsPlotCall = function(f) {\n",
       "           window.letsPlotCallQueue.push(f);\n",
       "       };\n",
       "       (function() {\n",
       "           var script = document.createElement(\"script\");\n",
       "           script.type = \"text/javascript\";\n",
       "           script.src = \"https://cdn.jsdelivr.net/gh/JetBrains/lets-plot@v2.4.0/js-package/distr/lets-plot.min.js\";\n",
       "           script.onload = function() {\n",
       "               window.letsPlotCall = function(f) {f();};\n",
       "               window.letsPlotCallQueue.forEach(function(f) {f();});\n",
       "               window.letsPlotCallQueue = [];\n",
       "               \n",
       "               \n",
       "           };\n",
       "           script.onerror = function(event) {\n",
       "               window.letsPlotCall = function(f) {};\n",
       "               window.letsPlotCallQueue = [];\n",
       "               var div = document.createElement(\"div\");\n",
       "               div.style.color = 'darkred';\n",
       "               div.textContent = 'Error loading Lets-Plot JS';\n",
       "               document.getElementById(\"ThOVvo\").appendChild(div);\n",
       "           };\n",
       "           var e = document.getElementById(\"ThOVvo\");\n",
       "           e.appendChild(script);\n",
       "       })();\n",
       "   </script>"
      ]
     },
     "metadata": {},
     "output_type": "display_data"
    }
   ],
   "source": [
    "%use @file[../djl.json]\n",
    "%use lets-plot\n",
    "@file:DependsOn(\"../D2J-1.0-SNAPSHOT.jar\")\n",
    "//@file:DependsOn(\"../pytorch-native-cu116-1.12.1-20220814.211140-1.jar\")\n",
    "//@file:DependsOn(\"../pytorch-native-cu116-1.12.1-20220814.211140-1-linux-x86_64.jar\")\n",
    "//import jp.live.ugai.d2j.attention.Chap10Utils\n",
    "import jp.live.ugai.d2j.util.GradDescUtils.plotGammas\n",
    "import jp.live.ugai.d2j.util.GradDescUtils.train2d\n",
    "import jp.live.ugai.d2j.util.GradDescUtils.showTrace2d\n",
    "import jp.live.ugai.d2j.util.TrainingChapter11.getDataCh11\n",
    "import jp.live.ugai.d2j.util.TrainingChapter11.plotLossEpoch\n",
    "import jp.live.ugai.d2j.util.TrainingChapter11.trainCh11\n",
    "import jp.live.ugai.d2j.util.TrainingChapter11.trainConciseCh11\n",
    "import jp.live.ugai.d2j.util.LossTime"
   ]
  },
  {
   "cell_type": "code",
   "execution_count": 8,
   "metadata": {},
   "outputs": [],
   "source": [
    "fun initAdamStates(featureDimension: Int): NDList {\n",
    "    val manager = NDManager.newBaseManager();\n",
    "    val vW = manager.zeros(Shape(featureDimension.toLong(), 1));\n",
    "    val vB = manager.zeros(Shape(1));\n",
    "    val sW = manager.zeros(Shape(featureDimension.toLong(), 1));\n",
    "    val sB = manager.zeros(Shape(1));\n",
    "    return NDList(vW, sW, vB, sB)\n",
    "}\n",
    "\n",
    "object Optimization {\n",
    "    fun adam(params:NDList , states:NDList , hyperparams:MutableMap<String, Float> ) {\n",
    "        val beta1 = 0.9f;\n",
    "        val beta2 = 0.999f;\n",
    "        val eps = 1e-6.toFloat()\n",
    "        val time = hyperparams.get(\"time\")!!\n",
    "        for (i in 0 until params.size) {\n",
    "            val param = params.get(i);\n",
    "            val velocity = states.get(2 * i);\n",
    "            val state = states.get(2 * i + 1);\n",
    "            // Update parameter, velocity, and state\n",
    "            // velocity = beta1 * v + (1 - beta1) * param.gradient\n",
    "            velocity.muli(beta1).addi(param.getGradient().mul(1 - beta1));\n",
    "            // state = beta2 * state + (1 - beta2) * param.gradient^2\n",
    "            state.muli(beta2).addi(param.getGradient().square().mul(1 - beta2));\n",
    "            // vBiasCorr = velocity / ((1 - beta1)^(time))\n",
    "            val vBiasCorr = velocity.div(1 - Math.pow(beta1.toDouble(), time.toDouble()));\n",
    "            // sBiasCorr = state / ((1 - beta2)^(time))\n",
    "            val sBiasCorr = state.div(1 - Math.pow(beta2.toDouble(), time.toDouble()))\n",
    "            // param -= lr * vBiasCorr / (sBiasCorr^(1/2) + eps)\n",
    "            param.subi(vBiasCorr.mul(hyperparams.get(\"lr\")).div(sBiasCorr.sqrt().add(eps)));\n",
    "        }\n",
    "        hyperparams.put(\"time\", time + 1);\n",
    "    }\n",
    "}"
   ]
  },
  {
   "cell_type": "markdown",
   "metadata": {
    "origin_pos": 2
   },
   "source": [
    "We are ready to use Adam to train the model. We use a learning rate of $\\eta = 0.01$.\n"
   ]
  },
  {
   "cell_type": "code",
   "execution_count": 9,
   "metadata": {},
   "outputs": [
    {
     "name": "stdout",
     "output_type": "stream",
     "text": [
      "loss: 0.244, 0.171 sec/epoch\n"
     ]
    },
    {
     "data": {
      "text/html": [
       "   <div id=\"QmPMLC\"></div>\n",
       "   <script type=\"text/javascript\" data-lets-plot-script=\"plot\">\n",
       "       (function() {\n",
       "           var plotSpec={\n",
       "\"mapping\":{\n",
       "},\n",
       "\"ggsize\":{\n",
       "\"width\":500.0,\n",
       "\"height\":400.0\n",
       "},\n",
       "\"kind\":\"plot\",\n",
       "\"scales\":[],\n",
       "\"layers\":[{\n",
       "\"mapping\":{\n",
       "\"x\":\"epoch\",\n",
       "\"y\":\"loss\"\n",
       "},\n",
       "\"stat\":\"identity\",\n",
       "\"data\":{\n",
       "\"loss\":[0.3919368386268616,0.3091944456100464,0.2733302116394043,0.2542071044445038,0.2519213855266571,0.2478259652853012,0.2446887344121933,0.24564841389656067,0.24620363116264343,0.2445364147424698,0.24665939807891846,0.24378445744514465,0.2428164929151535,0.24465860426425934,0.24367544054985046],\n",
       "\"epoch\":[0.13333333333333333,0.26666666666666666,0.4,0.5333333333333333,0.6666666666666666,0.8,0.9333333333333333,1.0666666666666667,1.2,1.3333333333333333,1.4666666666666666,1.6,1.7333333333333334,1.8666666666666667,2.0]\n",
       "},\n",
       "\"position\":\"identity\",\n",
       "\"geom\":\"line\"\n",
       "}]\n",
       "};\n",
       "           var plotContainer = document.getElementById(\"QmPMLC\");\n",
       "           window.letsPlotCall(function() {{\n",
       "               LetsPlot.buildPlotFromProcessedSpecs(plotSpec, -1, -1, plotContainer);\n",
       "           }});\n",
       "       })();    \n",
       "   </script>"
      ]
     },
     "execution_count": 9,
     "metadata": {},
     "output_type": "execute_result"
    }
   ],
   "source": [
    "val airfoil = getDataCh11(10, 1500);\n",
    "\n",
    "fun trainAdam(lr: Float, time: Float, numEpochs: Int) : LossTime {\n",
    "    val featureDimension = airfoil.getColumnNames().size\n",
    "    val hyperparams = mutableMapOf<String, Float>()\n",
    "    hyperparams.put(\"lr\", lr);\n",
    "    hyperparams.put(\"time\", time);\n",
    "    return trainCh11(Optimization::adam, \n",
    "                                       initAdamStates(featureDimension), \n",
    "                                       hyperparams, airfoil, \n",
    "                                       featureDimension, numEpochs);\n",
    "}\n",
    "\n",
    "val lossTime = trainAdam(0.01f, 1.0f, 2);\n",
    "plotLossEpoch(lossTime.loss, lossTime.epoch)"
   ]
  },
  {
   "cell_type": "markdown",
   "metadata": {
    "origin_pos": 4
   },
   "source": [
    "A more concise implementation is straightforward since `adam` is one of the algorithms provided as part of the DJL optimization library.\n",
    "\n",
    "We will set the learning rate to 0.01f to remain consistent with the previous section.\n",
    "However, you typically won't need to set this yourself as the default will usually work fine."
   ]
  },
  {
   "cell_type": "code",
   "execution_count": 10,
   "metadata": {},
   "outputs": [
    {
     "name": "stdout",
     "output_type": "stream",
     "text": [
      "Training:    100% |████████████████████████████████████████| Accuracy: 0.67, L2Loss: 0.29| Accuracy: 0.66, L2Loss: 0.31███████████████████████████████   | Accuracy: 0.67, L2Loss: 0.30, L2Loss: 0.29\n",
      "Training:    100% |████████████████████████████████████████| Accuracy: 0.67, L2Loss: 0.27███████████████████████     | Accuracy: 0.67, L2Loss: 0.27ining:     97% |███████████████████████████████████████ | Accuracy: 0.67, L2Loss: 0.27\n",
      "loss: 0.243, 0.250 sec/epoch\n"
     ]
    },
    {
     "data": {
      "text/html": [
       "   <div id=\"ZDzveo\"></div>\n",
       "   <script type=\"text/javascript\" data-lets-plot-script=\"plot\">\n",
       "       (function() {\n",
       "           var plotSpec={\n",
       "\"mapping\":{\n",
       "},\n",
       "\"ggsize\":{\n",
       "\"width\":500.0,\n",
       "\"height\":400.0\n",
       "},\n",
       "\"kind\":\"plot\",\n",
       "\"scales\":[],\n",
       "\"layers\":[{\n",
       "\"mapping\":{\n",
       "\"x\":\"epoch\",\n",
       "\"y\":\"loss\"\n",
       "},\n",
       "\"stat\":\"identity\",\n",
       "\"data\":{\n",
       "\"loss\":[0.3872692883014679,0.3127691149711609,0.26657530665397644,0.25147929787635803,0.2462463229894638,0.2500547170639038,0.24584759771823883,0.2451983243227005,0.24449564516544342,0.24374204874038696,0.24579642713069916,0.24775363504886627,0.24336014688014984,0.24832183122634888,0.24289502203464508],\n",
       "\"epoch\":[0.13333333333333333,0.26666666666666666,0.4,0.5333333333333333,0.6666666666666666,0.8,0.9333333333333333,1.0666666666666667,1.2,1.3333333333333333,1.4666666666666666,1.6,1.7333333333333334,1.8666666666666667,2.0]\n",
       "},\n",
       "\"position\":\"identity\",\n",
       "\"geom\":\"line\"\n",
       "}]\n",
       "};\n",
       "           var plotContainer = document.getElementById(\"ZDzveo\");\n",
       "           window.letsPlotCall(function() {{\n",
       "               LetsPlot.buildPlotFromProcessedSpecs(plotSpec, -1, -1, plotContainer);\n",
       "           }});\n",
       "       })();    \n",
       "   </script>"
      ]
     },
     "execution_count": 10,
     "metadata": {},
     "output_type": "execute_result"
    }
   ],
   "source": [
    "val lrt = Tracker.fixed(0.01f);\n",
    "val adam = Optimizer.adam().optLearningRateTracker(lrt).build();\n",
    "\n",
    "val lossTime = trainConciseCh11(adam, airfoil, 2);\n",
    "plotLossEpoch(lossTime.loss, lossTime.epoch)"
   ]
  },
  {
   "cell_type": "markdown",
   "metadata": {
    "origin_pos": 6
   },
   "source": [
    "## Yogi\n",
    "\n",
    "One of the problems of Adam is that it can fail to converge even in convex settings when the second moment estimate in $\\mathbf{s}_t$ blows up. As a fix :cite:`Zaheer.Reddi.Sachan.ea.2018` proposed a refined update (and initialization) for $\\mathbf{s}_t$. To understand what's going on, let us rewrite the Adam update as follows:\n",
    "\n",
    "$$\\mathbf{s}_t \\leftarrow \\mathbf{s}_{t-1} + (1 - \\beta_2) \\left(\\mathbf{g}_t^2 - \\mathbf{s}_{t-1}\\right).$$\n",
    "\n",
    "Whenever $\\mathbf{g}_t^2$ has high variance or updates are sparse, $\\mathbf{s}_t$ might forget past values too quickly. A possible fix for this is to replace $\\mathbf{g}_t^2 - \\mathbf{s}_{t-1}$ by $\\mathbf{g}_t^2 \\odot \\mathop{\\mathrm{sgn}}(\\mathbf{g}_t^2 - \\mathbf{s}_{t-1})$. Now the magnitude of the update no longer depends on the amount of deviation. This yields the Yogi updates\n",
    "\n",
    "$$\\mathbf{s}_t \\leftarrow \\mathbf{s}_{t-1} + (1 - \\beta_2) \\mathbf{g}_t^2 \\odot \\mathop{\\mathrm{sgn}}(\\mathbf{g}_t^2 - \\mathbf{s}_{t-1}).$$\n",
    "\n",
    "The authors furthermore advise to initialize the momentum on a larger initial batch rather than just initial pointwise estimate. We omit the details since they are not material to the discussion and since even without this convergence remains pretty good.\n"
   ]
  },
  {
   "cell_type": "code",
   "execution_count": 11,
   "metadata": {},
   "outputs": [],
   "source": [
    "object Optimization {\n",
    "    fun yogi(params: NDList , states: NDList , hyperparams: MutableMap<String, Float> ) {\n",
    "        val beta1 = 0.9f;\n",
    "        val beta2 = 0.999f;\n",
    "        val eps = 1e-3.toFloat()\n",
    "        val time = hyperparams.get(\"time\")!!\n",
    "        for (i in 0 until params.size) {\n",
    "            val param = params.get(i);\n",
    "            val velocity = states.get(2 * i);\n",
    "            val state = states.get(2 * i + 1);\n",
    "            // Update parameter, velocity, and state\n",
    "            // velocity = beta1 * v + (1 - beta1) * param.gradient\n",
    "            velocity.muli(beta1).addi(param.getGradient().mul(1 - beta1));\n",
    "            /* Rewritten Update */\n",
    "            // state = state + (1 - beta2) * sign(param.gradient^2 - state) \n",
    "            //         * param.gradient^2\n",
    "            state.addi(param.getGradient().square().sub(state).sign().mul(1 - beta2));\n",
    "            // vBiasCorr = velocity / ((1 - beta1)^(time))\n",
    "            val vBiasCorr = velocity.div(1 - Math.pow(beta1.toDouble(), time.toDouble()));\n",
    "            // sBiasCorr = state / ((1 - beta2)^(time))\n",
    "            val sBiasCorr = state.div(1 - Math.pow(beta2.toDouble(), time.toDouble()));\n",
    "            // param -= lr * vBiasCorr / (sBiasCorr^(1/2) + eps)\n",
    "            param.subi(vBiasCorr.mul(hyperparams.get(\"lr\")).div(sBiasCorr.sqrt().add(eps)));\n",
    "        }\n",
    "        hyperparams.put(\"time\", time + 1);\n",
    "    }\n",
    "}"
   ]
  },
  {
   "cell_type": "code",
   "execution_count": 12,
   "metadata": {},
   "outputs": [
    {
     "name": "stdout",
     "output_type": "stream",
     "text": [
      "loss: 0.243, 0.137 sec/epoch\n"
     ]
    },
    {
     "data": {
      "text/html": [
       "   <div id=\"ZNf1CY\"></div>\n",
       "   <script type=\"text/javascript\" data-lets-plot-script=\"plot\">\n",
       "       (function() {\n",
       "           var plotSpec={\n",
       "\"mapping\":{\n",
       "},\n",
       "\"ggsize\":{\n",
       "\"width\":500.0,\n",
       "\"height\":400.0\n",
       "},\n",
       "\"kind\":\"plot\",\n",
       "\"scales\":[],\n",
       "\"layers\":[{\n",
       "\"mapping\":{\n",
       "\"x\":\"epoch\",\n",
       "\"y\":\"loss\"\n",
       "},\n",
       "\"stat\":\"identity\",\n",
       "\"data\":{\n",
       "\"loss\":[0.442210853099823,0.38767167925834656,0.3422492742538452,0.30795860290527344,0.28499776124954224,0.268545925617218,0.2588574290275574,0.25215888023376465,0.24844253063201904,0.2451922446489334,0.2447463423013687,0.2448427379131317,0.24383944272994995,0.24412518739700317,0.24348412454128265],\n",
       "\"epoch\":[0.13333333333333333,0.26666666666666666,0.4,0.5333333333333333,0.6666666666666666,0.8,0.9333333333333333,1.0666666666666667,1.2,1.3333333333333333,1.4666666666666666,1.6,1.7333333333333334,1.8666666666666667,2.0]\n",
       "},\n",
       "\"position\":\"identity\",\n",
       "\"geom\":\"line\"\n",
       "}]\n",
       "};\n",
       "           var plotContainer = document.getElementById(\"ZNf1CY\");\n",
       "           window.letsPlotCall(function() {{\n",
       "               LetsPlot.buildPlotFromProcessedSpecs(plotSpec, -1, -1, plotContainer);\n",
       "           }});\n",
       "       })();    \n",
       "   </script>"
      ]
     },
     "execution_count": 12,
     "metadata": {},
     "output_type": "execute_result"
    }
   ],
   "source": [
    "val airfoil = getDataCh11(10, 1500);\n",
    "\n",
    "fun trainYogi(lr: Float, time: Float, numEpochs: Int) : LossTime {\n",
    "    val featureDimension = airfoil.getColumnNames().size\n",
    "    val hyperparams = mutableMapOf<String, Float>();\n",
    "    hyperparams.put(\"lr\", lr)\n",
    "    hyperparams.put(\"time\", time)\n",
    "    return trainCh11(Optimization::yogi, \n",
    "                                       initAdamStates(featureDimension), \n",
    "                                       hyperparams, airfoil, \n",
    "                                       featureDimension, numEpochs);\n",
    "}\n",
    "\n",
    "val lossTime = trainYogi(0.01f, 1.0f, 2)\n",
    "plotLossEpoch(lossTime.loss, lossTime.epoch)"
   ]
  },
  {
   "cell_type": "markdown",
   "metadata": {
    "origin_pos": 8
   },
   "source": [
    "## Summary\n",
    "\n",
    "* Adam combines features of many optimization algorithms into a fairly robust update rule. \n",
    "* Created on the basis of RMSProp, Adam also uses EWMA on the minibatch stochastic gradient\n",
    "* Adam uses bias correction to adjust for a slow startup when estimating momentum and a second moment. \n",
    "* For gradients with significant variance we may encounter issues with convergence. They can be amended by using larger minibatches or by switching to an improved estimate for $\\mathbf{s}_t$. Yogi offers such an alternative. \n",
    "\n",
    "## Exercises\n",
    "\n",
    "1. Adjust the learning rate and observe and analyze the experimental results.\n",
    "1. Can you rewrite momentum and second moment updates such that it does not require bias correction?\n",
    "1. Why do you need to reduce the learning rate $\\eta$ as we converge?\n",
    "1. Try to construct a case for which Adam diverges and Yogi converges?\n"
   ]
  },
  {
   "cell_type": "code",
   "execution_count": null,
   "metadata": {},
   "outputs": [],
   "source": []
  }
 ],
 "metadata": {
  "kernelspec": {
   "display_name": "Kotlin",
   "language": "kotlin",
   "name": "kotlin"
  },
  "language_info": {
   "codemirror_mode": "text/x-kotlin",
   "file_extension": ".kt",
   "mimetype": "text/x-kotlin",
   "name": "kotlin",
   "nbconvert_exporter": "",
   "pygments_lexer": "kotlin",
   "version": "1.8.0-dev-707"
  }
 },
 "nbformat": 4,
 "nbformat_minor": 4
}
