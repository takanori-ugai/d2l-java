{
 "cells": [
  {
   "cell_type": "markdown",
   "metadata": {
    "origin_pos": 0
   },
   "source": [
    "# The Dataset for Pretraining Word Embedding\n",
    ":label:`sec_word2vec_data`\n",
    "\n",
    "In this section, we will introduce how to preprocess a dataset with\n",
    "negative sampling :numref:`sec_approx_train` and load into minibatches for\n",
    "word2vec training. The dataset we use is [Penn Tree Bank (PTB)]( https://catalog.ldc.upenn.edu/LDC99T42), which is a small but commonly-used corpus. It takes samples from Wall Street Journal articles and includes training sets, validation sets, and test sets.\n",
    "\n",
    "First, import the packages and modules required for the experiment.\n"
   ]
  },
  {
   "cell_type": "code",
   "execution_count": 1,
   "metadata": {},
   "outputs": [
    {
     "data": {
      "text/html": [
       "   <div id=\"bFFsIc\"></div>\n",
       "   <script type=\"text/javascript\" data-lets-plot-script=\"library\">\n",
       "       if(!window.letsPlotCallQueue) {\n",
       "           window.letsPlotCallQueue = [];\n",
       "       }; \n",
       "       window.letsPlotCall = function(f) {\n",
       "           window.letsPlotCallQueue.push(f);\n",
       "       };\n",
       "       (function() {\n",
       "           var script = document.createElement(\"script\");\n",
       "           script.type = \"text/javascript\";\n",
       "           script.src = \"https://cdn.jsdelivr.net/gh/JetBrains/lets-plot@v2.4.0/js-package/distr/lets-plot.min.js\";\n",
       "           script.onload = function() {\n",
       "               window.letsPlotCall = function(f) {f();};\n",
       "               window.letsPlotCallQueue.forEach(function(f) {f();});\n",
       "               window.letsPlotCallQueue = [];\n",
       "               \n",
       "               \n",
       "           };\n",
       "           script.onerror = function(event) {\n",
       "               window.letsPlotCall = function(f) {};\n",
       "               window.letsPlotCallQueue = [];\n",
       "               var div = document.createElement(\"div\");\n",
       "               div.style.color = 'darkred';\n",
       "               div.textContent = 'Error loading Lets-Plot JS';\n",
       "               document.getElementById(\"bFFsIc\").appendChild(div);\n",
       "           };\n",
       "           var e = document.getElementById(\"bFFsIc\");\n",
       "           e.appendChild(script);\n",
       "       })();\n",
       "   </script>"
      ]
     },
     "metadata": {},
     "output_type": "display_data"
    }
   ],
   "source": [
    "%use @file[../djl.json]\n",
    "%use lets-plot\n",
    "@file:DependsOn(\"../D2J-1.0-SNAPSHOT.jar\")\n",
    "//import jp.live.ugai.d2j.attention.Chap10Utils\n",
    "import jp.live.ugai.d2j.util.ImageUtils\n",
    "import jp.live.ugai.d2j.util.StopWatch\n",
    "import jp.live.ugai.d2j.util.Training\n",
    "import jp.live.ugai.d2j.timemachine.Vocab"
   ]
  },
  {
   "cell_type": "code",
   "execution_count": 2,
   "metadata": {},
   "outputs": [],
   "source": [
    "val manager = NDManager.newBaseManager();"
   ]
  },
  {
   "cell_type": "markdown",
   "metadata": {
    "origin_pos": 3
   },
   "source": [
    "## Reading and Preprocessing the Dataset\n",
    "\n",
    "This dataset has already been preprocessed. Each line of the dataset acts as a sentence. All the words in a sentence are separated by spaces. In the word embedding task, each word is a token.\n"
   ]
  },
  {
   "cell_type": "code",
   "execution_count": 3,
   "metadata": {},
   "outputs": [],
   "source": [
    "fun readPTB() : List<List<String>> {\n",
    "    val ptbURL = \"http://d2l-data.s3-accelerate.amazonaws.com/ptb.zip\";\n",
    "    val input = URL(ptbURL).openStream();\n",
    "    ZipUtils.unzip(input, Paths.get(\"./\"));\n",
    "\n",
    "    val lines = mutableListOf<String>();\n",
    "   val file = File(\"./ptb/ptb.train.txt\");\n",
    "    val myReader = java.util.Scanner(file);\n",
    "    while (myReader.hasNextLine()) {\n",
    "        lines.add(myReader.nextLine());\n",
    "    }\n",
    "    val tokens = mutableListOf<List<String>>()\n",
    "    for (i in 0 until lines.size) {\n",
    "        tokens.add(lines.get(i).trim().split(\" \"))\n",
    "    }\n",
    "    return tokens;\n",
    "}"
   ]
  },
  {
   "cell_type": "code",
   "execution_count": 4,
   "metadata": {},
   "outputs": [
    {
     "name": "stdout",
     "output_type": "stream",
     "text": [
      "# sentences: 42068\n"
     ]
    }
   ],
   "source": [
    "val sentences = readPTB();\n",
    "println(\"# sentences: \" + sentences.size);"
   ]
  },
  {
   "cell_type": "markdown",
   "metadata": {
    "origin_pos": 5
   },
   "source": [
    "Next we build a vocabulary with words appeared not greater than 10 times mapped into a \"&lt;unk&gt;\" token. Note that the preprocessed PTB data also contains \"&lt;unk&gt;\" tokens presenting rare words.\n"
   ]
  },
  {
   "cell_type": "code",
   "execution_count": 5,
   "metadata": {},
   "outputs": [
    {
     "name": "stdout",
     "output_type": "stream",
     "text": [
      "6719\n"
     ]
    }
   ],
   "source": [
    "val vocab = Vocab(sentences, 10, listOf<String>())\n",
    "println(vocab.length());"
   ]
  },
  {
   "cell_type": "markdown",
   "metadata": {
    "origin_pos": 7
   },
   "source": [
    "## Subsampling\n",
    "\n",
    "In text data, there are generally some words that appear at high frequencies, such \"the\", \"a\", and \"in\" in English. Generally speaking, in a context window, it is better to train the word embedding model when a word (such as \"chip\") and a lower-frequency word (such as \"microprocessor\") appear at the same time, rather than when a word appears with a higher-frequency word (such as \"the\"). Therefore, when training the word embedding model, we can perform subsampling on the words :cite:`Mikolov.Sutskever.Chen.ea.2013`. Specifically, each indexed word $w_i$ in the dataset will drop out at a certain probability. The dropout probability is given as:\n",
    "\n",
    "$$ P(w_i) = \\max\\left(1 - \\sqrt{\\frac{t}{f(w_i)}}, 0\\right),$$\n",
    "\n",
    "Here, $f(w_i)$ is the ratio of the instances of word $w_i$ to the total number of words in the dataset, and the constant $t$ is a hyperparameter (set to $10^{-4}$ in this experiment). As we can see, it is only possible to drop out the word $w_i$ in subsampling when $f(w_i) > t$. The higher the word's frequency, the higher its dropout probability.\n"
   ]
  },
  {
   "cell_type": "code",
   "execution_count": 6,
   "metadata": {},
   "outputs": [],
   "source": [
    "fun keep(token: String, counter: Map<Any, Double>, numTokens: Int) : Boolean {\n",
    "    // Return True if to keep this token during subsampling\n",
    "    return kotlin.random.Random.nextFloat() < Math.sqrt(1e-4 / counter.get(token)!! * numTokens)\n",
    "}\n",
    "\n",
    "fun subSampling(sentences: List<List<String>>, vocab: Vocab) : List<List<String>> {\n",
    "    val tempSentences = mutableListOf<List<String>>()\n",
    "    for (i in 0 until sentences.size) {\n",
    "        val tmp = mutableListOf<String>()\n",
    "        for (j in 0 until sentences[i].size) {\n",
    "            tmp.add(vocab.idxToToken.get(vocab.getIdx(sentences[i][j])))\n",
    "        }\n",
    "        tempSentences.add(tmp)\n",
    "    }\n",
    "    // Count the frequency for each word\n",
    "    val counter = Vocab.countCorpus2D(sentences);\n",
    "    var numTokens : Int = 0\n",
    "    for (value in counter.values) {\n",
    "        numTokens += value\n",
    "    }\n",
    "\n",
    "    // Now do the subsampling\n",
    "    val output = mutableListOf<List<String>>()\n",
    "    for (i in 0 until tempSentences.size) {\n",
    "        val tks = mutableListOf<String>()\n",
    "        for (j in 0 until tempSentences[i].size) {\n",
    "            val tk = tempSentences[i][j];\n",
    "            if (keep(tempSentences[i][j], counter.map { it.key to it.value.toDouble() }.toMap() , numTokens)) {\n",
    "                tks.add(tk);\n",
    "            }\n",
    "        }\n",
    "        output.add(tks)\n",
    "    }\n",
    "\n",
    "    return output\n",
    "}\n",
    "\n",
    "val subsampled = subSampling(sentences, vocab);"
   ]
  },
  {
   "cell_type": "markdown",
   "metadata": {
    "origin_pos": 9
   },
   "source": [
    "Compare the sequence lengths before and after sampling, we can see subsampling significantly reduced the sequence length.\n"
   ]
  },
  {
   "cell_type": "code",
   "execution_count": 7,
   "metadata": {},
   "outputs": [],
   "source": [
    "val y1 = sentences.map { it.size }\n",
    "val y2 = subsampled.map { it.size }\n",
    "\n",
    "// HistogramTrace trace1 =\n",
    "//        HistogramTrace.builder(y1).opacity(.75).name(\"origin\").nBinsX(20).build();\n",
    "// HistogramTrace trace2 =\n",
    "//         HistogramTrace.builder(y2).opacity(.75).name(\"subsampled\").nBinsX(20).build();\n",
    "\n",
    "// Layout layout =\n",
    "//        Layout.builder()\n",
    "//                .barMode(Layout.BarMode.GROUP)\n",
    "//                .showLegend(true)\n",
    "//                .xAxis(Axis.builder().title(\"# tokens per sentence\").build())\n",
    "//                .yAxis(Axis.builder().title(\"count\").build())\n",
    "//                .build();\n",
    "//new Figure(layout, trace1, trace2);"
   ]
  },
  {
   "cell_type": "markdown",
   "metadata": {
    "origin_pos": 11
   },
   "source": [
    "For individual tokens, the sampling rate of the high-frequency word \"the\" is less than 1/20.\n"
   ]
  },
  {
   "cell_type": "code",
   "execution_count": 8,
   "metadata": {},
   "outputs": [
    {
     "name": "stderr",
     "output_type": "stream",
     "text": [
      "Line_15.jupyter-kts (1:48 - 48) Expecting an element\n",
      "Line_15.jupyter-kts (1:48 - 49) Expecting an element\n",
      "Line_15.jupyter-kts (1:57 - 57) Expecting an index element\n",
      "Line_15.jupyter-kts (1:59 - 59) Expecting an index element\n",
      "Line_15.jupyter-kts (1:70 - 70) Expecting an element\n",
      "Line_15.jupyter-kts (1:70 - 71) Expecting an element\n",
      "Line_15.jupyter-kts (1:79 - 79) Expecting an index element\n",
      "Line_15.jupyter-kts (1:81 - 81) Expecting an index element\n",
      "Line_15.jupyter-kts (1:93 - 93) Expecting an element\n",
      "Line_15.jupyter-kts (1:93 - 94) Expecting an element\n",
      "Line_15.jupyter-kts (2:21 - 22) Expecting an element\n",
      "Line_15.jupyter-kts (2:23 - 24) Unexpected tokens (use ';' to separate expressions on the same line)\n",
      "Line_15.jupyter-kts (2:24 - 25) Expecting an element\n",
      "Line_15.jupyter-kts (3:14 - 15) Expecting 'in'\n",
      "Line_15.jupyter-kts (3:15 - 15) Expecting ')'\n",
      "Line_15.jupyter-kts (3:16 - 16) Expecting an expression\n",
      "Line_15.jupyter-kts (3:46 - 47) Unexpected tokens (use ';' to separate expressions on the same line)\n",
      "Line_15.jupyter-kts (4:18 - 19) Expecting 'in'\n",
      "Line_15.jupyter-kts (4:19 - 19) Expecting ')'\n",
      "Line_15.jupyter-kts (4:20 - 20) Expecting an expression\n",
      "Line_15.jupyter-kts (4:53 - 54) Unexpected tokens (use ';' to separate expressions on the same line)\n",
      "Line_15.jupyter-kts (9:20 - 21) Expecting an element\n",
      "Line_15.jupyter-kts (9:22 - 23) Unexpected tokens (use ';' to separate expressions on the same line)\n",
      "Line_15.jupyter-kts (9:23 - 24) Expecting an element\n",
      "Line_15.jupyter-kts (10:14 - 15) Expecting 'in'\n",
      "Line_15.jupyter-kts (10:15 - 15) Expecting ')'\n",
      "Line_15.jupyter-kts (10:16 - 16) Expecting an expression\n",
      "Line_15.jupyter-kts (10:47 - 48) Unexpected tokens (use ';' to separate expressions on the same line)\n",
      "Line_15.jupyter-kts (11:18 - 19) Expecting 'in'\n",
      "Line_15.jupyter-kts (11:19 - 19) Expecting ')'\n",
      "Line_15.jupyter-kts (11:20 - 20) Expecting an expression\n",
      "Line_15.jupyter-kts (11:54 - 55) Unexpected tokens (use ';' to separate expressions on the same line)"
     ]
    }
   ],
   "source": [
    "public static String compareCounts(String token, String[][] sentences, String[][] subsampled) {\n",
    "    int beforeCount = 0;\n",
    "    for (int i = 0; i < sentences.length; i++) {\n",
    "        for (int j = 0; j < sentences[i].length; j++) {\n",
    "            if (sentences[i][j].equals(token)) beforeCount += 1;\n",
    "        }\n",
    "    }\n",
    "\n",
    "    int afterCount = 0;\n",
    "    for (int i = 0; i < subsampled.length; i++) {\n",
    "        for (int j = 0; j < subsampled[i].length; j++) {\n",
    "            if (subsampled[i][j].equals(token)) afterCount += 1;\n",
    "        }\n",
    "    }\n",
    "\n",
    "    return \"# of \\\"the\\\": before=\" + beforeCount + \", after=\" + afterCount;\n",
    "}\n",
    "\n",
    "System.out.println(compareCounts(\"the\", sentences, subsampled));"
   ]
  },
  {
   "cell_type": "markdown",
   "metadata": {
    "origin_pos": 13
   },
   "source": [
    "But the low-frequency word \"join\" is completely preserved.\n"
   ]
  },
  {
   "cell_type": "code",
   "execution_count": 9,
   "metadata": {},
   "outputs": [
    {
     "name": "stderr",
     "output_type": "stream",
     "text": [
      "Line_16.jupyter-kts (1:20 - 33) Unresolved reference: compareCounts"
     ]
    }
   ],
   "source": [
    "System.out.println(compareCounts(\"join\", sentences, subsampled));"
   ]
  },
  {
   "cell_type": "markdown",
   "metadata": {
    "origin_pos": 15
   },
   "source": [
    "Last, we map each token into an index to construct the corpus.\n"
   ]
  },
  {
   "cell_type": "code",
   "execution_count": 10,
   "metadata": {},
   "outputs": [
    {
     "name": "stderr",
     "output_type": "stream",
     "text": [
      "Line_17.jupyter-kts (1:9 - 9) Expecting an index element\n",
      "Line_17.jupyter-kts (1:11 - 11) Expecting an index element\n",
      "Line_17.jupyter-kts (1:20 - 21) Expecting an element\n",
      "Line_17.jupyter-kts (1:53 - 53) Expecting an index element\n",
      "Line_17.jupyter-kts (2:10 - 11) Expecting 'in'\n",
      "Line_17.jupyter-kts (2:11 - 11) Expecting ')'\n",
      "Line_17.jupyter-kts (2:12 - 12) Expecting an expression\n",
      "Line_17.jupyter-kts (2:43 - 44) Expecting an element\n",
      "Line_17.jupyter-kts (5:10 - 11) Expecting 'in'\n",
      "Line_17.jupyter-kts (5:11 - 11) Expecting ')'\n",
      "Line_17.jupyter-kts (5:12 - 12) Expecting an expression\n",
      "Line_17.jupyter-kts (5:27 - 28) Expecting an element"
     ]
    }
   ],
   "source": [
    "Integer[][] corpus = new Integer[subsampled.length][];\n",
    "for (int i = 0; i < subsampled.length; i++) {\n",
    "    corpus[i] = vocab.getIdxs(subsampled[i]);\n",
    "}\n",
    "for (int i = 0; i < 3; i++) {\n",
    "    System.out.println(Arrays.toString(corpus[i]));\n",
    "}"
   ]
  },
  {
   "cell_type": "markdown",
   "metadata": {
    "origin_pos": 17
   },
   "source": [
    "## Loading the Dataset\n",
    "\n",
    "Next we read the corpus with token indicies into data batches for training.\n",
    "\n",
    "### Extracting Central Target Words and Context Words\n",
    "\n",
    "We use words with a distance from the central target word not exceeding the context window size as the context words of the given center target word. The following definition function extracts all the central target words and their context words. It uniformly and randomly samples an integer to be used as the context window size between integer 1 and the `maxWindowSize` (maximum context window).\n"
   ]
  },
  {
   "cell_type": "code",
   "execution_count": 11,
   "metadata": {},
   "outputs": [
    {
     "name": "stderr",
     "output_type": "stream",
     "text": [
      "Line_18.jupyter-kts (2:17 - 17) Expecting an index element\n",
      "Line_18.jupyter-kts (2:19 - 19) Expecting an index element\n",
      "Line_18.jupyter-kts (2:27 - 27) Expecting an element\n",
      "Line_18.jupyter-kts (2:27 - 28) Expecting an element\n",
      "Line_18.jupyter-kts (2:46 - 46) Expecting an element\n",
      "Line_18.jupyter-kts (2:46 - 47) Expecting an element\n",
      "Line_18.jupyter-kts (3:32 - 33) Expecting an element\n",
      "Line_18.jupyter-kts (3:48 - 48) Type expected\n",
      "Line_18.jupyter-kts (4:44 - 45) Expecting an element\n",
      "Line_18.jupyter-kts (4:60 - 60) Type expected\n",
      "Line_18.jupyter-kts (6:17 - 18) Expecting 'in'\n",
      "Line_18.jupyter-kts (6:18 - 18) Expecting ')'\n",
      "Line_18.jupyter-kts (6:18 - 34) Unexpected tokens (use ';' to separate expressions on the same line)\n",
      "Line_18.jupyter-kts (13:18 - 19) Expecting 'in'\n",
      "Line_18.jupyter-kts (13:19 - 19) Expecting ')'\n",
      "Line_18.jupyter-kts (13:20 - 20) Expecting an expression\n",
      "Line_18.jupyter-kts (13:45 - 46) Unexpected tokens (use ';' to separate expressions on the same line)\n",
      "Line_18.jupyter-kts (14:28 - 29) Expecting an element\n",
      "Line_18.jupyter-kts (15:35 - 36) Expecting an element\n",
      "Line_18.jupyter-kts (23:40 - 41) Expecting an element\n",
      "Line_18.jupyter-kts (23:56 - 56) Type expected\n",
      "Line_18.jupyter-kts (24:26 - 29) Expecting 'in'\n",
      "Line_18.jupyter-kts (24:29 - 29) Expecting ')'\n",
      "Line_18.jupyter-kts (24:30 - 30) Expecting an expression\n",
      "Line_18.jupyter-kts (24:30 - 40) Unexpected tokens (use ';' to separate expressions on the same line)\n",
      "Line_18.jupyter-kts (30:20 - 21) Expecting an element\n",
      "Line_18.jupyter-kts (30:30 - 30) Expecting ')'\n",
      "Line_18.jupyter-kts (30:30 - 41) Unexpected tokens (use ';' to separate expressions on the same line)\n",
      "Line_18.jupyter-kts (30:41 - 42) Expecting an element"
     ]
    }
   ],
   "source": [
    "public static Pair<ArrayList<Integer>, ArrayList<ArrayList<Integer>>> getCentersAndContext(\n",
    "        Integer[][] corpus, int maxWindowSize) {\n",
    "    ArrayList<Integer> centers = new ArrayList<>();\n",
    "    ArrayList<ArrayList<Integer>> contexts = new ArrayList<>();\n",
    "\n",
    "    for (Integer[] line : corpus) {\n",
    "        // Each sentence needs at least 2 words to form a \"central target word\n",
    "        // - context word\" pair\n",
    "        if (line.length < 2) {\n",
    "            continue;\n",
    "        }\n",
    "        centers.addAll(Arrays.asList(line));\n",
    "        for (int i = 0; i < line.length; i++) { // Context window centered at i\n",
    "            int windowSize = new Random().nextInt(maxWindowSize - 1) + 1;\n",
    "            List<Integer> indices =\n",
    "                    IntStream.range(\n",
    "                                    Math.max(0, i - windowSize),\n",
    "                                    Math.min(line.length, i + 1 + windowSize))\n",
    "                            .boxed()\n",
    "                            .collect(Collectors.toList());\n",
    "            // Exclude the central target word from the context words\n",
    "            indices.remove(indices.indexOf(i));\n",
    "            ArrayList<Integer> context = new ArrayList<>();\n",
    "            for (Integer idx : indices) {\n",
    "                context.add(line[idx]);\n",
    "            }\n",
    "            contexts.add(context);\n",
    "        }\n",
    "    }\n",
    "    return new Pair<>(centers, contexts);\n",
    "}"
   ]
  },
  {
   "cell_type": "markdown",
   "metadata": {
    "origin_pos": 19
   },
   "source": [
    "Next, we create an artificial dataset containing two sentences of 7 and 3 words, respectively. Assume the maximum context window is 2 and print all the central target words and their context words.\n"
   ]
  },
  {
   "cell_type": "code",
   "execution_count": 12,
   "metadata": {},
   "outputs": [
    {
     "name": "stderr",
     "output_type": "stream",
     "text": [
      "Line_19.jupyter-kts (1:9 - 9) Expecting an index element\n",
      "Line_19.jupyter-kts (1:11 - 11) Expecting an index element\n",
      "Line_19.jupyter-kts (1:25 - 26) Expecting an element\n",
      "Line_19.jupyter-kts (2:23 - 23) Expecting an index element\n",
      "Line_19.jupyter-kts (6:47 - 48) Unexpected tokens (use ';' to separate expressions on the same line)\n",
      "Line_19.jupyter-kts (14:75 - 76) Expecting an element\n",
      "Line_19.jupyter-kts (16:10 - 11) Expecting 'in'\n",
      "Line_19.jupyter-kts (16:11 - 11) Expecting ')'\n",
      "Line_19.jupyter-kts (16:12 - 12) Expecting an expression\n",
      "Line_19.jupyter-kts (16:61 - 62) Expecting an element"
     ]
    }
   ],
   "source": [
    "Integer[][] tinyDataset =\n",
    "        new Integer[][] {\n",
    "            IntStream.range(0, 7)\n",
    "                    .boxed()\n",
    "                    .collect(Collectors.toList())\n",
    "                    .toArray(new Integer[] {}),\n",
    "            IntStream.range(7, 10)\n",
    "                    .boxed()\n",
    "                    .collect(Collectors.toList())\n",
    "                    .toArray(new Integer[] {})\n",
    "        };\n",
    "\n",
    "System.out.println(\"dataset \" + Arrays.deepToString(tinyDataset));\n",
    "Pair<ArrayList<Integer>, ArrayList<ArrayList<Integer>>> centerContextPair =\n",
    "        getCentersAndContext(tinyDataset, 2);\n",
    "for (int i = 0; i < centerContextPair.getValue().size(); i++) {\n",
    "    System.out.println(\n",
    "            \"Center \"\n",
    "                    + centerContextPair.getKey().get(i)\n",
    "                    + \" has contexts\"\n",
    "                    + centerContextPair.getValue().get(i));\n",
    "}"
   ]
  },
  {
   "cell_type": "markdown",
   "metadata": {
    "origin_pos": 21
   },
   "source": [
    "We set the maximum context window size to 5. The following extracts all the central target words and their context words in the dataset.\n"
   ]
  },
  {
   "cell_type": "code",
   "execution_count": 13,
   "metadata": {},
   "outputs": [
    {
     "name": "stderr",
     "output_type": "stream",
     "text": [
      "Line_20.jupyter-kts (2:31 - 32) Expecting an element\n",
      "Line_20.jupyter-kts (2:50 - 51) Expecting an element\n",
      "Line_20.jupyter-kts (2:58 - 58) Expecting an expression\n",
      "Line_20.jupyter-kts (3:43 - 44) Expecting an element\n",
      "Line_20.jupyter-kts (3:62 - 63) Expecting an element\n",
      "Line_20.jupyter-kts (3:72 - 72) Expecting an expression"
     ]
    }
   ],
   "source": [
    "centerContextPair = getCentersAndContext(corpus, 5);\n",
    "ArrayList<Integer> allCenters = centerContextPair.getKey();\n",
    "ArrayList<ArrayList<Integer>> allContexts = centerContextPair.getValue();\n",
    "System.out.println(\"# center-context pairs:\" + allCenters.size());"
   ]
  },
  {
   "cell_type": "markdown",
   "metadata": {
    "origin_pos": 23
   },
   "source": [
    "### Negative Sampling\n",
    "\n",
    "We use negative sampling for approximate training. For a central and context word pair, we randomly sample $K$ noise words ($K=5$ in the experiment). According to the suggestion in the Word2vec paper, the noise word sampling probability $P(w)$ is the ratio of the word frequency of $w$ to the total word frequency raised to the power of 0.75 :cite:`Mikolov.Sutskever.Chen.ea.2013`.\n",
    "\n",
    "We first define a class to draw a candidate according to the sampling weights. It caches a 10,000 size random number bank.\n"
   ]
  },
  {
   "cell_type": "code",
   "execution_count": 14,
   "metadata": {},
   "outputs": [
    {
     "name": "stderr",
     "output_type": "stream",
     "text": [
      "Line_21.jupyter-kts (4:13 - 17) Expecting member declaration\n",
      "Line_21.jupyter-kts (4:17 - 18) Expecting member declaration\n",
      "Line_21.jupyter-kts (4:18 - 25) Expecting member declaration\n",
      "Line_21.jupyter-kts (4:25 - 26) Expecting member declaration\n",
      "Line_21.jupyter-kts (4:27 - 37) Expecting member declaration\n",
      "Line_21.jupyter-kts (5:13 - 17) Expecting member declaration\n",
      "Line_21.jupyter-kts (5:17 - 18) Expecting member declaration\n",
      "Line_21.jupyter-kts (5:18 - 24) Expecting member declaration\n",
      "Line_21.jupyter-kts (5:24 - 25) Expecting member declaration\n",
      "Line_21.jupyter-kts (5:26 - 41) Expecting member declaration\n",
      "Line_21.jupyter-kts (6:13 - 17) Expecting member declaration\n",
      "Line_21.jupyter-kts (6:17 - 18) Expecting member declaration\n",
      "Line_21.jupyter-kts (6:18 - 25) Expecting member declaration\n",
      "Line_21.jupyter-kts (6:25 - 26) Expecting member declaration\n",
      "Line_21.jupyter-kts (6:27 - 37) Expecting member declaration\n",
      "Line_21.jupyter-kts (7:13 - 17) Expecting member declaration\n",
      "Line_21.jupyter-kts (7:17 - 18) Expecting member declaration\n",
      "Line_21.jupyter-kts (7:18 - 21) Expecting member declaration\n",
      "Line_21.jupyter-kts (7:21 - 22) Expecting member declaration\n",
      "Line_21.jupyter-kts (7:22 - 28) Expecting member declaration\n",
      "Line_21.jupyter-kts (7:28 - 29) Expecting member declaration\n",
      "Line_21.jupyter-kts (7:29 - 36) Expecting member declaration\n",
      "Line_21.jupyter-kts (7:36 - 37) Expecting member declaration\n",
      "Line_21.jupyter-kts (7:37 - 42) Expecting member declaration\n",
      "Line_21.jupyter-kts (7:42 - 43) Expecting member declaration\n",
      "Line_21.jupyter-kts (7:43 - 47) Expecting member declaration\n",
      "Line_21.jupyter-kts (7:47 - 48) Expecting member declaration\n",
      "Line_21.jupyter-kts (7:48 - 52) Expecting member declaration\n",
      "Line_21.jupyter-kts (7:52 - 53) Expecting member declaration\n",
      "Line_21.jupyter-kts (7:53 - 60) Expecting member declaration\n",
      "Line_21.jupyter-kts (7:60 - 61) Expecting member declaration\n",
      "Line_21.jupyter-kts (7:62 - 68) Expecting member declaration\n",
      "Line_21.jupyter-kts (7:68 - 69) Expecting member declaration\n",
      "Line_21.jupyter-kts (7:69 - 70) Expecting member declaration\n",
      "Line_21.jupyter-kts (7:71 - 74) Expecting member declaration\n",
      "Line_21.jupyter-kts (8:13 - 16) Expecting member declaration\n",
      "Line_21.jupyter-kts (8:17 - 18) Expecting member declaration\n",
      "Line_21.jupyter-kts (10:12 - 27) Expecting member declaration\n",
      "Line_21.jupyter-kts (10:27 - 28) Expecting member declaration\n",
      "Line_21.jupyter-kts (10:28 - 32) Expecting member declaration\n",
      "Line_21.jupyter-kts (10:32 - 33) Expecting member declaration\n",
      "Line_21.jupyter-kts (10:33 - 39) Expecting member declaration\n",
      "Line_21.jupyter-kts (10:39 - 40) Expecting member declaration\n",
      "Line_21.jupyter-kts (10:41 - 56) Expecting member declaration\n",
      "Line_21.jupyter-kts (10:56 - 57) Expecting member declaration\n",
      "Line_21.jupyter-kts (10:58 - 58) Expecting member declaration\n",
      "Line_21.jupyter-kts (14:40 - 41) Expecting an element\n",
      "Line_21.jupyter-kts (14:43 - 43) Expecting an expression\n",
      "Line_21.jupyter-kts (17:33 - 34) Expecting an element\n",
      "Line_21.jupyter-kts (17:36 - 36) Expecting an expression\n",
      "Line_21.jupyter-kts (18:18 - 19) Expecting 'in'\n",
      "Line_21.jupyter-kts (18:19 - 19) Expecting ')'\n",
      "Line_21.jupyter-kts (18:20 - 20) Expecting an expression\n",
      "Line_21.jupyter-kts (18:56 - 57) Unexpected tokens (use ';' to separate expressions on the same line)\n",
      "Line_21.jupyter-kts (19:33 - 34) Expecting an element\n",
      "Line_21.jupyter-kts (19:40 - 41) Expecting an element\n",
      "Line_21.jupyter-kts (19:48 - 49) Expecting an element\n",
      "Line_21.jupyter-kts (19:54 - 55) Expecting an element\n",
      "Line_21.jupyter-kts (19:59 - 60) Expecting an element\n",
      "Line_21.jupyter-kts (19:87 - 87) Expecting ')'\n",
      "Line_21.jupyter-kts (19:131 - 132) Unexpected tokens (use ';' to separate expressions on the same line)\n",
      "Line_21.jupyter-kts (19:132 - 133) Expecting an element\n",
      "Line_21.jupyter-kts (23:12 - 19) Expecting member declaration\n",
      "Line_21.jupyter-kts (23:20 - 24) Expecting member declaration\n",
      "Line_21.jupyter-kts (23:24 - 25) Expecting member declaration\n",
      "Line_21.jupyter-kts (23:25 - 26) Expecting member declaration\n",
      "Line_21.jupyter-kts (23:27 - 27) Expecting member declaration\n",
      "Line_21.jupyter-kts (26:44 - 44) Expecting an index element\n",
      "Line_21.jupyter-kts (34:27 - 28) Expecting an element\n",
      "Line_21.jupyter-kts (35:60 - 70) Unexpected tokens (use ';' to separate expressions on the same line)\n",
      "Line_21.jupyter-kts (36:9 - 9) Expecting an index element\n",
      "Line_21.jupyter-kts (36:27 - 28) Expecting an element\n",
      "Line_21.jupyter-kts (37:10 - 11) Expecting 'in'\n",
      "Line_21.jupyter-kts (37:11 - 11) Expecting ')'\n",
      "Line_21.jupyter-kts (37:12 - 12) Expecting an expression\n",
      "Line_21.jupyter-kts (37:28 - 29) Expecting an element"
     ]
    }
   ],
   "source": [
    "public class RandomGenerator {\n",
    "    /* Draw a random int in [0, n] according to n sampling weights. */\n",
    "\n",
    "    private List<Integer> population;\n",
    "    private List<Double> samplingWeights;\n",
    "    private List<Integer> candidates;\n",
    "    private List<org.apache.commons.math3.util.Pair<Integer, Double>> pmf;\n",
    "    private int i;\n",
    "\n",
    "    public RandomGenerator(List<Double> samplingWeights) {\n",
    "        this.population =\n",
    "                IntStream.range(0, samplingWeights.size()).boxed().collect(Collectors.toList());\n",
    "        this.samplingWeights = samplingWeights;\n",
    "        this.candidates = new ArrayList<>();\n",
    "        this.i = 0;\n",
    "\n",
    "        this.pmf = new ArrayList<>();\n",
    "        for (int i = 0; i < samplingWeights.size(); i++) {\n",
    "            this.pmf.add(new org.apache.commons.math3.util.Pair(this.population.get(i), this.samplingWeights.get(i).doubleValue()));\n",
    "        }\n",
    "    }\n",
    "\n",
    "    public Integer draw() {\n",
    "        if (this.i == this.candidates.size()) {\n",
    "            this.candidates =\n",
    "                    Arrays.asList((Integer[]) new EnumeratedDistribution(this.pmf).sample(10000, new Integer[] {}));\n",
    "            this.i = 0;\n",
    "        }\n",
    "        this.i += 1;\n",
    "        return this.candidates.get(this.i - 1);\n",
    "    }\n",
    "}\n",
    "\n",
    "RandomGenerator generator =\n",
    "        new RandomGenerator(Arrays.asList(new Double[] {2.0, 3.0, 4.0}));\n",
    "Integer[] generatorOutput = new Integer[10];\n",
    "for (int i = 0; i < 10; i++) {\n",
    "    generatorOutput[i] = generator.draw();\n",
    "}\n",
    "System.out.println(Arrays.toString(generatorOutput));"
   ]
  },
  {
   "cell_type": "code",
   "execution_count": 15,
   "metadata": {},
   "outputs": [
    {
     "name": "stderr",
     "output_type": "stream",
     "text": [
      "Line_22.jupyter-kts (2:50 - 50) Expecting an element\n",
      "Line_22.jupyter-kts (2:50 - 51) Expecting an element\n",
      "Line_22.jupyter-kts (2:60 - 60) Expecting an index element\n",
      "Line_22.jupyter-kts (2:62 - 62) Expecting an index element\n",
      "Line_22.jupyter-kts (2:70 - 70) Expecting an element\n",
      "Line_22.jupyter-kts (2:70 - 71) Expecting an element\n",
      "Line_22.jupyter-kts (2:77 - 77) Expecting an element\n",
      "Line_22.jupyter-kts (2:77 - 78) Expecting an element\n",
      "Line_22.jupyter-kts (3:19 - 20) Type expected\n",
      "Line_22.jupyter-kts (3:39 - 40) Expecting an element\n",
      "Line_22.jupyter-kts (3:46 - 47) Expecting an element\n",
      "Line_22.jupyter-kts (4:39 - 40) Expecting an element\n",
      "Line_22.jupyter-kts (4:55 - 55) Type expected\n",
      "Line_22.jupyter-kts (5:13 - 14) Expecting 'in'\n",
      "Line_22.jupyter-kts (5:14 - 14) Expecting ')'\n",
      "Line_22.jupyter-kts (5:20 - 21) Type expected\n",
      "Line_22.jupyter-kts (5:38 - 39) Expecting an element\n",
      "Line_22.jupyter-kts (5:47 - 48) Expecting an element\n",
      "Line_22.jupyter-kts (5:57 - 57) Expecting an expression\n",
      "Line_22.jupyter-kts (5:58 - 59) Unexpected tokens (use ';' to separate expressions on the same line)\n",
      "Line_22.jupyter-kts (8:48 - 49) Expecting an element\n",
      "Line_22.jupyter-kts (8:64 - 64) Type expected\n",
      "Line_22.jupyter-kts (9:31 - 32) Expecting an element\n",
      "Line_22.jupyter-kts (10:19 - 20) Expecting 'in'\n",
      "Line_22.jupyter-kts (10:20 - 20) Expecting ')'\n",
      "Line_22.jupyter-kts (10:38 - 52) Unexpected tokens (use ';' to separate expressions on the same line)\n",
      "Line_22.jupyter-kts (11:38 - 39) Expecting an element\n",
      "Line_22.jupyter-kts (11:54 - 54) Type expected\n",
      "Line_22.jupyter-kts (13:25 - 26) Expecting an element\n",
      "Line_22.jupyter-kts (13:36 - 37) Expecting an element\n",
      "Line_22.jupyter-kts (13:42 - 42) Expecting an expression\n",
      "Line_22.jupyter-kts (24:44 - 45) Expecting an element\n",
      "Line_22.jupyter-kts (24:70 - 70) Expecting ')'\n",
      "Line_22.jupyter-kts (24:70 - 71) Expecting an element\n",
      "Line_22.jupyter-kts (24:78 - 79) Expecting an element\n",
      "Line_22.jupyter-kts (24:81 - 82) Expecting an element"
     ]
    }
   ],
   "source": [
    "public static ArrayList<ArrayList<Integer>> getNegatives(\n",
    "        ArrayList<ArrayList<Integer>> allContexts, Integer[][] corpus, int K) {\n",
    "    LinkedHashMap<?, Integer> counter = Vocab.countCorpus2D(corpus);\n",
    "    ArrayList<Double> samplingWeights = new ArrayList<>();\n",
    "    for (Map.Entry<?, Integer> entry : counter.entrySet()) {\n",
    "        samplingWeights.add(Math.pow(entry.getValue(), .75));\n",
    "    }\n",
    "    ArrayList<ArrayList<Integer>> allNegatives = new ArrayList<>();\n",
    "    RandomGenerator generator = new RandomGenerator(samplingWeights);\n",
    "    for (ArrayList<Integer> contexts : allContexts) {\n",
    "        ArrayList<Integer> negatives = new ArrayList<>();\n",
    "        while (negatives.size() < contexts.size() * K) {\n",
    "            Integer neg = generator.draw();\n",
    "            // Noise words cannot be context words\n",
    "            if (!contexts.contains(neg)) {\n",
    "                negatives.add(neg);\n",
    "            }\n",
    "        }\n",
    "        allNegatives.add(negatives);\n",
    "    }\n",
    "    return allNegatives;\n",
    "}\n",
    "\n",
    "ArrayList<ArrayList<Integer>> allNegatives = getNegatives(allContexts, corpus, 5);"
   ]
  },
  {
   "cell_type": "markdown",
   "metadata": {
    "origin_pos": 26
   },
   "source": [
    "### Reading into Batches\n",
    "\n",
    "We extract all central target words `allCenters`, and the context words `allContexts` and noise words `allNegatives` of each central target word from the dataset. We will read them in random minibatches.\n",
    "\n",
    "In a minibatch of data, the $i^\\mathrm{th}$ example includes a central word and its corresponding $n_i$ context words and $m_i$ noise words. Since the context window size of each example may be different, the sum of context words and noise words, $n_i+m_i$, will be different. When constructing a minibatch, we concatenate the context words and noise words of each example, and add 0s for padding until the length of the concatenations are the same, that is, the length of all concatenations is $\\max_i n_i+m_i$(`maxLen`). In order to avoid the effect of padding on the loss function calculation, we construct the mask variable `masks`, each element of which corresponds to an element in the concatenation of context and noise words, `contextsNegatives`. When an element in the variable `contextsNegatives` is a padding, the element in the mask variable `masks` at the same position will be 0. Otherwise, it takes the value 1. In order to distinguish between positive and negative examples, we also need to distinguish the context words from the noise words in the `contextsNegatives` variable. Based on the construction of the mask variable, we only need to create a label variable `labels` with the same shape as the `contextsNegatives` variable and set the elements corresponding to context words (positive examples) to 1, and the rest to 0.\n",
    "\n",
    "Next, we will implement the minibatch reading function `batchifyData`. Its minibatch input `data` is a list of `NDArrays`, each element of which contains central target words `center`, context words `context`, and noise words `negative`. The minibatch data returned by this function conforms to the format we need, for example, it includes the mask variable.\n"
   ]
  },
  {
   "cell_type": "code",
   "execution_count": 16,
   "metadata": {},
   "outputs": [
    {
     "name": "stderr",
     "output_type": "stream",
     "text": [
      "Line_23.jupyter-kts (1:42 - 42) Expecting an index element\n",
      "Line_23.jupyter-kts (1:48 - 48) Expecting an element\n",
      "Line_23.jupyter-kts (2:20 - 21) Expecting an element\n",
      "Line_23.jupyter-kts (3:30 - 31) Expecting an element\n",
      "Line_23.jupyter-kts (4:18 - 19) Expecting an element\n",
      "Line_23.jupyter-kts (5:19 - 20) Expecting an element\n",
      "Line_23.jupyter-kts (7:17 - 18) Expecting an element\n",
      "Line_23.jupyter-kts (7:19 - 20) Unexpected tokens (use ';' to separate expressions on the same line)\n",
      "Line_23.jupyter-kts (7:20 - 21) Expecting an element\n",
      "Line_23.jupyter-kts (8:17 - 23) Expecting 'in'\n",
      "Line_23.jupyter-kts (8:23 - 23) Expecting ')'\n",
      "Line_23.jupyter-kts (8:24 - 24) Expecting an expression\n",
      "Line_23.jupyter-kts (8:24 - 31) Unexpected tokens (use ';' to separate expressions on the same line)\n",
      "Line_23.jupyter-kts (15:17 - 23) Expecting 'in'\n",
      "Line_23.jupyter-kts (15:23 - 23) Expecting ')'\n",
      "Line_23.jupyter-kts (15:24 - 24) Expecting an expression\n",
      "Line_23.jupyter-kts (15:24 - 31) Unexpected tokens (use ';' to separate expressions on the same line)\n",
      "Line_23.jupyter-kts (16:24 - 25) Expecting an element\n",
      "Line_23.jupyter-kts (16:32 - 33) Expecting an element\n",
      "Line_23.jupyter-kts (17:25 - 26) Expecting an element\n",
      "Line_23.jupyter-kts (17:33 - 34) Expecting an element\n",
      "Line_23.jupyter-kts (18:26 - 27) Expecting an element\n",
      "Line_23.jupyter-kts (18:34 - 35) Expecting an element\n",
      "Line_23.jupyter-kts (20:19 - 20) Expecting an element\n",
      "Line_23.jupyter-kts (20:21 - 22) Unexpected tokens (use ';' to separate expressions on the same line)\n",
      "Line_23.jupyter-kts (20:22 - 23) Expecting an element\n",
      "Line_23.jupyter-kts (21:18 - 19) Expecting 'in'\n",
      "Line_23.jupyter-kts (21:19 - 19) Expecting ')'\n",
      "Line_23.jupyter-kts (21:20 - 20) Expecting an expression\n",
      "Line_23.jupyter-kts (21:48 - 49) Unexpected tokens (use ';' to separate expressions on the same line)\n",
      "Line_23.jupyter-kts (32:18 - 19) Expecting 'in'\n",
      "Line_23.jupyter-kts (32:19 - 19) Expecting ')'\n",
      "Line_23.jupyter-kts (32:20 - 20) Expecting an expression\n",
      "Line_23.jupyter-kts (32:49 - 50) Unexpected tokens (use ';' to separate expressions on the same line)\n",
      "Line_23.jupyter-kts (55:62 - 62) Expecting ')'\n",
      "Line_23.jupyter-kts (55:62 - 63) Unexpected tokens (use ';' to separate expressions on the same line)\n",
      "Line_23.jupyter-kts (56:72 - 73) Unexpected tokens (use ';' to separate expressions on the same line)\n",
      "Line_23.jupyter-kts (57:60 - 61) Unexpected tokens (use ';' to separate expressions on the same line)\n",
      "Line_23.jupyter-kts (58:61 - 62) Unexpected tokens (use ';' to separate expressions on the same line)\n",
      "Line_23.jupyter-kts (58:62 - 63) Expecting an element"
     ]
    }
   ],
   "source": [
    "public static NDList batchifyData(NDList[] data) {\n",
    "    NDList centers = new NDList();\n",
    "    NDList contextsNegatives = new NDList();\n",
    "    NDList masks = new NDList();\n",
    "    NDList labels = new NDList();\n",
    "\n",
    "    long maxLen = 0;\n",
    "    for (NDList ndList : data) { // center, context, negative = ndList\n",
    "        maxLen =\n",
    "                Math.max(\n",
    "                        maxLen,\n",
    "                        ndList.get(1).countNonzero().getLong()\n",
    "                                + ndList.get(2).countNonzero().getLong());\n",
    "    }\n",
    "    for (NDList ndList : data) { // center, context, negative = ndList\n",
    "        NDArray center = ndList.get(0);\n",
    "        NDArray context = ndList.get(1);\n",
    "        NDArray negative = ndList.get(2);\n",
    "\n",
    "        int count = 0;\n",
    "        for (int i = 0; i < context.size(); i++) {\n",
    "            // If a 0 is found, we want to stop adding these\n",
    "            // values to NDArray\n",
    "            if (context.get(i).getInt() == 0) {\n",
    "                break;\n",
    "            }\n",
    "            contextsNegatives.add(context.get(i).reshape(1));\n",
    "            masks.add(manager.create(1).reshape(1));\n",
    "            labels.add(manager.create(1).reshape(1));\n",
    "            count += 1;\n",
    "        }\n",
    "        for (int i = 0; i < negative.size(); i++) {\n",
    "            // If a 0 is found, we want to stop adding these\n",
    "            // values to NDArray\n",
    "            if (negative.get(i).getInt() == 0) {\n",
    "                break;\n",
    "            }\n",
    "            contextsNegatives.add(negative.get(i).reshape(1));\n",
    "            masks.add(manager.create(1).reshape(1));\n",
    "            labels.add(manager.create(0).reshape(1));\n",
    "            count += 1;\n",
    "        }\n",
    "        // Fill with zeroes remaining array\n",
    "        while (count != maxLen) {\n",
    "            contextsNegatives.add(manager.create(0).reshape(1));\n",
    "            masks.add(manager.create(0).reshape(1));\n",
    "            labels.add(manager.create(0).reshape(1));\n",
    "            count += 1;\n",
    "        }\n",
    "\n",
    "        // Add this NDArrays to output NDArrays\n",
    "        centers.add(center.reshape(1));\n",
    "    }\n",
    "    return new NDList(\n",
    "            NDArrays.concat(centers).reshape(data.length, -1),\n",
    "            NDArrays.concat(contextsNegatives).reshape(data.length, -1),\n",
    "            NDArrays.concat(masks).reshape(data.length, -1),\n",
    "            NDArrays.concat(labels).reshape(data.length, -1));\n",
    "}"
   ]
  },
  {
   "cell_type": "markdown",
   "metadata": {
    "origin_pos": 28
   },
   "source": [
    "Construct two simple examples:\n"
   ]
  },
  {
   "cell_type": "code",
   "execution_count": 17,
   "metadata": {},
   "outputs": [
    {
     "name": "stderr",
     "output_type": "stream",
     "text": [
      "Line_24.jupyter-kts (1:11 - 12) Expecting an element\n",
      "Line_24.jupyter-kts (3:46 - 46) Expecting ')'\n",
      "Line_24.jupyter-kts (3:46 - 47) Expecting an element\n",
      "Line_24.jupyter-kts (4:44 - 47) Unexpected tokens (use ';' to separate expressions on the same line)\n",
      "Line_24.jupyter-kts (4:49 - 50) Expecting an element\n",
      "Line_24.jupyter-kts (5:44 - 53) Unexpected tokens (use ';' to separate expressions on the same line)\n",
      "Line_24.jupyter-kts (5:55 - 56) Expecting an element\n",
      "Line_24.jupyter-kts (6:11 - 12) Expecting an element\n",
      "Line_24.jupyter-kts (8:46 - 46) Expecting ')'\n",
      "Line_24.jupyter-kts (8:46 - 47) Expecting an element\n",
      "Line_24.jupyter-kts (9:44 - 50) Unexpected tokens (use ';' to separate expressions on the same line)\n",
      "Line_24.jupyter-kts (9:52 - 53) Expecting an element\n",
      "Line_24.jupyter-kts (10:44 - 47) Unexpected tokens (use ';' to separate expressions on the same line)\n",
      "Line_24.jupyter-kts (10:49 - 50) Expecting an element\n",
      "Line_24.jupyter-kts (12:20 - 21) Expecting an element\n",
      "Line_24.jupyter-kts (12:55 - 55) Expecting '->' or ','\n",
      "Line_24.jupyter-kts (13:8 - 8) Expecting an index element\n",
      "Line_24.jupyter-kts (13:16 - 17) Expecting an element\n",
      "Line_24.jupyter-kts (13:29 - 29) Expecting an index element\n",
      "Line_24.jupyter-kts (13:41 - 82) Unexpected tokens (use ';' to separate expressions on the same line)\n",
      "Line_24.jupyter-kts (14:10 - 11) Expecting 'in'\n",
      "Line_24.jupyter-kts (14:11 - 11) Expecting ')'\n",
      "Line_24.jupyter-kts (14:12 - 12) Expecting an expression\n",
      "Line_24.jupyter-kts (14:44 - 45) Expecting an element"
     ]
    }
   ],
   "source": [
    "NDList x1 =\n",
    "        new NDList(\n",
    "                manager.create(new int[] {1}),\n",
    "                manager.create(new int[] {2, 2}),\n",
    "                manager.create(new int[] {3, 3, 3, 3}));\n",
    "NDList x2 =\n",
    "        new NDList(\n",
    "                manager.create(new int[] {1}),\n",
    "                manager.create(new int[] {2, 2, 2}),\n",
    "                manager.create(new int[] {3, 3}));\n",
    "\n",
    "NDList batchedData = batchifyData(new NDList[] {x1, x2});\n",
    "String[] names = new String[] {\"centers\", \"contexts_negatives\", \"masks\", \"labels\"};\n",
    "for (int i = 0; i < batchedData.size(); i++) {\n",
    "    System.out.println(names[i] + \" shape: \" + batchedData.get(i));\n",
    "}"
   ]
  },
  {
   "cell_type": "markdown",
   "metadata": {
    "origin_pos": 30
   },
   "source": [
    "We use the `batchifyData` function just defined to specify the minibatch reading method for the `ArrayDataset` instance iterator.\n",
    "\n",
    "## Putting All Things Together\n",
    "\n",
    "Last, we define the `loadDataPTB` function that read the PTB dataset and return the dataset. In addition, we will create a function called `convertNDArray` that will convert the `centers`, `contexts`, and `negatives` lists, into `NDArrays` by putting 0s where there is no data in order for the rows to have the same lenghts.\n"
   ]
  },
  {
   "cell_type": "code",
   "execution_count": 18,
   "metadata": {},
   "outputs": [
    {
     "name": "stderr",
     "output_type": "stream",
     "text": [
      "Line_25.jupyter-kts (1:44 - 44) Expecting an index element\n",
      "Line_25.jupyter-kts (1:50 - 50) Expecting an element\n",
      "Line_25.jupyter-kts (1:50 - 51) Expecting an element\n",
      "Line_25.jupyter-kts (1:69 - 69) Expecting an element\n",
      "Line_25.jupyter-kts (1:69 - 70) Expecting an element\n",
      "Line_25.jupyter-kts (2:32 - 33) Expecting an element\n",
      "Line_25.jupyter-kts (3:44 - 45) Expecting an element\n",
      "Line_25.jupyter-kts (4:45 - 46) Expecting an element\n",
      "Line_25.jupyter-kts (7:28 - 29) Expecting an element\n",
      "Line_25.jupyter-kts (7:37 - 38) Expecting an element\n",
      "Line_25.jupyter-kts (7:72 - 72) Expecting ')'\n",
      "Line_25.jupyter-kts (7:73 - 89) Unexpected tokens (use ';' to separate expressions on the same line)\n",
      "Line_25.jupyter-kts (7:89 - 90) Expecting an element\n",
      "Line_25.jupyter-kts (10:16 - 17) Expecting an element\n",
      "Line_25.jupyter-kts (10:18 - 19) Unexpected tokens (use ';' to separate expressions on the same line)\n",
      "Line_25.jupyter-kts (10:19 - 20) Expecting an element\n",
      "Line_25.jupyter-kts (11:19 - 20) Expecting 'in'\n",
      "Line_25.jupyter-kts (11:20 - 20) Expecting ')'\n",
      "Line_25.jupyter-kts (11:37 - 48) Unexpected tokens (use ';' to separate expressions on the same line)\n",
      "Line_25.jupyter-kts (15:19 - 20) Expecting 'in'\n",
      "Line_25.jupyter-kts (15:20 - 20) Expecting ')'\n",
      "Line_25.jupyter-kts (15:37 - 48) Unexpected tokens (use ';' to separate expressions on the same line)\n",
      "Line_25.jupyter-kts (20:29 - 30) Expecting an element\n",
      "Line_25.jupyter-kts (23:35 - 35) Expecting ')'\n",
      "Line_25.jupyter-kts (23:36 - 77) Unexpected tokens (use ';' to separate expressions on the same line)\n",
      "Line_25.jupyter-kts (24:29 - 30) Expecting an element\n",
      "Line_25.jupyter-kts (24:42 - 42) Expecting an index element\n",
      "Line_25.jupyter-kts (24:44 - 44) Expecting an index element\n",
      "Line_25.jupyter-kts (24:51 - 52) Unexpected tokens (use ';' to separate expressions on the same line)\n",
      "Line_25.jupyter-kts (24:52 - 53) Expecting an element\n",
      "Line_25.jupyter-kts (28:19 - 20) Expecting 'in'\n",
      "Line_25.jupyter-kts (28:20 - 20) Expecting ')'\n",
      "Line_25.jupyter-kts (28:38 - 50) Unexpected tokens (use ';' to separate expressions on the same line)\n",
      "Line_25.jupyter-kts (32:19 - 20) Expecting 'in'\n",
      "Line_25.jupyter-kts (32:20 - 20) Expecting ')'\n",
      "Line_25.jupyter-kts (32:38 - 50) Unexpected tokens (use ';' to separate expressions on the same line)\n",
      "Line_25.jupyter-kts (37:30 - 31) Expecting an element\n",
      "Line_25.jupyter-kts (40:35 - 35) Expecting ')'\n",
      "Line_25.jupyter-kts (40:36 - 77) Unexpected tokens (use ';' to separate expressions on the same line)\n",
      "Line_25.jupyter-kts (41:29 - 30) Expecting an element\n",
      "Line_25.jupyter-kts (41:42 - 42) Expecting an index element\n",
      "Line_25.jupyter-kts (41:44 - 44) Expecting an index element\n",
      "Line_25.jupyter-kts (41:51 - 52) Unexpected tokens (use ';' to separate expressions on the same line)\n",
      "Line_25.jupyter-kts (41:52 - 53) Expecting an element\n",
      "Line_25.jupyter-kts (43:37 - 37) Expecting ')'\n",
      "Line_25.jupyter-kts (43:37 - 73) Unexpected tokens (use ';' to separate expressions on the same line)\n",
      "Line_25.jupyter-kts (43:73 - 74) Expecting an element\n",
      "Line_25.jupyter-kts (47:22 - 22) Expecting an element\n",
      "Line_25.jupyter-kts (47:22 - 23) Expecting an element\n",
      "Line_25.jupyter-kts (47:41 - 41) Expecting an element\n",
      "Line_25.jupyter-kts (47:41 - 42) Expecting an element\n",
      "Line_25.jupyter-kts (47:60 - 60) Expecting an element\n",
      "Line_25.jupyter-kts (47:60 - 61) Expecting an element\n",
      "Line_25.jupyter-kts (47:79 - 79) Expecting an element\n",
      "Line_25.jupyter-kts (47:79 - 80) Expecting an element\n",
      "Line_25.jupyter-kts (48:27 - 27) Expecting an element\n",
      "Line_25.jupyter-kts (48:27 - 28) Expecting an element\n",
      "Line_25.jupyter-kts (49:12 - 12) Expecting an index element\n",
      "Line_25.jupyter-kts (49:14 - 14) Expecting an index element\n",
      "Line_25.jupyter-kts (49:26 - 27) Expecting an element\n",
      "Line_25.jupyter-kts (49:36 - 36) Expecting an expression\n",
      "Line_25.jupyter-kts (50:17 - 18) Expecting an element\n",
      "Line_25.jupyter-kts (51:12 - 12) Expecting an index element\n",
      "Line_25.jupyter-kts (51:14 - 14) Expecting an index element\n",
      "Line_25.jupyter-kts (51:27 - 28) Expecting an element\n",
      "Line_25.jupyter-kts (51:50 - 50) Expecting ')'\n",
      "Line_25.jupyter-kts (51:50 - 58) Unexpected tokens (use ';' to separate expressions on the same line)\n",
      "Line_25.jupyter-kts (51:58 - 59) Expecting an element\n",
      "Line_25.jupyter-kts (52:13 - 13) Expecting an index element\n",
      "Line_25.jupyter-kts (52:15 - 15) Expecting an index element\n",
      "Line_25.jupyter-kts (52:24 - 25) Expecting an element\n",
      "Line_25.jupyter-kts (52:57 - 57) Expecting an index element\n",
      "Line_25.jupyter-kts (53:14 - 15) Expecting 'in'\n",
      "Line_25.jupyter-kts (53:15 - 15) Expecting ')'\n",
      "Line_25.jupyter-kts (53:16 - 16) Expecting an expression\n",
      "Line_25.jupyter-kts (53:47 - 48) Unexpected tokens (use ';' to separate expressions on the same line)\n",
      "Line_25.jupyter-kts (56:66 - 67) Expecting an element\n",
      "Line_25.jupyter-kts (58:45 - 46) Expecting an element\n",
      "Line_25.jupyter-kts (61:21 - 22) Expecting an element\n",
      "Line_25.jupyter-kts (62:55 - 83) Unexpected tokens (use ';' to separate expressions on the same line)\n",
      "Line_25.jupyter-kts (63:26 - 27) Expecting an element\n",
      "Line_25.jupyter-kts (64:29 - 30) Expecting an element\n",
      "Line_25.jupyter-kts (64:38 - 38) Expecting an expression\n",
      "Line_25.jupyter-kts (67:44 - 44) Expecting an expression\n",
      "Line_25.jupyter-kts (69:63 - 63) Expecting an index element\n",
      "Line_25.jupyter-kts (69:72 - 72) Expecting an element\n",
      "Line_25.jupyter-kts (74:73 - 73) Expecting an element\n",
      "Line_25.jupyter-kts (81:20 - 21) Expecting an element\n",
      "Line_25.jupyter-kts (81:30 - 30) Expecting ')'\n",
      "Line_25.jupyter-kts (81:30 - 38) Unexpected tokens (use ';' to separate expressions on the same line)\n",
      "Line_25.jupyter-kts (81:38 - 39) Expecting an element"
     ]
    }
   ],
   "source": [
    "public static NDList convertNDArray(Object[] data, NDManager manager) {\n",
    "    ArrayList<Integer> centers = (ArrayList<Integer>) data[0];\n",
    "    ArrayList<ArrayList<Integer>> contexts = (ArrayList<ArrayList<Integer>>) data[1];\n",
    "    ArrayList<ArrayList<Integer>> negatives = (ArrayList<ArrayList<Integer>>) data[2];\n",
    "\n",
    "    // Create centers NDArray\n",
    "    NDArray centersNDArray = manager.create(centers.stream().mapToInt(i -> i).toArray());\n",
    "\n",
    "    // Create contexts NDArray\n",
    "    int maxLen = 0;\n",
    "    for (ArrayList<Integer> context : contexts) {\n",
    "        maxLen = Math.max(maxLen, context.size());\n",
    "    }\n",
    "    // Fill arrays with 0s to all have same lengths and be able to create NDArray\n",
    "    for (ArrayList<Integer> context : contexts) {\n",
    "        while (context.size() != maxLen) {\n",
    "            context.add(0);\n",
    "        }\n",
    "    }\n",
    "    NDArray contextsNDArray =\n",
    "            manager.create(\n",
    "                    contexts.stream()\n",
    "                            .map(u -> u.stream().mapToInt(i -> i).toArray())\n",
    "                            .toArray(int[][]::new));\n",
    "\n",
    "    // Create negatives NDArray\n",
    "    maxLen = 0;\n",
    "    for (ArrayList<Integer> negative : negatives) {\n",
    "        maxLen = Math.max(maxLen, negative.size());\n",
    "    }\n",
    "    // Fill arrays with 0s to all have same lengths and be able to create NDArray\n",
    "    for (ArrayList<Integer> negative : negatives) {\n",
    "        while (negative.size() != maxLen) {\n",
    "            negative.add(0);\n",
    "        }\n",
    "    }\n",
    "    NDArray negativesNDArray =\n",
    "            manager.create(\n",
    "                    negatives.stream()\n",
    "                            .map(u -> u.stream().mapToInt(i -> i).toArray())\n",
    "                            .toArray(int[][]::new));\n",
    "\n",
    "    return new NDList(centersNDArray, contextsNDArray, negativesNDArray);\n",
    "}\n",
    "\n",
    "public static Pair<ArrayDataset, Vocab> loadDataPTB(\n",
    "        int batchSize, int maxWindowSize, int numNoiseWords, NDManager manager)\n",
    "        throws IOException, TranslateException {\n",
    "    String[][] sentences = readPTB();\n",
    "    Vocab vocab = new Vocab(sentences, 10, new String[] {});\n",
    "    String[][] subSampled = subSampling(sentences, vocab);\n",
    "    Integer[][] corpus = new Integer[subSampled.length][];\n",
    "    for (int i = 0; i < subSampled.length; i++) {\n",
    "        corpus[i] = vocab.getIdxs(subSampled[i]);\n",
    "    }\n",
    "    Pair<ArrayList<Integer>, ArrayList<ArrayList<Integer>>> pair =\n",
    "            getCentersAndContext(corpus, maxWindowSize);\n",
    "    ArrayList<ArrayList<Integer>> negatives =\n",
    "            getNegatives(pair.getValue(), corpus, numNoiseWords);\n",
    "\n",
    "    NDList ndArrays =\n",
    "            convertNDArray(new Object[] {pair.getKey(), pair.getValue(), negatives}, manager);\n",
    "    ArrayDataset dataset =\n",
    "            new ArrayDataset.Builder()\n",
    "                    .setData(ndArrays.get(0), ndArrays.get(1), ndArrays.get(2))\n",
    "                    .optDataBatchifier(\n",
    "                            new Batchifier() {\n",
    "                                @Override\n",
    "                                public NDList batchify(NDList[] ndLists) {\n",
    "                                    return batchifyData(ndLists);\n",
    "                                }\n",
    "\n",
    "                                @Override\n",
    "                                public NDList[] unbatchify(NDList ndList) {\n",
    "                                    return new NDList[0];\n",
    "                                }\n",
    "                            })\n",
    "                    .setSampling(batchSize, true)\n",
    "                    .build();\n",
    "\n",
    "    return new Pair<>(dataset, vocab);\n",
    "}"
   ]
  },
  {
   "cell_type": "markdown",
   "metadata": {
    "origin_pos": 33
   },
   "source": [
    "Let us print the first minibatch of the dataset.\n"
   ]
  },
  {
   "cell_type": "code",
   "execution_count": 19,
   "metadata": {},
   "outputs": [
    {
     "name": "stderr",
     "output_type": "stream",
     "text": [
      "Line_26.jupyter-kts (1:40 - 41) Expecting an element\n",
      "Line_26.jupyter-kts (1:57 - 57) Expecting ')'\n",
      "Line_26.jupyter-kts (1:57 - 58) Expecting an element\n",
      "Line_26.jupyter-kts (1:60 - 61) Expecting an element\n",
      "Line_26.jupyter-kts (1:63 - 64) Expecting an element\n",
      "Line_26.jupyter-kts (1:72 - 73) Expecting an element\n",
      "Line_26.jupyter-kts (2:22 - 23) Expecting an element\n",
      "Line_26.jupyter-kts (2:36 - 37) Expecting an element\n",
      "Line_26.jupyter-kts (2:44 - 44) Expecting an expression\n",
      "Line_26.jupyter-kts (5:13 - 14) Expecting an element\n",
      "Line_26.jupyter-kts (5:22 - 23) Expecting an element\n",
      "Line_26.jupyter-kts (6:10 - 11) Expecting 'in'\n",
      "Line_26.jupyter-kts (6:11 - 11) Expecting ')'\n",
      "Line_26.jupyter-kts (6:12 - 12) Expecting an expression\n",
      "Line_26.jupyter-kts (6:48 - 49) Expecting an element"
     ]
    }
   ],
   "source": [
    "Pair<ArrayDataset, Vocab> datasetVocab = loadDataPTB(512, 5, 5, manager);\n",
    "ArrayDataset dataset = datasetVocab.getKey();\n",
    "vocab = datasetVocab.getValue();\n",
    "\n",
    "Batch batch = dataset.getData(manager).iterator().next();\n",
    "for (int i = 0; i < batch.getData().size(); i++) {\n",
    "    System.out.println(names[i] + \" shape: \" + batch.getData().get(i).getShape());\n",
    "}"
   ]
  },
  {
   "cell_type": "markdown",
   "metadata": {
    "origin_pos": 35
   },
   "source": [
    "## Summary\n",
    "\n",
    "* Subsampling attempts to minimize the impact of high-frequency words on the training of a word embedding model.\n",
    "* We can pad examples of different lengths to create minibatches with examples of all the same length and use mask variables to distinguish between padding and non-padding elements, so that only non-padding elements participate in the calculation of the loss function.\n",
    "\n",
    "## Exercises\n",
    "\n",
    "1. We use the `batchifyData` function to specify the minibatch reading method for the `ArrayDataset` instance iterator and print the shape of each variable in the first batch read. How should these shapes be calculated?\n"
   ]
  }
 ],
 "metadata": {
  "kernelspec": {
   "display_name": "Kotlin",
   "language": "kotlin",
   "name": "kotlin"
  },
  "language_info": {
   "codemirror_mode": "text/x-kotlin",
   "file_extension": ".kt",
   "mimetype": "text/x-kotlin",
   "name": "kotlin",
   "nbconvert_exporter": "",
   "pygments_lexer": "kotlin",
   "version": "1.8.0-dev-707"
  }
 },
 "nbformat": 4,
 "nbformat_minor": 4
}
