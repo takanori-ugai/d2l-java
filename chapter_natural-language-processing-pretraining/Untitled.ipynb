{
 "cells": [
  {
   "cell_type": "code",
   "execution_count": 1,
   "id": "8352a52e",
   "metadata": {},
   "outputs": [],
   "source": [
    "%load ../utils/djl-imports\n",
    "%load ../utils/Functions.java"
   ]
  },
  {
   "cell_type": "code",
   "execution_count": 2,
   "id": "a4704134",
   "metadata": {},
   "outputs": [],
   "source": [
    "import java.util.stream.*;"
   ]
  },
  {
   "cell_type": "code",
   "execution_count": 3,
   "id": "303a01d0",
   "metadata": {},
   "outputs": [],
   "source": [
    "NDManager manager = NDManager.newBaseManager();"
   ]
  },
  {
   "cell_type": "code",
   "execution_count": 4,
   "id": "ef8caddb",
   "metadata": {},
   "outputs": [],
   "source": [
    "String[] symbols =\n",
    "        new String[] {\n",
    "            \"a\", \"b\", \"c\", \"d\", \"e\", \"f\", \"g\", \"h\", \"i\", \"j\", \"k\", \"l\", \"m\", \"n\", \"o\", \"p\",\n",
    "            \"q\", \"r\", \"s\", \"t\", \"u\", \"v\", \"w\", \"x\", \"y\", \"z\", \"_\", \"[UNK]\"\n",
    "        };"
   ]
  },
  {
   "cell_type": "code",
   "execution_count": 5,
   "id": "54b0c037",
   "metadata": {},
   "outputs": [
    {
     "data": {
      "text/plain": [
       "{f a s t e r _=3, t a l l e r _=4, f a s t _=4, t a l l _=5}"
      ]
     },
     "execution_count": 5,
     "metadata": {},
     "output_type": "execute_result"
    }
   ],
   "source": [
    "HashMap<String, Integer> rawTokenFreqs = new HashMap<>();\n",
    "rawTokenFreqs.put(\"fast_\", 4);\n",
    "rawTokenFreqs.put(\"faster_\", 3);\n",
    "rawTokenFreqs.put(\"tall_\", 5);\n",
    "rawTokenFreqs.put(\"taller_\", 4);\n",
    "\n",
    "HashMap<String, Integer> tokenFreqs = new HashMap<>();\n",
    "for (Map.Entry<String, Integer> e : rawTokenFreqs.entrySet()) {\n",
    "    String token = e.getKey();\n",
    "    tokenFreqs.put(String.join(\" \", token.split(\"\")), rawTokenFreqs.get(token));\n",
    "}\n",
    "\n",
    "tokenFreqs"
   ]
  },
  {
   "cell_type": "code",
   "execution_count": 13,
   "id": "cb515d06",
   "metadata": {},
   "outputs": [],
   "source": [
    "public static Pair<String, String> getMaxFreqPair(HashMap<String, Integer> tokenFreqs) {\n",
    "    HashMap<Pair<String, String>, Integer> pairs = new HashMap<>();\n",
    "    for (Map.Entry<String, Integer> e : tokenFreqs.entrySet()) {\n",
    "        // Key of 'pairs' is a tuple of two consecutive symbols\n",
    "        String token = e.getKey();\n",
    "        Integer freq = e.getValue();\n",
    "        String[] symbols = token.split(\" \");\n",
    "        for (int i = 0; i < symbols.length - 1; i++) {\n",
    "            pairs.put(\n",
    "                    new Pair<>(symbols[i], symbols[i + 1]),\n",
    "                    pairs.getOrDefault(new Pair<>(symbols[i], symbols[i + 1]), 0) + freq);\n",
    "        }\n",
    "    }\n",
    "    int max = 0; // Key of `pairs` with the max value\n",
    "    Pair<String, String> maxFreqPair = null;\n",
    "    for (Map.Entry<Pair<String, String>, Integer> pair : pairs.entrySet()) {\n",
    "        if (max < pair.getValue()) {\n",
    "            max = pair.getValue();\n",
    "            maxFreqPair = pair.getKey();\n",
    "        }\n",
    "    }\n",
    "    System.out.println(maxFreqPair.getKey() + maxFreqPair.getValue());\n",
    "    System.out.println(pairs.get(maxFreqPair));\n",
    "    return maxFreqPair;\n",
    "}"
   ]
  },
  {
   "cell_type": "code",
   "execution_count": 14,
   "id": "f54c843c",
   "metadata": {},
   "outputs": [],
   "source": [
    "public static Pair<HashMap<String, Integer>, String[]> mergeSymbols(\n",
    "        Pair<String, String> maxFreqPair, HashMap<String, Integer> tokenFreqs) {\n",
    "    ArrayList<String> symbols = new ArrayList<>();\n",
    "    symbols.add(maxFreqPair.getKey() + maxFreqPair.getValue());\n",
    "\n",
    "    HashMap<String, Integer> newTokenFreqs = new HashMap<>();\n",
    "    for (Map.Entry<String, Integer> e : tokenFreqs.entrySet()) {\n",
    "        String token = e.getKey();\n",
    "        String newToken =\n",
    "                token.replace(\n",
    "                        maxFreqPair.getKey() + \" \" + maxFreqPair.getValue(),\n",
    "                        maxFreqPair.getKey() + \"\" + maxFreqPair.getValue());\n",
    "        newTokenFreqs.put(newToken, tokenFreqs.get(token));\n",
    "    }\n",
    "    System.out.println(Arrays.toString(symbols.toArray(new String[symbols.size()])));\n",
    "    return new Pair(newTokenFreqs, symbols.toArray(new String[symbols.size()]));\n",
    "}"
   ]
  },
  {
   "cell_type": "code",
   "execution_count": 15,
   "id": "ddb862b2",
   "metadata": {},
   "outputs": [
    {
     "name": "stdout",
     "output_type": "stream",
     "text": [
      "ll\n",
      "9\n",
      "[ll]\n",
      "29\n",
      "merge #1: (l, l)\n",
      "all\n",
      "9\n",
      "[all]\n",
      "30\n",
      "merge #2: (a, ll)\n",
      "tall\n",
      "9\n",
      "[tall]\n",
      "31\n",
      "merge #3: (t, all)\n",
      "st\n",
      "7\n",
      "[st]\n",
      "32\n",
      "merge #4: (s, t)\n",
      "ast\n",
      "7\n",
      "[ast]\n",
      "33\n",
      "merge #5: (a, st)\n",
      "fast\n",
      "7\n",
      "[fast]\n",
      "34\n",
      "merge #6: (f, ast)\n",
      "er\n",
      "7\n",
      "[er]\n",
      "35\n",
      "merge #7: (e, r)\n",
      "er_\n",
      "7\n",
      "[er_]\n",
      "36\n",
      "merge #8: (er, _)\n",
      "tall_\n",
      "5\n",
      "[tall_]\n",
      "37\n",
      "merge #9: (tall, _)\n",
      "taller_\n",
      "4\n",
      "[taller_]\n",
      "38\n",
      "merge #10: (tall, er_)\n"
     ]
    }
   ],
   "source": [
    "int numMerges = 10;\n",
    "for (int i = 0; i < numMerges; i++) {\n",
    "    Pair<String, String> maxFreqPair = getMaxFreqPair(tokenFreqs);\n",
    "    Pair<HashMap<String, Integer>, String[]> pair =\n",
    "            mergeSymbols(maxFreqPair, tokenFreqs);\n",
    "    tokenFreqs = pair.getKey();\n",
    "    symbols =\n",
    "            Stream.concat(Arrays.stream(symbols), Arrays.stream(pair.getValue()))\n",
    "                    .toArray(String[]::new);\n",
    "    System.out.println(symbols.length);\n",
    "    System.out.println(\n",
    "            \"merge #\"\n",
    "                    + (i + 1)\n",
    "                    + \": (\"\n",
    "                    + maxFreqPair.getKey()\n",
    "                    + \", \"\n",
    "                    + maxFreqPair.getValue()\n",
    "                    + \")\");\n",
    "}"
   ]
  },
  {
   "cell_type": "code",
   "execution_count": 9,
   "id": "f468cb53",
   "metadata": {},
   "outputs": [
    {
     "data": {
      "text/plain": [
       "[a, b, c, d, e, f, g, h, i, j, k, l, m, n, o, p, q, r, s, t, u, v, w, x, y, z, _, [UNK]]"
      ]
     },
     "execution_count": 9,
     "metadata": {},
     "output_type": "execute_result"
    }
   ],
   "source": [
    "Arrays.toString(symbols)"
   ]
  },
  {
   "cell_type": "code",
   "execution_count": null,
   "id": "82064726",
   "metadata": {},
   "outputs": [],
   "source": []
  }
 ],
 "metadata": {
  "kernelspec": {
   "display_name": "Java",
   "language": "java",
   "name": "java"
  },
  "language_info": {
   "codemirror_mode": "java",
   "file_extension": ".jshell",
   "mimetype": "text/x-java-source",
   "name": "Java",
   "pygments_lexer": "java",
   "version": "11.0.16+8-post-Ubuntu-0ubuntu120.04"
  }
 },
 "nbformat": 4,
 "nbformat_minor": 5
}
