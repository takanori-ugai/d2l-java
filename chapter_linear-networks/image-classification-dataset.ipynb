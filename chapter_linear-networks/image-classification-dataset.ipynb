{
 "cells": [
  {
   "cell_type": "markdown",
   "metadata": {},
   "source": [
    "# The Image Classification Dataset\n",
    ":label:`sec_fashion_mnist`\n",
    "\n",
    "In :numref:`sec_naive_bayes`, we trained a naive Bayes classifier,\n",
    "using the MNIST dataset introduced in 1998 :cite:`LeCun.Bottou.Bengio.ea.1998`. \n",
    "While MNIST had a good run as a benchmark dataset, \n",
    "even simple models by today's standards achieve classification accuracy over 95%\n",
    "making it unsuitable for distinguishing between stronger models and weaker ones. \n",
    "Today, MNIST serves as more of sanity checks than as a benchmark.\n",
    "To up the ante just a bit, we will focus our discussion in the coming sections\n",
    "on the qualitatively similar, but comparatively complex Fashion-MNIST \n",
    "dataset :cite:`Xiao.Rasul.Vollgraf.2017`, which was released in 2017."
   ]
  },
  {
   "cell_type": "code",
   "execution_count": 1,
   "metadata": {
    "attributes": {
     "classes": [],
     "id": "",
     "n": "7"
    }
   },
   "outputs": [],
   "source": [
    "%use @file[../djl.json]\n",
    "class StopWatch {\n",
    "\n",
    "    // Record multiple running times.\n",
    "    private val times: ArrayList<Double> = arrayListOf<Double>()\n",
    "    private var tik: Long = 0 \n",
    "\n",
    "    init {\n",
    "        start()\n",
    "    }\n",
    "\n",
    "    fun start() {\n",
    "        tik = System.nanoTime()\n",
    "    }\n",
    "\n",
    "    fun stop(): Double {\n",
    "        times.add(nanoToSec(System.nanoTime() - tik))\n",
    "        return times[times.size - 1]\n",
    "    }\n",
    "\n",
    "    fun getTimes() : ArrayList<Double>{\n",
    "        return times\n",
    "    }\n",
    "\n",
    "    // Return average time\n",
    "    fun avg() : Double {\n",
    "        return sum() / times.size.toDouble()\n",
    "    }\n",
    "\n",
    "    // Return the sum of time\n",
    "    fun sum() : Double {\n",
    "        var sum = 0.0\n",
    "        for (d in times) {\n",
    "            sum += d\n",
    "        }\n",
    "        return sum\n",
    "    }\n",
    "\n",
    "    // Return the accumulated times\n",
    "    fun cumsum() : ArrayList<Double> {\n",
    "        var cumsumList = arrayListOf<Double>()\n",
    "        var currentSum = 0.0\n",
    "        for (d in times) {\n",
    "            currentSum += d\n",
    "            cumsumList.add(currentSum)\n",
    "        }\n",
    "        return cumsumList\n",
    "    }\n",
    "\n",
    "    // Convert nano seconds to seconds\n",
    "    private fun nanoToSec(nanosec: Long) : Double{\n",
    "        return nanosec.toDouble() / 1E9;\n",
    "    }\n",
    "}\n",
    "\n",
    "//%load ../utils/djl-imports\n",
    "//%load ../utils/StopWatch.java\n",
    "//%load ../utils/ImageUtils.java"
   ]
  },
  {
   "cell_type": "code",
   "execution_count": 2,
   "metadata": {},
   "outputs": [],
   "source": [
    "import ai.djl.modality.cv.Image;\n",
    "import ai.djl.modality.cv.output.BoundingBox;\n",
    "import ai.djl.modality.cv.output.DetectedObjects;\n",
    "import ai.djl.modality.cv.output.Rectangle;\n",
    "import ai.djl.ndarray.NDArray;\n",
    "\n",
    "import java.awt.Color;\n",
    "import java.awt.Font;\n",
    "import java.awt.FontMetrics;\n",
    "import java.awt.Graphics2D;\n",
    "import java.awt.RenderingHints;\n",
    "import java.awt.image.BufferedImage;\n",
    "//import java.util.ArrayList;\n",
    "//import java.util.Arrays;\n",
    "//import java.util.List;\n",
    "\n",
    "object ImageUtils {\n",
    "\n",
    "    fun showImages(\n",
    "            images: Array<BufferedImage>, labels: Array<String>, width: Int, height: Int) : BufferedImage {\n",
    "        val col = Math.min(1280 / width, images.size)\n",
    "        val row = (images.size + col - 1) / col\n",
    "\n",
    "        val textHeight = 28\n",
    "        val w = col * (width + 3)\n",
    "        val h = row * (height + 3) + textHeight\n",
    "        val output = BufferedImage(w + 3, h + 3, BufferedImage.TYPE_INT_RGB)\n",
    "        val g = output.createGraphics()\n",
    "        g.setRenderingHint(RenderingHints.KEY_ANTIALIASING, RenderingHints.VALUE_ANTIALIAS_ON)\n",
    "        g.setPaint(Color.LIGHT_GRAY)\n",
    "        g.fill(java.awt.Rectangle(0, 0, w + 3, h + 3))\n",
    "        g.setPaint(Color.BLACK)\n",
    "\n",
    "        val font = g.getFont();\n",
    "        val metrics = g.getFontMetrics(font);\n",
    "        for (i in 0.. images.size-1) {\n",
    "            val x = (i % col) * (width + 3) + 3\n",
    "            val y = (i / col) * (height + 3) + 3\n",
    "\n",
    "            val tx = x + (width - metrics.stringWidth(labels[i])) / 2;\n",
    "            val ty = y + ((textHeight - metrics.getHeight()) / 2) + metrics.getAscent();\n",
    "            g.drawString(labels[i], tx, ty);\n",
    "\n",
    "            val img = images[i];\n",
    "            g.drawImage(img, x, y + textHeight, width, height, null);\n",
    "        }\n",
    "        g.dispose();\n",
    "        return output;\n",
    "    }\n",
    "\n",
    "    fun showImages(images:Array<BufferedImage>, width: Int, height: Int) : BufferedImage{\n",
    "        val col = Math.min(1280 / width, images.size);\n",
    "        val row = (images.size + col - 1) / col;\n",
    "\n",
    "        val w = col * (width + 3);\n",
    "        val h = row * (height + 3);\n",
    "        val output = BufferedImage(w + 3, h + 3, BufferedImage.TYPE_INT_RGB);\n",
    "        val g = output.createGraphics();\n",
    "        g.setRenderingHint(RenderingHints.KEY_ANTIALIASING, RenderingHints.VALUE_ANTIALIAS_ON);\n",
    "        g.setPaint(Color.LIGHT_GRAY);\n",
    "        g.fill(java.awt.Rectangle(0, 0, w + 3, h + 3));\n",
    "        for (i in 0..images.size-1) {\n",
    "            val x = (i % col) * (width + 3) + 3;\n",
    "            val y = (i / col) * (height + 3) + 3;\n",
    "\n",
    "            val img = images[i];\n",
    "            g.drawImage(img, x, y, width, height, null);\n",
    "        }\n",
    "        g.dispose();\n",
    "        return output;\n",
    "    }\n",
    "\n",
    "    fun drawBBoxes(img: Image, boxes: NDArray , labels: Array<String>?) {\n",
    "        val nlabels = \n",
    "        if (labels == null) {\n",
    "            Array<String>(boxes.size(0).toInt()) { \"\" }\n",
    "        } else {\n",
    "            labels\n",
    "        }\n",
    "\n",
    "        val classNames = mutableListOf<String>()\n",
    "        val prob = mutableListOf<Double>();\n",
    "        val boundBoxes = mutableListOf<BoundingBox>()\n",
    "        for (i in 0..boxes.size(0)-1) {\n",
    "            val box = boxes.get(i);\n",
    "            val rect = bboxToRect(box);\n",
    "            classNames.add(nlabels[i.toInt()]);\n",
    "            prob.add(1.0);\n",
    "            boundBoxes.add(rect);\n",
    "        }\n",
    "        val detectedObjects = DetectedObjects(classNames, prob, boundBoxes);\n",
    "        img.drawBoundingBoxes(detectedObjects);\n",
    "    }\n",
    "\n",
    "    fun bboxToRect(bbox: NDArray ) : Rectangle {\n",
    "        val width = bbox.getFloat(2) - bbox.getFloat(0);\n",
    "        val height = bbox.getFloat(3) - bbox.getFloat(1);\n",
    "        return Rectangle(bbox.getFloat(0).toDouble(), bbox.getFloat(1).toDouble(), width.toDouble(), height.toDouble());\n",
    "    }\n",
    "}\n"
   ]
  },
  {
   "cell_type": "code",
   "execution_count": 3,
   "metadata": {},
   "outputs": [],
   "source": [
    "import ai.djl.basicdataset.cv.classification.*\n",
    "import ai.djl.training.dataset.Record\n",
    "import java.awt.image.BufferedImage\n",
    "import java.awt.Graphics2D\n",
    "import java.awt.Color\n",
    "fun getLong(nm: String, n: Long): Long {\n",
    "    val name = System.getProperty(nm)\n",
    "    return if (null == name) n.toLong() else name.toLong()\n",
    "}"
   ]
  },
  {
   "cell_type": "markdown",
   "metadata": {},
   "source": [
    "## Getting the Dataset\n",
    "\n",
    "Just as with MNIST, DJL makes it easy to download and load the Fashion-MNIST dataset into memory via the `FashionMnist` class contained in `ai.djl.basicdataset`.\n",
    "We briefly work through the mechanics of loading and exploring the dataset below. \n",
    "Please refer to :numref:`sec_naive_bayes` for more details on loading data."
   ]
  },
  {
   "cell_type": "markdown",
   "metadata": {},
   "source": [
    "Let us first define the `getDataset()` function \n",
    "that obtains and reads the Fashion-MNIST dataset. \n",
    "It returns the dataset for the training set or the validation set depending\n",
    "on the passed in `usage` (`Dataset.Usage.TRAIN` for training and `Dataset.Usage.TEST` for validation). \n",
    "You can then call `getData(manager)` on the dataset to get the corresponding iterator.\n",
    "It also takes in the `batchSize` and `randomShuffle` which dictates\n",
    "the size of each batch and whether to randomly shuffle the data respectively."
   ]
  },
  {
   "cell_type": "code",
   "execution_count": 4,
   "metadata": {},
   "outputs": [],
   "source": [
    "val batchSize = 256;\n",
    "val randomShuffle = true;\n",
    "\n",
    "val mnistTrain = FashionMnist.builder()\n",
    "        .optUsage(Dataset.Usage.TRAIN)\n",
    "        .setSampling(batchSize, randomShuffle)\n",
    "        .optLimit(getLong(\"DATASET_LIMIT\", Long.MAX_VALUE))\n",
    "        .build();\n",
    "\n",
    "val mnistTest = FashionMnist.builder()\n",
    "        .optUsage(Dataset.Usage.TEST)\n",
    "        .setSampling(batchSize, randomShuffle)\n",
    "        .optLimit(getLong(\"DATASET_LIMIT\", Long.MAX_VALUE))\n",
    "        .build();\n",
    "\n",
    "mnistTrain.prepare();\n",
    "mnistTest.prepare();\n",
    "\n",
    "val manager = NDManager.newBaseManager();"
   ]
  },
  {
   "cell_type": "markdown",
   "metadata": {},
   "source": [
    "Fashion-MNIST consists of images from 10 categories, each represented \n",
    "by 60k images in the training set and by 10k in the test set. \n",
    "Consequently the training set and the test set \n",
    "contain 60k and 10k images, respectively."
   ]
  },
  {
   "cell_type": "code",
   "execution_count": 5,
   "metadata": {},
   "outputs": [
    {
     "name": "stdout",
     "output_type": "stream",
     "text": [
      "60000\n",
      "10000\n"
     ]
    }
   ],
   "source": [
    "println(mnistTrain.size())\n",
    "println(mnistTest.size())"
   ]
  },
  {
   "cell_type": "markdown",
   "metadata": {},
   "source": [
    "The images in Fashion-MNIST are associated with the following categories: \n",
    "t-shirt, trousers, pullover, dress, coat, sandal, shirt, sneaker, bag and ankle boot. \n",
    "The following function converts between numeric label indices and their names in text."
   ]
  },
  {
   "cell_type": "code",
   "execution_count": 6,
   "metadata": {
    "attributes": {
     "classes": [],
     "id": "",
     "n": "25"
    }
   },
   "outputs": [],
   "source": [
    "// Saved in the FashionMnist class for later use\n",
    "fun getFashionMnistLabels(labelIndices: IntArray) : Array<String>{\n",
    "    val textLabels = arrayOf(\"t-shirt\", \"trouser\", \"pullover\", \"dress\", \"coat\",\n",
    "                   \"sandal\", \"shirt\", \"sneaker\", \"bag\", \"ankle boot\")\n",
    "    val convertedLabels = mutableListOf<String>()\n",
    "    for (i in 0..labelIndices.size-1) {\n",
    "        convertedLabels.add(textLabels[labelIndices[i]])\n",
    "    }\n",
    "    return convertedLabels.toTypedArray()\n",
    "}\n",
    "\n",
    "fun getFashionMnistLabel(labelIndice: Int) : String{\n",
    "    val textLabels = arrayOf(\"t-shirt\", \"trouser\", \"pullover\", \"dress\", \"coat\",\n",
    "                   \"sandal\", \"shirt\", \"sneaker\", \"bag\", \"ankle boot\")\n",
    "    return textLabels[labelIndice]\n",
    "}"
   ]
  },
  {
   "cell_type": "markdown",
   "metadata": {},
   "source": [
    "We can now create a function to visualize these examples.\n",
    "Don't worry too much about the specifics of visualization.\n",
    "This is simply just to help intuitively understand the data.\n",
    "We essentially read in a number of datapoints and convert their\n",
    "RGB value from 0-255 to between 0-1. We then set the color as grayscale\n",
    "and then display it along with their labels in an external window."
   ]
  },
  {
   "cell_type": "code",
   "execution_count": 7,
   "metadata": {},
   "outputs": [],
   "source": [
    "// Saved in the FashionMnistUtils class for later use\n",
    "fun showImages(\n",
    "        dataset:ArrayDataset , number: Int, width: Int, height: Int, scale: Int, manager: NDManager ) : BufferedImage {\n",
    "    // Plot a list of images\n",
    "    var images = mutableListOf<BufferedImage>()\n",
    "    var labels = mutableListOf<String>()\n",
    "    for (i in 0..number-1) {\n",
    "        val record = dataset.get(manager, i.toLong());\n",
    "        val array = record.getData().get(0).squeeze(-1);\n",
    "        val y = record.getLabels().get(0).getFloat().toInt()\n",
    "        images.add(toImage(array, width, height))\n",
    "        labels.add(getFashionMnistLabel(y))\n",
    "    }\n",
    "    val w = images.first().getWidth() * scale;\n",
    "    val h = images.first().getHeight() * scale;\n",
    "\n",
    "    return ImageUtils.showImages(images.toTypedArray(), labels.toTypedArray(), w, h);\n",
    "}\n",
    "\n",
    "fun toImage( array : NDArray, width: Int,height: Int) : BufferedImage{\n",
    "    System.setProperty(\"apple.awt.UIElement\", \"true\");\n",
    "    var img = BufferedImage(width, height, BufferedImage.TYPE_BYTE_GRAY);\n",
    "    val g = img.getGraphics();\n",
    "    for (i in 0..width-1) {\n",
    "        for (j in 0 .. height-1) {\n",
    "            val c = array.getFloat(j.toLong(), i.toLong()) / 255 // scale down to between 0 and 1\n",
    "            g.setColor(Color(c, c, c)); // set as a gray color\n",
    "            g.fillRect(i, j, 1, 1);\n",
    "        }\n",
    "    }\n",
    "    g.dispose();\n",
    "    return img;\n",
    "}"
   ]
  },
  {
   "cell_type": "markdown",
   "metadata": {},
   "source": [
    "Here are the images and their corresponding labels (in text)\n",
    "for the first few examples in the training dataset."
   ]
  },
  {
   "cell_type": "code",
   "execution_count": 8,
   "metadata": {},
   "outputs": [
    {
     "data": {
      "text/html": [
       "<img src=\"data:image/png;base64,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\"/>"
      ]
     },
     "execution_count": 8,
     "metadata": {},
     "output_type": "execute_result"
    }
   ],
   "source": [
    "val SCALE = 4;\n",
    "val WIDTH = 28;\n",
    "val HEIGHT = 28;\n",
    "\n",
    "showImages(mnistTrain, 6, WIDTH, HEIGHT, SCALE, manager)"
   ]
  },
  {
   "cell_type": "markdown",
   "metadata": {},
   "source": [
    "## Reading a Minibatch\n",
    "\n",
    "To make our life easier when reading from the training and test sets,\n",
    "we use the `getData(manager)`.\n",
    "Recall that at each iteration, `getData(manager)` \n",
    "reads a minibatch of data with size `batchSize` each time.\n",
    "We then get the X and y by calling `getData()` and `getLabels()` on each batch respectively.\n",
    "\n",
    "Note: During training, reading data can be a significant performance bottleneck, \n",
    "especially when our model is simple or when our computer is fast. "
   ]
  },
  {
   "cell_type": "markdown",
   "metadata": {},
   "source": [
    "Let us look at the time it takes to read the training data."
   ]
  },
  {
   "cell_type": "code",
   "execution_count": 9,
   "metadata": {},
   "outputs": [
    {
     "name": "stdout",
     "output_type": "stream",
     "text": [
      "4.82 sec\n"
     ]
    }
   ],
   "source": [
    "val stopWatch = StopWatch();\n",
    "stopWatch.start();\n",
    "for (batch in mnistTrain.getData(manager)) {\n",
    "    val x = batch.getData().head();\n",
    "    val y = batch.getLabels().head();\n",
    "}\n",
    "println(\"%.2f sec\".format(stopWatch.stop()))"
   ]
  },
  {
   "cell_type": "markdown",
   "metadata": {},
   "source": [
    "We are now ready to work with the Fashion-MNIST dataset in the sections that follow.\n",
    "\n",
    "## Summary\n",
    "\n",
    "* Fashion-MNIST is an apparel classification dataset consisting of images representing 10 categories. \n",
    " * We will use this dataset in subsequent sections and chapters to evaluate various classification algorithms.\n",
    "* We store the shape of each image with height $h$ width $w$ pixels as $h \\times w$ or `(h, w)`.\n",
    "* Data iterators are a key component for efficient performance. Rely on well-implemented iterators that exploit multi-threading to avoid slowing down your training loop.\n",
    "\n",
    "## Exercises\n",
    "\n",
    "1. Does reducing the `batchSize` (for instance, to 1) affect read performance?\n",
    "1. Use the DJL documentation to see which other datasets are available in `ai.djl.basicdataset`."
   ]
  }
 ],
 "metadata": {
  "kernelspec": {
   "display_name": "Kotlin",
   "language": "kotlin",
   "name": "kotlin"
  },
  "language_info": {
   "codemirror_mode": "text/x-kotlin",
   "file_extension": ".kt",
   "mimetype": "text/x-kotlin",
   "name": "kotlin",
   "nbconvert_exporter": "",
   "pygments_lexer": "kotlin",
   "version": "1.8.0-dev-707"
  }
 },
 "nbformat": 4,
 "nbformat_minor": 4
}
