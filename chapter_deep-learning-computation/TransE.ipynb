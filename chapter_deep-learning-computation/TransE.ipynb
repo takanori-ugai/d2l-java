{
 "cells": [
  {
   "cell_type": "code",
   "execution_count": 1,
   "id": "ef70618e",
   "metadata": {},
   "outputs": [],
   "source": [
    "%use @file[../djl.json]\n",
    "import ai.djl.metric.*"
   ]
  },
  {
   "cell_type": "code",
   "execution_count": 2,
   "id": "8bef3e01",
   "metadata": {},
   "outputs": [],
   "source": [
    "val manager = NDManager.newBaseManager()"
   ]
  },
  {
   "cell_type": "code",
   "execution_count": 3,
   "id": "af2a06fc",
   "metadata": {},
   "outputs": [
    {
     "data": {
      "text/plain": [
       "ND: (4, 200) cpu() float32\n",
       "[ Exceed max print size ]"
      ]
     },
     "metadata": {},
     "output_type": "display_data"
    },
    {
     "data": {
      "text/plain": [
       "ND: (2, 200) cpu() float32\n",
       "[ Exceed max print size ]"
      ]
     },
     "metadata": {},
     "output_type": "display_data"
    }
   ],
   "source": [
    "val dim = 200L\n",
    "val numEnt = 4L\n",
    "val numEdg = 2L\n",
    "val entities = manager.randomUniform(-0.07f, 0.07f, Shape(numEnt, dim))\n",
    "val edges = manager.randomUniform(-0.07f, 0.07f, Shape(numEdg, dim))\n",
    "DISPLAY(entities)\n",
    "DISPLAY(edges)"
   ]
  },
  {
   "cell_type": "code",
   "execution_count": 4,
   "id": "0adee8af",
   "metadata": {},
   "outputs": [
    {
     "data": {
      "text/plain": [
       "ND: (200) cpu() float32\n",
       "[ Exceed max print size ]"
      ]
     },
     "execution_count": 4,
     "metadata": {},
     "output_type": "execute_result"
    }
   ],
   "source": [
    "entities.get(0)"
   ]
  },
  {
   "cell_type": "code",
   "execution_count": 5,
   "id": "6f2571a3",
   "metadata": {},
   "outputs": [
    {
     "data": {
      "text/plain": [
       "ND: (200) cpu() float32\n",
       "[ Exceed max print size ]"
      ]
     },
     "execution_count": 5,
     "metadata": {},
     "output_type": "execute_result"
    }
   ],
   "source": [
    "edges.get(1)"
   ]
  },
  {
   "cell_type": "code",
   "execution_count": 6,
   "id": "603082ee",
   "metadata": {},
   "outputs": [
    {
     "data": {
      "text/plain": [
       "ND: (4, 3) cpu() int64\n",
       "[[ 2,  0,  1],\n",
       " [ 2,  1,  3],\n",
       " [ 0,  0,  1],\n",
       " [ 0,  1,  2],\n",
       "]\n"
      ]
     },
     "execution_count": 6,
     "metadata": {},
     "output_type": "execute_result"
    }
   ],
   "source": [
    "val input = manager.create(longArrayOf(2,0,1,2,1,3,0,0,1,0,1,2), Shape(4,3))\n",
    "input"
   ]
  },
  {
   "cell_type": "code",
   "execution_count": 7,
   "id": "2b03a44c",
   "metadata": {},
   "outputs": [
    {
     "name": "stdout",
     "output_type": "stream",
     "text": [
      "ND: (200) cpu() float32\n",
      "[ Exceed max print size ]\n",
      "ND: (200) cpu() float32\n",
      "[ Exceed max print size ]\n",
      "ND: (200) cpu() float32\n",
      "[ Exceed max print size ]\n",
      "ND: (200) cpu() float32\n",
      "[ Exceed max print size ]\n",
      "ND: (4, 200) cpu() float32\n",
      "[ Exceed max print size ]\n"
     ]
    }
   ],
   "source": [
    "var v = manager.zeros(Shape(0))\n",
    "for (i in 0 until input.size(0) ) { \n",
    "    val line0 = input.get(i).toLongArray()\n",
    "    println(entities.get(line0[0]).add(edges.get(line0[1])).sub(entities.get(line0[2])))\n",
    "    v = v.concat(entities.get(line0[0]).add(edges.get(line0[1])).sub(entities.get(line0[2])))\n",
    "}\n",
    "println(v.reshape(input.size(0), dim))"
   ]
  },
  {
   "cell_type": "code",
   "execution_count": 8,
   "id": "aa8926e9",
   "metadata": {},
   "outputs": [],
   "source": [
    "class MyTransE(val numEnt: Long, val numEdge: Long, val dim: Long ): AbstractBlock() {\n",
    "\n",
    "    private val entities:  Parameter \n",
    "    private val edges: Parameter\n",
    "    \n",
    "\n",
    "    // outUnits: the number of outputs in this layer \n",
    "    // inUnits: the number of inputs in this layer\n",
    "    init {\n",
    "        entities = addParameter(\n",
    "            Parameter.builder()\n",
    "                .setName(\"entities\")\n",
    "                .setType(Parameter.Type.WEIGHT)\n",
    "                .optShape(Shape(numEnt, dim))\n",
    "                .build())\n",
    "        edges = addParameter(\n",
    "            Parameter.builder()\n",
    "                .setName(\"edges\")\n",
    "                .setType(Parameter.Type.WEIGHT)\n",
    "                .optShape(Shape(numEdge, dim))\n",
    "                .build())\n",
    "    }\n",
    "    \n",
    "    @Override\n",
    "    override protected fun forwardInternal(\n",
    "            parameterStore: ParameterStore ,\n",
    "            inputs: NDList ,\n",
    "            training: Boolean,\n",
    "            params: PairList<String, Any>?): NDList {\n",
    "        val input = inputs.singletonOrThrow();\n",
    "        val device = input.getDevice();\n",
    "        // Since we added the parameter, we can now access it from the parameter store\n",
    "        val entitiesArr = parameterStore.getValue(entities, device, false)\n",
    "        val edgesArr = parameterStore.getValue(edges, device, false)\n",
    "        return transE(input, entitiesArr, edgesArr)\n",
    "    }\n",
    "    \n",
    "    // Applies linear transformation\n",
    "    fun transE(input: NDArray , entities: NDArray , edges: NDArray) : NDList {\n",
    "        var v = manager.zeros(Shape(0))\n",
    "        val inputs = input.reshape(input.size()/3, 3)\n",
    "        for (i in 0 until input.size()/3 ) { \n",
    "            val line0 = inputs.get(i).toLongArray()\n",
    "//    println(entities.get(line0[0]).add(edges.get(line0[1])).sub(entities.get(line0[2])))\n",
    "            v = v.concat(entities.get(line0[0]).add(edges.get(line0[1])).sub(entities.get(line0[2])))\n",
    "        }\n",
    "        val ret = v.reshape(input.size()/3, dim)\n",
    "//        println(ret)\n",
    "        return NDList(ret)\n",
    "    }\n",
    "        \n",
    "    @Override\n",
    "    override fun getOutputShapes(inputs: Array<Shape>) : Array<Shape> {\n",
    "        return arrayOf<Shape>(Shape(1, dim))\n",
    "    }\n",
    "}"
   ]
  },
  {
   "cell_type": "code",
   "execution_count": 9,
   "id": "dcd0d272",
   "metadata": {},
   "outputs": [
    {
     "name": "stdout",
     "output_type": "stream",
     "text": [
      "entities\n",
      "edges\n"
     ]
    }
   ],
   "source": [
    "val linear = MyTransE(numEnt, numEdg, dim) \n",
    "var params = linear.getParameters();\n",
    "for (param in params) {\n",
    "    println(param.getKey());\n",
    "}"
   ]
  },
  {
   "cell_type": "code",
   "execution_count": 10,
   "id": "ad4f4385",
   "metadata": {},
   "outputs": [
    {
     "data": {
      "text/plain": [
       "ND: (4, 200) cpu() float32\n",
       "[ Exceed max print size ]"
      ]
     },
     "execution_count": 10,
     "metadata": {},
     "output_type": "execute_result"
    }
   ],
   "source": [
    "val input = manager.create(longArrayOf(2,0,1,2,1,3,0,0,1,0,1,2), Shape(4,3))\n",
    "//println(input)\n",
    "linear.setInitializer(NormalInitializer(), Parameter.Type.WEIGHT)\n",
    "linear.initialize(manager, DataType.FLOAT32, input.getShape())\n",
    "\n",
    "val model = Model.newInstance(\"my-linear\");\n",
    "model.setBlock(linear);\n",
    "\n",
    "val predictor = model.newPredictor(NoopTranslator());\n",
    "predictor.predict(NDList(input)).singletonOrThrow()"
   ]
  },
  {
   "cell_type": "code",
   "execution_count": 11,
   "id": "35f6eaa2",
   "metadata": {},
   "outputs": [
    {
     "name": "stdout",
     "output_type": "stream",
     "text": [
      "entities: (4, 200) cpu() float32 hasGradient\n",
      "[ Exceed max print size ]\n",
      "edges: (2, 200) cpu() float32 hasGradient\n",
      "[ Exceed max print size ]\n"
     ]
    }
   ],
   "source": [
    "val entities = model.block.getParameters().valueAt(0).getArray()\n",
    "println(entities)\n",
    "val edges = model.block.getParameters().valueAt(1).getArray()\n",
    "println(edges)\n",
    "\n",
    "//val weight = linearLayer.getParameters().valueAt(0).getArray();\n",
    "//weight"
   ]
  },
  {
   "cell_type": "code",
   "execution_count": 12,
   "id": "5ccd849c",
   "metadata": {},
   "outputs": [],
   "source": [
    "val l2loss = Loss.l2Loss()\n",
    "val lrt = Tracker.fixed(0.05f)\n",
    "val sgd = Optimizer.sgd().setLearningRateTracker(lrt).build()"
   ]
  },
  {
   "cell_type": "code",
   "execution_count": 13,
   "id": "180e8ed2",
   "metadata": {},
   "outputs": [],
   "source": [
    "val config = DefaultTrainingConfig(l2loss)\n",
    "    .optOptimizer(sgd) // Optimizer (loss function)\n",
    "    .optDevices(manager.getEngine().getDevices(1)) // single GPU\n",
    "    .addTrainingListeners(*TrainingListener.Defaults.logging()) // Logging\n",
    "\n",
    "val trainer = model.newTrainer(config)"
   ]
  },
  {
   "cell_type": "code",
   "execution_count": 14,
   "id": "15267e72",
   "metadata": {},
   "outputs": [],
   "source": [
    "trainer.initialize(Shape(4, 3))"
   ]
  },
  {
   "cell_type": "code",
   "execution_count": 15,
   "id": "dcdcbbd9",
   "metadata": {},
   "outputs": [],
   "source": [
    "val metrics = Metrics()\n",
    "trainer.setMetrics(metrics);"
   ]
  },
  {
   "cell_type": "code",
   "execution_count": 16,
   "id": "fa8cdaa7",
   "metadata": {},
   "outputs": [
    {
     "name": "stdout",
     "output_type": "stream",
     "text": [
      "l = ND: (4) cpu() float32\n",
      "[0.245 , 0.2466, 0.7344, 0.2462]\n",
      "\n",
      "l = ND: (4) cpu() float32\n",
      "[0.0848, 0.08  , 0.2485, 0.0786]\n",
      "\n",
      "l = ND: (4) cpu() float32\n",
      "[0.1839, 0.1191, 0.006 , 0.1144]\n",
      "\n",
      "l = ND: (4) cpu() float32\n",
      "[0.1839, 0.1191, 0.006 , 0.1144]\n",
      "\n",
      "l = ND: (4) cpu() float32\n",
      "[0.1839, 0.1191, 0.006 , 0.1144]\n",
      "\n",
      "l = ND: (4) cpu() float32\n",
      "[0.1839, 0.1191, 0.006 , 0.1144]\n",
      "\n",
      "l = ND: (4) cpu() float32\n",
      "[0.1839, 0.1191, 0.006 , 0.1144]\n",
      "\n",
      "l = ND: (4) cpu() float32\n",
      "[0.1839, 0.1191, 0.006 , 0.1144]\n",
      "\n",
      "l = ND: (4) cpu() float32\n",
      "[0.1839, 0.1191, 0.006 , 0.1144]\n",
      "\n",
      "l = ND: (4) cpu() float32\n",
      "[0.1839, 0.1191, 0.006 , 0.1144]\n",
      "\n",
      "l = ND: (4) cpu() float32\n",
      "[0.1839, 0.1191, 0.006 , 0.1144]\n",
      "\n",
      "l = ND: (4) cpu() float32\n",
      "[0.1839, 0.1191, 0.006 , 0.1144]\n",
      "\n",
      "l = ND: (4) cpu() float32\n",
      "[0.1839, 0.1191, 0.006 , 0.1144]\n",
      "\n",
      "l = ND: (4) cpu() float32\n",
      "[0.1839, 0.1191, 0.006 , 0.1144]\n",
      "\n",
      "l = ND: (4) cpu() float32\n",
      "[0.1839, 0.1191, 0.006 , 0.1144]\n",
      "\n",
      "l = ND: (4) cpu() float32\n",
      "[0.1839, 0.1191, 0.006 , 0.1144]\n",
      "\n",
      "l = ND: (4) cpu() float32\n",
      "[0.1839, 0.1191, 0.006 , 0.1144]\n",
      "\n",
      "l = ND: (4) cpu() float32\n",
      "[0.1839, 0.1191, 0.006 , 0.1144]\n",
      "\n",
      "l = ND: (4) cpu() float32\n",
      "[0.1839, 0.1191, 0.006 , 0.1144]\n",
      "\n",
      "l = ND: (4) cpu() float32\n",
      "[0.1839, 0.1191, 0.006 , 0.1144]\n",
      "\n",
      "l = ND: (4) cpu() float32\n",
      "[0.1839, 0.1191, 0.006 , 0.1144]\n",
      "\n",
      "entities: (4, 200) cpu() float32 hasGradient\n",
      "[ Exceed max print size ]\n",
      "edges: (2, 200) cpu() float32 hasGradient\n",
      "[ Exceed max print size ]\n"
     ]
    }
   ],
   "source": [
    "//val parameterStore = ParameterStore(manager, false);\n",
    "for(i in 0..1000) {\n",
    "trainer.newGradientCollector().use { gc ->\n",
    "//    val entities = model.block.getParameters().valueAt(0).getArray()\n",
    "//    println(entities)\n",
    "//    val f0 = model.block.forward(parameterStore, NDList(input), true)\n",
    "    val f0 = trainer.forward(NDList(input))\n",
    "//    println(f0.singletonOrThrow().sum(intArrayOf(1)))\n",
    "//    println(f0.singletonOrThrow().sum(intArrayOf(1)))\n",
    "    val point = f0.singletonOrThrow()\n",
    "//    println(NDArrays.pow(2,point) == point.pow(2))\n",
    "//    println(NDArrays.pow(2,point))\n",
    "//    println(point.pow(2))\n",
    "//    println(point)\n",
    "//    println(NDArrays.pow(2, point).sum(intArrayOf(1)).sqrt())\n",
    "      val l = point.pow(2).sum(intArrayOf(1)).sqrt().sub(manager.create(floatArrayOf(0f,0f,1f,0f))).abs()\n",
    "//      println(NDArrays.pow(2, point).sum(intArrayOf(1)).sqrt())\n",
    "//    val l : NDArray = l2loss.evaluate( NDList(NDArrays.pow(2, point).sum(intArrayOf(1)).sqrt()), NDList(manager.create(floatArrayOf(0f,0f,1f,0f))))\n",
    "//    println(\"l = $l\")\n",
    "if(i % 50 == 0) {\n",
    "    println(\"l = $l\")\n",
    "    \n",
    "}\n",
    "    gc.backward(l)\n",
    "    trainer.step()\n",
    "//    println(model.block.getParameters().valueAt(0).getArray())\n",
    "    gc.close()\n",
    "}\n",
    "}\n",
    "    println(model.block.getParameters().valueAt(0).getArray())\n",
    "    println(model.block.getParameters().valueAt(1).getArray())\n",
    "\n"
   ]
  },
  {
   "cell_type": "code",
   "execution_count": 17,
   "id": "e1bcc0cd",
   "metadata": {},
   "outputs": [
    {
     "data": {
      "text/plain": [
       "ND: (4) cpu() float32\n",
       "[0.1161, 0.0809, 0.756 , 0.0606]\n"
      ]
     },
     "execution_count": 17,
     "metadata": {},
     "output_type": "execute_result"
    }
   ],
   "source": [
    "predictor.predict(NDList(input)).singletonOrThrow().pow(2).sum(intArrayOf(1)).sqrt()"
   ]
  },
  {
   "cell_type": "code",
   "execution_count": 18,
   "id": "02c5f379",
   "metadata": {},
   "outputs": [
    {
     "name": "stdout",
     "output_type": "stream",
     "text": [
      "ND: (1, 200) cpu() float32\n",
      "[ Exceed max print size ]\n"
     ]
    },
    {
     "data": {
      "text/plain": [
       "ND: () cpu() float32\n",
       "0.8201\n"
      ]
     },
     "execution_count": 18,
     "metadata": {},
     "output_type": "execute_result"
    }
   ],
   "source": [
    "val test = manager.create(longArrayOf(1,1,2))\n",
    "println(predictor.predict(NDList(test)).singletonOrThrow())\n",
    "predictor.predict(NDList(test)).singletonOrThrow().pow(2).sum().sqrt()"
   ]
  },
  {
   "cell_type": "code",
   "execution_count": null,
   "id": "4e339516",
   "metadata": {},
   "outputs": [],
   "source": []
  }
 ],
 "metadata": {
  "kernelspec": {
   "display_name": "Kotlin",
   "language": "kotlin",
   "name": "kotlin"
  },
  "language_info": {
   "codemirror_mode": "text/x-kotlin",
   "file_extension": ".kt",
   "mimetype": "text/x-kotlin",
   "name": "kotlin",
   "nbconvert_exporter": "",
   "pygments_lexer": "kotlin",
   "version": "1.8.0-dev-707"
  }
 },
 "nbformat": 4,
 "nbformat_minor": 5
}
