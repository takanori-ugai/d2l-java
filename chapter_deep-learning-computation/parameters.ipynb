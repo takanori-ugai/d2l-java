{
 "cells": [
  {
   "cell_type": "markdown",
   "metadata": {},
   "source": [
    "# Parameter Management\n",
    "\n",
    "Once we have chosen an architecture\n",
    "and set our hyperparameters,\n",
    "we proceed to the training loop,\n",
    "where our goal is to find parameter values\n",
    "that minimize our objective function. \n",
    "After training, we will need these parameters \n",
    "in order to make future predictions.\n",
    "Additionally, we will sometimes wish \n",
    "to extract the parameters \n",
    "either to reuse them in some other context,\n",
    "to save our model to disk so that \n",
    "it may be exectuted in other software,\n",
    "or for examination in the hopes of \n",
    "gaining scientific understanding.\n",
    "\n",
    "Most of the time, we will be able \n",
    "to ignore the nitty-gritty details\n",
    "of how parameters are declared\n",
    "and manipulated, relying on DJL\n",
    "to do the heavy lifting.\n",
    "However, when we move away from \n",
    "stacked architectures with standard layers, \n",
    "we will sometimes need to get into the weeds\n",
    "of declaring and manipulating parameters. \n",
    "In this section, we cover the following:\n",
    "\n",
    "* Accessing parameters for debugging, diagnostics, and visualiziations.\n",
    "* Parameter initialization.\n",
    "* Sharing parameters across different model components.\n",
    "\n",
    "We start by focusing on an MLP with one hidden layer."
   ]
  },
  {
   "cell_type": "code",
   "execution_count": 1,
   "metadata": {},
   "outputs": [],
   "source": [
    "%use @file[../djl.json]\n",
    "// %load ../utils/djl-imports"
   ]
  },
  {
   "cell_type": "code",
   "execution_count": 4,
   "metadata": {},
   "outputs": [
    {
     "data": {
      "text/plain": [
       "ND: (2, 1) cpu() float32\n",
       "[[-8.41880683e-05],\n",
       " [-1.42212462e-04],\n",
       "]\n"
      ]
     },
     "execution_count": 4,
     "metadata": {},
     "output_type": "execute_result"
    }
   ],
   "source": [
    "val manager = NDManager.newBaseManager();\n",
    "\n",
    "val x = manager.randomUniform(0f, 1f, Shape(2, 4));\n",
    "\n",
    "val net = SequentialBlock()\n",
    "      .add(Linear.builder().setUnits(8).build())\n",
    "      .add(Activation.reluBlock())\n",
    "      .add(Linear.builder().setUnits(1).build())\n",
    "      .also {\n",
    "         it.setInitializer(NormalInitializer(), Parameter.Type.WEIGHT);\n",
    "         it.initialize(manager, DataType.FLOAT32, x.getShape());\n",
    "      }\n",
    "\n",
    "val ps = ParameterStore(manager, false);\n",
    "net.forward(ps, NDList(x), false).head(); // forward computation"
   ]
  },
  {
   "cell_type": "markdown",
   "metadata": {},
   "source": [
    "## Parameter Access\n",
    "\n",
    "Let us start with how to access parameters\n",
    "from the models that you already know.\n",
    "Each layer's parameters are conveniently stored in a `Pair<String, Parameter>` consisting of a unique\n",
    "`String` that serves as a key for the layer and the `Parameter` itself.\n",
    "The `ParameterList` is an extension of `PairList` and is returned with a call to the `getParameters()` method on a `Block`. \n",
    "We can inspect the parameters of the `net` defined above.\n",
    "When a model is defined via the `SequentialBlock` class,\n",
    "we can access any layer's `Pair<String, Parameter>` by calling `get()` on the `ParameterList` and passing in the index\n",
    "of the parameter we want. Calling `getKey()` and `getValue()` on a `Pair<String, Parameter>` will get the parameter's name and `Parameter` respectively. We can also directly get the `Parameter` we want from the `ParameterList`\n",
    "by calling `get()` and passing in its unique key(the `String` portion of the `Pair<String, Parameter>`. If we call `valueAt()` and pass in\n",
    "the index, we will get the `Parameter` directly as well."
   ]
  },
  {
   "cell_type": "code",
   "execution_count": 5,
   "metadata": {
    "attributes": {
     "classes": [],
     "id": "",
     "n": "2"
    }
   },
   "outputs": [
    {
     "name": "stdout",
     "output_type": "stream",
     "text": [
      "01Linear_weight\n",
      "01Linear_bias\n",
      "03Linear_weight\n",
      "03Linear_bias\n",
      "weight: (8, 4) cpu() float32 hasGradient\n",
      "[[ 0.0189, -0.0117, -0.0123,  0.0156],\n",
      " [-0.0177, -0.0055, -0.0045, -0.0236],\n",
      " [ 0.0058,  0.0054, -0.0186,  0.0268],\n",
      " [-0.0198,  0.0125, -0.0021, -0.0055],\n",
      " [ 0.0024, -0.0068, -0.0004, -0.0014],\n",
      " [-0.0049,  0.0038, -0.0002,  0.0041],\n",
      " [ 0.0057,  0.0057,  0.0147, -0.0276],\n",
      " [ 0.0069,  0.0108,  0.0035, -0.0061],\n",
      "]\n",
      "\n",
      "bias: (8) cpu() float32 hasGradient\n",
      "[0., 0., 0., 0., 0., 0., 0., 0.]\n",
      "\n",
      "weight: (1, 8) cpu() float32 hasGradient\n",
      "[[ 0.0107,  0.0183,  0.0012, -0.0115, -0.0097,  0.0005, -0.0078, -0.0251],\n",
      "]\n",
      "\n",
      "bias: (1) cpu() float32 hasGradient\n",
      "[0.]\n",
      "\n"
     ]
    }
   ],
   "source": [
    "val params = net.getParameters();\n",
    "// Print out all the keys (unique!)\n",
    "for (pair in params) {\n",
    "    println(pair.getKey());\n",
    "}\n",
    "\n",
    "// Use the unique key to access the Parameter\n",
    "val dense0Weight = params.get(\"01Linear_weight\").getArray();\n",
    "val dense0Bias = params.get(\"01Linear_bias\").getArray();\n",
    "\n",
    "// Use indexing to access the Parameter\n",
    "val dense1Weight = params.valueAt(2).getArray();\n",
    "val dense1Bias = params.valueAt(3).getArray();\n",
    "\n",
    "println(dense0Weight);\n",
    "println(dense0Bias);\n",
    "\n",
    "println(dense1Weight);\n",
    "println(dense1Bias);"
   ]
  },
  {
   "cell_type": "markdown",
   "metadata": {},
   "source": [
    "The output tells us a few important things.\n",
    "First, each fully-connected layer \n",
    "has two parameters, e.g., \n",
    "`dense0Weight` and `dense0Bias`,\n",
    "corresponding to that layer's \n",
    "weights and biases, respectively.\n",
    "The `params` variable is a `ParameterList` which contain the\n",
    "key-value pairs of the layer name and a parameter of the \n",
    "`Parameter` class.\n",
    "With a `Parameter`, we can get the underlying numerical values as `NDArray`s by calling \n",
    "`getArray()` on them!\n",
    "Both the weights and biases are stored as single precision floats(`FLOAT32`).\n",
    "\n",
    "\n",
    "### Targeted Parameters\n",
    "\n",
    "Parameters are complex objects,\n",
    "containing data, gradients,\n",
    "and additional information.\n",
    "That's why we need to request the data explicitly.\n",
    "Note that the bias vector consists of zeroes\n",
    "because we have not updated the network\n",
    "since it was initialized."
   ]
  },
  {
   "cell_type": "markdown",
   "metadata": {},
   "source": [
    "Note that unlike the biases, the weights are nonzero. \n",
    "This is because unlike biases, \n",
    "weights are initialized randomly. \n",
    "In addition to `getArray()`, each `Parameter`\n",
    "also provides a `requireGradient()` method which\n",
    "returns whether the parameter needs gradients to be computed\n",
    "(which we set on the `NDArray` with `attachGradient()`).\n",
    "The gradient has the same shape as the weight. \n",
    "To actually access the gradient, we simply call `getGradient()` on the\n",
    "`NDArray`.\n",
    "Because we have not invoked backpropagation \n",
    "for this network yet, its values are all 0.\n",
    "We would invoke it by creating a `GradientCollector` instance and\n",
    "run our calculations inside it."
   ]
  },
  {
   "cell_type": "code",
   "execution_count": 6,
   "metadata": {
    "attributes": {
     "classes": [],
     "id": "",
     "n": "5"
    }
   },
   "outputs": [
    {
     "data": {
      "text/plain": [
       "ND: (8, 4) cpu() float32\n",
       "[[0., 0., 0., 0.],\n",
       " [0., 0., 0., 0.],\n",
       " [0., 0., 0., 0.],\n",
       " [0., 0., 0., 0.],\n",
       " [0., 0., 0., 0.],\n",
       " [0., 0., 0., 0.],\n",
       " [0., 0., 0., 0.],\n",
       " [0., 0., 0., 0.],\n",
       "]\n"
      ]
     },
     "execution_count": 6,
     "metadata": {},
     "output_type": "execute_result"
    }
   ],
   "source": [
    "dense0Weight.getGradient();"
   ]
  },
  {
   "cell_type": "markdown",
   "metadata": {},
   "source": [
    "### Collecting Parameters from Nested Blocks\n",
    "\n",
    "Let us see how the parameter naming conventions work \n",
    "if we nest multiple blocks inside each other. \n",
    "For that we first define a function that produces Blocks \n",
    "(a Block factory, so to speak) and then \n",
    "combine these inside yet larger Blocks."
   ]
  },
  {
   "cell_type": "code",
   "execution_count": 7,
   "metadata": {
    "attributes": {
     "classes": [],
     "id": "",
     "n": "20"
    }
   },
   "outputs": [
    {
     "data": {
      "text/plain": [
       "ND: (2, 10) cpu() float32\n",
       "[[-2.13574868e-14, -3.53356396e-14, -3.29092290e-14, -1.15955321e-14, -5.79714601e-15, -4.31167892e-15, -1.55334645e-14,  3.16186472e-15,  2.84417943e-14, -2.24714559e-15],\n",
       " [-2.24051192e-14, -3.47734909e-14, -3.40257878e-14, -1.36719080e-14, -4.52792050e-15, -6.42207506e-15, -1.65834906e-14,  7.80485804e-16,  3.48985028e-14, -1.90861129e-15],\n",
       "]\n"
      ]
     },
     "execution_count": 7,
     "metadata": {},
     "output_type": "execute_result"
    }
   ],
   "source": [
    "fun  block1() : SequentialBlock {\n",
    "    val net = SequentialBlock();\n",
    "    net.add(Linear.builder().setUnits(32).build());\n",
    "    net.add(Activation.reluBlock());\n",
    "    net.add(Linear.builder().setUnits(16).build());\n",
    "    net.add(Activation.reluBlock());\n",
    "    return net;\n",
    "}\n",
    "\n",
    "fun block2() : SequentialBlock{\n",
    "    val net = SequentialBlock();\n",
    "    for (i in 0 until 4) {\n",
    "        net.add(block1());\n",
    "    }\n",
    "    return net;\n",
    "}\n",
    "\n",
    "val rgnet = SequentialBlock();\n",
    "rgnet.add(block2());\n",
    "rgnet.add(Linear.builder().setUnits(10).build());\n",
    "rgnet.setInitializer(NormalInitializer(), Parameter.Type.WEIGHT);\n",
    "rgnet.initialize(manager, DataType.FLOAT32, x.getShape());\n",
    "\n",
    "rgnet.forward(ps, NDList(x), false).singletonOrThrow();"
   ]
  },
  {
   "cell_type": "markdown",
   "metadata": {},
   "source": [
    "Now that we have designed the network, \n",
    "let us see how it is organized.\n",
    "We can get the list of named parameters by calling `getParameters()`.\n",
    "However, we not only want to see the parameters, but also how\n",
    "our network is structured.\n",
    "To see our network architecture, we can simply print out the block whose architecture we want to see."
   ]
  },
  {
   "cell_type": "code",
   "execution_count": 8,
   "metadata": {},
   "outputs": [
    {
     "data": {
      "text/plain": [
       "Sequential(\n",
       "\tSequential(\n",
       "\t\tSequential(\n",
       "\t\t\tLinear(2 -> 32)\n",
       "\t\t\tLambda()\n",
       "\t\t\tLinear(2 -> 16)\n",
       "\t\t\tLambda()\n",
       "\t\t)\n",
       "\t\tSequential(\n",
       "\t\t\tLinear(2 -> 32)\n",
       "\t\t\tLambda()\n",
       "\t\t\tLinear(2 -> 16)\n",
       "\t\t\tLambda()\n",
       "\t\t)\n",
       "\t\tSequential(\n",
       "\t\t\tLinear(2 -> 32)\n",
       "\t\t\tLambda()\n",
       "\t\t\tLinear(2 -> 16)\n",
       "\t\t\tLambda()\n",
       "\t\t)\n",
       "\t\tSequential(\n",
       "\t\t\tLinear(2 -> 32)\n",
       "\t\t\tLambda()\n",
       "\t\t\tLinear(2 -> 16)\n",
       "\t\t\tLambda()\n",
       "\t\t)\n",
       "\t)\n",
       "\tLinear(2 -> 10)\n",
       ")"
      ]
     },
     "execution_count": 8,
     "metadata": {},
     "output_type": "execute_result"
    }
   ],
   "source": [
    "/* Network Architecture for RgNet */\n",
    "rgnet"
   ]
  },
  {
   "cell_type": "code",
   "execution_count": 9,
   "metadata": {},
   "outputs": [
    {
     "name": "stdout",
     "output_type": "stream",
     "text": [
      "weight: (32, 4) cpu() float32 hasGradient\n",
      "[ Exceed max print size ]\n",
      "bias: (32) cpu() float32 hasGradient\n",
      "[0., 0., 0., 0., 0., 0., 0., 0., 0., 0., 0., 0., 0., 0., 0., 0., 0., 0., 0., 0., ... 12 more]\n",
      "\n",
      "weight: (16, 32) cpu() float32 hasGradient\n",
      "[ Exceed max print size ]\n",
      "bias: (16) cpu() float32 hasGradient\n",
      "[0., 0., 0., 0., 0., 0., 0., 0., 0., 0., 0., 0., 0., 0., 0., 0.]\n",
      "\n",
      "weight: (32, 16) cpu() float32 hasGradient\n",
      "[ Exceed max print size ]\n",
      "bias: (32) cpu() float32 hasGradient\n",
      "[0., 0., 0., 0., 0., 0., 0., 0., 0., 0., 0., 0., 0., 0., 0., 0., 0., 0., 0., 0., ... 12 more]\n",
      "\n",
      "weight: (16, 32) cpu() float32 hasGradient\n",
      "[ Exceed max print size ]\n",
      "bias: (16) cpu() float32 hasGradient\n",
      "[0., 0., 0., 0., 0., 0., 0., 0., 0., 0., 0., 0., 0., 0., 0., 0.]\n",
      "\n",
      "weight: (32, 16) cpu() float32 hasGradient\n",
      "[ Exceed max print size ]\n",
      "bias: (32) cpu() float32 hasGradient\n",
      "[0., 0., 0., 0., 0., 0., 0., 0., 0., 0., 0., 0., 0., 0., 0., 0., 0., 0., 0., 0., ... 12 more]\n",
      "\n",
      "weight: (16, 32) cpu() float32 hasGradient\n",
      "[ Exceed max print size ]\n",
      "bias: (16) cpu() float32 hasGradient\n",
      "[0., 0., 0., 0., 0., 0., 0., 0., 0., 0., 0., 0., 0., 0., 0., 0.]\n",
      "\n",
      "weight: (32, 16) cpu() float32 hasGradient\n",
      "[ Exceed max print size ]\n",
      "bias: (32) cpu() float32 hasGradient\n",
      "[0., 0., 0., 0., 0., 0., 0., 0., 0., 0., 0., 0., 0., 0., 0., 0., 0., 0., 0., 0., ... 12 more]\n",
      "\n",
      "weight: (16, 32) cpu() float32 hasGradient\n",
      "[ Exceed max print size ]\n",
      "bias: (16) cpu() float32 hasGradient\n",
      "[0., 0., 0., 0., 0., 0., 0., 0., 0., 0., 0., 0., 0., 0., 0., 0.]\n",
      "\n",
      "weight: (10, 16) cpu() float32 hasGradient\n",
      "[ Exceed max print size ]\n",
      "bias: (10) cpu() float32 hasGradient\n",
      "[0., 0., 0., 0., 0., 0., 0., 0., 0., 0.]\n",
      "\n"
     ]
    }
   ],
   "source": [
    "/* Parameters for RgNet */\n",
    "for (param in rgnet.getParameters()) {\n",
    "    println(param.getValue().getArray());\n",
    "}"
   ]
  },
  {
   "cell_type": "markdown",
   "metadata": {},
   "source": [
    "Since the layers are hierarchically nested,\n",
    "we can also access them by calling their `getChildren()` method\n",
    "to get a `BlockList`(also an extension of `PairList`) of their inner blocks.\n",
    "It shares methods with `ParameterList` and as such we can use their\n",
    "familiar structure to access the blocks. We can call `get(i)` to get the\n",
    "`Pair<String, Block>` at the index `i` we want, and then finally `getValue()` to get the actual\n",
    "block. We can do this in one step as shown above with `valueAt(i)`. Then we have to repeat that to get that blocks child and so on.\n",
    "\n",
    "Here, we access the first major block, \n",
    "within it the second subblock, \n",
    "and within that the bias of the first layer,\n",
    "with as follows:"
   ]
  },
  {
   "cell_type": "code",
   "execution_count": 10,
   "metadata": {},
   "outputs": [
    {
     "data": {
      "text/plain": [
       "bias: (32) cpu() float32 hasGradient\n",
       "[0., 0., 0., 0., 0., 0., 0., 0., 0., 0., 0., 0., 0., 0., 0., 0., 0., 0., 0., 0., ... 12 more]\n"
      ]
     },
     "execution_count": 10,
     "metadata": {},
     "output_type": "execute_result"
    }
   ],
   "source": [
    "val majorBlock1 = rgnet.getChildren().get(0).getValue();\n",
    "val subBlock2 = majorBlock1.getChildren().valueAt(1);\n",
    "val linearLayer1 = subBlock2.getChildren().valueAt(0);\n",
    "val bias = linearLayer1.getParameters().valueAt(1).getArray();\n",
    "bias"
   ]
  },
  {
   "cell_type": "markdown",
   "metadata": {},
   "source": [
    "## Parameter Initialization\n",
    "\n",
    "Now that we know how to access the parameters,\n",
    "let us look at how to initialize them properly.\n",
    "We discussed the need for initialization in :numref:`sec_numerical_stability`. \n",
    "By default, DJL initializes weight matrices\n",
    "based on your set initializer \n",
    "and the bias parameters are all set to $0$.\n",
    "However, we will often want to initialize our weights\n",
    "according to various other protocols. \n",
    "DJL's `ai.djl.training.initializer` package provides a variety \n",
    "of preset initialization methods.\n",
    "If we want to create a custom initializer,\n",
    "we need to do some extra work.\n",
    "\n",
    "### Built-in Initialization\n",
    "\n",
    "In DJL, when setting the initializer for blocks, the default `setInitializer()` function does not overwrite\n",
    "any previous set initializers. So if you set an initializer earlier, but decide you want to change your initializer and call `setInitializer()` again, the second `setInitializer()` will NOT overwrite your first one.\n",
    "\n",
    "Additionally, when you call `setInitializer()` on a block, all internal blocks will also call `setInitializer()` with the same given `initializer`.\n",
    "\n",
    "This means that we can call `setInitializer()` on the highest level of a block and know that all internal blocks that do not have an initializer already set will be set to that given `initializer`.\n",
    "\n",
    "This setup has the advantage that we don't have to worry about our `setInitializer()` overriding our previous `initializer`s on internal blocks!\n",
    "\n",
    "If you want to however, you can explicitly set an initializer for a `Parameter` by calling its `setInitializer()` function directly."
   ]
  },
  {
   "cell_type": "markdown",
   "metadata": {},
   "source": [
    "Let us begin by calling on built-in initializers. The code below initializes all parameters \n",
    "to a given constant value 1, by using the `ConstantInitializer()` initializer. \n",
    "\n",
    "Note that this will not do anything currently since we have already set\n",
    "our initializer in the previous code block.\n",
    "We can verify this by checking the weight of a parameter."
   ]
  },
  {
   "cell_type": "code",
   "execution_count": null,
   "metadata": {},
   "outputs": [],
   "source": [
    "net.setInitializer(new ConstantInitializer(1), Parameter.Type.WEIGHT);\n",
    "net.initialize(manager, DataType.FLOAT32, x.getShape());\n",
    "Block linearLayer = net.getChildren().get(0).getValue();\n",
    "NDArray weight = linearLayer.getParameters().get(0).getValue().getArray();\n",
    "weight"
   ]
  },
  {
   "cell_type": "markdown",
   "metadata": {},
   "source": [
    "We can see these initializations however if we create a new network.\n",
    "Let us write a function to create these network architectures for us\n",
    "conveniently."
   ]
  },
  {
   "cell_type": "code",
   "execution_count": 11,
   "metadata": {},
   "outputs": [],
   "source": [
    "fun getNet() : SequentialBlock {\n",
    "    val net = SequentialBlock();\n",
    "    net.add(Linear.builder().setUnits(8).build());\n",
    "    net.add(Activation.reluBlock());\n",
    "    net.add(Linear.builder().setUnits(1).build());\n",
    "    return net;\n",
    "}"
   ]
  },
  {
   "cell_type": "markdown",
   "metadata": {},
   "source": [
    "If we run our previous initializer on this new net and check a parameter, we'll\n",
    "see that everything is initialized properly! (to 7777!)"
   ]
  },
  {
   "cell_type": "code",
   "execution_count": 12,
   "metadata": {},
   "outputs": [
    {
     "data": {
      "text/plain": [
       "weight: (8, 4) cpu() float32 hasGradient\n",
       "[[7777., 7777., 7777., 7777.],\n",
       " [7777., 7777., 7777., 7777.],\n",
       " [7777., 7777., 7777., 7777.],\n",
       " [7777., 7777., 7777., 7777.],\n",
       " [7777., 7777., 7777., 7777.],\n",
       " [7777., 7777., 7777., 7777.],\n",
       " [7777., 7777., 7777., 7777.],\n",
       " [7777., 7777., 7777., 7777.],\n",
       "]\n"
      ]
     },
     "execution_count": 12,
     "metadata": {},
     "output_type": "execute_result"
    }
   ],
   "source": [
    "val net = getNet();\n",
    "net.setInitializer(ConstantInitializer(7777f), Parameter.Type.WEIGHT);\n",
    "net.initialize(manager, DataType.FLOAT32, x.getShape());\n",
    "val linearLayer = net.getChildren().valueAt(0);\n",
    "val weight = linearLayer.getParameters().valueAt(0).getArray();\n",
    "weight"
   ]
  },
  {
   "cell_type": "markdown",
   "metadata": {},
   "source": [
    "We can also initialize all parameters \n",
    "as Gaussian random variables \n",
    "with standard deviation $.01$."
   ]
  },
  {
   "cell_type": "code",
   "execution_count": 13,
   "metadata": {
    "attributes": {
     "classes": [],
     "id": "",
     "n": "10"
    }
   },
   "outputs": [
    {
     "data": {
      "text/plain": [
       "weight: (8, 4) cpu() float32 hasGradient\n",
       "[[ 0.0221,  0.0116,  0.0077,  0.0048],\n",
       " [ 0.0104,  0.003 ,  0.0118,  0.0015],\n",
       " [ 0.0189, -0.0117, -0.0123,  0.0156],\n",
       " [-0.0177, -0.0055, -0.0045, -0.0236],\n",
       " [ 0.0058,  0.0054, -0.0186,  0.0268],\n",
       " [-0.0198,  0.0125, -0.0021, -0.0055],\n",
       " [ 0.0024, -0.0068, -0.0004, -0.0014],\n",
       " [-0.0049,  0.0038, -0.0002,  0.0041],\n",
       "]\n"
      ]
     },
     "execution_count": 13,
     "metadata": {},
     "output_type": "execute_result"
    }
   ],
   "source": [
    "val net = getNet();\n",
    "net.setInitializer(NormalInitializer(), Parameter.Type.WEIGHT);\n",
    "net.initialize(manager, DataType.FLOAT32, x.getShape());\n",
    "val linearLayer = net.getChildren().valueAt(0);\n",
    "val weight = linearLayer.getParameters().valueAt(0).getArray();\n",
    "weight"
   ]
  },
  {
   "cell_type": "markdown",
   "metadata": {},
   "source": [
    "We can also apply different initializers for certain Blocks.\n",
    "For example, below we initialize the first layer\n",
    "with the `XavierInitializer` initializer\n",
    "and initialize the second layer \n",
    "to a constant value of 0.\n",
    "\n",
    "We will do this without the `getNet()` function as it will be easier\n",
    "to have the reference to each block we want to set.\n"
   ]
  },
  {
   "cell_type": "code",
   "execution_count": 15,
   "metadata": {
    "attributes": {
     "classes": [],
     "id": "",
     "n": "11"
    }
   },
   "outputs": [
    {
     "name": "stdout",
     "output_type": "stream",
     "text": [
      "weight: (8, 4) cpu() float32 hasGradient\n",
      "[[ 0.0976,  0.1857,  0.4304,  0.6885],\n",
      " [ 0.2055,  0.7159,  0.0898,  0.6945],\n",
      " [-0.1527,  0.2471,  0.2918, -0.2312],\n",
      " [-0.1248, -0.4049,  0.7835, -0.8866],\n",
      " [ 0.9273, -0.4547, -0.2331, -0.0447],\n",
      " [ 0.5835,  0.6243,  0.0578, -0.04  ],\n",
      " [ 0.1361, -0.2144,  0.8512,  0.6722],\n",
      " [-0.8579, -0.3252, -0.8257,  0.2963],\n",
      "]\n",
      "\n",
      "weight: (1, 4) cpu() float32 hasGradient\n",
      "[[0., 0., 0., 0.],\n",
      "]\n",
      "\n"
     ]
    }
   ],
   "source": [
    "val net = SequentialBlock();\n",
    "val linear1 = Linear.builder().setUnits(8).build();\n",
    "net.add(linear1);\n",
    "net.add(Activation.reluBlock());\n",
    "val linear2 = Linear.builder().setUnits(1).build();\n",
    "net.add(linear2);\n",
    "\n",
    "linear1.setInitializer(XavierInitializer(), Parameter.Type.WEIGHT);\n",
    "linear1.initialize(manager, DataType.FLOAT32, x.getShape());\n",
    "\n",
    "linear2.setInitializer(Initializer.ZEROS, Parameter.Type.WEIGHT);\n",
    "linear2.initialize(manager, DataType.FLOAT32, x.getShape());\n",
    "\n",
    "println(linear1.getParameters().valueAt(0).getArray());\n",
    "println(linear2.getParameters().valueAt(0).getArray());"
   ]
  },
  {
   "cell_type": "markdown",
   "metadata": {},
   "source": [
    "Finally, we can directly access the `Parameter.setInitializer()` and set their initializers individually."
   ]
  },
  {
   "cell_type": "code",
   "execution_count": 16,
   "metadata": {},
   "outputs": [
    {
     "name": "stdout",
     "output_type": "stream",
     "text": [
      "weight: (8, 4) cpu() float32 hasGradient\n",
      "[[ 0.0221,  0.0116,  0.0077,  0.0048],\n",
      " [ 0.0104,  0.003 ,  0.0118,  0.0015],\n",
      " [ 0.0189, -0.0117, -0.0123,  0.0156],\n",
      " [-0.0177, -0.0055, -0.0045, -0.0236],\n",
      " [ 0.0058,  0.0054, -0.0186,  0.0268],\n",
      " [-0.0198,  0.0125, -0.0021, -0.0055],\n",
      " [ 0.0024, -0.0068, -0.0004, -0.0014],\n",
      " [-0.0049,  0.0038, -0.0002,  0.0041],\n",
      "]\n",
      "\n",
      "weight: (1, 8) cpu() float32 hasGradient\n",
      "[[1., 1., 1., 1., 1., 1., 1., 1.],\n",
      "]\n",
      "\n"
     ]
    }
   ],
   "source": [
    "val net = getNet();\n",
    "val params = net.getParameters();\n",
    "\n",
    "params.get(\"01Linear_weight\").setInitializer(NormalInitializer());\n",
    "params.get(\"03Linear_weight\").setInitializer(Initializer.ONES);\n",
    "\n",
    "net.initialize(manager, DataType.FLOAT32, Shape(2, 4));\n",
    "\n",
    "println(params.valueAt(0).getArray());\n",
    "println(params.valueAt(2).getArray());"
   ]
  },
  {
   "cell_type": "markdown",
   "metadata": {},
   "source": [
    "### Custom Initialization\n",
    "\n",
    "Sometimes, the initialization methods we need \n",
    "are not standard in DJL. \n",
    "In these cases, we can define a class to implement the `Initializer` interface. \n",
    "We only have to implement the `initialize()` function,\n",
    "which takes an `NDManager`, a `Shape`, and the `DataType`. \n",
    "We then create the `NDArray` with the aforementioned `Shape` and `DataType`\n",
    "and initialize it to what we want! You can also design your\n",
    "initializer to take in some parameters. Simply declare them\n",
    "as fields in the class and pass them in as inputs to the constructor!\n",
    "In the example below, we define an initializer\n",
    "for the following strange distribution:\n",
    "\n",
    "$$\n",
    "\\begin{aligned}\n",
    "    w \\sim \\begin{cases}\n",
    "        U[5, 10] & \\text{ with probability } \\frac{1}{4} \\\\\n",
    "            0    & \\text{ with probability } \\frac{1}{2} \\\\\n",
    "        U[-10, -5] & \\text{ with probability } \\frac{1}{4}\n",
    "    \\end{cases}\n",
    "\\end{aligned}\n",
    "$$"
   ]
  },
  {
   "cell_type": "code",
   "execution_count": 17,
   "metadata": {},
   "outputs": [],
   "source": [
    "class MyInit : Initializer {\n",
    "\n",
    "\n",
    "    @Override\n",
    "    override fun initialize(manager:NDManager , shape:Shape , dataType:DataType ) : NDArray {\n",
    "        println(\"Init %s\".format(shape.toString()))\n",
    "        // Here we generate data points \n",
    "        // from a uniform distribution [-10, 10]\n",
    "       val data = manager.randomUniform(-10f, 10f, shape, dataType);\n",
    "        // We keep the data points whose absolute value is >= 5\n",
    "        // and set the others to 0.\n",
    "        // This generates the distribution `w` shown above.\n",
    "        val absGte5 = data.abs().gte(5); // returns boolean NDArray where \n",
    "                                             // true indicates abs >= 5 and\n",
    "                                             // false otherwise\n",
    "        return data.mul(absGte5); // keeps true indices and sets false indices to 0.\n",
    "                                  // special operation when multiplying a numerical\n",
    "                                  // NDArray with a boolean NDArray\n",
    "    }\n",
    "\n",
    "}"
   ]
  },
  {
   "cell_type": "code",
   "execution_count": 18,
   "metadata": {},
   "outputs": [
    {
     "name": "stdout",
     "output_type": "stream",
     "text": [
      "Init (8, 4)\n",
      "Init (1, 8)\n"
     ]
    },
    {
     "data": {
      "text/plain": [
       "weight: (8, 4) cpu() float32 hasGradient\n",
       "[[ 0.    ,  0.    ,  0.    ,  6.8853],\n",
       " [ 0.    ,  7.1589,  0.    ,  6.945 ],\n",
       " [-0.    ,  0.    ,  0.    , -0.    ],\n",
       " [-0.    , -0.    ,  7.8355, -8.8657],\n",
       " [ 9.2733, -0.    , -0.    , -0.    ],\n",
       " [ 5.8345,  6.2434,  0.    , -0.    ],\n",
       " [ 0.    , -0.    ,  8.5119,  6.7216],\n",
       " [-8.5793, -0.    , -8.2574,  0.    ],\n",
       "]\n"
      ]
     },
     "execution_count": 18,
     "metadata": {},
     "output_type": "execute_result"
    }
   ],
   "source": [
    "val net = getNet();\n",
    "net.setInitializer(MyInit(), Parameter.Type.WEIGHT);\n",
    "net.initialize(manager, DataType.FLOAT32, x.getShape());\n",
    "val linearLayer = net.getChildren().valueAt(0);\n",
    "val weight = linearLayer.getParameters().valueAt(0).getArray();\n",
    "weight"
   ]
  },
  {
   "cell_type": "markdown",
   "metadata": {},
   "source": [
    "Note that we always have the option \n",
    "of setting parameters directly by calling `getValue().getArray()` \n",
    "to access the underlying `NDArray`. \n",
    "A note for advanced users: \n",
    "you cannot directly modify parameters within a `GarbageCollector` scope.\n",
    "You must modify them outside the `GarbageCollector` scope to avoid confusing \n",
    "the automatic differentiation mechanics."
   ]
  },
  {
   "cell_type": "code",
   "execution_count": 19,
   "metadata": {
    "attributes": {
     "classes": [],
     "id": "",
     "n": "13"
    }
   },
   "outputs": [
    {
     "data": {
      "text/plain": [
       "weight: (8, 4) cpu() float32 hasGradient\n",
       "[[ 2.02000000e+03,  7.77777791e-01,  7.77777791e-01,  1.54281282e+00],\n",
       " [ 7.77777791e-01,  1.57321250e+00,  7.77777791e-01,  1.54944825e+00],\n",
       " [ 7.77777791e-01,  7.77777791e-01,  7.77777791e-01,  7.77777791e-01],\n",
       " [ 7.77777791e-01,  7.77777791e-01,  1.64838457e+00, -2.07304537e-01],\n",
       " [ 1.80813932e+00,  7.77777791e-01,  7.77777791e-01,  7.77777791e-01],\n",
       " [ 1.42605567e+00,  1.47148597e+00,  7.77777791e-01,  7.77777791e-01],\n",
       " [ 7.77777791e-01,  7.77777791e-01,  1.72354805e+00,  1.52461946e+00],\n",
       " [-1.75475433e-01,  7.77777791e-01, -1.39712647e-01,  7.77777791e-01],\n",
       "]\n"
      ]
     },
     "execution_count": 19,
     "metadata": {},
     "output_type": "execute_result"
    }
   ],
   "source": [
    "// '__'i() is an inplace operation to modify the original NDArray\n",
    "val weightLayer = net.getChildren().valueAt(0)\n",
    "    .getParameters().valueAt(0).getArray();\n",
    "weightLayer.addi(7);\n",
    "weightLayer.divi(9);\n",
    "weightLayer.set(NDIndex(0, 0), 2020); // set the (0, 0) index to 2020\n",
    "weightLayer;"
   ]
  },
  {
   "cell_type": "markdown",
   "metadata": {},
   "source": [
    "## Tied Parameters\n",
    "\n",
    "Often, we want to share parameters across multiple layers.\n",
    "Later we will see that when learning word embeddings,\n",
    "it might be sensible to use the same parameters\n",
    "both for encoding and decoding words. \n",
    "We discussed one such case when we introduced :numref:`sec_model_construction`. \n",
    "Let us see how to do this a bit more elegantly. \n",
    "In the following we allocate a dense layer \n",
    "and then use its parameters specifically \n",
    "to set those of another layer."
   ]
  },
  {
   "cell_type": "code",
   "execution_count": 20,
   "metadata": {},
   "outputs": [
    {
     "data": {
      "text/plain": [
       "ND: (2, 10) cpu() float32\n",
       "[[-3.92868242e-06,  3.34342758e-06, -7.98338078e-07,  2.95835832e-07,  4.77646699e-06,  1.38241171e-06,  2.90955313e-08, -9.52185246e-07,  1.51947017e-06,  3.47174478e-06],\n",
       " [-6.96133338e-06,  8.60772980e-06, -2.39711335e-06, -1.57033855e-06,  7.75049739e-06,  4.43667705e-06,  9.20264029e-07, -2.27942428e-06,  4.81901225e-06,  7.78320646e-06],\n",
       "]\n"
      ]
     },
     "execution_count": 20,
     "metadata": {},
     "output_type": "execute_result"
    }
   ],
   "source": [
    "val net = SequentialBlock();\n",
    "\n",
    "// We need to give the shared layer a name \n",
    "// such that we can reference its parameters\n",
    "val shared = Linear.builder().setUnits(8).build();\n",
    "val sharedRelu = SequentialBlock();\n",
    "sharedRelu.add(shared);\n",
    "sharedRelu.add(Activation.reluBlock());\n",
    "\n",
    "net.add(Linear.builder().setUnits(8).build());\n",
    "net.add(Activation.reluBlock());\n",
    "net.add(sharedRelu)\n",
    "net.add(sharedRelu)\n",
    "net.add(Linear.builder().setUnits(10).build());\n",
    "\n",
    "val x = manager.randomUniform(-10f, 10f, Shape(2, 20), DataType.FLOAT32);\n",
    "\n",
    "net.setInitializer(NormalInitializer(), Parameter.Type.WEIGHT);\n",
    "net.initialize(manager, DataType.FLOAT32, x.getShape());\n",
    "\n",
    "net.forward(ps, NDList(x), false).singletonOrThrow();"
   ]
  },
  {
   "cell_type": "code",
   "execution_count": 21,
   "metadata": {},
   "outputs": [
    {
     "data": {
      "text/plain": [
       "ND: (8, 8) cpu() boolean\n",
       "[[ true,  true,  true,  true,  true,  true,  true,  true],\n",
       " [ true,  true,  true,  true,  true,  true,  true,  true],\n",
       " [ true,  true,  true,  true,  true,  true,  true,  true],\n",
       " [ true,  true,  true,  true,  true,  true,  true,  true],\n",
       " [ true,  true,  true,  true,  true,  true,  true,  true],\n",
       " [ true,  true,  true,  true,  true,  true,  true,  true],\n",
       " [ true,  true,  true,  true,  true,  true,  true,  true],\n",
       " [ true,  true,  true,  true,  true,  true,  true,  true],\n",
       "]\n"
      ]
     },
     "execution_count": 21,
     "metadata": {},
     "output_type": "execute_result"
    }
   ],
   "source": [
    "// Check that the parameters are the same\n",
    "val shared1 = net.getChildren().valueAt(2)\n",
    "    .getParameters().valueAt(0).getArray();\n",
    "val shared2 = net.getChildren().valueAt(3)\n",
    "    .getParameters().valueAt(0).getArray();\n",
    "shared1.eq(shared2);"
   ]
  },
  {
   "cell_type": "markdown",
   "metadata": {},
   "source": [
    "This example shows that the parameters \n",
    "of the second and third layer are tied. \n",
    "They are not just equal, they are \n",
    "represented by the same exact `NDArray`. \n",
    "Thus, if we change one of the parameters,\n",
    "the other one changes, too. \n",
    "You might wonder, \n",
    "*when parameters are tied\n",
    "what happens to the gradients?*\n",
    "Since the model parameters contain gradients,\n",
    "the gradients of the second hidden layer\n",
    "and the third hidden layer are added together\n",
    "in `shared.getGradient()` during backpropagation.\n",
    "\n",
    "## Summary\n",
    "\n",
    "* We have several ways to access, initialize, and tie model parameters.\n",
    "* We can use custom initialization.\n",
    "* DJL has a sophisticated mechanism for accessing parameters in a unique and hierarchical manner.\n",
    "\n",
    "\n",
    "## Exercises\n",
    "\n",
    "1. Use the FancyMLP defined in :numref:`sec_model_construction` and access the parameters of the various layers.\n",
    "1. Look at the [DJL documentation](https://javadoc.io/doc/ai.djl/api/latest/ai/djl/training/initializer/Initializer.html) and explore different initializers.\n",
    "1. Try accessing the model parameters after `net.initialize()` and before `predictor.predict(x)` to observe the shape of the model parameters. What changes? Why?\n",
    "1. Construct a multilayer perceptron containing a shared parameter layer and train it. During the training process, observe the model parameters and gradients of each layer.\n",
    "1. Why is sharing parameters a good idea?"
   ]
  }
 ],
 "metadata": {
  "kernelspec": {
   "display_name": "Kotlin",
   "language": "kotlin",
   "name": "kotlin"
  },
  "language_info": {
   "codemirror_mode": "text/x-kotlin",
   "file_extension": ".kt",
   "mimetype": "text/x-kotlin",
   "name": "kotlin",
   "nbconvert_exporter": "",
   "pygments_lexer": "kotlin",
   "version": "1.8.0-dev-707"
  }
 },
 "nbformat": 4,
 "nbformat_minor": 4
}
