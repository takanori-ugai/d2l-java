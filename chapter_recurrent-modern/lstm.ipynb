{
 "cells": [
  {
   "cell_type": "markdown",
   "metadata": {
    "origin_pos": 0
   },
   "source": [
    "# Long Short-Term Memory (LSTM)\n",
    ":label:`sec_lstm`\n",
    "\n",
    "The challenge to address long-term information preservation and short-term input\n",
    "skipping in latent variable models has existed for a long time. One of the\n",
    "earliest approaches to address this was the\n",
    "long short-term memory (LSTM) :cite:`Hochreiter.Schmidhuber.1997`. It shares many of the properties of the\n",
    "GRU.\n",
    "Interestingly, LSTMs have a slightly more complex\n",
    "design than GRUs but predates GRUs by almost two decades.\n",
    "\n",
    "\n",
    "\n",
    "## Gated Memory Cell\n",
    "\n",
    "Arguably LSTM's design is inspired\n",
    "by logic gates of a computer.\n",
    "LSTM introduces a *memory cell* (or *cell* for short)\n",
    "that has the same shape as the hidden state\n",
    "(some literatures consider the memory cell\n",
    "as a special type of the hidden state),\n",
    "engineered to record additional information.\n",
    "To control the memory cell\n",
    "we need a number of gates.\n",
    "One gate is needed to read out the entries from the\n",
    "cell.\n",
    "We will refer to this as the\n",
    "*output gate*.\n",
    "A second gate is needed to decide when to read data into the\n",
    "cell.\n",
    "We refer to this as the *input gate*.\n",
    "Last, we need a mechanism to reset\n",
    "the content of the cell, governed by a *forget gate*.\n",
    "The motivation for such a\n",
    "design is the same as that of GRUs,\n",
    "namely to be able to decide when to remember and\n",
    "when to ignore inputs in the hidden state via a dedicated mechanism. Let us see\n",
    "how this works in practice.\n",
    "\n",
    "\n",
    "### Input Gate, Forget Gate, and Output Gate\n",
    "\n",
    "Just like in GRUs,\n",
    "the data feeding into the LSTM gates are\n",
    "the input at the current time step and\n",
    "the hidden state of the previous time step,\n",
    "as illustrated in :numref:`lstm_0`.\n",
    "They are processed by\n",
    "three fully-connected layers with a sigmoid activation function to compute the values of\n",
    "the input, forget. and output gates.\n",
    "As a result, values of the three gates\n",
    "are in the range of $(0, 1)$.\n",
    "\n",
    "![Computing the input gate, the forget gate, and the output gate in an LSTM model.](https://raw.githubusercontent.com/d2l-ai/d2l-en/master/img/lstm-0.svg)\n",
    ":label:`lstm_0`\n",
    "\n",
    "Mathematically,\n",
    "suppose that there are $h$ hidden units, the batch size is $n$, and the number of inputs is $d$.\n",
    "Thus, the input is $\\mathbf{X}_t \\in \\mathbb{R}^{n \\times d}$ and the hidden state of the previous time step is $\\mathbf{H}_{t-1} \\in \\mathbb{R}^{n \\times h}$. Correspondingly, the gates at time step $t$\n",
    "are defined as follows: the input gate is $\\mathbf{I}_t \\in \\mathbb{R}^{n \\times h}$, the forget gate is $\\mathbf{F}_t \\in \\mathbb{R}^{n \\times h}$, and the output gate is $\\mathbf{O}_t \\in \\mathbb{R}^{n \\times h}$. They are calculated as follows:\n",
    "\n",
    "$$\n",
    "\\begin{aligned}\n",
    "\\mathbf{I}_t &= \\sigma(\\mathbf{X}_t \\mathbf{W}_{xi} + \\mathbf{H}_{t-1} \\mathbf{W}_{hi} + \\mathbf{b}_i),\\\\\n",
    "\\mathbf{F}_t &= \\sigma(\\mathbf{X}_t \\mathbf{W}_{xf} + \\mathbf{H}_{t-1} \\mathbf{W}_{hf} + \\mathbf{b}_f),\\\\\n",
    "\\mathbf{O}_t &= \\sigma(\\mathbf{X}_t \\mathbf{W}_{xo} + \\mathbf{H}_{t-1} \\mathbf{W}_{ho} + \\mathbf{b}_o),\n",
    "\\end{aligned}\n",
    "$$\n",
    "\n",
    "where $\\mathbf{W}_{xi}, \\mathbf{W}_{xf}, \\mathbf{W}_{xo} \\in \\mathbb{R}^{d \\times h}$ and $\\mathbf{W}_{hi}, \\mathbf{W}_{hf}, \\mathbf{W}_{ho} \\in \\mathbb{R}^{h \\times h}$ are weight parameters and $\\mathbf{b}_i, \\mathbf{b}_f, \\mathbf{b}_o \\in \\mathbb{R}^{1 \\times h}$ are bias parameters.\n",
    "\n",
    "### Candidate Memory Cell\n",
    "\n",
    "Next we design the memory cell. Since we have not specified the action of the various gates yet, we first introduce the *candidate* memory cell $\\tilde{\\mathbf{C}}_t \\in \\mathbb{R}^{n \\times h}$. Its computation is similar to that of the three gates described above, but using a $\\tanh$ function with a value range for $(-1, 1)$ as the activation function. This leads to the following equation at time step $t$:\n",
    "\n",
    "$$\\tilde{\\mathbf{C}}_t = \\text{tanh}(\\mathbf{X}_t \\mathbf{W}_{xc} + \\mathbf{H}_{t-1} \\mathbf{W}_{hc} + \\mathbf{b}_c),$$\n",
    "\n",
    "where $\\mathbf{W}_{xc} \\in \\mathbb{R}^{d \\times h}$ and $\\mathbf{W}_{hc} \\in \\mathbb{R}^{h \\times h}$ are weight parameters and $\\mathbf{b}_c \\in \\mathbb{R}^{1 \\times h}$ is a bias parameter.\n",
    "\n",
    "A quick illustration of the candidate memory cell is shown in :numref:`lstm_1`.\n",
    "\n",
    "![Computing the candidate memory cell in an LSTM model.](https://raw.githubusercontent.com/d2l-ai/d2l-en/master/img/lstm-1.svg)\n",
    ":label:`lstm_1`\n",
    "\n",
    "### Memory Cell\n",
    "\n",
    "In GRUs, we have a mechanism to govern input and forgetting (or skipping).\n",
    "Similarly,\n",
    "in LSTMs we have two dedicated gates for such purposes: the input gate $\\mathbf{I}_t$ governs how much we take new data into account via $\\tilde{\\mathbf{C}}_t$ and the forget gate $\\mathbf{F}_t$ addresses how much of the old memory cell content $\\mathbf{C}_{t-1} \\in \\mathbb{R}^{n \\times h}$ we retain. Using the same pointwise multiplication trick as before, we arrive at the following update equation:\n",
    "\n",
    "$$\\mathbf{C}_t = \\mathbf{F}_t \\odot \\mathbf{C}_{t-1} + \\mathbf{I}_t \\odot \\tilde{\\mathbf{C}}_t.$$\n",
    "\n",
    "If the forget gate is always approximately 1 and the input gate is always approximately 0, the past memory cells $\\mathbf{C}_{t-1}$ will be saved over time and passed to the current time step.\n",
    "This design is introduced to alleviate the vanishing gradient problem and to better capture\n",
    "long range dependencies within sequences.\n",
    "\n",
    "We thus arrive at the flow diagram in :numref:`lstm_2`.\n",
    "\n",
    "![Computing the memory cell in an LSTM model.](https://raw.githubusercontent.com/d2l-ai/d2l-en/master/img/lstm-2.svg)\n",
    "\n",
    ":label:`lstm_2`\n",
    "\n",
    "\n",
    "### Hidden State\n",
    "\n",
    "Last, we need to define how to compute the hidden state $\\mathbf{H}_t \\in \\mathbb{R}^{n \\times h}$. This is where the output gate comes into play. In LSTM it is simply a gated version of the $\\tanh$ of the memory cell.\n",
    "This ensures that the values of $\\mathbf{H}_t$ are always in the interval $(-1, 1)$.\n",
    "\n",
    "$$\\mathbf{H}_t = \\mathbf{O}_t \\odot \\tanh(\\mathbf{C}_t).$$\n",
    "\n",
    "\n",
    "Whenever the output gate approximates 1 we effectively pass all memory information through to the predictor, whereas for the output gate close to 0 we retain all the information only within the memory cell and perform no further processing.\n",
    "\n",
    "\n",
    "\n",
    ":numref:`lstm_3` has a graphical illustration of the data flow.\n",
    "\n",
    "![Computing the hidden state in an LSTM model.](https://raw.githubusercontent.com/d2l-ai/d2l-en/master/img/lstm-3.svg)\n",
    ":label:`lstm_3`\n",
    "\n",
    "\n",
    "\n",
    "## Implementation from Scratch\n",
    "\n",
    "Now let us implement an LSTM from scratch.\n",
    "As same as the experiments in :numref:`sec_rnn_scratch`,\n",
    "we first load the time machine dataset.\n"
   ]
  },
  {
   "cell_type": "code",
   "execution_count": 4,
   "metadata": {},
   "outputs": [
    {
     "data": {
      "text/html": [
       "   <div id=\"QhLamO\"></div>\n",
       "   <script type=\"text/javascript\" data-lets-plot-script=\"library\">\n",
       "       if(!window.letsPlotCallQueue) {\n",
       "           window.letsPlotCallQueue = [];\n",
       "       }; \n",
       "       window.letsPlotCall = function(f) {\n",
       "           window.letsPlotCallQueue.push(f);\n",
       "       };\n",
       "       (function() {\n",
       "           var script = document.createElement(\"script\");\n",
       "           script.type = \"text/javascript\";\n",
       "           script.src = \"https://cdn.jsdelivr.net/gh/JetBrains/lets-plot@v2.4.0/js-package/distr/lets-plot.min.js\";\n",
       "           script.onload = function() {\n",
       "               window.letsPlotCall = function(f) {f();};\n",
       "               window.letsPlotCallQueue.forEach(function(f) {f();});\n",
       "               window.letsPlotCallQueue = [];\n",
       "               \n",
       "               \n",
       "           };\n",
       "           script.onerror = function(event) {\n",
       "               window.letsPlotCall = function(f) {};\n",
       "               window.letsPlotCallQueue = [];\n",
       "               var div = document.createElement(\"div\");\n",
       "               div.style.color = 'darkred';\n",
       "               div.textContent = 'Error loading Lets-Plot JS';\n",
       "               document.getElementById(\"QhLamO\").appendChild(div);\n",
       "           };\n",
       "           var e = document.getElementById(\"QhLamO\");\n",
       "           e.appendChild(script);\n",
       "       })();\n",
       "   </script>"
      ]
     },
     "metadata": {},
     "output_type": "display_data"
    }
   ],
   "source": [
    "%use @file[../djl.json]\n",
    "%use lets-plot\n",
    "@file:DependsOn(\"../D2J-1.0-SNAPSHOT.jar\")\n",
    "import jp.live.ugai.d2j.timemachine.RNNModelScratch\n",
    "import jp.live.ugai.d2j.timemachine.TimeMachine.trainCh8\n",
    "import jp.live.ugai.d2j.timemachine.TimeMachineDataset\n",
    "import jp.live.ugai.d2j.timemachine.Vocab\n",
    "import jp.live.ugai.d2j.RNNModel\n",
    "import jp.live.ugai.d2j.util.StopWatch\n",
    "import jp.live.ugai.d2j.util.Accumulator\n",
    "import jp.live.ugai.d2j.util.Training\n",
    "\n",
    "// %load ../utils/djl-imports\n",
    "// %load ../utils/plot-utils\n",
    "// %load ../utils/Functions.java\n",
    "// %load ../utils/PlotUtils.java\n",
    "\n",
    "// %load ../utils/StopWatch.java\n",
    "// %load ../utils/Accumulator.java\n",
    "// %load ../utils/Animator.java\n",
    "// %load ../utils/Training.java\n",
    "// %load ../utils/timemachine/Vocab.java\n",
    "// %load ../utils/timemachine/RNNModel.java\n",
    "// %load ../utils/timemachine/RNNModelScratch.java\n",
    "// %load ../utils/timemachine/TimeMachine.java\n",
    "// %load ../utils/timemachine/TimeMachineDataset.java\n",
    "import kotlin.random.Random\n",
    "import kotlin.collections.List\n",
    "import kotlin.collections.Map\n",
    "import kotlin.Pair"
   ]
  },
  {
   "cell_type": "code",
   "execution_count": 5,
   "metadata": {},
   "outputs": [],
   "source": [
    "val manager = NDManager.newBaseManager();"
   ]
  },
  {
   "cell_type": "code",
   "execution_count": 6,
   "metadata": {},
   "outputs": [],
   "source": [
    "    val batchSize = 32\n",
    "    val numSteps = 35\n",
    "\n",
    "    val dataset = TimeMachineDataset.Builder()\n",
    "        .setManager(manager)\n",
    "        .setMaxTokens(10000)\n",
    "        .setSampling(batchSize, false)\n",
    "        .setSteps(numSteps)\n",
    "        .build()\n",
    "    dataset.prepare()\n",
    "    val vocab = dataset.vocab"
   ]
  },
  {
   "cell_type": "markdown",
   "metadata": {
    "origin_pos": 3
   },
   "source": [
    "### Initializing Model Parameters\n",
    "\n",
    "Next we need to define and initialize the model parameters. As previously, the hyperparameter `numHiddens` defines the number of hidden units. We initialize weights following a Gaussian distribution with 0.01 standard deviation, and we set the biases to 0.\n"
   ]
  },
  {
   "cell_type": "code",
   "execution_count": 7,
   "metadata": {
    "origin_pos": 4,
    "tab": [
     "mxnet"
    ]
   },
   "outputs": [],
   "source": [
    "    fun normal(shape: Shape, device: Device): NDArray {\n",
    "        return manager.randomNormal(0.0f, 0.01f, shape, DataType.FLOAT32, device)\n",
    "    }\n",
    "\n",
    "    fun three(numInputs: Int, numHiddens: Int, device: Device): NDList {\n",
    "        return NDList(\n",
    "            normal(Shape(numInputs.toLong(), numHiddens.toLong()), device),\n",
    "            normal(Shape(numHiddens.toLong(), numHiddens.toLong()), device),\n",
    "            manager.zeros(Shape(numHiddens.toLong()), DataType.FLOAT32, device)\n",
    "        )\n",
    "    }\n",
    "\n",
    "    fun getLSTMParams(vocabSize: Int, numHiddens: Int, device: Device): NDList {\n",
    "        // Input gate parameters\n",
    "        var temp: NDList = three(vocabSize, numHiddens, device)\n",
    "        val W_xi: NDArray = temp.get(0)\n",
    "        val W_hi: NDArray = temp.get(1)\n",
    "        val b_i: NDArray = temp.get(2)\n",
    "\n",
    "        // Forget gate parameters\n",
    "        temp = three(vocabSize, numHiddens, device)\n",
    "        val W_xf: NDArray = temp.get(0)\n",
    "        val W_hf: NDArray = temp.get(1)\n",
    "        val b_f: NDArray = temp.get(2)\n",
    "\n",
    "        // Output gate parameters\n",
    "        temp = three(vocabSize, numHiddens, device)\n",
    "        val W_xo: NDArray = temp.get(0)\n",
    "        val W_ho: NDArray = temp.get(1)\n",
    "        val b_o: NDArray = temp.get(2)\n",
    "\n",
    "        // Candidate memory cell parameters\n",
    "        temp = three(vocabSize, numHiddens, device)\n",
    "        val W_xc: NDArray = temp.get(0)\n",
    "        val W_hc: NDArray = temp.get(1)\n",
    "        val b_c: NDArray = temp.get(2)\n",
    "\n",
    "        // Output layer parameters\n",
    "        val W_hq: NDArray = normal(Shape(numHiddens.toLong(), vocabSize.toLong()), device)\n",
    "        val b_q: NDArray = manager.zeros(Shape(vocabSize.toLong()), DataType.FLOAT32, device)\n",
    "\n",
    "        // Attach gradients\n",
    "        val params = NDList(\n",
    "            W_xi, W_hi, b_i, W_xf, W_hf, b_f, W_xo, W_ho, b_o, W_xc, W_hc, b_c, W_hq,\n",
    "            b_q\n",
    "        )\n",
    "        for (param in params) {\n",
    "            param.setRequiresGradient(true)\n",
    "        }\n",
    "        return params\n",
    "    }\n"
   ]
  },
  {
   "cell_type": "markdown",
   "metadata": {
    "origin_pos": 6
   },
   "source": [
    "### Defining the Model\n",
    "\n",
    "In the initialization function, the hidden state of the LSTM needs to return an *additional* memory cell with a value of 0 and a shape of (batch size, number of hidden units). Hence we get the following state initialization.\n"
   ]
  },
  {
   "cell_type": "code",
   "execution_count": 8,
   "metadata": {
    "origin_pos": 7,
    "tab": [
     "mxnet"
    ]
   },
   "outputs": [],
   "source": [
    "    fun initLSTMState(batchSize: Int, numHiddens: Int, device: Device): NDList {\n",
    "        return NDList(\n",
    "            manager.zeros(Shape(batchSize.toLong(), numHiddens.toLong()), DataType.FLOAT32, device),\n",
    "            manager.zeros(Shape(batchSize.toLong(), numHiddens.toLong()), DataType.FLOAT32, device)\n",
    "        )\n",
    "    }"
   ]
  },
  {
   "cell_type": "markdown",
   "metadata": {
    "origin_pos": 9
   },
   "source": [
    "The actual model is defined just like what we discussed before: providing three gates and an auxiliary memory cell. Note that only the hidden state is passed to the output layer. The memory cell $\\mathbf{C}_t$ does not directly participate in the output computation.\n"
   ]
  },
  {
   "cell_type": "code",
   "execution_count": 9,
   "metadata": {
    "origin_pos": 10,
    "tab": [
     "mxnet"
    ]
   },
   "outputs": [],
   "source": [
    "   fun lstm(inputs: NDArray, state: NDList, params: NDList): Pair<NDArray, NDList> {\n",
    "        val W_xi = params[0]\n",
    "        val W_hi = params[1]\n",
    "        val b_i = params[2]\n",
    "        val W_xf = params[3]\n",
    "        val W_hf = params[4]\n",
    "        val b_f = params[5]\n",
    "        val W_xo = params[6]\n",
    "        val W_ho = params[7]\n",
    "        val b_o = params[8]\n",
    "        val W_xc = params[9]\n",
    "        val W_hc = params[10]\n",
    "        val b_c = params[11]\n",
    "        val W_hq = params[12]\n",
    "        val b_q = params[13]\n",
    "        var H = state[0]\n",
    "        var C = state[1]\n",
    "        val outputs = NDList()\n",
    "        var X: NDArray\n",
    "        var Y: NDArray\n",
    "        var I: NDArray\n",
    "        var F: NDArray\n",
    "        var O: NDArray\n",
    "        var C_tilda: NDArray\n",
    "        for (i in 0 until inputs.size(0)) {\n",
    "            X = inputs[i]\n",
    "            I = Activation.sigmoid(X.dot(W_xi).add(H.dot(W_hi).add(b_i)))\n",
    "            F = Activation.sigmoid(X.dot(W_xf).add(H.dot(W_hf).add(b_f)))\n",
    "            O = Activation.sigmoid(X.dot(W_xo).add(H.dot(W_ho).add(b_o)))\n",
    "            C_tilda = Activation.tanh(X.dot(W_xc).add(H.dot(W_hc).add(b_c)))\n",
    "            C = F.mul(C).add(I.mul(C_tilda))\n",
    "            H = O.mul(Activation.tanh(C))\n",
    "            Y = H.dot(W_hq).add(b_q)\n",
    "            outputs.add(Y)\n",
    "        }\n",
    "        return Pair(if (outputs.size > 1) NDArrays.concat(outputs) else outputs[0], NDList(H, C))\n",
    "    }\n"
   ]
  },
  {
   "cell_type": "markdown",
   "metadata": {
    "origin_pos": 12
   },
   "source": [
    "### Training and Prediction\n",
    "\n",
    "Let us train an LSTM as same as what we did in :numref:`sec_gru`, by instantiating the `RNNModelScratch` class as introduced in :numref:`sec_rnn_scratch`.\n"
   ]
  },
  {
   "cell_type": "code",
   "execution_count": null,
   "metadata": {
    "origin_pos": 13,
    "tab": [
     "mxnet"
    ]
   },
   "outputs": [
    {
     "name": "stdout",
     "output_type": "stream",
     "text": [
      "10 : 17.987512425261023\n",
      "20 : 17.456555008756336\n",
      "30 : 16.756250658563452\n",
      "40 : 15.733315311233822\n",
      "50 : 14.588738995471852\n",
      "60 : 13.024693894128117\n",
      "70 : 11.896615957526722\n",
      "80 : 11.311850219601421\n",
      "90 : 10.87725516866155\n",
      "100 : 10.51270077292614\n",
      "110 : 10.181080345836675\n",
      "120 : 9.846072636206788\n",
      "130 : 9.429032445860424\n",
      "140 : 9.182622257477348\n",
      "150 : 8.839661388042837\n",
      "160 : 8.470459510765247\n",
      "170 : 8.274413157079868\n",
      "180 : 7.851216347172008\n",
      "190 : 7.6030459957881895\n",
      "200 : 7.153976916075779\n",
      "210 : 6.899856907150648\n",
      "220 : 6.5826942205661565\n",
      "230 : 6.3922043272388365\n",
      "240 : 6.039340291009065\n",
      "250 : 5.733006110647622\n",
      "260 : 5.47648925443606\n",
      "270 : 5.138043564766072\n",
      "280 : 4.755370230416373\n",
      "290 : 4.430931313760951\n",
      "300 : 4.172333614863039\n",
      "310 : 3.8082568111783437\n",
      "320 : 3.5947060384853957\n",
      "330 : 3.134375487974975\n",
      "340 : 2.9506107313881325\n",
      "350 : 2.6115556961829918\n",
      "360 : 2.4586846048390596\n",
      "370 : 2.1178097617815705\n",
      "380 : 1.9984216998548725\n",
      "390 : 1.7342695963176875\n",
      "400 : 1.61662531633966\n",
      "410 : 1.490990517555368\n",
      "420 : 1.318780217862195\n",
      "430 : 1.2317931710692962\n",
      "440 : 1.1886108439841456\n",
      "450 : 1.131258379063414\n"
     ]
    }
   ],
   "source": [
    "    val vocabSize = vocab!!.length()\n",
    "    val numHiddens = 256\n",
    "    val device = manager.device\n",
    "    val numEpochs = Integer.getInteger(\"MAX_EPOCH\", 500)\n",
    "\n",
    "    val lr = 1\n",
    "\n",
    "    val getParamsFn = ::getLSTMParams\n",
    "    val initLSTMStateFn = ::initLSTMState\n",
    "    val lstmFn = ::lstm\n",
    "    val model = RNNModelScratch(vocabSize, numHiddens, device, getParamsFn, initLSTMStateFn, lstmFn)\n",
    "    trainCh8(model, dataset, vocab, lr, numEpochs, device, false, manager)"
   ]
  },
  {
   "cell_type": "markdown",
   "metadata": {
    "origin_pos": 14
   },
   "source": [
    "## Concise Implementation\n",
    "\n",
    "Using high-level APIs,\n",
    "we can directly instantiate an `LSTM` model.\n",
    "This encapsulates all the configuration details that we made explicit above. The code is significantly faster as it uses compiled operators rather than Java for many details that we spelled out in detail before.\n"
   ]
  },
  {
   "cell_type": "code",
   "execution_count": null,
   "metadata": {
    "origin_pos": 15,
    "tab": [
     "mxnet"
    ]
   },
   "outputs": [],
   "source": [
    "    val lstmLayer = LSTM.builder()\n",
    "        .setNumLayers(1)\n",
    "        .setStateSize(numHiddens)\n",
    "        .optReturnState(true)\n",
    "        .optBatchFirst(false)\n",
    "        .build()\n",
    "    val modelConcise = RNNModel(lstmLayer, vocab.length())\n",
    "    trainCh8(modelConcise, dataset, vocab, lr, numEpochs, device, false, manager)"
   ]
  },
  {
   "cell_type": "markdown",
   "metadata": {
    "origin_pos": 17
   },
   "source": [
    "LSTMs are the prototypical latent variable autoregressive model with nontrivial state control.\n",
    "Many variants thereof have been proposed over the years, e.g., multiple layers, residual connections, different types of regularization. However, training LSTMs and other sequence models (such as GRUs) are quite costly due to the long range dependency of the sequence.\n",
    "Later we will encounter alternative models such as Transformers that can be used in some cases.\n",
    "\n",
    "\n",
    "## Summary\n",
    "\n",
    "* LSTMs have three types of gates: input gates, forget gates, and output gates that control the flow of information.\n",
    "* The hidden layer output of LSTM includes the hidden state and the memory cell. Only the hidden state is passed into the output layer. The memory cell is entirely internal.\n",
    "* LSTMs can alleviate vanishing and exploding gradients.\n",
    "\n",
    "\n",
    "## Exercises\n",
    "\n",
    "1. Adjust the hyperparameters and analyze the their influence on running time, perplexity, and the output sequence.\n",
    "1. How would you need to change the model to generate proper words as opposed to sequences of characters?\n",
    "1. Compare the computational cost for GRUs, LSTMs, and regular RNNs for a given hidden dimension. Pay special attention to the training and inference cost.\n",
    "1. Since the candidate memory cell ensures that the value range is between $-1$ and $1$ by  using the $\\tanh$ function, why does the hidden state need to use the $\\tanh$ function again to ensure that the output value range is between $-1$ and $1$?\n",
    "1. Implement an LSTM model for time series prediction rather than character sequence prediction.\n"
   ]
  }
 ],
 "metadata": {
  "kernelspec": {
   "display_name": "Kotlin",
   "language": "kotlin",
   "name": "kotlin"
  },
  "language_info": {
   "codemirror_mode": "text/x-kotlin",
   "file_extension": ".kt",
   "mimetype": "text/x-kotlin",
   "name": "kotlin",
   "nbconvert_exporter": "",
   "pygments_lexer": "kotlin",
   "version": "1.8.0-dev-707"
  }
 },
 "nbformat": 4,
 "nbformat_minor": 4
}
