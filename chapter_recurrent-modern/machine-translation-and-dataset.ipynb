{
 "cells": [
  {
   "cell_type": "markdown",
   "metadata": {
    "origin_pos": 0
   },
   "source": [
    "# Machine Translation and the Dataset\n",
    ":label:`sec_machine_translation`\n",
    "\n",
    "We have used RNNs to design language models,\n",
    "which are key to natural language processing.\n",
    "Another flagship benchmark is *machine translation*,\n",
    "a central problem domain for *sequence transduction* models\n",
    "that transform input sequences into output sequences.\n",
    "Playing a crucial role in various modern AI applications,\n",
    "sequence transduction models will form the focus of the remainder of this chapter\n",
    "and :numref:`chap_attention`.\n",
    "To this end,\n",
    "this section introduces the machine translation problem\n",
    "and its dataset that will be used later.\n",
    "\n",
    "\n",
    "*Machine translation* refers to the\n",
    "automatic translation of a sequence\n",
    "from one language to another.\n",
    "In fact, this field\n",
    "may date back to 1940s\n",
    "soon after digital computers were invented,\n",
    "especially by considering the use of computers\n",
    "for cracking language codes in World War II.\n",
    "For decades,\n",
    "statistical approaches\n",
    "had been dominant in this field :cite:`Brown.Cocke.Della-Pietra.ea.1988,Brown.Cocke.Della-Pietra.ea.1990`\n",
    "before the rise\n",
    "of\n",
    "end-to-end learning using\n",
    "neural networks.\n",
    "The latter\n",
    "is often called\n",
    "*neural machine translation*\n",
    "to distinguish itself from\n",
    "*statistical machine translation*\n",
    "that involves statistical analysis\n",
    "in components such as\n",
    "the translation model and the language model.\n",
    "\n",
    "\n",
    "Emphasizing end-to-end learning,\n",
    "this book will focus on neural machine translation methods.\n",
    "Different from our language model problem\n",
    "in :numref:`sec_language_model`\n",
    "whose corpus is in one single language,\n",
    "machine translation datasets\n",
    "are composed of pairs of text sequences\n",
    "that are in\n",
    "the source language and the target language, respectively.\n",
    "Thus,\n",
    "instead of reusing the preprocessing routine\n",
    "for language modeling,\n",
    "we need a different way to preprocess\n",
    "machine translation datasets.\n",
    "In the following,\n",
    "we show how to\n",
    "load the preprocessed data\n",
    "into minibatches for training.\n"
   ]
  },
  {
   "cell_type": "code",
   "execution_count": 1,
   "metadata": {},
   "outputs": [
    {
     "data": {
      "text/html": [
       "   <div id=\"mjbgtW\"></div>\n",
       "   <script type=\"text/javascript\" data-lets-plot-script=\"library\">\n",
       "       if(!window.letsPlotCallQueue) {\n",
       "           window.letsPlotCallQueue = [];\n",
       "       }; \n",
       "       window.letsPlotCall = function(f) {\n",
       "           window.letsPlotCallQueue.push(f);\n",
       "       };\n",
       "       (function() {\n",
       "           var script = document.createElement(\"script\");\n",
       "           script.type = \"text/javascript\";\n",
       "           script.src = \"https://cdn.jsdelivr.net/gh/JetBrains/lets-plot@v2.4.0/js-package/distr/lets-plot.min.js\";\n",
       "           script.onload = function() {\n",
       "               window.letsPlotCall = function(f) {f();};\n",
       "               window.letsPlotCallQueue.forEach(function(f) {f();});\n",
       "               window.letsPlotCallQueue = [];\n",
       "               \n",
       "               \n",
       "           };\n",
       "           script.onerror = function(event) {\n",
       "               window.letsPlotCall = function(f) {};\n",
       "               window.letsPlotCallQueue = [];\n",
       "               var div = document.createElement(\"div\");\n",
       "               div.style.color = 'darkred';\n",
       "               div.textContent = 'Error loading Lets-Plot JS';\n",
       "               document.getElementById(\"mjbgtW\").appendChild(div);\n",
       "           };\n",
       "           var e = document.getElementById(\"mjbgtW\");\n",
       "           e.appendChild(script);\n",
       "       })();\n",
       "   </script>"
      ]
     },
     "metadata": {},
     "output_type": "display_data"
    }
   ],
   "source": [
    "%use @file[../djl.json]\n",
    "%use lets-plot\n",
    "@file:DependsOn(\"../D2J-1.0-SNAPSHOT.jar\")\n",
    "import jp.live.ugai.d2j.timemachine.RNNModelScratch\n",
    "import jp.live.ugai.d2j.timemachine.TimeMachine\n",
    "import jp.live.ugai.d2j.timemachine.TimeMachineDataset\n",
    "import jp.live.ugai.d2j.timemachine.Vocab\n",
    "import jp.live.ugai.d2j.RNNModel\n",
    "import kotlin.random.Random\n",
    "import kotlin.collections.List\n",
    "import kotlin.collections.Map\n",
    "import kotlin.Pair\n",
    "\n",
    "// %load ../utils/djl-imports\n",
    "// %load ../utils/plot-utils\n",
    "// %load ../utils/Functions.java\n",
    "//\n",
    "// %load ../utils/timemachine/Vocab.java\n",
    "// %load ../utils/timemachine/RNNModel.java\n",
    "// %load ../utils/timemachine/RNNModelScratch.java\n",
    "// %load ../utils/timemachine/TimeMachine.java\n",
    "// %load ../utils/timemachine/TimeMachineDataset.java"
   ]
  },
  {
   "cell_type": "code",
   "execution_count": 2,
   "metadata": {},
   "outputs": [],
   "source": [
    "import java.nio.charset.*;\n",
    "import java.util.zip.*;\n",
    "import java.util.stream.*;\n",
    "import java.util.Locale"
   ]
  },
  {
   "cell_type": "code",
   "execution_count": 3,
   "metadata": {},
   "outputs": [],
   "source": [
    "val manager = NDManager.newBaseManager();"
   ]
  },
  {
   "cell_type": "markdown",
   "metadata": {
    "origin_pos": 4
   },
   "source": [
    "## Downloading and Preprocessing the Dataset\n",
    "\n",
    "To begin with,\n",
    "we download an English-French dataset\n",
    "that consists of [bilingual sentence pairs from the Tatoeba Project](http://www.manythings.org/anki/).\n",
    "Each line in the dataset\n",
    "is a tab-delimited pair\n",
    "of an English text sequence\n",
    "and the translated French text sequence.\n",
    "Note that each text sequence\n",
    "can be just one sentence or a paragraph of multiple sentences.\n",
    "In this machine translation problem\n",
    "where English is translated into French,\n",
    "English is the *source language*\n",
    "and French is the *target language*.\n"
   ]
  },
  {
   "cell_type": "code",
   "execution_count": 4,
   "metadata": {},
   "outputs": [
    {
     "name": "stdout",
     "output_type": "stream",
     "text": [
      "Go.\tVa !\n",
      "Hi.\tSalut !\n",
      "Run!\tCours !\n",
      "Run!\tCourez !\n",
      "Who?\tQui ?\n",
      "Wow!\tÇa alors !\n",
      "\n"
     ]
    }
   ],
   "source": [
    "fun readDataNMT() : String? {\n",
    "    DownloadUtils.download(\n",
    "            \"http://d2l-data.s3-accelerate.amazonaws.com/fra-eng.zip\", \"fra-eng.zip\");\n",
    "    val zipFile = ZipFile(File(\"fra-eng.zip\"));\n",
    "    val entries = zipFile.entries();\n",
    "    while (entries.hasMoreElements()) {\n",
    "        val entry = entries.nextElement();\n",
    "        if (entry.getName().contains(\"fra.txt\")) {\n",
    "            val stream = zipFile.getInputStream(entry);\n",
    "            return String(stream.readAllBytes(), StandardCharsets.UTF_8);\n",
    "        }\n",
    "    }\n",
    "    return null\n",
    "}\n",
    "\n",
    "val rawText = readDataNMT()\n",
    "println(rawText!!.substring(0, 75))"
   ]
  },
  {
   "cell_type": "markdown",
   "metadata": {
    "origin_pos": 6
   },
   "source": [
    "After downloading the dataset,\n",
    "we proceed with several preprocessing steps\n",
    "for the raw text data.\n",
    "For instance,\n",
    "we replace non-breaking space with space,\n",
    "convert uppercase letters to lowercase ones,\n",
    "and insert space between words and punctuation marks.\n"
   ]
  },
  {
   "cell_type": "code",
   "execution_count": 5,
   "metadata": {},
   "outputs": [
    {
     "name": "stdout",
     "output_type": "stream",
     "text": [
      "go .\tva !\n",
      "hi .\tsalut !\n",
      "run !\tcours !\n",
      "run !\tcourez !\n",
      "who ?\tqui ?\n",
      "wow !\tça alors !\n"
     ]
    }
   ],
   "source": [
    "fun noSpace(currChar: Char, prevChar: Char) : Boolean {\n",
    "    /* Preprocess the English-French dataset. */\n",
    "    return listOf(',', '.', '!', '?').contains(currChar)\n",
    "            && prevChar != ' '\n",
    "}\n",
    "\n",
    "\n",
    "fun preprocessNMT(_text: String): String {\n",
    "    // Replace non-breaking space with space, and convert uppercase letters to\n",
    "    // lowercase ones\n",
    "\n",
    "    val text = _text.replace('\\u202f', ' ').replace(\"\\\\xa0\".toRegex(), \" \").lowercase(Locale.getDefault())\n",
    "\n",
    "    // Insert space between words and punctuation marks\n",
    "    val out = StringBuilder();\n",
    "    var currChar : Char\n",
    "    for (i in 0 until text.length) {\n",
    "        currChar = text[i]\n",
    "            if (i > 0 && noSpace(currChar, text[i - 1])) {\n",
    "                out.append(' ')\n",
    "            }\n",
    "            out.append(currChar)\n",
    "    }\n",
    "    return out.toString();\n",
    "}\n",
    "\n",
    "\n",
    "val text = preprocessNMT(rawText);\n",
    "println(text.substring(0, 80));"
   ]
  },
  {
   "cell_type": "markdown",
   "metadata": {
    "origin_pos": 8
   },
   "source": [
    "## Tokenization\n",
    "\n",
    "Different from character-level tokenization\n",
    "in :numref:`sec_language_model`,\n",
    "for machine translation\n",
    "we prefer word-level tokenization here\n",
    "(state-of-the-art models may use more advanced tokenization techniques).\n",
    "The following `tokenizeNMT` function\n",
    "tokenizes the the first `numExamples` text sequence pairs,\n",
    "where\n",
    "each token is either a word or a punctuation mark.\n",
    "This function returns\n",
    "two lists of token lists: `source` and `target`.\n",
    "Specifically,\n",
    "`source.get(i)` is a list of tokens from the\n",
    "$i^\\mathrm{th}$ text sequence in the source language (English here) and `target.get(i)` is that in the target language (French here).\n"
   ]
  },
  {
   "cell_type": "code",
   "execution_count": 6,
   "metadata": {},
   "outputs": [
    {
     "name": "stdout",
     "output_type": "stream",
     "text": [
      "[go, .]\n",
      "[hi, .]\n",
      "[run, !]\n",
      "[run, !]\n",
      "[who, ?]\n",
      "[wow, !]\n"
     ]
    }
   ],
   "source": [
    "fun  tokenizeNMT(\n",
    "        text: String, numExamples: Int?) : Pair<List<List<String>>, List<List<String>>>{\n",
    "    val source = mutableListOf<List<String>>()\n",
    "    val target =  mutableListOf<List<String>>()\n",
    "\n",
    "    var i = 0;\n",
    "    for (line in text.split(\"\\n\")) {\n",
    "        if (numExamples != null && i > numExamples) {\n",
    "            break;\n",
    "        }\n",
    "        val parts = line.split(\"\\t\");\n",
    "        if (parts.size == 2) {\n",
    "            source.add(parts[0].split(\" \"));\n",
    "            target.add(parts[1].split(\" \"));\n",
    "        }\n",
    "        i += 1;\n",
    "    }\n",
    "    return Pair(source, target)\n",
    "}\n",
    "\n",
    "val pair = tokenizeNMT(text.toString(), null);\n",
    "val source = pair.first\n",
    "val target = pair.second\n",
    "for (subArr in source.subList(0, 6)) {\n",
    "    println(subArr)\n",
    "}\n"
   ]
  },
  {
   "cell_type": "code",
   "execution_count": 7,
   "metadata": {},
   "outputs": [
    {
     "name": "stdout",
     "output_type": "stream",
     "text": [
      "[va, !]\n",
      "[salut, !]\n",
      "[cours, !]\n",
      "[courez, !]\n",
      "[qui, ?]\n",
      "[ça, alors, !]\n"
     ]
    }
   ],
   "source": [
    "for (subArr in target.subList(0, 6)) {\n",
    "    println(subArr)\n",
    "}"
   ]
  },
  {
   "cell_type": "markdown",
   "metadata": {
    "origin_pos": 10
   },
   "source": [
    "Let us plot the histogram of the number of tokens per text sequence.\n",
    "In this simple English-French dataset,\n",
    "most of the text sequences have fewer than 20 tokens.\n"
   ]
  },
  {
   "cell_type": "code",
   "execution_count": 34,
   "metadata": {},
   "outputs": [
    {
     "data": {
      "text/html": [
       "   <div id=\"PgstBu\"></div>\n",
       "   <script type=\"text/javascript\" data-lets-plot-script=\"plot\">\n",
       "       (function() {\n",
       "           var plotSpec={\n",
       "\"mapping\":{\n",
       "},\n",
       "\"data\":{\n",
       "},\n",
       "\"ggsize\":{\n",
       "\"width\":800.0,\n",
       "\"height\":500.0\n",
       "},\n",
       "\"kind\":\"plot\",\n",
       "\"scales\":[],\n",
       "\"layers\":[{\n",
       "\"mapping\":{\n",
       "\"x\":\"source\",\n",
       "\"fill\":\"color\"\n",
       "},\n",
       "\"stat\":\"bin\",\n",
       "\"position\":\"dodge\",\n",
       "\"binwidth\":5.0,\n",
       "\"geom\":\"histogram\",\n",
       "\"data\":{\n",
       "\"color\":[\"SOURCE\",\"SOURCE\",\"SOURCE\",\"SOURCE\",\"SOURCE\",\"SOURCE\",\"SOURCE\",\"SOURCE\",\"SOURCE\",\"SOURCE\",\"SOURCE\",\"SOURCE\",\"SOURCE\",\"TARGET\",\"TARGET\",\"TARGET\",\"TARGET\",\"TARGET\",\"TARGET\",\"TARGET\",\"TARGET\",\"TARGET\",\"TARGET\",\"TARGET\",\"TARGET\",\"TARGET\"],\n",
       "\"..count..\":[3793.0,122737.0,36536.0,3639.0,335.0,64.0,14.0,7.0,2.0,2.0,1.0,0.0,0.0,4608.0,111217.0,44782.0,5656.0,702.0,111.0,39.0,7.0,3.0,0.0,3.0,2.0,0.0],\n",
       "\"source\":[1.0,6.0,11.0,16.0,21.0,26.0,31.0,36.0,41.0,46.0,51.0,56.0,61.0,1.0,6.0,11.0,16.0,21.0,26.0,31.0,36.0,41.0,46.0,51.0,56.0,61.0]\n",
       "}\n",
       "}]\n",
       "};\n",
       "           var plotContainer = document.getElementById(\"PgstBu\");\n",
       "           window.letsPlotCall(function() {{\n",
       "               LetsPlot.buildPlotFromProcessedSpecs(plotSpec, -1, -1, plotContainer);\n",
       "           }});\n",
       "       })();    \n",
       "   </script>"
      ]
     },
     "execution_count": 34,
     "metadata": {},
     "output_type": "execute_result"
    }
   ],
   "source": [
    "val y1 = source.map { it.size }\n",
    "val y2 = target.map { it.size }\n",
    "val x1 = List<String>(source.size){\"SOURCE\"}\n",
    "val x2 = List<String>(target.size){\"TARGET\"}\n",
    "val data = mapOf( \"source\" to y1+y2, \"color\" to x1 + x2 )\n",
    "\n",
    "var plot = letsPlot(data)\n",
    "plot += geomHistogram(binWidth=5.0 , position=Pos.dodge){ x = \"source\" ; fill = \"color\" }\n",
    "plot + ggsize(800,500)\n"
   ]
  },
  {
   "cell_type": "markdown",
   "metadata": {
    "origin_pos": 12
   },
   "source": [
    "## Vocabulary\n",
    "\n",
    "Since the machine translation dataset\n",
    "consists of pairs of languages,\n",
    "we can build two vocabularies for\n",
    "both the source language and\n",
    "the target language separately.\n",
    "With word-level tokenization,\n",
    "the vocabulary size will be significantly larger\n",
    "than that using character-level tokenization.\n",
    "To alleviate this,\n",
    "here we treat infrequent tokens\n",
    "that appear less than 2 times\n",
    "as the same unknown (\"&lt;unk&gt;\") token.\n",
    "Besides that,\n",
    "we specify additional special tokens\n",
    "such as for padding (\"&lt;pad&gt;\") sequences to the same length in minibatches,\n",
    "and for marking the beginning (\"&lt;bos&gt;\") or end (\"&lt;eos&gt;\") of sequences.\n",
    "Such special tokens are commonly used in\n",
    "natural language processing tasks.\n"
   ]
  },
  {
   "cell_type": "code",
   "execution_count": 35,
   "metadata": {},
   "outputs": [
    {
     "name": "stdout",
     "output_type": "stream",
     "text": [
      "10012\n"
     ]
    }
   ],
   "source": [
    "val srcVocab =\n",
    "                Vocab(\n",
    "                        source,\n",
    "                        2,\n",
    "                       listOf(\"<pad>\", \"<bos>\", \"<eos>\"))\n",
    "println(srcVocab.length())"
   ]
  },
  {
   "cell_type": "markdown",
   "metadata": {
    "origin_pos": 14
   },
   "source": [
    "## Loading the Dataset\n",
    ":label:`subsec_mt_data_loading`\n",
    "\n",
    "Recall that in language modeling\n",
    "each sequence example,\n",
    "either a segment of one sentence\n",
    "or a span over multiple sentences,\n",
    "has a fixed length.\n",
    "This was specified by the `numSteps`\n",
    "(number of time steps or tokens) argument in :numref:`sec_language_model`.\n",
    "In machine translation, each example is\n",
    "a pair of source and target text sequences,\n",
    "where each text sequence may have different lengths.\n",
    "\n",
    "For computational efficiency,\n",
    "we can still process a minibatch of text sequences\n",
    "at one time by *truncation* and *padding*.\n",
    "Suppose that every sequence in the same minibatch\n",
    "should have the same length `numSteps`.\n",
    "If a text sequence has fewer than `numSteps` tokens,\n",
    "we will keep appending the special \"&lt;pad&gt;\" token\n",
    "to its end until its length reaches `numSteps`.\n",
    "Otherwise,\n",
    "we will truncate the text sequence\n",
    "by only taking its first `numSteps` tokens\n",
    "and discarding the remaining.\n",
    "In this way,\n",
    "every text sequence\n",
    "will have the same length\n",
    "to be loaded in minibatches of the same shape.\n",
    "\n",
    "The following `truncatePad` function\n",
    "truncates or pads text sequences as described before.\n"
   ]
  },
  {
   "cell_type": "code",
   "execution_count": 36,
   "metadata": {},
   "outputs": [
    {
     "name": "stdout",
     "output_type": "stream",
     "text": [
      "[47, 4, 1, 1, 1, 1, 1, 1, 1, 1]\n"
     ]
    }
   ],
   "source": [
    "fun truncatePad(integerLine: List<Int>, numSteps: Int, paddingToken: Int): List<Int> {\n",
    "    /* Truncate or pad sequences */\n",
    "    val line = integerLine\n",
    "    if (line.size > numSteps) {\n",
    "        return line.subList(0,numSteps)\n",
    "    }\n",
    "    val paddingTokenArr = List<Int>(numSteps-line.size){paddingToken} // Pad\n",
    "    return line + paddingTokenArr\n",
    "}\n",
    "\n",
    "val result = truncatePad(srcVocab.getIdxs(source.get(0)), 10, srcVocab.getIdx(\"<pad>\"));\n",
    "println(result)"
   ]
  },
  {
   "cell_type": "markdown",
   "metadata": {
    "origin_pos": 16
   },
   "source": [
    "Now we define a function to transform\n",
    "text sequences into minibatches for training.\n",
    "We append the special “&lt;eos&gt;” token\n",
    "to the end of every sequence to indicate the\n",
    "end of the sequence.\n",
    "When a model is predicting\n",
    "by\n",
    "generating a sequence token after token,\n",
    "the generation\n",
    "of the “&lt;eos&gt;” token\n",
    "can suggest that\n",
    "the output sequence is complete.\n",
    "Besides,\n",
    "we also record the length\n",
    "of each text sequence excluding the padding tokens.\n",
    "This information will be needed by\n",
    "some models that\n",
    "we will cover later.\n"
   ]
  },
  {
   "cell_type": "code",
   "execution_count": 38,
   "metadata": {},
   "outputs": [],
   "source": [
    "fun buildArrayNMT(lines: List<List<String>> , vocab: Vocab, numSteps: Int): Pair<NDArray, NDArray> {\n",
    "    /* Transform text sequences of machine translation into minibatches. */\n",
    "    val linesIntArr = lines.map { vocab.getIdxs(it)}.toMutableList()\n",
    "    for (i in linesIntArr.indices) {\n",
    "            val temp: MutableList<Int> = linesIntArr[i].toMutableList()\n",
    "            temp.add(vocab.getIdx(\"<eos>\"))\n",
    "            linesIntArr[i] = temp\n",
    "    }\n",
    "   \n",
    "    val manager = NDManager.newBaseManager();\n",
    "\n",
    "    val arr = manager.create(Shape(linesIntArr.size.toLong(), numSteps.toLong()), DataType.INT32)\n",
    "    var row = 0\n",
    "    for (line in linesIntArr) {\n",
    "        val rowArr = manager.create(truncatePad(line, numSteps, vocab.getIdx(\"<pad>\")).toIntArray())\n",
    "        arr.set(NDIndex(\"{}:\", row), rowArr)\n",
    "        row += 1;\n",
    "    }\n",
    "    val validLen = arr.neq(vocab.getIdx(\"<pad>\")).sum(intArrayOf(1))\n",
    "    return Pair(arr, validLen)\n",
    "}"
   ]
  },
  {
   "cell_type": "markdown",
   "metadata": {
    "origin_pos": 18
   },
   "source": [
    "## Putting All Things Together\n",
    "\n",
    "Finally, we define the `loadDataNMT` function\n",
    "to return the data iterator, together with\n",
    "the vocabularies for both the source language and the target language.\n"
   ]
  },
  {
   "cell_type": "code",
   "execution_count": 43,
   "metadata": {},
   "outputs": [],
   "source": [
    "fun  loadDataNMT(\n",
    "        batchSize: Int, numSteps: Int, numExamples: Int): Pair<ArrayDataset, Pair<Vocab, Vocab>> {\n",
    "    /* Return the iterator and the vocabularies of the translation dataset. */\n",
    "    val text = preprocessNMT(readDataNMT()!!)\n",
    "    val pair = tokenizeNMT(text, numExamples)\n",
    "    val source = pair.first\n",
    "    val target = pair.second\n",
    "    val srcVocab =\n",
    "            Vocab(source, 2, listOf(\"<pad>\", \"<bos>\", \"<eos>\"))\n",
    "    val tgtVocab =Vocab(target, 2, listOf(\"<pad>\", \"<bos>\", \"<eos>\"))\n",
    "\n",
    "    var pairArr = buildArrayNMT(source, srcVocab, numSteps);\n",
    "    val srcArr = pairArr.first\n",
    "    val srcValidLen = pairArr.second\n",
    "\n",
    "    pairArr = buildArrayNMT(target, tgtVocab, numSteps);\n",
    "    val tgtArr = pairArr.first\n",
    "    val tgtValidLen = pairArr.second\n",
    "\n",
    "    val dataset = ArrayDataset.Builder()\n",
    "                    .setData(srcArr, srcValidLen)\n",
    "                    .optLabels(tgtArr, tgtValidLen)\n",
    "                    .setSampling(batchSize, true)\n",
    "                    .build();\n",
    "\n",
    "    return Pair(dataset, Pair(srcVocab, tgtVocab))\n",
    "}"
   ]
  },
  {
   "cell_type": "markdown",
   "metadata": {
    "origin_pos": 20
   },
   "source": [
    "Let us read the first minibatch from the English-French dataset.\n"
   ]
  },
  {
   "cell_type": "code",
   "execution_count": 44,
   "metadata": {},
   "outputs": [
    {
     "name": "stdout",
     "output_type": "stream",
     "text": [
      "ND: (2, 8) cpu() int32\n",
      "[[  9,  82,   4,   3,   1,   1,   1,   1],\n",
      " [ 17, 119,   4,   3,   1,   1,   1,   1],\n",
      "]\n",
      "\n",
      "ND: (2) cpu() int64\n",
      "[ 4,  4]\n",
      "\n",
      "ND: (2, 8) cpu() int32\n",
      "[[67,  4,  3,  1,  1,  1,  1,  1],\n",
      " [11,  0,  4,  3,  1,  1,  1,  1],\n",
      "]\n",
      "\n",
      "ND: (2) cpu() int64\n",
      "[ 3,  4]\n",
      "\n"
     ]
    }
   ],
   "source": [
    "val output = loadDataNMT(2, 8, 600);\n",
    "val dataset = output.first\n",
    "val srcVocab = output.second.first\n",
    "val tgtVocab = output.second.second\n",
    "\n",
    "val batch = dataset.getData(manager).iterator().next();\n",
    "val X = batch.getData().get(0);\n",
    "val xValidLen = batch.getData().get(1);\n",
    "val Y = batch.getLabels().get(0);\n",
    "val yValidLen = batch.getLabels().get(1);\n",
    "println(X);\n",
    "println(xValidLen);\n",
    "println(Y);\n",
    "println(yValidLen);"
   ]
  },
  {
   "cell_type": "markdown",
   "metadata": {
    "origin_pos": 22
   },
   "source": [
    "## Summary\n",
    "\n",
    "* Machine translation refers to the automatic translation of a sequence from one language to another.\n",
    "* Using word-level tokenization, the vocabulary size will be significantly larger than that using character-level tokenization. To alleviate this, we can treat infrequent tokens as the same unknown token.\n",
    "* We can truncate and pad text sequences so that all of them will have the same length to be loaded in minibatches.\n",
    "\n",
    "\n",
    "## Exercises\n",
    "\n",
    "1. Try different values of the `numExamples` argument in the `loadDataNMT` function. How does this affect the vocabulary sizes of the source language and the target language?\n",
    "1. Text in some languages such as Chinese and Japanese does not have word boundary indicators (e.g., space). Is word-level tokenization still a good idea for such cases? Why or why not?\n"
   ]
  }
 ],
 "metadata": {
  "kernelspec": {
   "display_name": "Kotlin",
   "language": "kotlin",
   "name": "kotlin"
  },
  "language_info": {
   "codemirror_mode": "text/x-kotlin",
   "file_extension": ".kt",
   "mimetype": "text/x-kotlin",
   "name": "kotlin",
   "nbconvert_exporter": "",
   "pygments_lexer": "kotlin",
   "version": "1.8.0-dev-707"
  }
 },
 "nbformat": 4,
 "nbformat_minor": 4
}
