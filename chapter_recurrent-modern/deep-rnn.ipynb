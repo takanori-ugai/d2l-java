{
 "cells": [
  {
   "cell_type": "markdown",
   "metadata": {
    "origin_pos": 0
   },
   "source": [
    "# Deep Recurrent Neural Networks\n",
    "\n",
    ":label:`sec_deep_rnn`\n",
    "\n",
    "Up to now, we only discussed RNNs with a single unidirectional hidden layer.\n",
    "In it the specific functional form of how latent variables and observations interact is rather arbitrary.\n",
    "This is not a big problem as long as we have enough flexibility to model different types of interactions.\n",
    "With a single layer, however, this can be quite challenging.\n",
    "In the case of the linear models,\n",
    "we fixed this problem by adding more layers.\n",
    "Within RNNs this is a bit trickier, since we first need to decide how and where to add extra nonlinearity.\n",
    "\n",
    "In fact,\n",
    "we could stack multiple layers of RNNs on top of each other. This results in a flexible mechanism,\n",
    "due to the combination of several simple layers. In particular, data might be relevant at different levels of the stack. For instance, we might want to keep high-level data about financial market conditions (bear or bull market) available, whereas at a lower level we only record shorter-term temporal dynamics.\n",
    "\n",
    "\n",
    "Beyond all the above abstract discussion \n",
    "it is probably easiest to understand the family of models we are interested in by reviewing :numref:`fig_deep_rnn`. It describes a deep RNN with $L$ hidden layers.\n",
    "Each hidden state is continuously passed to both the next time step of the current layer and the current time step of the next layer.\n",
    "\n",
    "![Architecture of a deep RNN.](https://raw.githubusercontent.com/d2l-ai/d2l-en/master/img/deep-rnn.svg)\n",
    ":label:`fig_deep_rnn`\n",
    "\n",
    "## Functional Dependencies\n",
    "\n",
    "We can formalize the \n",
    "functional dependencies \n",
    "within the  deep architecture\n",
    "of $L$ hidden layers\n",
    "depicted in :numref:`fig_deep_rnn`.\n",
    "Our following discussion focuses primarily on\n",
    "the vanilla RNN model,\n",
    "but it applies to other sequence models, too.\n",
    "\n",
    "Suppose that we have a minibatch input\n",
    "$\\mathbf{X}_t \\in \\mathbb{R}^{n \\times d}$ (number of examples: $n$, number of inputs in each example: $d$) at time step $t$.\n",
    "At the same time step,\n",
    "let\n",
    "the hidden state of the $l^\\mathrm{th}$ hidden layer  ($l=1,\\ldots,L$) be $\\mathbf{H}_t^{(l)}  \\in \\mathbb{R}^{n \\times h}$ (number of hidden units: $h$)\n",
    "and \n",
    "the output layer variable be $\\mathbf{O}_t \\in \\mathbb{R}^{n \\times q}$ (number of outputs: $q$).\n",
    "Setting $\\mathbf{H}_t^{(0)} = \\mathbf{X}_t$,\n",
    "the hidden state of \n",
    "the $l^\\mathrm{th}$ hidden layer\n",
    "that uses the activation function $\\phi_l$\n",
    "is expressed as follows:\n",
    "\n",
    "$$\\mathbf{H}_t^{(l)} = \\phi_l(\\mathbf{H}_t^{(l-1)} \\mathbf{W}_{xh}^{(l)} + \\mathbf{H}_{t-1}^{(l)} \\mathbf{W}_{hh}^{(l)}  + \\mathbf{b}_h^{(l)}),$$\n",
    ":eqlabel:`eq_deep_rnn_H`\n",
    "\n",
    "where the weights $\\mathbf{W}_{xh}^{(l)} \\in \\mathbb{R}^{h \\times h}$ and $\\mathbf{W}_{hh}^{(l)} \\in \\mathbb{R}^{h \\times h}$, together with \n",
    "the bias $\\mathbf{b}_h^{(l)} \\in \\mathbb{R}^{1 \\times h}$, are the model parameters of\n",
    "the $l^\\mathrm{th}$ hidden layer.\n",
    "\n",
    "In the end,\n",
    "the calculation of the output layer is only based on the hidden state of the final $L^\\mathrm{th}$ hidden layer:\n",
    "\n",
    "$$\\mathbf{O}_t = \\mathbf{H}_t^{(L)} \\mathbf{W}_{hq} + \\mathbf{b}_q,$$\n",
    "\n",
    "where the weight $\\mathbf{W}_{hq} \\in \\mathbb{R}^{h \\times q}$ and the bias $\\mathbf{b}_q \\in \\mathbb{R}^{1 \\times q}$ are the model parameters of the output layer.\n",
    "\n",
    "Just as with MLPs, the number of hidden layers $L$ and the number of hidden units $h$ are hyperparameters.\n",
    "In other words, they can be tuned or specified by us.\n",
    "In addition, we can easily\n",
    "get a deep gated RNN\n",
    "by replacing \n",
    "the hidden state computation in \n",
    ":eqref:`eq_deep_rnn_H`\n",
    "with that from a GRU or an LSTM.\n",
    "\n",
    "\n",
    "## Concise Implementation\n",
    "\n",
    "Fortunately many of the logistical details required to implement multiple layers of an RNN are readily available in high-level APIs.\n",
    "To keep things simple we only illustrate the implementation using such built-in functionalities.\n",
    "Let us take an LSTM model as an example.\n",
    "The code is very similar to the one we used previously in :numref:`sec_lstm`.\n",
    "In fact, the only difference is that we specify the number of layers explicitly rather than picking the default of a single layer. \n",
    "As usual, we begin by loading the dataset.\n"
   ]
  },
  {
   "cell_type": "code",
   "execution_count": 1,
   "metadata": {},
   "outputs": [
    {
     "data": {
      "text/html": [
       "   <div id=\"S6JSfP\"></div>\n",
       "   <script type=\"text/javascript\" data-lets-plot-script=\"library\">\n",
       "       if(!window.letsPlotCallQueue) {\n",
       "           window.letsPlotCallQueue = [];\n",
       "       }; \n",
       "       window.letsPlotCall = function(f) {\n",
       "           window.letsPlotCallQueue.push(f);\n",
       "       };\n",
       "       (function() {\n",
       "           var script = document.createElement(\"script\");\n",
       "           script.type = \"text/javascript\";\n",
       "           script.src = \"https://cdn.jsdelivr.net/gh/JetBrains/lets-plot@v2.4.0/js-package/distr/lets-plot.min.js\";\n",
       "           script.onload = function() {\n",
       "               window.letsPlotCall = function(f) {f();};\n",
       "               window.letsPlotCallQueue.forEach(function(f) {f();});\n",
       "               window.letsPlotCallQueue = [];\n",
       "               \n",
       "               \n",
       "           };\n",
       "           script.onerror = function(event) {\n",
       "               window.letsPlotCall = function(f) {};\n",
       "               window.letsPlotCallQueue = [];\n",
       "               var div = document.createElement(\"div\");\n",
       "               div.style.color = 'darkred';\n",
       "               div.textContent = 'Error loading Lets-Plot JS';\n",
       "               document.getElementById(\"S6JSfP\").appendChild(div);\n",
       "           };\n",
       "           var e = document.getElementById(\"S6JSfP\");\n",
       "           e.appendChild(script);\n",
       "       })();\n",
       "   </script>"
      ]
     },
     "metadata": {},
     "output_type": "display_data"
    }
   ],
   "source": [
    "%use @file[../djl.json]\n",
    "%use lets-plot\n",
    "@file:DependsOn(\"../D2J-1.0-SNAPSHOT.jar\")\n",
    "import jp.live.ugai.d2j.timemachine.RNNModelScratch\n",
    "import jp.live.ugai.d2j.timemachine.TimeMachine.trainCh8\n",
    "import jp.live.ugai.d2j.timemachine.TimeMachineDataset\n",
    "import jp.live.ugai.d2j.timemachine.Vocab\n",
    "import jp.live.ugai.d2j.RNNModel\n",
    "import jp.live.ugai.d2j.StopWatch\n",
    "import jp.live.ugai.d2j.Accumulator\n",
    "import jp.live.ugai.d2j.Training\n",
    "\n",
    "// %load ../utils/djl-imports\n",
    "// %load ../utils/plot-utils\n",
    "// %load ../utils/Functions.java\n",
    "// %load ../utils/Functions.java\n",
    "// %load ../utils/PlotUtils.java\n",
    "\n",
    "// %load ../utils/StopWatch.java\n",
    "// %load ../utils/Accumulator.java\n",
    "// %load ../utils/Animator.java\n",
    "// %load ../utils/Training.java\n",
    "// %load ../utils/timemachine/Vocab.java\n",
    "// %load ../utils/timemachine/RNNModel.java\n",
    "// %load ../utils/timemachine/RNNModelScratch.java\n",
    "// %load ../utils/timemachine/TimeMachine.java\n",
    "// %load ../utils/timemachine/TimeMachineDataset.java\n",
    "import kotlin.random.Random\n",
    "import kotlin.collections.List\n",
    "import kotlin.collections.Map\n",
    "import kotlin.Pair"
   ]
  },
  {
   "cell_type": "code",
   "execution_count": 2,
   "metadata": {},
   "outputs": [],
   "source": [
    "val manager = NDManager.newBaseManager()"
   ]
  },
  {
   "cell_type": "code",
   "execution_count": 3,
   "metadata": {},
   "outputs": [
    {
     "name": "stdout",
     "output_type": "stream",
     "text": [
      "UniqTokens: 29\n"
     ]
    }
   ],
   "source": [
    "    val batchSize = 32\n",
    "    val numSteps = 35\n",
    "\n",
    "    val dataset = TimeMachineDataset.Builder()\n",
    "        .setManager(manager)\n",
    "        .setMaxTokens(10000)\n",
    "        .setSampling(batchSize, false)\n",
    "        .setSteps(numSteps)\n",
    "        .build()\n",
    "    dataset.prepare()\n",
    "    val vocab = dataset.vocab"
   ]
  },
  {
   "cell_type": "markdown",
   "metadata": {
    "origin_pos": 3
   },
   "source": [
    "The architectural decisions such as choosing hyperparameters are very similar to those of :numref:`sec_lstm`. \n",
    "We pick the same number of inputs and outputs as we have distinct tokens, i.e., `vocabSize`.\n",
    "The number of hidden units is still 256.\n",
    "The only difference is that we now select a nontrivial number of hidden layers by specifying the value of `numLayers`.\n"
   ]
  },
  {
   "cell_type": "code",
   "execution_count": 6,
   "metadata": {},
   "outputs": [],
   "source": [
    "    val vocabSize = vocab!!.length()\n",
    "    val numHiddens = 256\n",
    "    val numLayers = 1\n",
    "    val device = manager.device\n",
    "    val lstmLayer = LSTM.builder()\n",
    "        .setNumLayers(numLayers)\n",
    "        .setStateSize(numHiddens)\n",
    "        .optReturnState(true)\n",
    "        .optBatchFirst(false)\n",
    "        .build()\n",
    "\n",
    "    val model = RNNModel(lstmLayer, vocabSize)"
   ]
  },
  {
   "cell_type": "markdown",
   "metadata": {
    "origin_pos": 6
   },
   "source": [
    "## Training and Prediction\n",
    "\n",
    "Since now we instantiate two layers with the LSTM model, this rather more complex architecture slows down training considerably.\n"
   ]
  },
  {
   "cell_type": "code",
   "execution_count": 7,
   "metadata": {},
   "outputs": [
    {
     "name": "stderr",
     "output_type": "stream",
     "text": [
      "Index 2 out of bounds for length 2\n",
      "java.lang.IndexOutOfBoundsException: Index 2 out of bounds for length 2\n",
      "\tat java.base/jdk.internal.util.Preconditions.outOfBounds(Preconditions.java:64)\n",
      "\tat java.base/jdk.internal.util.Preconditions.outOfBoundsCheckIndex(Preconditions.java:70)\n",
      "\tat java.base/jdk.internal.util.Preconditions.checkIndex(Preconditions.java:248)\n",
      "\tat java.base/java.util.Objects.checkIndex(Objects.java:372)\n",
      "\tat java.base/java.util.ArrayList.get(ArrayList.java:459)\n",
      "\tat ai.djl.nn.recurrent.LSTM.forwardInternal(LSTM.java:83)\n",
      "\tat ai.djl.nn.AbstractBaseBlock.forward(AbstractBaseBlock.java:77)\n",
      "\tat ai.djl.nn.Block.forward(Block.java:123)\n",
      "\tat jp.live.ugai.d2j.RNNModel.forwardInternal(RNNModel.kt:32)\n",
      "\tat ai.djl.nn.AbstractBaseBlock.forward(AbstractBaseBlock.java:77)\n",
      "\tat ai.djl.nn.Block.forward(Block.java:123)\n",
      "\tat jp.live.ugai.d2j.timemachine.TimeMachine.trainEpochCh8(TimeMachine.kt:262)\n",
      "\tat jp.live.ugai.d2j.timemachine.TimeMachine.trainCh8(TimeMachine.kt:192)\n",
      "\tat Line_18.<init>(Line_18.jupyter-kts:4)\n",
      "\tat java.base/jdk.internal.reflect.NativeConstructorAccessorImpl.newInstance0(Native Method)\n",
      "\tat java.base/jdk.internal.reflect.NativeConstructorAccessorImpl.newInstance(NativeConstructorAccessorImpl.java:62)\n",
      "\tat java.base/jdk.internal.reflect.DelegatingConstructorAccessorImpl.newInstance(DelegatingConstructorAccessorImpl.java:45)\n",
      "\tat java.base/java.lang.reflect.Constructor.newInstance(Constructor.java:490)\n",
      "\tat kotlin.script.experimental.jvm.BasicJvmScriptEvaluator.evalWithConfigAndOtherScriptsResults(BasicJvmScriptEvaluator.kt:105)\n",
      "\tat kotlin.script.experimental.jvm.BasicJvmScriptEvaluator.invoke$suspendImpl(BasicJvmScriptEvaluator.kt:47)\n",
      "\tat kotlin.script.experimental.jvm.BasicJvmScriptEvaluator.invoke(BasicJvmScriptEvaluator.kt)\n",
      "\tat kotlin.script.experimental.jvm.BasicJvmReplEvaluator.eval(BasicJvmReplEvaluator.kt:49)\n",
      "\tat org.jetbrains.kotlinx.jupyter.repl.impl.InternalEvaluatorImpl$eval$resultWithDiagnostics$1.invokeSuspend(InternalEvaluatorImpl.kt:103)\n",
      "\tat kotlin.coroutines.jvm.internal.BaseContinuationImpl.resumeWith(ContinuationImpl.kt:33)\n",
      "\tat kotlinx.coroutines.DispatchedTask.run(DispatchedTask.kt:106)\n",
      "\tat kotlinx.coroutines.EventLoopImplBase.processNextEvent(EventLoop.common.kt:284)\n",
      "\tat kotlinx.coroutines.BlockingCoroutine.joinBlocking(Builders.kt:85)\n",
      "\tat kotlinx.coroutines.BuildersKt__BuildersKt.runBlocking(Builders.kt:59)\n",
      "\tat kotlinx.coroutines.BuildersKt.runBlocking(Unknown Source)\n",
      "\tat kotlinx.coroutines.BuildersKt__BuildersKt.runBlocking$default(Builders.kt:38)\n",
      "\tat kotlinx.coroutines.BuildersKt.runBlocking$default(Unknown Source)\n",
      "\tat org.jetbrains.kotlinx.jupyter.repl.impl.InternalEvaluatorImpl.eval(InternalEvaluatorImpl.kt:103)\n",
      "\tat org.jetbrains.kotlinx.jupyter.repl.impl.CellExecutorImpl$execute$1$result$1.invoke(CellExecutorImpl.kt:71)\n",
      "\tat org.jetbrains.kotlinx.jupyter.repl.impl.CellExecutorImpl$execute$1$result$1.invoke(CellExecutorImpl.kt:69)\n",
      "\tat org.jetbrains.kotlinx.jupyter.ReplForJupyterImpl.withHost(repl.kt:635)\n",
      "\tat org.jetbrains.kotlinx.jupyter.repl.impl.CellExecutorImpl.execute(CellExecutorImpl.kt:69)\n",
      "\tat org.jetbrains.kotlinx.jupyter.repl.CellExecutor$DefaultImpls.execute$default(CellExecutor.kt:15)\n",
      "\tat org.jetbrains.kotlinx.jupyter.ReplForJupyterImpl$evalEx$1.invoke(repl.kt:444)\n",
      "\tat org.jetbrains.kotlinx.jupyter.ReplForJupyterImpl$evalEx$1.invoke(repl.kt:433)\n",
      "\tat org.jetbrains.kotlinx.jupyter.ReplForJupyterImpl.withEvalContext(repl.kt:397)\n",
      "\tat org.jetbrains.kotlinx.jupyter.ReplForJupyterImpl.evalEx(repl.kt:433)\n",
      "\tat org.jetbrains.kotlinx.jupyter.ReplForJupyterImpl.eval(repl.kt:485)\n",
      "\tat org.jetbrains.kotlinx.jupyter.messaging.ProtocolKt$shellMessagesHandler$2$res$1.invoke(protocol.kt:321)\n",
      "\tat org.jetbrains.kotlinx.jupyter.messaging.ProtocolKt$shellMessagesHandler$2$res$1.invoke(protocol.kt:320)\n",
      "\tat org.jetbrains.kotlinx.jupyter.JupyterExecutorImpl$runExecution$execThread$1.invoke(execution.kt:33)\n",
      "\tat org.jetbrains.kotlinx.jupyter.JupyterExecutorImpl$runExecution$execThread$1.invoke(execution.kt:31)\n",
      "\tat kotlin.concurrent.ThreadsKt$thread$thread$1.run(Thread.kt:30)\n"
     ]
    }
   ],
   "source": [
    "    val numEpochs = Integer.getInteger(\"MAX_EPOCH\", 500)\n",
    "\n",
    "    val lr = 2\n",
    "    trainCh8(model, dataset, vocab, lr, numEpochs, device, false, manager)"
   ]
  },
  {
   "cell_type": "markdown",
   "metadata": {
    "origin_pos": 8
   },
   "source": [
    "## Summary\n",
    "\n",
    "* In deep RNNs, the hidden state information is passed to the next time step of the current layer and the current time step of the next layer.\n",
    "* There exist many different flavors of deep RNNs, such as LSTMs, GRUs, or vanilla RNNs. Conveniently these models are all available as parts of the high-level APIs of deep learning frameworks.\n",
    "* Initialization of models requires care. Overall, deep RNNs require considerable amount of work (such as learning rate and clipping) to ensure proper convergence.\n",
    "\n",
    "## Exercises\n",
    "\n",
    "1. Try to implement a two-layer RNN from scratch using the single layer implementation we discussed in :numref:`sec_rnn_scratch`.\n",
    "2. Replace the LSTM by a GRU and compare the accuracy and training speed.\n",
    "3. Increase the training data to include multiple books. How low can you go on the perplexity scale?\n",
    "4. Would you want to combine sources of different authors when modeling text? Why is this a good idea? What could go wrong?\n"
   ]
  }
 ],
 "metadata": {
  "kernelspec": {
   "display_name": "Kotlin",
   "language": "kotlin",
   "name": "kotlin"
  },
  "language_info": {
   "codemirror_mode": "text/x-kotlin",
   "file_extension": ".kt",
   "mimetype": "text/x-kotlin",
   "name": "kotlin",
   "nbconvert_exporter": "",
   "pygments_lexer": "kotlin",
   "version": "1.8.0-dev-707"
  }
 },
 "nbformat": 4,
 "nbformat_minor": 4
}
