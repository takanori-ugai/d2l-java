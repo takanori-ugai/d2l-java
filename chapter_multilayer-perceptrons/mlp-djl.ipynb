{
 "cells": [
  {
   "cell_type": "markdown",
   "metadata": {},
   "source": [
    "# Concise Implementation of Multilayer Perceptron\n",
    "\n",
    ":label:`sec_mlp_djl`\n",
    "\n",
    "\n",
    "As you might expect, by relying on the DJL library,\n",
    "we can implement MLPs even more concisely. <br>\n",
    "Let's setup the relevant libraries first."
   ]
  },
  {
   "cell_type": "code",
   "execution_count": 6,
   "metadata": {},
   "outputs": [
    {
     "data": {
      "text/html": [
       "   <div id=\"8v1igm\"></div>\n",
       "   <script type=\"text/javascript\" data-lets-plot-script=\"library\">\n",
       "       if(!window.letsPlotCallQueue) {\n",
       "           window.letsPlotCallQueue = [];\n",
       "       }; \n",
       "       window.letsPlotCall = function(f) {\n",
       "           window.letsPlotCallQueue.push(f);\n",
       "       };\n",
       "       (function() {\n",
       "           var script = document.createElement(\"script\");\n",
       "           script.type = \"text/javascript\";\n",
       "           script.src = \"https://cdn.jsdelivr.net/gh/JetBrains/lets-plot@v2.4.0/js-package/distr/lets-plot.min.js\";\n",
       "           script.onload = function() {\n",
       "               window.letsPlotCall = function(f) {f();};\n",
       "               window.letsPlotCallQueue.forEach(function(f) {f();});\n",
       "               window.letsPlotCallQueue = [];\n",
       "               \n",
       "               \n",
       "           };\n",
       "           script.onerror = function(event) {\n",
       "               window.letsPlotCall = function(f) {};\n",
       "               window.letsPlotCallQueue = [];\n",
       "               var div = document.createElement(\"div\");\n",
       "               div.style.color = 'darkred';\n",
       "               div.textContent = 'Error loading Lets-Plot JS';\n",
       "               document.getElementById(\"8v1igm\").appendChild(div);\n",
       "           };\n",
       "           var e = document.getElementById(\"8v1igm\");\n",
       "           e.appendChild(script);\n",
       "       })();\n",
       "   </script>"
      ]
     },
     "metadata": {},
     "output_type": "display_data"
    }
   ],
   "source": [
    "%use @file[../djl.json]\n",
    "@file:DependsOn(\"../mxnet-native-cu112mkl-1.9.1-linux-x86_64.jar\")\n",
    "%use lets-plot\n",
    "// %use dataframe\n",
    "//@file:DependsOn(\"org.apache.commons:commons-lang3:3.12.0\")\n",
    "// %load ../utils/djl-imports\n",
    "// %lo・d ../utils/plot-utils\n",
    "\n",
    "fun getLong(nm: String, n: Long): Long {\n",
    "    val name = System.getProperty(nm)\n",
    "    return if (null == name) n.toLong() else name.toLong()\n",
    "}\n"
   ]
  },
  {
   "cell_type": "code",
   "execution_count": 7,
   "metadata": {},
   "outputs": [],
   "source": [
    "import ai.djl.metric.*;\n",
    "import ai.djl.basicdataset.cv.classification.*;\n",
    "// import org.apache.commons.lang3.ArrayUtils;"
   ]
  },
  {
   "cell_type": "markdown",
   "metadata": {},
   "source": [
    "## The Model\n",
    "\n",
    "As compared to our concise implementation \n",
    "of softmax regression implementation\n",
    "(:numref:`sec_softmax_djl`),\n",
    "the only difference is that we add \n",
    "*two* `Linear` (fully-connected) layers \n",
    "(previously, we added *one*).\n",
    "The first is our hidden layer, \n",
    "which contains *256* hidden units\n",
    "and applies the ReLU activation function.\n",
    "The second is our output layer."
   ]
  },
  {
   "cell_type": "code",
   "execution_count": 8,
   "metadata": {
    "attributes": {
     "classes": [],
     "id": "",
     "n": "5"
    }
   },
   "outputs": [],
   "source": [
    "val net = SequentialBlock();\n",
    "net.add(Blocks.batchFlattenBlock(784));\n",
    "net.add(Linear.builder().setUnits(256).build());\n",
    "net.add(Activation::relu);\n",
    "net.add(Linear.builder().setUnits(10).build());\n",
    "net.setInitializer(NormalInitializer(), Parameter.Type.WEIGHT);"
   ]
  },
  {
   "cell_type": "markdown",
   "metadata": {},
   "source": [
    "Note that DJL, as usual, automatically\n",
    "infers the missing input dimensions to each layer.\n",
    "\n",
    "The training loop is *exactly* the same\n",
    "as when we implemented softmax regression.\n",
    "This modularity enables us to separate \n",
    "matters concerning the model architecture\n",
    "from orthogonal considerations."
   ]
  },
  {
   "cell_type": "code",
   "execution_count": 9,
   "metadata": {},
   "outputs": [],
   "source": [
    "val batchSize = 256;\n",
    "val  numEpochs = Integer.getInteger(\"MAX_EPOCH\", 10);\n",
    "\n",
    "val trainIter = FashionMnist.builder()\n",
    "        .optUsage(Dataset.Usage.TRAIN)\n",
    "        .setSampling(batchSize, true)\n",
    "        .optLimit(getLong(\"DATASET_LIMIT\", Long.MAX_VALUE))\n",
    "        .build();\n",
    "\n",
    "\n",
    "val testIter = FashionMnist.builder()\n",
    "        .optUsage(Dataset.Usage.TEST)\n",
    "        .setSampling(batchSize, true)\n",
    "        .optLimit(getLong(\"DATASET_LIMIT\", Long.MAX_VALUE))\n",
    "        .build();\n",
    "\n",
    "trainIter.prepare();\n",
    "testIter.prepare();\n",
    "\n",
    "val evaluatorMetrics = mutableMapOf<String, List<Float>>()"
   ]
  },
  {
   "cell_type": "code",
   "execution_count": 10,
   "metadata": {
    "attributes": {
     "classes": [],
     "id": "",
     "n": "6"
    }
   },
   "outputs": [
    {
     "name": "stdout",
     "output_type": "stream",
     "text": [
      "Training:    100% |████████████████████████████████████████| Accuracy: 0.71, SoftmaxCrossEntropyLoss: 0.78             | Accuracy: 0.58, SoftmaxCrossEntropyLoss: 1.14oss: 1.02�████████               | Accuracy: 0.66, SoftmaxCrossEntropyLoss: 0.92█████████████████████████           | Accuracy: 0.67, SoftmaxCrossEntropyLoss: 0.8886acy: 0.69, SoftmaxCrossEntropyLoss: 0.83��███████████  | Accuracy: 0.70, SoftmaxCrossEntropyLoss: 0.80\n",
      "Validating:  100% |████████████████████████████████████████|ting:   35% |███████████████                         |ting:   61% |█████████████████████████               |██████████████████ |\n",
      "Training:    100% |████████████████████████████████████████| Accuracy: 0.82, SoftmaxCrossEntropyLoss: 0.493% |██████████                              | Accuracy: 0.80, SoftmaxCrossEntropyLoss: 0.55uracy: 0.80, SoftmaxCrossEntropyLoss: 0.54curacy: 0.81, SoftmaxCrossEntropyLoss: 0.52�████████               | Accuracy: 0.81, SoftmaxCrossEntropyLoss: 0.51█████████████████████████           | Accuracy: 0.82, SoftmaxCrossEntropyLoss: 0.50pyLoss: 0.50��     | Accuracy: 0.82, SoftmaxCrossEntropyLoss: 0.49��████████████████ | Accuracy: 0.82, SoftmaxCrossEntropyLoss: 0.49\n",
      "Validating:  100% |████████████████████████████████████████|ting:   35% |███████████████                         |ting:   61% |█████████████████████████               |��██████████████████       |��██|\n",
      "Training:    100% |████████████████████████████████████████| Accuracy: 0.85, SoftmaxCrossEntropyLoss: 0.42aining:      8% |████                                    | Accuracy: 0.84, SoftmaxCrossEntropyLoss: 0.44                    | Accuracy: 0.84, SoftmaxCrossEntropyLoss: 0.420.42             | Accuracy: 0.84, SoftmaxCrossEntropyLoss: 0.43██████████████                       | Accuracy: 0.84, SoftmaxCrossEntropyLoss: 0.43tropyLoss: 0.42�████████               | Accuracy: 0.84, SoftmaxCrossEntropyLoss: 0.42��██████████████████████            | Accuracy: 0.85, SoftmaxCrossEntropyLoss: 0.42raining:     76% |███████████████████████████████         | Accuracy: 0.85, SoftmaxCrossEntropyLoss: 0.42 SoftmaxCrossEntropyLoss: 0.42███    | Accuracy: 0.85, SoftmaxCrossEntropyLoss: 0.42�███████████████ | Accuracy: 0.85, SoftmaxCrossEntropyLoss: 0.42\n",
      "Validating:  100% |████████████████████████████████████████|ting:   35% |███████████████                         |ting:   61% |█████████████████████████               |�███████████████████████████      |███████████████|\n",
      "Training:    100% |████████████████████████████████████████| Accuracy: 0.86, SoftmaxCrossEntropyLoss: 0.39             | Accuracy: 0.86, SoftmaxCrossEntropyLoss: 0.38.39curacy: 0.86, SoftmaxCrossEntropyLoss: 0.39 |██████████████████████████████          | Accuracy: 0.86, SoftmaxCrossEntropyLoss: 0.39CrossEntropyLoss: 0.39��     | Accuracy: 0.86, SoftmaxCrossEntropyLoss: 0.39█████████████  | Accuracy: 0.86, SoftmaxCrossEntropyLoss: 0.39\n",
      "Validating:  100% |██████████████████�█████████████████████|ting:   35% |███████████████                         |�█               |██████████████████████████████████      |��█████████████████████|\n",
      "Training:    100% |████████████████████████████████████████| Accuracy: 0.86, SoftmaxCrossEntropyLoss: 0.370.37██████████                       | Accuracy: 0.87, SoftmaxCrossEntropyLoss: 0.36.37curacy: 0.87, SoftmaxCrossEntropyLoss: 0.36███████               | Accuracy: 0.87, SoftmaxCrossEntropyLoss: 0.36��████████████████████            | Accuracy: 0.86, SoftmaxCrossEntropyLoss: 0.36CrossEntropyLoss: 0.37��     | Accuracy: 0.86, SoftmaxCrossEntropyLoss: 0.37��███████████  | Accuracy: 0.86, SoftmaxCrossEntropyLoss: 0.37��█████████████████████| Accuracy: 0.86, SoftmaxCrossEntropyLoss: 0.37\n",
      "Validating:  100% |████████████████████████████████████████|ting:   35% |███████████████                         |ting:   61% |█████████████████████████               |��██████████████████       |\n",
      "Training:     31% |███████�█████                           | Accuracy: 0.87, SoftmaxCrossEntropyLoss: 0.35"
     ]
    }
   ],
   "source": [
    "val lrt = Tracker.fixed(0.5f)\n",
    "val sgd = Optimizer.sgd().setLearningRateTracker(lrt).build();\n",
    "\n",
    "val loss = Loss.softmaxCrossEntropyLoss();\n",
    "\n",
    "val config = DefaultTrainingConfig(loss)\n",
    "                .optOptimizer(sgd) // Optimizer (loss function)\n",
    "                .optDevices(Engine.getInstance().getDevices(1)) // single GPU\n",
    "                .addEvaluator(Accuracy()) // Model Accuracy\n",
    "                .addTrainingListeners(*TrainingListener.Defaults.logging()) // Logging\n",
    "\n",
    "    val model = Model.newInstance(\"mlp\")\n",
    "        model.setBlock(net);\n",
    "\n",
    "        val trainer = model.newTrainer(config)\n",
    "\n",
    "            trainer.initialize(Shape(1, 784));\n",
    "            trainer.setMetrics(Metrics());\n",
    "\n",
    "            EasyTrain.fit(trainer, numEpochs, trainIter, testIter);\n",
    "            // collect results from evaluators\n",
    "            val metrics = trainer.getMetrics()\n",
    "\n",
    "            trainer.getEvaluators().forEach { evaluator ->\n",
    "                var tempList = mutableListOf<Float>()\n",
    "                metrics.getMetric(\"train_epoch_\"+ evaluator.getName()).forEach { value : Metric ->\n",
    "                    tempList.add(value.value.toFloat())\n",
    "                }\n",
    "                evaluatorMetrics.put(\"train_epoch_\" + evaluator.getName(), tempList)\n",
    "                tempList = mutableListOf<Float>()\n",
    "                metrics.getMetric(\"validate_epoch_\"+ evaluator.getName()).forEach { value : Metric ->\n",
    "                    tempList.add(value.value.toFloat())\n",
    "                }\n",
    "                evaluatorMetrics.put(\"validate_epoch_\" + evaluator.getName(), tempList)\n",
    "            }\n",
    "       trainer.close()\n",
    "    model.close()\n"
   ]
  },
  {
   "cell_type": "code",
   "execution_count": 11,
   "metadata": {},
   "outputs": [
    {
     "data": {
      "text/html": [
       "   <div id=\"5tug3V\"></div>\n",
       "   <script type=\"text/javascript\" data-lets-plot-script=\"plot\">\n",
       "       (function() {\n",
       "           var plotSpec={\n",
       "\"mapping\":{\n",
       "},\n",
       "\"data\":{\n",
       "\"loss\":[0.7829596996307373,0.48500654101371765,0.4155161380767822,0.3884156346321106,0.3668633699417114,0.34495532512664795,0.3335266411304474,0.32233649492263794,0.31009361147880554,0.29831019043922424,0.7084500193595886,0.8204166889190674,0.8476666808128357,0.8571500182151794,0.8642833232879639,0.8714166879653931,0.8760499954223633,0.8798333406448364,0.8845000267028809,0.8890666961669922,0.7753000259399414,0.8288999795913696,0.8288000226020813,0.8169999718666077,0.8495000004768372,0.8036999702453613,0.8460999727249146,0.839900016784668,0.8715999722480774,0.8694999814033508],\n",
       "\"lossLabel\":[\"train loss\",\"train loss\",\"train loss\",\"train loss\",\"train loss\",\"train loss\",\"train loss\",\"train loss\",\"train loss\",\"train loss\",\"train acc\",\"train acc\",\"train acc\",\"train acc\",\"train acc\",\"train acc\",\"train acc\",\"train acc\",\"train acc\",\"train acc\",\"test acc\",\"test acc\",\"test acc\",\"test acc\",\"test acc\",\"test acc\",\"test acc\",\"test acc\",\"test acc\",\"test acc\"],\n",
       "\"epochCount\":[1.0,2.0,3.0,4.0,5.0,6.0,7.0,8.0,9.0,10.0,1.0,2.0,3.0,4.0,5.0,6.0,7.0,8.0,9.0,10.0,1.0,2.0,3.0,4.0,5.0,6.0,7.0,8.0,9.0,10.0]\n",
       "},\n",
       "\"ggsize\":{\n",
       "\"width\":500.0,\n",
       "\"height\":500.0\n",
       "},\n",
       "\"kind\":\"plot\",\n",
       "\"scales\":[],\n",
       "\"layers\":[{\n",
       "\"mapping\":{\n",
       "\"x\":\"epochCount\",\n",
       "\"y\":\"loss\",\n",
       "\"color\":\"lossLabel\"\n",
       "},\n",
       "\"stat\":\"identity\",\n",
       "\"position\":\"identity\",\n",
       "\"geom\":\"line\",\n",
       "\"data\":{\n",
       "}\n",
       "}]\n",
       "};\n",
       "           var plotContainer = document.getElementById(\"5tug3V\");\n",
       "           window.letsPlotCall(function() {{\n",
       "               LetsPlot.buildPlotFromProcessedSpecs(plotSpec, -1, -1, plotContainer);\n",
       "           }});\n",
       "       })();    \n",
       "   </script>"
      ]
     },
     "execution_count": 11,
     "metadata": {},
     "output_type": "execute_result"
    }
   ],
   "source": [
    "val trainLoss = evaluatorMetrics.get(\"train_epoch_SoftmaxCrossEntropyLoss\")\n",
    "val trainAccuracy = evaluatorMetrics.get(\"train_epoch_Accuracy\")\n",
    "val testAccuracy = evaluatorMetrics.get(\"validate_epoch_Accuracy\")\n",
    "val count = listOf(1,2,3,4,5,6,7,8,9,10)\n",
    "\n",
    "// val lossLabel = String[trainLoss.length + testAccuracy.length + trainAccuracy.length];\n",
    "\n",
    "val trainLabel = Array<String>(trainLoss!!.size) { \"train loss\" } \n",
    "val accLabel = Array<String>(trainAccuracy!!.size) { \"train acc\" }\n",
    "val testLabel = Array<String>(testAccuracy!!.size) {\"test acc\"}\n",
    "\n",
    "val data = mapOf( \"epochCount\" to count + count + count,\n",
    "                \"loss\" to trainLoss!! + trainAccuracy!! + testAccuracy!!,\n",
    "                \"lossLabel\" to trainLabel + accLabel + testLabel)\n",
    "var plot = letsPlot(data)\n",
    "plot += geomLine { x = \"epochCount\" ; y = \"loss\" ; color = \"lossLabel\"}\n",
    "plot + ggsize(500, 500)"
   ]
  },
  {
   "cell_type": "markdown",
   "metadata": {},
   "source": [
    "## Exercises\n",
    "\n",
    "1. Try adding different numbers of hidden layers. What setting (keeping other parameters and hyperparameters constant) works best? \n",
    "1. Try out different activation functions. Which ones work best?\n",
    "1. Try different schemes for initializing the weights. What method works best?\n",
    "\n"
   ]
  },
  {
   "cell_type": "code",
   "execution_count": null,
   "metadata": {},
   "outputs": [],
   "source": []
  }
 ],
 "metadata": {
  "kernelspec": {
   "display_name": "Kotlin",
   "language": "kotlin",
   "name": "kotlin"
  },
  "language_info": {
   "codemirror_mode": "text/x-kotlin",
   "file_extension": ".kt",
   "mimetype": "text/x-kotlin",
   "name": "kotlin",
   "nbconvert_exporter": "",
   "pygments_lexer": "kotlin",
   "version": "1.8.0-dev-707"
  }
 },
 "nbformat": 4,
 "nbformat_minor": 2
}
