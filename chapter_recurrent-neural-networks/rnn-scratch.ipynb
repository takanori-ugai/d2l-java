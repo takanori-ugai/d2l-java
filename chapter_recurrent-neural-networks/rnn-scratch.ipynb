{
 "cells": [
  {
   "cell_type": "markdown",
   "metadata": {
    "origin_pos": 0
   },
   "source": [
    "# Implementation of Recurrent Neural Networks from Scratch\n",
    ":label:`sec_rnn_scratch`\n",
    "\n",
    "In this section we will implement an RNN\n",
    "from scratch\n",
    "for a character-level language model,\n",
    "according to our descriptions\n",
    "in :numref:`sec_rnn`.\n",
    "Such a model\n",
    "will be trained on H. G. Wells' *The Time Machine*.\n",
    "As before, we start by reading the dataset first, which is introduced in :numref:`sec_language_model`.\n"
   ]
  },
  {
   "cell_type": "code",
   "execution_count": 1,
   "metadata": {},
   "outputs": [
    {
     "data": {
      "text/html": [
       "   <div id=\"zWQiml\"></div>\n",
       "   <script type=\"text/javascript\" data-lets-plot-script=\"library\">\n",
       "       if(!window.letsPlotCallQueue) {\n",
       "           window.letsPlotCallQueue = [];\n",
       "       }; \n",
       "       window.letsPlotCall = function(f) {\n",
       "           window.letsPlotCallQueue.push(f);\n",
       "       };\n",
       "       (function() {\n",
       "           var script = document.createElement(\"script\");\n",
       "           script.type = \"text/javascript\";\n",
       "           script.src = \"https://cdn.jsdelivr.net/gh/JetBrains/lets-plot@v2.4.0/js-package/distr/lets-plot.min.js\";\n",
       "           script.onload = function() {\n",
       "               window.letsPlotCall = function(f) {f();};\n",
       "               window.letsPlotCallQueue.forEach(function(f) {f();});\n",
       "               window.letsPlotCallQueue = [];\n",
       "               \n",
       "               \n",
       "           };\n",
       "           script.onerror = function(event) {\n",
       "               window.letsPlotCall = function(f) {};\n",
       "               window.letsPlotCallQueue = [];\n",
       "               var div = document.createElement(\"div\");\n",
       "               div.style.color = 'darkred';\n",
       "               div.textContent = 'Error loading Lets-Plot JS';\n",
       "               document.getElementById(\"zWQiml\").appendChild(div);\n",
       "           };\n",
       "           var e = document.getElementById(\"zWQiml\");\n",
       "           e.appendChild(script);\n",
       "       })();\n",
       "   </script>"
      ]
     },
     "metadata": {},
     "output_type": "display_data"
    }
   ],
   "source": [
    "%use @file[../djl.json]\n",
    "%use lets-plot\n",
    "@file:DependsOn(\"../D2J-1.0-SNAPSHOT.jar\")\n",
    "//import jp.live.ugai.d2j.attention.Chap10Utils\n",
    "import jp.live.ugai.d2j.timemachine.TimeMachine\n",
    "import jp.live.ugai.d2j.timemachine.Vocab\n",
    "import jp.live.ugai.d2j.SeqDataLoader\n",
    "import jp.live.ugai.d2j.util.StopWatch\n",
    "import jp.live.ugai.d2j.util.Accumulator\n",
    "import jp.live.ugai.d2j.util.Training\n",
    "import kotlin.random.Random\n",
    "import kotlin.Pair\n",
    "\n",
    "// %load ../utils/djl-imports\n",
    "// %load ../utils/plot-utils\n",
    "// %load ../utils/Functions.java\n",
    "// %load ../utils/PlotUtils.java\n",
    "\n",
    "// %load ../utils/StopWatch.java\n",
    "// %load ../utils/Accumulator.java\n",
    "// %load ../utils/Animator.java\n",
    "// %load ../utils/Training.java\n",
    "// %load ../utils/timemachine/Vocab.java\n",
    "// %load ../utils/timemachine/RNNModelScratch.java\n",
    "// %load ../utils/timemachine/TimeMachine.java\n",
    "// %load ../utils/timemachine/SeqDataLoader.java"
   ]
  },
  {
   "cell_type": "code",
   "execution_count": 2,
   "metadata": {
    "scrolled": true
   },
   "outputs": [],
   "source": [
    "val manager = NDManager.newBaseManager();"
   ]
  },
  {
   "cell_type": "code",
   "execution_count": 3,
   "metadata": {},
   "outputs": [],
   "source": [
    "val batchSize = 32;\n",
    "val numSteps = 35;\n",
    "val timeMachine = SeqDataLoader.loadDataTimeMachine(batchSize, numSteps, false, 10000)\n",
    "val trainIter = timeMachine.first\n",
    "val vocab = timeMachine.second"
   ]
  },
  {
   "cell_type": "markdown",
   "metadata": {
    "origin_pos": 6
   },
   "source": [
    "## One-Hot Encoding\n",
    "\n",
    "Recall that each token is represented as a numerical index in `trainIter`.\n",
    "Feeding these indices directly to a neural network might make it hard to\n",
    "learn.\n",
    "We often represent each token as a more expressive feature vector.\n",
    "The easiest representation is called *one-hot encoding*,\n",
    "which is introduced\n",
    "in :numref:`subsec_classification-problem`.\n",
    "\n",
    "In a nutshell, we map each index to a different unit vector: assume that the number of different tokens in the vocabulary is $N$ (`vocab.length()`) and the token indices range from 0 to $N-1$.\n",
    "If the index of a token is the integer $i$, then we create a vector of all 0s with a length of $N$ and set the element at position $i$ to 1.\n",
    "This vector is the one-hot vector of the original token. The one-hot vectors with indices 0 and 2 are shown below.\n"
   ]
  },
  {
   "cell_type": "code",
   "execution_count": 4,
   "metadata": {
    "scrolled": false
   },
   "outputs": [
    {
     "data": {
      "text/plain": [
       "ND: (2, 29) cpu() float32\n",
       "[[1., 0., 0., 0., 0., 0., 0., 0., 0., 0., 0., 0., 0., 0., 0., 0., 0., 0., 0., 0., ... 9 more],\n",
       " [0., 0., 1., 0., 0., 0., 0., 0., 0., 0., 0., 0., 0., 0., 0., 0., 0., 0., 0., 0., ... 9 more],\n",
       "]\n"
      ]
     },
     "execution_count": 4,
     "metadata": {},
     "output_type": "execute_result"
    }
   ],
   "source": [
    "manager.create(intArrayOf(0, 2)).oneHot(vocab.length())"
   ]
  },
  {
   "cell_type": "markdown",
   "metadata": {
    "origin_pos": 10
   },
   "source": [
    "The shape of the minibatch that we sample each time is (batch size, number of time steps).\n",
    "The `oneHot` function transforms such a minibatch into a three-dimensional NDArray with the last dimension equals to the vocabulary size (`vocab.length()`).\n",
    "We often transpose the input so that we will obtain an\n",
    "output of shape\n",
    "(number of time steps, batch size, vocabulary size).\n",
    "This will allow us\n",
    "to more conveniently\n",
    "loop through the outermost dimension\n",
    "for updating hidden states of a minibatch,\n",
    "time step by time step.\n"
   ]
  },
  {
   "cell_type": "code",
   "execution_count": 5,
   "metadata": {},
   "outputs": [
    {
     "data": {
      "text/plain": [
       "(5, 2, 28)"
      ]
     },
     "execution_count": 5,
     "metadata": {},
     "output_type": "execute_result"
    }
   ],
   "source": [
    "var X = manager.arange(10).reshape(Shape(2,5));\n",
    "X.transpose().oneHot(28).getShape()"
   ]
  },
  {
   "cell_type": "markdown",
   "metadata": {
    "origin_pos": 14
   },
   "source": [
    "## Initializing the Model Parameters\n",
    "\n",
    "Next, we initialize the model parameters for\n",
    "the RNN model.\n",
    "The number of hidden units `numHiddens` is a tunable hyperparameter.\n",
    "When training language models,\n",
    "the inputs and outputs are from the same vocabulary.\n",
    "Hence, they have the same dimension,\n",
    "which is equal to the vocabulary size.\n"
   ]
  },
  {
   "cell_type": "code",
   "execution_count": 6,
   "metadata": {},
   "outputs": [],
   "source": [
    "fun getParams(vocabSize: Int, numHiddens: Int, device: Device): NDList {\n",
    "    // Hidden layer parameters\n",
    "    val W_xh: NDArray = normal(Shape(vocabSize.toLong(), numHiddens.toLong()), device)\n",
    "    val W_hh: NDArray = normal(Shape(numHiddens.toLong(), numHiddens.toLong()), device)\n",
    "    val b_h: NDArray = manager.zeros(Shape(numHiddens.toLong()), DataType.FLOAT32, device)\n",
    "    // Output layer parameters\n",
    "    val W_hq: NDArray = normal(Shape(numHiddens.toLong(), vocabSize.toLong()), device)\n",
    "    val b_q: NDArray = manager.zeros(Shape(vocabSize.toLong()), DataType.FLOAT32, device)\n",
    "\n",
    "    // Attach gradients\n",
    "    val params = NDList(W_xh, W_hh, b_h, W_hq, b_q)\n",
    "    for (param in params) {\n",
    "        param.setRequiresGradient(true)\n",
    "    }\n",
    "    return params\n",
    "}\n",
    "\n",
    "fun normal(shape: Shape, device: Device): NDArray {\n",
    "    return manager.randomNormal(0f, 0.01f, shape, DataType.FLOAT32, device)\n",
    "}"
   ]
  },
  {
   "cell_type": "markdown",
   "metadata": {
    "origin_pos": 18
   },
   "source": [
    "## RNN Model\n",
    "\n",
    "To define an RNN model,\n",
    "we first need an `initRNNState` function\n",
    "to return the hidden state at initialization.\n",
    "It returns a NDArray filled with 0 and with a shape of (batch size, number of hidden units).\n"
   ]
  },
  {
   "cell_type": "code",
   "execution_count": 7,
   "metadata": {},
   "outputs": [],
   "source": [
    "fun initRNNState(batchSize: Int, numHiddens: Int, device: Device): NDList {\n",
    "    return NDList(manager.zeros(Shape(batchSize.toLong(), numHiddens.toLong()), DataType.FLOAT32, device))\n",
    "}"
   ]
  },
  {
   "cell_type": "markdown",
   "metadata": {
    "origin_pos": 22
   },
   "source": [
    "The following `rnn` function defines how to compute the hidden state and output\n",
    "at a time step.\n",
    "Note that\n",
    "the RNN model\n",
    "loops through the outermost dimension of `inputs`\n",
    "so that it updates hidden states `H` of a minibatch,\n",
    "time step by time step.\n",
    "Besides,\n",
    "the activation function here uses the $\\tanh$ function.\n",
    "As\n",
    "described in :numref:`sec_mlp`, the\n",
    "mean value of the $\\tanh$ function is 0, when the elements are uniformly\n",
    "distributed over the real numbers.\n"
   ]
  },
  {
   "cell_type": "code",
   "execution_count": 8,
   "metadata": {},
   "outputs": [],
   "source": [
    "fun rnn(inputs: NDArray, state: NDList, params: NDList): kotlin.Pair<NDArray, NDList> {\n",
    "    // Shape of `inputs`: (`numSteps`, `batchSize`, `vocabSize`)\n",
    "    val W_xh = params[0]\n",
    "    val W_hh = params[1]\n",
    "    val b_h = params[2]\n",
    "    val W_hq = params[3]\n",
    "    val b_q = params[4]\n",
    "    var H = state[0]\n",
    "    val outputs = NDList()\n",
    "    // Shape of `X`: (`batchSize`, `vocabSize`)\n",
    "    var X: NDArray\n",
    "    var Y: NDArray\n",
    "    for (i in 0 until inputs.size(0)) {\n",
    "        X = inputs[i]\n",
    "        H = X.dot(W_xh).add(H.dot(W_hh)).add(b_h).tanh()\n",
    "        Y = H.dot(W_hq).add(b_q)\n",
    "        outputs.add(Y)\n",
    "    }\n",
    "    return kotlin.Pair(if (outputs.size > 1) NDArrays.concat(outputs) else outputs[0], NDList(H))\n",
    "}"
   ]
  },
  {
   "cell_type": "markdown",
   "metadata": {
    "origin_pos": 26
   },
   "source": [
    "With all the needed functions being defined,\n",
    "next we create a class to wrap these functions and store parameters for an RNN model implemented from scratch.\n"
   ]
  },
  {
   "cell_type": "code",
   "execution_count": 9,
   "metadata": {},
   "outputs": [],
   "source": [
    "/** An RNN Model implemented from scratch. */\n",
    "class RNNModelScratch(\n",
    "    var vocabSize: Int,\n",
    "    var numHiddens: Int,\n",
    "    device: Device,\n",
    "    getParams: (Int, Int, Device) -> NDList,\n",
    "    initRNNState: (Int, Int, Device) -> NDList,\n",
    "    forwardFn: (NDArray, NDList, NDList) -> kotlin.Pair<NDArray, NDList>\n",
    ") {\n",
    "    var params: NDList\n",
    "    var initState: (Int, Int, Device) -> NDList\n",
    "    var forwardFn: (NDArray, NDList, NDList) -> kotlin.Pair<NDArray, NDList>\n",
    "\n",
    "    init {\n",
    "        params = getParams(vocabSize, numHiddens, device)\n",
    "        initState = initRNNState\n",
    "        this.forwardFn = forwardFn\n",
    "    }\n",
    "\n",
    "    fun forward(X: NDArray, state: NDList): kotlin.Pair<NDArray, NDList> {\n",
    "        var X = X\n",
    "        X = X.transpose().oneHot(vocabSize)\n",
    "        return forwardFn(X, state, params)\n",
    "    }\n",
    "\n",
    "    fun beginState(batchSize: Int, device: Device): NDList {\n",
    "        return initState(batchSize, numHiddens, device)\n",
    "    }\n",
    "}"
   ]
  },
  {
   "cell_type": "markdown",
   "metadata": {
    "origin_pos": 30
   },
   "source": [
    "Let us check whether the outputs have the correct shapes, e.g., to ensure that the dimensionality of the hidden state remains unchanged.\n"
   ]
  },
  {
   "cell_type": "code",
   "execution_count": 10,
   "metadata": {
    "scrolled": true
   },
   "outputs": [
    {
     "name": "stdout",
     "output_type": "stream",
     "text": [
      "(10, 29)\n",
      "(2, 512)\n"
     ]
    }
   ],
   "source": [
    "    val numHiddens = 512\n",
    "    val getParamsFn = ::getParams\n",
    "    val initRNNStateFn = ::initRNNState\n",
    "    val rnnFn = ::rnn\n",
    "\n",
    "    X = manager.arange(10).reshape(Shape(2, 5))\n",
    "    val device = manager.device\n",
    "    val net = RNNModelScratch(vocab.length(), numHiddens, device, getParamsFn, initRNNStateFn, rnnFn)\n",
    "    val state = net.beginState(X.shape.shape[0].toInt(), device)\n",
    "    val pairResult: kotlin.Pair<NDArray, NDList> = net.forward(X.toDevice(device, false), state)\n",
    "    val Y: NDArray = pairResult.first\n",
    "    val newState: NDList = pairResult.second\n",
    "    println(Y.shape)\n",
    "    println(newState[0].shape)"
   ]
  },
  {
   "cell_type": "markdown",
   "metadata": {
    "origin_pos": 34
   },
   "source": [
    "We can see that the output shape is (number of time steps $\\times$ batch size, vocabulary size), while the hidden state shape remains the same, i.e., (batch size, number of hidden units).\n",
    "\n",
    "\n",
    "## Prediction\n",
    "\n",
    "Let us first define the prediction function\n",
    "to generate new characters following\n",
    "the user-provided `prefix`,\n",
    "which is a string containing several characters.\n",
    "When looping through these beginning characters in `prefix`,\n",
    "we keep passing the hidden state\n",
    "to the next time step without\n",
    "generating any output.\n",
    "This is called the *warm-up* period,\n",
    "during which the model updates itself\n",
    "(e.g., update the hidden state)\n",
    "but does not make predictions.\n",
    "After the warm-up period,\n",
    "the hidden state is generally better than\n",
    "its initialized value at the beginning.\n",
    "So we generate the predicted characters and emit them.\n"
   ]
  },
  {
   "cell_type": "code",
   "execution_count": 11,
   "metadata": {},
   "outputs": [],
   "source": [
    "/** Generate new characters following the `prefix`. */\n",
    "fun predictCh8(prefix: String, numPreds: Int, net: RNNModelScratch, vocab: Vocab, device: Device): String {\n",
    "    var state: NDList = net.beginState(1, device)\n",
    "    val outputs: MutableList<Int> = ArrayList()\n",
    "    outputs.add(vocab.getIdx(\"\" + prefix[0]))\n",
    "    val getInput = {\n",
    "        manager.create(outputs[outputs.size - 1])\n",
    "            .toDevice(device, false)\n",
    "            .reshape(Shape(1, 1))\n",
    "    }\n",
    "    for (c in prefix.substring(1).toCharArray()) { // Warm-up period\n",
    "        state = net.forward(getInput(), state).second\n",
    "        outputs.add(vocab.getIdx(\"\" + c))\n",
    "    }\n",
    "    var y: NDArray\n",
    "    for (i in 0 until numPreds) {\n",
    "        val pair = net.forward(getInput(), state)\n",
    "        y = pair.first\n",
    "        state = pair.second\n",
    "        outputs.add(y.argMax(1).reshape(Shape(1)).getLong(0L).toInt())\n",
    "    }\n",
    "    val output = StringBuilder()\n",
    "    for (i in outputs) {\n",
    "        output.append(vocab.idxToToken[i])\n",
    "    }\n",
    "    return output.toString()\n",
    "}"
   ]
  },
  {
   "cell_type": "markdown",
   "metadata": {
    "origin_pos": 38
   },
   "source": [
    "Now we can test the `predict_ch8` function.\n",
    "We specify the prefix as `time traveller ` and have it generate 10 additional characters.\n",
    "Given that we have not trained the network,\n",
    "it will generate nonsensical predictions.\n"
   ]
  },
  {
   "cell_type": "code",
   "execution_count": 12,
   "metadata": {
    "scrolled": false
   },
   "outputs": [
    {
     "data": {
      "text/plain": [
       "time traveller hkhkhkhkhk"
      ]
     },
     "execution_count": 12,
     "metadata": {},
     "output_type": "execute_result"
    }
   ],
   "source": [
    "predictCh8(\"time traveller \", 10, net, vocab, manager.getDevice());"
   ]
  },
  {
   "cell_type": "markdown",
   "metadata": {
    "origin_pos": 41
   },
   "source": [
    "## Gradient Clipping\n",
    "\n",
    "For a sequence of length $T$,\n",
    "we compute the gradients over these $T$ time steps in an iteration, which results in a chain of matrix-products with length  $\\mathcal{O}(T)$ during backpropagation.\n",
    "As mentioned in :numref:`sec_numerical_stability`, it might result in numerical instability, e.g., the gradients may either explode or vanish, when $T$ is large. Therefore, RNN models often need extra help to stabilize the training.\n",
    "\n",
    "Generally speaking,\n",
    "when solving an optimization problem,\n",
    "we take update steps for the model parameter,\n",
    "say in the vector form\n",
    "$\\mathbf{x}$,\n",
    "in the direction of the negative gradient $\\mathbf{g}$ on a minibatch.\n",
    "For example,\n",
    "with $\\eta > 0$ as the learning rate,\n",
    "in one iteration we update\n",
    "$\\mathbf{x}$\n",
    "as $\\mathbf{x} - \\eta \\mathbf{g}$.\n",
    "Let us further assume that the objective function $f$\n",
    "is well behaved, say, *Lipschitz continuous* with constant $L$.\n",
    "That is to say,\n",
    "for any $\\mathbf{x}$ and $\\mathbf{y}$ we have\n",
    "\n",
    "$$|f(\\mathbf{x}) - f(\\mathbf{y})| \\leq L \\|\\mathbf{x} - \\mathbf{y}\\|.$$\n",
    "\n",
    "In this case we can safely assume that if we update the parameter vector by $\\eta \\mathbf{g}$, then\n",
    "\n",
    "$$|f(\\mathbf{x}) - f(\\mathbf{x} - \\eta\\mathbf{g})| \\leq L \\eta\\|\\mathbf{g}\\|,$$\n",
    "\n",
    "which means that\n",
    "we will not observe a change by more than $L \\eta \\|\\mathbf{g}\\|$. This is both a curse and a blessing.\n",
    "On the curse side,\n",
    "it limits the speed of making progress;\n",
    "whereas on the blessing side,\n",
    "it limits the extent to which things can go wrong if we move in the wrong direction.\n",
    "\n",
    "Sometimes the gradients can be quite large and the optimization algorithm may fail to converge. We could address this by reducing the learning rate $\\eta$. But what if we only *rarely* get large gradients? In this case such an approach may appear entirely unwarranted. One popular alternative is to clip the gradient $\\mathbf{g}$ by projecting them back to a ball of a given radius, say $\\theta$ via\n",
    "\n",
    "$$\\mathbf{g} \\leftarrow \\min\\left(1, \\frac{\\theta}{\\|\\mathbf{g}\\|}\\right) \\mathbf{g}.$$\n",
    "\n",
    "By doing so we know that the gradient norm never exceeds $\\theta$ and that the\n",
    "updated gradient is entirely aligned with the original direction of $\\mathbf{g}$.\n",
    "It also has the desirable side-effect of limiting the influence any given\n",
    "minibatch (and within it any given sample) can exert on the parameter vector. This\n",
    "bestows a certain degree of robustness to the model. Gradient clipping provides\n",
    "a quick fix to the gradient exploding. While it does not entirely solve the problem, it is one of the many techniques to alleviate it.\n",
    "\n",
    "Below we define a function to clip the gradients of\n",
    "a model that is implemented from scratch or a model constructed by the high-level APIs.\n",
    "Also note that we compute the gradient norm over all the model parameters.\n"
   ]
  },
  {
   "cell_type": "code",
   "execution_count": 13,
   "metadata": {},
   "outputs": [],
   "source": [
    "/** Clip the gradient. */\n",
    "fun gradClipping(net: RNNModelScratch, theta: Int, manager: NDManager) {\n",
    "    var result = 0.0\n",
    "    for (p in net.params) {\n",
    "        val gradient = p.gradient\n",
    "        gradient.attach(manager)\n",
    "        result += gradient.pow(2).sum().getFloat().toDouble()\n",
    "    }\n",
    "    val norm = Math.sqrt(result)\n",
    "    if (norm > theta) {\n",
    "        for (param in net.params) {\n",
    "            val gradient = param.gradient\n",
    "            gradient.muli(theta / norm)\n",
    "        }\n",
    "    }\n",
    "}"
   ]
  },
  {
   "cell_type": "markdown",
   "metadata": {
    "origin_pos": 45
   },
   "source": [
    "## Training\n",
    "\n",
    "Before training the model,\n",
    "let us define a function to train the model in one epoch. It differs from how we train the model of :numref:`sec_softmax_scratch` in three places:\n",
    "\n",
    "1. Different sampling methods for sequential data (random sampling and sequential partitioning) will result in differences in the initialization of hidden states.\n",
    "1. We clip the gradients before updating the model parameters. This ensures that the model does not diverge even when gradients blow up at some point during the training process.\n",
    "1. We use perplexity to evaluate the model. As discussed in :numref:`subsec_perplexity`, this ensures that sequences of different length are comparable.\n",
    "\n",
    "\n",
    "Specifically,\n",
    "when sequential partitioning is used, we initialize the hidden state only at the beginning of each epoch.\n",
    "Since the $i^\\mathrm{th}$ subsequence example  in the next minibatch is adjacent to the current $i^\\mathrm{th}$ subsequence example,\n",
    "the hidden state at the end of the current minibatch\n",
    "will be\n",
    "used to initialize\n",
    "the hidden state at the beginning of the next minibatch.\n",
    "In this way,\n",
    "historical information of the sequence\n",
    "stored in the hidden state\n",
    "might flow over\n",
    "adjacent subsequences within an epoch.\n",
    "However, the computation of the hidden state\n",
    "at any point depends on all the previous minibatches\n",
    "in the same epoch,\n",
    "which complicates the gradient computation.\n",
    "To reduce computational cost,\n",
    "we detach the gradient before processing any minibatch\n",
    "so that the gradient computation of the hidden state\n",
    "is always limited to\n",
    "the time steps in one minibatch. \n",
    "\n",
    "When using the random sampling,\n",
    "we need to re-initialize the hidden state for each iteration since each example is sampled with a random position.\n",
    "Same as the `trainEpochCh3` function in :numref:`sec_softmax_scratch`,\n",
    "`updater` is a general function\n",
    "to update the model parameters.\n",
    "It can be either the function implemented from scratch or the built-in optimization function in\n",
    "a deep learning framework.\n"
   ]
  },
  {
   "cell_type": "code",
   "execution_count": 14,
   "metadata": {},
   "outputs": [],
   "source": [
    "/** Train a model within one epoch. */\n",
    "fun trainEpochCh8(\n",
    "    net: RNNModelScratch,\n",
    "    trainIter: List<NDList>,\n",
    "    loss: Loss,\n",
    "    updater: (Int, NDManager) -> Unit,\n",
    "    device: Device,\n",
    "    useRandomIter: Boolean\n",
    "): Pair<Double, Double> {\n",
    "    val watch = StopWatch()\n",
    "    watch.start()\n",
    "    val metric = Accumulator(2) // Sum of training loss, no. of tokens\n",
    "    manager.newSubManager().use { childManager ->\n",
    "        var state: NDList? = null\n",
    "        for (pair in trainIter) {\n",
    "            var X = pair[0].toDevice(device, true)\n",
    "            X.attach(childManager)\n",
    "            val Y = pair[1].toDevice(device, true)\n",
    "            Y.attach(childManager)\n",
    "            if (state == null || useRandomIter) {\n",
    "                // Initialize `state` when either it is the first iteration or\n",
    "                // using random sampling\n",
    "                state = net.beginState(X.shape.shape[0].toInt(), device)\n",
    "            } else {\n",
    "                for (s in state) {\n",
    "                    s.stopGradient()\n",
    "                }\n",
    "            }\n",
    "            state.attach(childManager)\n",
    "            var y = Y.transpose().reshape(Shape(-1))\n",
    "            X = X.toDevice(device, false)\n",
    "            y = y.toDevice(device, false)\n",
    "            manager.engine.newGradientCollector().use { gc ->\n",
    "                val pairResult = net.forward(X, state!!)\n",
    "                val yHat: NDArray = pairResult.first\n",
    "                state = pairResult.second\n",
    "                val l = loss.evaluate(NDList(y), NDList(yHat)).mean()\n",
    "                gc.backward(l)\n",
    "                metric.add(floatArrayOf(l.getFloat() * y.size(), y.size().toFloat()))\n",
    "            }\n",
    "            gradClipping(net, 1, childManager)\n",
    "            updater(1, childManager) // Since the `mean` function has been invoked\n",
    "        }\n",
    "    }\n",
    "    return Pair(Math.exp((metric.get(0) / metric.get(1)).toDouble()), metric.get(1) / watch.stop())\n",
    "}"
   ]
  },
  {
   "cell_type": "markdown",
   "metadata": {
    "origin_pos": 49
   },
   "source": [
    "The training function supports\n",
    "an RNN model implemented\n",
    "either from scratch\n",
    "or using high-level APIs.\n"
   ]
  },
  {
   "cell_type": "code",
   "execution_count": 15,
   "metadata": {},
   "outputs": [],
   "source": [
    "/** Train a model. */\n",
    "fun trainCh8(\n",
    "    net: RNNModelScratch,\n",
    "    trainIter: List<NDList>,\n",
    "    vocab: Vocab,\n",
    "    lr: Int,\n",
    "    numEpochs: Int,\n",
    "    device: Device,\n",
    "    useRandomIter: Boolean\n",
    ") {\n",
    "    val loss = SoftmaxCrossEntropyLoss()\n",
    "//    val animator = Animator()\n",
    "    // Initialize\n",
    "    val updater = { batchSize: Int, subManager: NDManager ->\n",
    "        Training.sgd(net.params, lr.toFloat(), batchSize, subManager)\n",
    "    }\n",
    "    val predict = { prefix: String -> predictCh8(prefix, 50, net, vocab, device) }\n",
    "    // Train and predict\n",
    "    var ppl = 0.0\n",
    "    var speed = 0.0\n",
    "    for (epoch in 0 until numEpochs) {\n",
    "        val pair = trainEpochCh8(net, trainIter, loss, updater, device, useRandomIter)\n",
    "        ppl = pair.first\n",
    "        speed = pair.second\n",
    "        if ((epoch + 1) % 10 == 0) {\n",
    "//            animator.add(epoch + 1, ppl.toFloat(), \"\")\n",
    "//            animator.show()\n",
    "            println(\"${epoch + 1} : $ppl\")\n",
    "        }\n",
    "    }\n",
    "    println(\"perplexity: %.1f, %.1f tokens/sec on %s%n\".format(ppl, speed, device.toString()))\n",
    "    println(predict(\"time traveller\"))\n",
    "    println(predict(\"traveller\"))\n",
    "}"
   ]
  },
  {
   "cell_type": "markdown",
   "metadata": {
    "origin_pos": 53
   },
   "source": [
    "Now we can train the RNN model.\n",
    "Since we only use 10000 tokens in the dataset, the model needs more epochs to converge better.\n"
   ]
  },
  {
   "cell_type": "code",
   "execution_count": null,
   "metadata": {
    "scrolled": false
   },
   "outputs": [
    {
     "name": "stdout",
     "output_type": "stream",
     "text": [
      "10 : 13.6949028168055\n",
      "20 : 10.718100385259126\n",
      "30 : 9.644450712508839\n",
      "40 : 9.078102043605819\n",
      "50 : 8.577702529408375\n",
      "60 : 8.302675927060575\n",
      "70 : 7.983923919491217\n",
      "80 : 7.762859344267908\n",
      "90 : 7.5062167193031595\n",
      "100 : 7.146752060146773\n",
      "110 : 6.859298505800325\n",
      "120 : 6.668297742885928\n",
      "130 : 6.254953970250154\n",
      "140 : 5.985675663791025\n",
      "150 : 5.420180089105298\n",
      "160 : 4.80670173492392\n",
      "170 : 4.075168090049804\n",
      "180 : 3.5090955926201337\n",
      "190 : 2.9717029430213158\n",
      "200 : 2.5226971135352505\n",
      "210 : 2.1556108810147365\n",
      "220 : 1.8650956788043624\n",
      "230 : 1.6823604023827725\n",
      "240 : 1.5312095284526932\n",
      "250 : 1.4354322884433448\n",
      "260 : 1.3413770443426507\n",
      "270 : 1.2945296035951936\n",
      "280 : 1.254750661530634\n",
      "290 : 1.2060699658756628\n"
     ]
    }
   ],
   "source": [
    "    val numEpochs = Integer.getInteger(\"MAX_EPOCH\", 500)\n",
    "\n",
    "    val lr = 1\n",
    "    trainCh8(net, trainIter, vocab, lr, numEpochs, manager.device, false)"
   ]
  },
  {
   "cell_type": "markdown",
   "metadata": {
    "origin_pos": 56
   },
   "source": [
    "Finally,\n",
    "let us check the results of using the random sampling method.\n"
   ]
  },
  {
   "cell_type": "code",
   "execution_count": null,
   "metadata": {},
   "outputs": [],
   "source": [
    "trainCh8(net, trainIter, vocab, lr, numEpochs, manager.getDevice(), true);"
   ]
  },
  {
   "cell_type": "markdown",
   "metadata": {
    "origin_pos": 59
   },
   "source": [
    "While implementing the above RNN model from scratch is instructive, it is not convenient.\n",
    "In the next section we will see how to improve the RNN model,\n",
    "such as how to make it easier to implement\n",
    "and make it run faster.\n",
    "\n",
    "\n",
    "## Summary\n",
    "\n",
    "* We can train an RNN-based character-level language model to generate text following the user-provided text prefix.\n",
    "* A simple RNN language model consists of input encoding, RNN modeling, and output generation.\n",
    "* RNN models need state initialization for training, though random sampling and sequential partitioning use different ways.\n",
    "* When using sequential partitioning, we need to detach the gradient to reduce computational cost.\n",
    "* A warm-up period allows a model to update itself (e.g., obtain a better hidden state than its initialized value) before making any prediction.\n",
    "* Gradient clipping prevents gradient explosion, but it cannot fix vanishing gradients.\n",
    "\n",
    "\n",
    "## Exercises\n",
    "\n",
    "1. Show that one-hot encoding is equivalent to picking a different embedding for each object.\n",
    "1. Adjust the hyperparameters (e.g., number of epochs, number of hidden units, number of time steps in a minibatch, and learning rate) to improve the perplexity.\n",
    "    * How low can you go?\n",
    "    * Replace one-hot encoding with learnable embeddings. Does this lead to better performance?\n",
    "    * How well will it work on other books by H. G. Wells, e.g., [*The War of the Worlds*](http://www.gutenberg.org/ebooks/36)?\n",
    "1. Modify the prediction function such as to use sampling rather than picking the most likely next character.\n",
    "    * What happens?\n",
    "    * Bias the model towards more likely outputs, e.g., by sampling from $q(x_t \\mid x_{t-1}, \\ldots, x_1) \\propto P(x_t \\mid x_{t-1}, \\ldots, x_1)^\\alpha$ for $\\alpha > 1$.\n",
    "1. Run the code in this section without clipping the gradient. What happens?\n",
    "1. Change sequential partitioning so that it does not separate hidden states from the computational graph. Does the running time change? How about the perplexity?\n",
    "1. Replace the activation function used in this section with ReLU and repeat the experiments in this section. Do we still need gradient clipping? Why?\n"
   ]
  }
 ],
 "metadata": {
  "kernelspec": {
   "display_name": "Kotlin",
   "language": "kotlin",
   "name": "kotlin"
  },
  "language_info": {
   "codemirror_mode": "text/x-kotlin",
   "file_extension": ".kt",
   "mimetype": "text/x-kotlin",
   "name": "kotlin",
   "nbconvert_exporter": "",
   "pygments_lexer": "kotlin",
   "version": "1.8.0-dev-707"
  }
 },
 "nbformat": 4,
 "nbformat_minor": 4
}
